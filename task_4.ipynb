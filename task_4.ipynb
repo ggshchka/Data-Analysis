{
 "cells": [
  {
   "cell_type": "markdown",
   "metadata": {},
   "source": [
    "## Task-4. Критерии согласия"
   ]
  },
  {
   "cell_type": "code",
   "execution_count": 1,
   "metadata": {},
   "outputs": [],
   "source": [
    "import helper as hp\n",
    "import pandas as pd\n",
    "import matplotlib.pyplot as plt\n",
    "import numpy as np\n",
    "from scipy import stats\n",
    "import math"
   ]
  },
  {
   "cell_type": "code",
   "execution_count": 2,
   "metadata": {},
   "outputs": [],
   "source": [
    "my_var = 13\n",
    "task_4 = '4'"
   ]
  },
  {
   "cell_type": "markdown",
   "metadata": {},
   "source": [
    "### 4.1. Критерий хи-квадрат"
   ]
  },
  {
   "cell_type": "code",
   "execution_count": 4,
   "metadata": {},
   "outputs": [
    {
     "data": {
      "text/html": [
       "<div>\n",
       "<style scoped>\n",
       "    .dataframe tbody tr th:only-of-type {\n",
       "        vertical-align: middle;\n",
       "    }\n",
       "\n",
       "    .dataframe tbody tr th {\n",
       "        vertical-align: top;\n",
       "    }\n",
       "\n",
       "    .dataframe thead th {\n",
       "        text-align: right;\n",
       "    }\n",
       "</style>\n",
       "<table border=\"1\" class=\"dataframe\">\n",
       "  <thead>\n",
       "    <tr style=\"text-align: right;\">\n",
       "      <th></th>\n",
       "      <th>A8</th>\n",
       "    </tr>\n",
       "  </thead>\n",
       "  <tbody>\n",
       "    <tr>\n",
       "      <th>0</th>\n",
       "      <td>382</td>\n",
       "    </tr>\n",
       "    <tr>\n",
       "      <th>1</th>\n",
       "      <td>508</td>\n",
       "    </tr>\n",
       "    <tr>\n",
       "      <th>2</th>\n",
       "      <td>415</td>\n",
       "    </tr>\n",
       "    <tr>\n",
       "      <th>3</th>\n",
       "      <td>498</td>\n",
       "    </tr>\n",
       "    <tr>\n",
       "      <th>4</th>\n",
       "      <td>350</td>\n",
       "    </tr>\n",
       "    <tr>\n",
       "      <th>...</th>\n",
       "      <td>...</td>\n",
       "    </tr>\n",
       "    <tr>\n",
       "      <th>1068</th>\n",
       "      <td>349</td>\n",
       "    </tr>\n",
       "    <tr>\n",
       "      <th>1069</th>\n",
       "      <td>439</td>\n",
       "    </tr>\n",
       "    <tr>\n",
       "      <th>1070</th>\n",
       "      <td>383</td>\n",
       "    </tr>\n",
       "    <tr>\n",
       "      <th>1071</th>\n",
       "      <td>315</td>\n",
       "    </tr>\n",
       "    <tr>\n",
       "      <th>1072</th>\n",
       "      <td>445</td>\n",
       "    </tr>\n",
       "  </tbody>\n",
       "</table>\n",
       "<p>1073 rows × 1 columns</p>\n",
       "</div>"
      ],
      "text/plain": [
       "       A8\n",
       "0     382\n",
       "1     508\n",
       "2     415\n",
       "3     498\n",
       "4     350\n",
       "...   ...\n",
       "1068  349\n",
       "1069  439\n",
       "1070  383\n",
       "1071  315\n",
       "1072  445\n",
       "\n",
       "[1073 rows x 1 columns]"
      ]
     },
     "execution_count": 4,
     "metadata": {},
     "output_type": "execute_result"
    }
   ],
   "source": [
    "df_1 = hp.get_data(task_4, hp.get_tasks_var(my_var))\n",
    "data_1 = df_1.to_numpy()\n",
    "df_1"
   ]
  },
  {
   "cell_type": "markdown",
   "metadata": {},
   "source": [
    "Формула Стерджесса определения числа групп"
   ]
  },
  {
   "cell_type": "code",
   "execution_count": 276,
   "metadata": {},
   "outputs": [
    {
     "data": {
      "text/plain": [
       "11"
      ]
     },
     "execution_count": 276,
     "metadata": {},
     "output_type": "execute_result"
    }
   ],
   "source": [
    "k_bins=int(1 + math.log2(data_1.size))\n",
    "k_bins"
   ]
  },
  {
   "cell_type": "code",
   "execution_count": 277,
   "metadata": {},
   "outputs": [
    {
     "data": {
      "image/png": "[encoded data removed]",
      "text/plain": [
       "<Figure size 432x288 with 1 Axes>"
      ]
     },
     "metadata": {
      "needs_background": "light"
     },
     "output_type": "display_data"
    }
   ],
   "source": [
    "n, bins, patches = plt.hist(data_1, k_bins, density=False,  facecolor='blue', alpha=0.5)\n",
    "plt.show()"
   ]
  },
  {
   "cell_type": "code",
   "execution_count": 278,
   "metadata": {},
   "outputs": [
    {
     "data": {
      "text/plain": [
       "57.636363636363626"
      ]
     },
     "execution_count": 278,
     "metadata": {},
     "output_type": "execute_result"
    }
   ],
   "source": [
    "np.diff(bins)[0] # Ширина интервала"
   ]
  },
  {
   "cell_type": "code",
   "execution_count": 279,
   "metadata": {},
   "outputs": [
    {
     "data": {
      "text/plain": [
       "array([0.02795899, 0.16029823, 0.27027027, 0.23765144, 0.13513514,\n",
       "       0.10997204, 0.03727866, 0.01211556, 0.0055918 , 0.00186393,\n",
       "       0.00186393])"
      ]
     },
     "execution_count": 279,
     "metadata": {},
     "output_type": "execute_result"
    }
   ],
   "source": [
    "n_prob = n / data_1.size # отн частота\n",
    "n_prob"
   ]
  },
  {
   "cell_type": "code",
   "execution_count": 280,
   "metadata": {},
   "outputs": [
    {
     "data": {
      "text/plain": [
       "array([-2.16350425, -1.52740339, -0.89130253, -0.25520167,  0.3808992 ,\n",
       "        1.01700006,  1.65310092,  2.28920178,  2.92530264,  3.5614035 ,\n",
       "        4.19750436,  4.83360522])"
      ]
     },
     "execution_count": 280,
     "metadata": {},
     "output_type": "execute_result"
    }
   ],
   "source": [
    "z = (bins - data_1.mean()) / data_1.std()\n",
    "z"
   ]
  },
  {
   "cell_type": "code",
   "execution_count": 281,
   "metadata": {},
   "outputs": [],
   "source": [
    "def lapl_func(arg):\n",
    "    F = stats.norm.cdf(arg) - 0.5\n",
    "    F[0] = -0.5\n",
    "    F[-1] = 0.5\n",
    "    return F"
   ]
  },
  {
   "cell_type": "code",
   "execution_count": 282,
   "metadata": {},
   "outputs": [
    {
     "data": {
      "text/plain": [
       "array([6.33303672e-02, 1.23053079e-01, 2.12900226e-01, 2.49077303e-01,\n",
       "       1.97062324e-01, 1.05421538e-01, 3.81213476e-02, 9.31320875e-03,\n",
       "       1.53616805e-03, 1.70945218e-04, 1.34936230e-05])"
      ]
     },
     "execution_count": 282,
     "metadata": {},
     "output_type": "execute_result"
    }
   ],
   "source": [
    "p_theor = np.diff(lapl_func(z))\n",
    "p_theor"
   ]
  },
  {
   "cell_type": "code",
   "execution_count": 287,
   "metadata": {},
   "outputs": [
    {
     "data": {
      "text/html": [
       "<div>\n",
       "<style scoped>\n",
       "    .dataframe tbody tr th:only-of-type {\n",
       "        vertical-align: middle;\n",
       "    }\n",
       "\n",
       "    .dataframe tbody tr th {\n",
       "        vertical-align: top;\n",
       "    }\n",
       "\n",
       "    .dataframe thead th {\n",
       "        text-align: right;\n",
       "    }\n",
       "</style>\n",
       "<table border=\"1\" class=\"dataframe\">\n",
       "  <thead>\n",
       "    <tr style=\"text-align: right;\">\n",
       "      <th></th>\n",
       "      <th>Нижняя граница</th>\n",
       "      <th>Верхняя граница</th>\n",
       "      <th>Частота</th>\n",
       "      <th>Относит. частота</th>\n",
       "      <th>Вероятность попадания в интервал при условии истинности основной гипотезы</th>\n",
       "    </tr>\n",
       "  </thead>\n",
       "  <tbody>\n",
       "    <tr>\n",
       "      <th>0</th>\n",
       "      <td>232.000000</td>\n",
       "      <td>289.636364</td>\n",
       "      <td>30.0</td>\n",
       "      <td>0.027959</td>\n",
       "      <td>0.063330</td>\n",
       "    </tr>\n",
       "    <tr>\n",
       "      <th>1</th>\n",
       "      <td>289.636364</td>\n",
       "      <td>347.272727</td>\n",
       "      <td>172.0</td>\n",
       "      <td>0.160298</td>\n",
       "      <td>0.123053</td>\n",
       "    </tr>\n",
       "    <tr>\n",
       "      <th>2</th>\n",
       "      <td>347.272727</td>\n",
       "      <td>404.909091</td>\n",
       "      <td>290.0</td>\n",
       "      <td>0.270270</td>\n",
       "      <td>0.212900</td>\n",
       "    </tr>\n",
       "    <tr>\n",
       "      <th>3</th>\n",
       "      <td>404.909091</td>\n",
       "      <td>462.545455</td>\n",
       "      <td>255.0</td>\n",
       "      <td>0.237651</td>\n",
       "      <td>0.249077</td>\n",
       "    </tr>\n",
       "    <tr>\n",
       "      <th>4</th>\n",
       "      <td>462.545455</td>\n",
       "      <td>520.181818</td>\n",
       "      <td>145.0</td>\n",
       "      <td>0.135135</td>\n",
       "      <td>0.197062</td>\n",
       "    </tr>\n",
       "    <tr>\n",
       "      <th>5</th>\n",
       "      <td>520.181818</td>\n",
       "      <td>577.818182</td>\n",
       "      <td>118.0</td>\n",
       "      <td>0.109972</td>\n",
       "      <td>0.105422</td>\n",
       "    </tr>\n",
       "    <tr>\n",
       "      <th>6</th>\n",
       "      <td>577.818182</td>\n",
       "      <td>635.454545</td>\n",
       "      <td>40.0</td>\n",
       "      <td>0.037279</td>\n",
       "      <td>0.038121</td>\n",
       "    </tr>\n",
       "    <tr>\n",
       "      <th>7</th>\n",
       "      <td>635.454545</td>\n",
       "      <td>693.090909</td>\n",
       "      <td>13.0</td>\n",
       "      <td>0.012116</td>\n",
       "      <td>0.009313</td>\n",
       "    </tr>\n",
       "    <tr>\n",
       "      <th>8</th>\n",
       "      <td>693.090909</td>\n",
       "      <td>750.727273</td>\n",
       "      <td>6.0</td>\n",
       "      <td>0.005592</td>\n",
       "      <td>0.001536</td>\n",
       "    </tr>\n",
       "    <tr>\n",
       "      <th>9</th>\n",
       "      <td>750.727273</td>\n",
       "      <td>808.363636</td>\n",
       "      <td>2.0</td>\n",
       "      <td>0.001864</td>\n",
       "      <td>0.000171</td>\n",
       "    </tr>\n",
       "    <tr>\n",
       "      <th>10</th>\n",
       "      <td>808.363636</td>\n",
       "      <td>866.000000</td>\n",
       "      <td>2.0</td>\n",
       "      <td>0.001864</td>\n",
       "      <td>0.000013</td>\n",
       "    </tr>\n",
       "  </tbody>\n",
       "</table>\n",
       "</div>"
      ],
      "text/plain": [
       "    Нижняя граница  Верхняя граница  Частота  Относит. частота  \\\n",
       "0       232.000000       289.636364     30.0          0.027959   \n",
       "1       289.636364       347.272727    172.0          0.160298   \n",
       "2       347.272727       404.909091    290.0          0.270270   \n",
       "3       404.909091       462.545455    255.0          0.237651   \n",
       "4       462.545455       520.181818    145.0          0.135135   \n",
       "5       520.181818       577.818182    118.0          0.109972   \n",
       "6       577.818182       635.454545     40.0          0.037279   \n",
       "7       635.454545       693.090909     13.0          0.012116   \n",
       "8       693.090909       750.727273      6.0          0.005592   \n",
       "9       750.727273       808.363636      2.0          0.001864   \n",
       "10      808.363636       866.000000      2.0          0.001864   \n",
       "\n",
       "    Вероятность попадания в интервал при условии истинности основной гипотезы  \n",
       "0                                            0.063330                          \n",
       "1                                            0.123053                          \n",
       "2                                            0.212900                          \n",
       "3                                            0.249077                          \n",
       "4                                            0.197062                          \n",
       "5                                            0.105422                          \n",
       "6                                            0.038121                          \n",
       "7                                            0.009313                          \n",
       "8                                            0.001536                          \n",
       "9                                            0.000171                          \n",
       "10                                           0.000013                          "
      ]
     },
     "execution_count": 287,
     "metadata": {},
     "output_type": "execute_result"
    }
   ],
   "source": [
    "pd.DataFrame({\"Нижняя граница\" : bins[:-1], \n",
    "              \"Верхняя граница\" : bins[1:],\n",
    "              \"Частота\" : n,\n",
    "              \"Относит. частота\" : n_prob,\n",
    "              \"Вероятность попадания в интервал при условии истинности основной гипотезы\" : p_theor\n",
    "             })\n"
   ]
  },
  {
   "cell_type": "code",
   "execution_count": 284,
   "metadata": {},
   "outputs": [
    {
     "data": {
      "text/plain": [
       "[<matplotlib.lines.Line2D at 0x2e78afd0f0>]"
      ]
     },
     "execution_count": 284,
     "metadata": {},
     "output_type": "execute_result"
    },
    {
     "data": {
      "image/png": "[encoded data removed]",
      "text/plain": [
       "<Figure size 432x288 with 1 Axes>"
      ]
     },
     "metadata": {
      "needs_background": "light"
     },
     "output_type": "display_data"
    }
   ],
   "source": [
    "fig, ax = plt.subplots()\n",
    "ax.hist(bins[1:], k_bins, weights = n_prob, density=False,  facecolor='blue', alpha=0.5)\n",
    "x = np.linspace(stats.norm.ppf(0.05, data_1.mean(), data_1.std()), stats.norm.ppf(0.95, data_1.mean(), data_1.std()), 100)\n",
    "ax.plot(x, stats.norm.pdf(x, data_1.mean(), data_1.std())*np.diff(bins)[0], lw=3, alpha=1)"
   ]
  },
  {
   "cell_type": "code",
   "execution_count": 379,
   "metadata": {},
   "outputs": [
    {
     "data": {
      "text/html": [
       "<div>\n",
       "<style scoped>\n",
       "    .dataframe tbody tr th:only-of-type {\n",
       "        vertical-align: middle;\n",
       "    }\n",
       "\n",
       "    .dataframe tbody tr th {\n",
       "        vertical-align: top;\n",
       "    }\n",
       "\n",
       "    .dataframe thead th {\n",
       "        text-align: right;\n",
       "    }\n",
       "</style>\n",
       "<table border=\"1\" class=\"dataframe\">\n",
       "  <thead>\n",
       "    <tr style=\"text-align: right;\">\n",
       "      <th></th>\n",
       "      <th>0</th>\n",
       "    </tr>\n",
       "  </thead>\n",
       "  <tbody>\n",
       "    <tr>\n",
       "      <th>0</th>\n",
       "      <td>67.953484</td>\n",
       "    </tr>\n",
       "    <tr>\n",
       "      <th>1</th>\n",
       "      <td>132.035954</td>\n",
       "    </tr>\n",
       "    <tr>\n",
       "      <th>2</th>\n",
       "      <td>228.441942</td>\n",
       "    </tr>\n",
       "    <tr>\n",
       "      <th>3</th>\n",
       "      <td>267.259946</td>\n",
       "    </tr>\n",
       "    <tr>\n",
       "      <th>4</th>\n",
       "      <td>211.447873</td>\n",
       "    </tr>\n",
       "    <tr>\n",
       "      <th>5</th>\n",
       "      <td>113.117310</td>\n",
       "    </tr>\n",
       "    <tr>\n",
       "      <th>6</th>\n",
       "      <td>40.904206</td>\n",
       "    </tr>\n",
       "    <tr>\n",
       "      <th>7</th>\n",
       "      <td>9.993073</td>\n",
       "    </tr>\n",
       "    <tr>\n",
       "      <th>8</th>\n",
       "      <td>1.648308</td>\n",
       "    </tr>\n",
       "    <tr>\n",
       "      <th>9</th>\n",
       "      <td>0.183424</td>\n",
       "    </tr>\n",
       "    <tr>\n",
       "      <th>10</th>\n",
       "      <td>0.014479</td>\n",
       "    </tr>\n",
       "  </tbody>\n",
       "</table>\n",
       "</div>"
      ],
      "text/plain": [
       "             0\n",
       "0    67.953484\n",
       "1   132.035954\n",
       "2   228.441942\n",
       "3   267.259946\n",
       "4   211.447873\n",
       "5   113.117310\n",
       "6    40.904206\n",
       "7     9.993073\n",
       "8     1.648308\n",
       "9     0.183424\n",
       "10    0.014479"
      ]
     },
     "execution_count": 379,
     "metadata": {},
     "output_type": "execute_result"
    }
   ],
   "source": [
    "pd.DataFrame(p_theor * data_1.size)"
   ]
  },
  {
   "cell_type": "code",
   "execution_count": 388,
   "metadata": {},
   "outputs": [],
   "source": [
    "def criterion_chi2_gof_test(data):\n",
    "    sum = 0\n",
    "    tmp_p = np.append(p_theor[:7], p_theor[7:-1].sum())\n",
    "    tmp_n = np.append(n[:7], n[7:-1].sum())\n",
    "    for i in range(tmp_p.size):\n",
    "        sum += (tmp_p[i] * data.size - tmp_n[i])**2 / (tmp_p[i] * data.size)\n",
    "    return sum"
   ]
  },
  {
   "cell_type": "markdown",
   "metadata": {},
   "source": [
    "Объединим последние 4 интервала (чтобы p*n > 5)"
   ]
  },
  {
   "cell_type": "code",
   "execution_count": 389,
   "metadata": {},
   "outputs": [
    {
     "data": {
      "text/plain": [
       "'crit'"
      ]
     },
     "metadata": {},
     "output_type": "display_data"
    },
    {
     "data": {
      "text/plain": [
       "78.67576959141245"
      ]
     },
     "metadata": {},
     "output_type": "display_data"
    }
   ],
   "source": [
    "display('crit', criterion_chi2_gof_test(data_1))"
   ]
  },
  {
   "cell_type": "code",
   "execution_count": 399,
   "metadata": {},
   "outputs": [
    {
     "data": {
      "text/plain": [
       "'p-value'"
      ]
     },
     "metadata": {},
     "output_type": "display_data"
    },
    {
     "data": {
      "text/plain": [
       "9.026113190202523e-14"
      ]
     },
     "metadata": {},
     "output_type": "display_data"
    }
   ],
   "source": [
    "display('p-value', 1 - stats.chi2.cdf(criterion_chi2_gof_test(data_1), k_bins - 2 - 1))"
   ]
  },
  {
   "cell_type": "markdown",
   "metadata": {},
   "source": [
    "### 4.2. Проверка гипотезы о нормальности на основе коэффициента асимметрии и эксцесса (критерий Харке-Бера)"
   ]
  },
  {
   "cell_type": "code",
   "execution_count": 5,
   "metadata": {},
   "outputs": [],
   "source": [
    "crit, p_value = stats.jarque_bera(df_1)"
   ]
  },
  {
   "cell_type": "code",
   "execution_count": 6,
   "metadata": {},
   "outputs": [
    {
     "data": {
      "text/plain": [
       "162.56186413710836"
      ]
     },
     "metadata": {},
     "output_type": "display_data"
    },
    {
     "data": {
      "text/plain": [
       "0.0"
      ]
     },
     "metadata": {},
     "output_type": "display_data"
    }
   ],
   "source": [
    "display(crit, p_value)"
   ]
  }
 ],
 "metadata": {
  "kernelspec": {
   "display_name": "Python 3",
   "language": "python",
   "name": "python3"
  },
  "language_info": {
   "codemirror_mode": {
    "name": "ipython",
    "version": 3
   },
   "file_extension": ".py",
   "mimetype": "text/x-python",
   "name": "python",
   "nbconvert_exporter": "python",
   "pygments_lexer": "ipython3",
   "version": "3.6.8"
  }
 },
 "nbformat": 4,
 "nbformat_minor": 2
}

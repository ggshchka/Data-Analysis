{
 "cells": [
  {
   "cell_type": "code",
   "execution_count": 259,
   "metadata": {},
   "outputs": [],
   "source": [
    "import helper as hp\n",
    "import pandas as pd\n",
    "import matplotlib.pyplot as plt\n",
    "import numpy as np\n",
    "from scipy import stats\n",
    "import math"
   ]
  },
  {
   "cell_type": "markdown",
   "metadata": {},
   "source": [
    "# 1.1"
   ]
  },
  {
   "cell_type": "code",
   "execution_count": 260,
   "metadata": {},
   "outputs": [],
   "source": [
    "my_var = 13\n",
    "task_1_1 = '1.1'\n",
    "task_1_2 = '1.2'"
   ]
  },
  {
   "cell_type": "code",
   "execution_count": 261,
   "metadata": {},
   "outputs": [],
   "source": [
    "df_1 = hp.get_data(task_1_1, hp.get_tasks_var(my_var))\n",
    "df_2 = hp.get_data(task_1_2, hp.get_tasks_var(my_var))"
   ]
  },
  {
   "cell_type": "code",
   "execution_count": 262,
   "metadata": {
    "scrolled": true
   },
   "outputs": [
    {
     "data": {
      "text/html": [
       "<div>\n",
       "<style scoped>\n",
       "    .dataframe tbody tr th:only-of-type {\n",
       "        vertical-align: middle;\n",
       "    }\n",
       "\n",
       "    .dataframe tbody tr th {\n",
       "        vertical-align: top;\n",
       "    }\n",
       "\n",
       "    .dataframe thead th {\n",
       "        text-align: right;\n",
       "    }\n",
       "</style>\n",
       "<table border=\"1\" class=\"dataframe\">\n",
       "  <thead>\n",
       "    <tr style=\"text-align: right;\">\n",
       "      <th></th>\n",
       "      <th>A5</th>\n",
       "      <th>A6</th>\n",
       "      <th>A8</th>\n",
       "    </tr>\n",
       "  </thead>\n",
       "  <tbody>\n",
       "    <tr>\n",
       "      <th>0</th>\n",
       "      <td>454</td>\n",
       "      <td>382</td>\n",
       "      <td>382</td>\n",
       "    </tr>\n",
       "    <tr>\n",
       "      <th>1</th>\n",
       "      <td>686</td>\n",
       "      <td>560</td>\n",
       "      <td>508</td>\n",
       "    </tr>\n",
       "    <tr>\n",
       "      <th>2</th>\n",
       "      <td>533</td>\n",
       "      <td>494</td>\n",
       "      <td>415</td>\n",
       "    </tr>\n",
       "    <tr>\n",
       "      <th>3</th>\n",
       "      <td>612</td>\n",
       "      <td>507</td>\n",
       "      <td>498</td>\n",
       "    </tr>\n",
       "    <tr>\n",
       "      <th>4</th>\n",
       "      <td>442</td>\n",
       "      <td>369</td>\n",
       "      <td>350</td>\n",
       "    </tr>\n",
       "    <tr>\n",
       "      <th>...</th>\n",
       "      <td>...</td>\n",
       "      <td>...</td>\n",
       "      <td>...</td>\n",
       "    </tr>\n",
       "    <tr>\n",
       "      <th>1068</th>\n",
       "      <td>408</td>\n",
       "      <td>340</td>\n",
       "      <td>349</td>\n",
       "    </tr>\n",
       "    <tr>\n",
       "      <th>1069</th>\n",
       "      <td>535</td>\n",
       "      <td>431</td>\n",
       "      <td>439</td>\n",
       "    </tr>\n",
       "    <tr>\n",
       "      <th>1070</th>\n",
       "      <td>441</td>\n",
       "      <td>383</td>\n",
       "      <td>383</td>\n",
       "    </tr>\n",
       "    <tr>\n",
       "      <th>1071</th>\n",
       "      <td>403</td>\n",
       "      <td>348</td>\n",
       "      <td>315</td>\n",
       "    </tr>\n",
       "    <tr>\n",
       "      <th>1072</th>\n",
       "      <td>539</td>\n",
       "      <td>410</td>\n",
       "      <td>445</td>\n",
       "    </tr>\n",
       "  </tbody>\n",
       "</table>\n",
       "<p>1073 rows × 3 columns</p>\n",
       "</div>"
      ],
      "text/plain": [
       "       A5   A6   A8\n",
       "0     454  382  382\n",
       "1     686  560  508\n",
       "2     533  494  415\n",
       "3     612  507  498\n",
       "4     442  369  350\n",
       "...   ...  ...  ...\n",
       "1068  408  340  349\n",
       "1069  535  431  439\n",
       "1070  441  383  383\n",
       "1071  403  348  315\n",
       "1072  539  410  445\n",
       "\n",
       "[1073 rows x 3 columns]"
      ]
     },
     "execution_count": 262,
     "metadata": {},
     "output_type": "execute_result"
    }
   ],
   "source": [
    "df_1"
   ]
  },
  {
   "cell_type": "code",
   "execution_count": 263,
   "metadata": {},
   "outputs": [],
   "source": [
    "def calc(data):\n",
    "    return pd.DataFrame({'Среднее': np.mean(data), \n",
    "                         'Выб. дисперсия': np.var(data), \n",
    "                         'Выб. ср.кв откл.': np.std(data), \n",
    "                         'Выб. коэф. асимм.': stats.skew(data), \n",
    "                         'Выб. эксцесс': stats.kurtosis(data)})"
   ]
  },
  {
   "cell_type": "code",
   "execution_count": 264,
   "metadata": {},
   "outputs": [
    {
     "data": {
      "text/html": [
       "<div>\n",
       "<style scoped>\n",
       "    .dataframe tbody tr th:only-of-type {\n",
       "        vertical-align: middle;\n",
       "    }\n",
       "\n",
       "    .dataframe tbody tr th {\n",
       "        vertical-align: top;\n",
       "    }\n",
       "\n",
       "    .dataframe thead th {\n",
       "        text-align: right;\n",
       "    }\n",
       "</style>\n",
       "<table border=\"1\" class=\"dataframe\">\n",
       "  <thead>\n",
       "    <tr style=\"text-align: right;\">\n",
       "      <th></th>\n",
       "      <th>Среднее</th>\n",
       "      <th>Выб. дисперсия</th>\n",
       "      <th>Выб. ср.кв откл.</th>\n",
       "      <th>Выб. коэф. асимм.</th>\n",
       "      <th>Выб. эксцесс</th>\n",
       "    </tr>\n",
       "  </thead>\n",
       "  <tbody>\n",
       "    <tr>\n",
       "      <th>A5</th>\n",
       "      <td>526.483691</td>\n",
       "      <td>13855.931001</td>\n",
       "      <td>117.711219</td>\n",
       "      <td>0.678649</td>\n",
       "      <td>0.530443</td>\n",
       "    </tr>\n",
       "    <tr>\n",
       "      <th>A6</th>\n",
       "      <td>420.041938</td>\n",
       "      <td>4953.143628</td>\n",
       "      <td>70.378574</td>\n",
       "      <td>0.348148</td>\n",
       "      <td>0.175817</td>\n",
       "    </tr>\n",
       "    <tr>\n",
       "      <th>A8</th>\n",
       "      <td>428.032619</td>\n",
       "      <td>8209.962589</td>\n",
       "      <td>90.608844</td>\n",
       "      <td>0.819141</td>\n",
       "      <td>0.975748</td>\n",
       "    </tr>\n",
       "  </tbody>\n",
       "</table>\n",
       "</div>"
      ],
      "text/plain": [
       "       Среднее  Выб. дисперсия  Выб. ср.кв откл.  Выб. коэф. асимм.  \\\n",
       "A5  526.483691    13855.931001        117.711219           0.678649   \n",
       "A6  420.041938     4953.143628         70.378574           0.348148   \n",
       "A8  428.032619     8209.962589         90.608844           0.819141   \n",
       "\n",
       "    Выб. эксцесс  \n",
       "A5      0.530443  \n",
       "A6      0.175817  \n",
       "A8      0.975748  "
      ]
     },
     "execution_count": 264,
     "metadata": {},
     "output_type": "execute_result"
    }
   ],
   "source": [
    "calc(df_1)"
   ]
  },
  {
   "cell_type": "markdown",
   "metadata": {},
   "source": [
    "# 1.2"
   ]
  },
  {
   "cell_type": "code",
   "execution_count": 265,
   "metadata": {
    "scrolled": false
   },
   "outputs": [
    {
     "data": {
      "text/html": [
       "<div>\n",
       "<style scoped>\n",
       "    .dataframe tbody tr th:only-of-type {\n",
       "        vertical-align: middle;\n",
       "    }\n",
       "\n",
       "    .dataframe tbody tr th {\n",
       "        vertical-align: top;\n",
       "    }\n",
       "\n",
       "    .dataframe thead th {\n",
       "        text-align: right;\n",
       "    }\n",
       "</style>\n",
       "<table border=\"1\" class=\"dataframe\">\n",
       "  <thead>\n",
       "    <tr style=\"text-align: right;\">\n",
       "      <th></th>\n",
       "      <th>A8</th>\n",
       "    </tr>\n",
       "  </thead>\n",
       "  <tbody>\n",
       "    <tr>\n",
       "      <th>0</th>\n",
       "      <td>382</td>\n",
       "    </tr>\n",
       "    <tr>\n",
       "      <th>1</th>\n",
       "      <td>508</td>\n",
       "    </tr>\n",
       "    <tr>\n",
       "      <th>2</th>\n",
       "      <td>415</td>\n",
       "    </tr>\n",
       "    <tr>\n",
       "      <th>3</th>\n",
       "      <td>498</td>\n",
       "    </tr>\n",
       "    <tr>\n",
       "      <th>4</th>\n",
       "      <td>350</td>\n",
       "    </tr>\n",
       "    <tr>\n",
       "      <th>...</th>\n",
       "      <td>...</td>\n",
       "    </tr>\n",
       "    <tr>\n",
       "      <th>1068</th>\n",
       "      <td>349</td>\n",
       "    </tr>\n",
       "    <tr>\n",
       "      <th>1069</th>\n",
       "      <td>439</td>\n",
       "    </tr>\n",
       "    <tr>\n",
       "      <th>1070</th>\n",
       "      <td>383</td>\n",
       "    </tr>\n",
       "    <tr>\n",
       "      <th>1071</th>\n",
       "      <td>315</td>\n",
       "    </tr>\n",
       "    <tr>\n",
       "      <th>1072</th>\n",
       "      <td>445</td>\n",
       "    </tr>\n",
       "  </tbody>\n",
       "</table>\n",
       "<p>1073 rows × 1 columns</p>\n",
       "</div>"
      ],
      "text/plain": [
       "       A8\n",
       "0     382\n",
       "1     508\n",
       "2     415\n",
       "3     498\n",
       "4     350\n",
       "...   ...\n",
       "1068  349\n",
       "1069  439\n",
       "1070  383\n",
       "1071  315\n",
       "1072  445\n",
       "\n",
       "[1073 rows x 1 columns]"
      ]
     },
     "execution_count": 265,
     "metadata": {},
     "output_type": "execute_result"
    }
   ],
   "source": [
    "df_2"
   ]
  },
  {
   "cell_type": "code",
   "execution_count": null,
   "metadata": {},
   "outputs": [],
   "source": [
    "print(\"Анализируемый признак:\", list(df_2.columns))\n",
    "print(\"Объем выборки:\", df_2.size)"
   ]
  },
  {
   "cell_type": "markdown",
   "metadata": {},
   "source": [
    "Формула Скотта (Scott, 1979)\n",
    "\n",
    "  h=3.5sn^{-1/3},   \n",
    "где h — Ширина интервала (теоритическая), s — выборочное стандартное отклонение "
   ]
  },
  {
   "cell_type": "code",
   "execution_count": 1,
   "metadata": {},
   "outputs": [
    {
     "data": {
      "text/plain": [
       "30.973931581816124"
      ]
     },
     "execution_count": 1,
     "metadata": {},
     "output_type": "execute_result"
    }
   ],
   "source": [
    "def Scotts_formula(n, s):\n",
    "    return 3.5*s*n**(-1/3)\n",
    "Scotts_formula(1073, 90.60)"
   ]
  },
  {
   "cell_type": "code",
   "execution_count": 267,
   "metadata": {},
   "outputs": [],
   "source": [
    "def get_intrvls():\n",
    "    h = float(Scotts_formula(df_2.size, np.std(df_2)))\n",
    "    num_of_groups = math.ceil(df_2.size/h)\n",
    "    true_len_intrvl = round(df_2.size/num_of_groups, 0)\n",
    "    return true_len_intrvl, num_of_groups\n",
    "    "
   ]
  },
  {
   "cell_type": "code",
   "execution_count": 268,
   "metadata": {},
   "outputs": [
    {
     "name": "stdout",
     "output_type": "stream",
     "text": [
      "Число групп: 20\n",
      "Ширина интервала: 53.65\n"
     ]
    }
   ],
   "source": [
    "n = 20\n",
    "l =  df_2.size/n\n",
    "print(\"Число групп:\", n)\n",
    "print(\"Ширина интервала:\", l)"
   ]
  },
  {
   "cell_type": "code",
   "execution_count": 269,
   "metadata": {},
   "outputs": [],
   "source": [
    "border = [l*i for i in range(n+1)]\n",
    "intrvls = []\n",
    "for i in range(len(border)-1):\n",
    "    t = (border[i], border[i+1])\n",
    "    intrvls.append(t)"
   ]
  },
  {
   "cell_type": "code",
   "execution_count": 270,
   "metadata": {
    "scrolled": false
   },
   "outputs": [
    {
     "data": {
      "text/html": [
       "<div>\n",
       "<style scoped>\n",
       "    .dataframe tbody tr th:only-of-type {\n",
       "        vertical-align: middle;\n",
       "    }\n",
       "\n",
       "    .dataframe tbody tr th {\n",
       "        vertical-align: top;\n",
       "    }\n",
       "\n",
       "    .dataframe thead th {\n",
       "        text-align: right;\n",
       "    }\n",
       "</style>\n",
       "<table border=\"1\" class=\"dataframe\">\n",
       "  <thead>\n",
       "    <tr style=\"text-align: right;\">\n",
       "      <th></th>\n",
       "      <th>0</th>\n",
       "      <th>1</th>\n",
       "    </tr>\n",
       "  </thead>\n",
       "  <tbody>\n",
       "    <tr>\n",
       "      <th>0</th>\n",
       "      <td>0.00</td>\n",
       "      <td>53.65</td>\n",
       "    </tr>\n",
       "    <tr>\n",
       "      <th>1</th>\n",
       "      <td>53.65</td>\n",
       "      <td>107.30</td>\n",
       "    </tr>\n",
       "    <tr>\n",
       "      <th>2</th>\n",
       "      <td>107.30</td>\n",
       "      <td>160.95</td>\n",
       "    </tr>\n",
       "    <tr>\n",
       "      <th>3</th>\n",
       "      <td>160.95</td>\n",
       "      <td>214.60</td>\n",
       "    </tr>\n",
       "    <tr>\n",
       "      <th>4</th>\n",
       "      <td>214.60</td>\n",
       "      <td>268.25</td>\n",
       "    </tr>\n",
       "    <tr>\n",
       "      <th>5</th>\n",
       "      <td>268.25</td>\n",
       "      <td>321.90</td>\n",
       "    </tr>\n",
       "    <tr>\n",
       "      <th>6</th>\n",
       "      <td>321.90</td>\n",
       "      <td>375.55</td>\n",
       "    </tr>\n",
       "    <tr>\n",
       "      <th>7</th>\n",
       "      <td>375.55</td>\n",
       "      <td>429.20</td>\n",
       "    </tr>\n",
       "    <tr>\n",
       "      <th>8</th>\n",
       "      <td>429.20</td>\n",
       "      <td>482.85</td>\n",
       "    </tr>\n",
       "    <tr>\n",
       "      <th>9</th>\n",
       "      <td>482.85</td>\n",
       "      <td>536.50</td>\n",
       "    </tr>\n",
       "    <tr>\n",
       "      <th>10</th>\n",
       "      <td>536.50</td>\n",
       "      <td>590.15</td>\n",
       "    </tr>\n",
       "    <tr>\n",
       "      <th>11</th>\n",
       "      <td>590.15</td>\n",
       "      <td>643.80</td>\n",
       "    </tr>\n",
       "    <tr>\n",
       "      <th>12</th>\n",
       "      <td>643.80</td>\n",
       "      <td>697.45</td>\n",
       "    </tr>\n",
       "    <tr>\n",
       "      <th>13</th>\n",
       "      <td>697.45</td>\n",
       "      <td>751.10</td>\n",
       "    </tr>\n",
       "    <tr>\n",
       "      <th>14</th>\n",
       "      <td>751.10</td>\n",
       "      <td>804.75</td>\n",
       "    </tr>\n",
       "    <tr>\n",
       "      <th>15</th>\n",
       "      <td>804.75</td>\n",
       "      <td>858.40</td>\n",
       "    </tr>\n",
       "    <tr>\n",
       "      <th>16</th>\n",
       "      <td>858.40</td>\n",
       "      <td>912.05</td>\n",
       "    </tr>\n",
       "    <tr>\n",
       "      <th>17</th>\n",
       "      <td>912.05</td>\n",
       "      <td>965.70</td>\n",
       "    </tr>\n",
       "    <tr>\n",
       "      <th>18</th>\n",
       "      <td>965.70</td>\n",
       "      <td>1019.35</td>\n",
       "    </tr>\n",
       "    <tr>\n",
       "      <th>19</th>\n",
       "      <td>1019.35</td>\n",
       "      <td>1073.00</td>\n",
       "    </tr>\n",
       "  </tbody>\n",
       "</table>\n",
       "</div>"
      ],
      "text/plain": [
       "          0        1\n",
       "0      0.00    53.65\n",
       "1     53.65   107.30\n",
       "2    107.30   160.95\n",
       "3    160.95   214.60\n",
       "4    214.60   268.25\n",
       "5    268.25   321.90\n",
       "6    321.90   375.55\n",
       "7    375.55   429.20\n",
       "8    429.20   482.85\n",
       "9    482.85   536.50\n",
       "10   536.50   590.15\n",
       "11   590.15   643.80\n",
       "12   643.80   697.45\n",
       "13   697.45   751.10\n",
       "14   751.10   804.75\n",
       "15   804.75   858.40\n",
       "16   858.40   912.05\n",
       "17   912.05   965.70\n",
       "18   965.70  1019.35\n",
       "19  1019.35  1073.00"
      ]
     },
     "execution_count": 270,
     "metadata": {},
     "output_type": "execute_result"
    }
   ],
   "source": [
    "borders = pd.DataFrame(intrvls)\n",
    "borders"
   ]
  },
  {
   "cell_type": "code",
   "execution_count": 271,
   "metadata": {},
   "outputs": [],
   "source": [
    "def table_freqs(col_n):\n",
    "    frq = df_2.groupby(pd.cut(df_2[col_n], border)).count() #Частота\n",
    "    rel_frq = round(frq / (df_2.size * l), 5)\n",
    "    cumul_frq = pd.DataFrame(frq.cumsum())\n",
    "    rel_cumul_frq = round(cumul_frq / df_2.size, 3)\n",
    "    \n",
    "    frq.columns = ['Частота']\n",
    "    rel_frq.columns = ['Отн. частота']\n",
    "    cumul_frq.columns = ['Накоп. частота']\n",
    "    rel_cumul_frq.columns = ['Отн. накоп. частота']\n",
    "    \n",
    "    data = pd.concat([frq, rel_frq.reindex(frq.index), cumul_frq.reindex(frq.index),\n",
    "                     rel_cumul_frq.reindex(frq.index), ], axis=1)\n",
    "    data.index.names = ['Интервал']\n",
    "    \n",
    "    return data\n"
   ]
  },
  {
   "cell_type": "code",
   "execution_count": 272,
   "metadata": {
    "scrolled": false
   },
   "outputs": [],
   "source": [
    "frq_table = table_freqs('A8')"
   ]
  },
  {
   "cell_type": "code",
   "execution_count": 273,
   "metadata": {},
   "outputs": [
    {
     "data": {
      "text/html": [
       "<div>\n",
       "<style scoped>\n",
       "    .dataframe tbody tr th:only-of-type {\n",
       "        vertical-align: middle;\n",
       "    }\n",
       "\n",
       "    .dataframe tbody tr th {\n",
       "        vertical-align: top;\n",
       "    }\n",
       "\n",
       "    .dataframe thead th {\n",
       "        text-align: right;\n",
       "    }\n",
       "</style>\n",
       "<table border=\"1\" class=\"dataframe\">\n",
       "  <thead>\n",
       "    <tr style=\"text-align: right;\">\n",
       "      <th></th>\n",
       "      <th>Частота</th>\n",
       "      <th>Отн. частота</th>\n",
       "      <th>Накоп. частота</th>\n",
       "      <th>Отн. накоп. частота</th>\n",
       "    </tr>\n",
       "    <tr>\n",
       "      <th>Интервал</th>\n",
       "      <th></th>\n",
       "      <th></th>\n",
       "      <th></th>\n",
       "      <th></th>\n",
       "    </tr>\n",
       "  </thead>\n",
       "  <tbody>\n",
       "    <tr>\n",
       "      <th>(0.0, 53.65]</th>\n",
       "      <td>0</td>\n",
       "      <td>0.00000</td>\n",
       "      <td>0</td>\n",
       "      <td>0.000</td>\n",
       "    </tr>\n",
       "    <tr>\n",
       "      <th>(53.65, 107.3]</th>\n",
       "      <td>0</td>\n",
       "      <td>0.00000</td>\n",
       "      <td>0</td>\n",
       "      <td>0.000</td>\n",
       "    </tr>\n",
       "    <tr>\n",
       "      <th>(107.3, 160.95]</th>\n",
       "      <td>0</td>\n",
       "      <td>0.00000</td>\n",
       "      <td>0</td>\n",
       "      <td>0.000</td>\n",
       "    </tr>\n",
       "    <tr>\n",
       "      <th>(160.95, 214.6]</th>\n",
       "      <td>0</td>\n",
       "      <td>0.00000</td>\n",
       "      <td>0</td>\n",
       "      <td>0.000</td>\n",
       "    </tr>\n",
       "    <tr>\n",
       "      <th>(214.6, 268.25]</th>\n",
       "      <td>8</td>\n",
       "      <td>0.00014</td>\n",
       "      <td>8</td>\n",
       "      <td>0.007</td>\n",
       "    </tr>\n",
       "    <tr>\n",
       "      <th>(268.25, 321.9]</th>\n",
       "      <td>92</td>\n",
       "      <td>0.00160</td>\n",
       "      <td>100</td>\n",
       "      <td>0.093</td>\n",
       "    </tr>\n",
       "    <tr>\n",
       "      <th>(321.9, 375.55]</th>\n",
       "      <td>239</td>\n",
       "      <td>0.00415</td>\n",
       "      <td>339</td>\n",
       "      <td>0.316</td>\n",
       "    </tr>\n",
       "    <tr>\n",
       "      <th>(375.55, 429.2]</th>\n",
       "      <td>265</td>\n",
       "      <td>0.00460</td>\n",
       "      <td>604</td>\n",
       "      <td>0.563</td>\n",
       "    </tr>\n",
       "    <tr>\n",
       "      <th>(429.2, 482.85]</th>\n",
       "      <td>203</td>\n",
       "      <td>0.00353</td>\n",
       "      <td>807</td>\n",
       "      <td>0.752</td>\n",
       "    </tr>\n",
       "    <tr>\n",
       "      <th>(482.85, 536.5]</th>\n",
       "      <td>123</td>\n",
       "      <td>0.00214</td>\n",
       "      <td>930</td>\n",
       "      <td>0.867</td>\n",
       "    </tr>\n",
       "    <tr>\n",
       "      <th>(536.5, 590.15]</th>\n",
       "      <td>90</td>\n",
       "      <td>0.00156</td>\n",
       "      <td>1020</td>\n",
       "      <td>0.951</td>\n",
       "    </tr>\n",
       "    <tr>\n",
       "      <th>(590.15, 643.8]</th>\n",
       "      <td>35</td>\n",
       "      <td>0.00061</td>\n",
       "      <td>1055</td>\n",
       "      <td>0.983</td>\n",
       "    </tr>\n",
       "    <tr>\n",
       "      <th>(643.8, 697.45]</th>\n",
       "      <td>8</td>\n",
       "      <td>0.00014</td>\n",
       "      <td>1063</td>\n",
       "      <td>0.991</td>\n",
       "    </tr>\n",
       "    <tr>\n",
       "      <th>(697.45, 751.1]</th>\n",
       "      <td>6</td>\n",
       "      <td>0.00010</td>\n",
       "      <td>1069</td>\n",
       "      <td>0.996</td>\n",
       "    </tr>\n",
       "    <tr>\n",
       "      <th>(751.1, 804.75]</th>\n",
       "      <td>2</td>\n",
       "      <td>0.00003</td>\n",
       "      <td>1071</td>\n",
       "      <td>0.998</td>\n",
       "    </tr>\n",
       "    <tr>\n",
       "      <th>(804.75, 858.4]</th>\n",
       "      <td>1</td>\n",
       "      <td>0.00002</td>\n",
       "      <td>1072</td>\n",
       "      <td>0.999</td>\n",
       "    </tr>\n",
       "    <tr>\n",
       "      <th>(858.4, 912.05]</th>\n",
       "      <td>1</td>\n",
       "      <td>0.00002</td>\n",
       "      <td>1073</td>\n",
       "      <td>1.000</td>\n",
       "    </tr>\n",
       "    <tr>\n",
       "      <th>(912.05, 965.7]</th>\n",
       "      <td>0</td>\n",
       "      <td>0.00000</td>\n",
       "      <td>1073</td>\n",
       "      <td>1.000</td>\n",
       "    </tr>\n",
       "    <tr>\n",
       "      <th>(965.7, 1019.35]</th>\n",
       "      <td>0</td>\n",
       "      <td>0.00000</td>\n",
       "      <td>1073</td>\n",
       "      <td>1.000</td>\n",
       "    </tr>\n",
       "    <tr>\n",
       "      <th>(1019.35, 1073.0]</th>\n",
       "      <td>0</td>\n",
       "      <td>0.00000</td>\n",
       "      <td>1073</td>\n",
       "      <td>1.000</td>\n",
       "    </tr>\n",
       "  </tbody>\n",
       "</table>\n",
       "</div>"
      ],
      "text/plain": [
       "                   Частота  Отн. частота  Накоп. частота  Отн. накоп. частота\n",
       "Интервал                                                                     \n",
       "(0.0, 53.65]             0       0.00000               0                0.000\n",
       "(53.65, 107.3]           0       0.00000               0                0.000\n",
       "(107.3, 160.95]          0       0.00000               0                0.000\n",
       "(160.95, 214.6]          0       0.00000               0                0.000\n",
       "(214.6, 268.25]          8       0.00014               8                0.007\n",
       "(268.25, 321.9]         92       0.00160             100                0.093\n",
       "(321.9, 375.55]        239       0.00415             339                0.316\n",
       "(375.55, 429.2]        265       0.00460             604                0.563\n",
       "(429.2, 482.85]        203       0.00353             807                0.752\n",
       "(482.85, 536.5]        123       0.00214             930                0.867\n",
       "(536.5, 590.15]         90       0.00156            1020                0.951\n",
       "(590.15, 643.8]         35       0.00061            1055                0.983\n",
       "(643.8, 697.45]          8       0.00014            1063                0.991\n",
       "(697.45, 751.1]          6       0.00010            1069                0.996\n",
       "(751.1, 804.75]          2       0.00003            1071                0.998\n",
       "(804.75, 858.4]          1       0.00002            1072                0.999\n",
       "(858.4, 912.05]          1       0.00002            1073                1.000\n",
       "(912.05, 965.7]          0       0.00000            1073                1.000\n",
       "(965.7, 1019.35]         0       0.00000            1073                1.000\n",
       "(1019.35, 1073.0]        0       0.00000            1073                1.000"
      ]
     },
     "execution_count": 273,
     "metadata": {},
     "output_type": "execute_result"
    }
   ],
   "source": [
    "frq_table"
   ]
  },
  {
   "cell_type": "code",
   "execution_count": 274,
   "metadata": {},
   "outputs": [],
   "source": [
    "def get_coord_means_of_intrvls(data, y_label):\n",
    "    x_coord = (borders[1] - borders[0])/2 + borders[0]\n",
    "    y_coord = frq_table[y_label]\n",
    "    return x_coord, y_coord"
   ]
  },
  {
   "cell_type": "code",
   "execution_count": 286,
   "metadata": {},
   "outputs": [],
   "source": [
    "def gstgrm(data, bns, cumul, boo, x_label, y_label, title):\n",
    "    data.hist(bins=borders[0], cumulative=cumul, normed=boo, color='#008080')\n",
    "    plt.xlabel(x_label, labelpad=10, weight='bold', size=10)\n",
    "    plt.ylabel(y_label, labelpad=10, weight='bold', size=10)\n",
    "    plt.title(title, pad=10, weight='bold', size=12)\n",
    "    x_poly, y_poly = get_coord_means_of_intrvls(data, y_label)\n",
    "    plt.plot(x_poly, y_poly, color='#ED2540')\n",
    "    plt.show()"
   ]
  },
  {
   "cell_type": "code",
   "execution_count": 287,
   "metadata": {},
   "outputs": [
    {
     "data": {
      "image/png": "[encoded data removed]",
      "text/plain": [
       "<Figure size 432x288 with 1 Axes>"
      ]
     },
     "metadata": {
      "needs_background": "light"
     },
     "output_type": "display_data"
    }
   ],
   "source": [
    "gstgrm(df_2, 0, 0, False, \"Выборка\", \"Частота\", \"Гистограмма частот\")"
   ]
  },
  {
   "cell_type": "code",
   "execution_count": 288,
   "metadata": {},
   "outputs": [
    {
     "data": {
      "image/png": "[encoded data removed]",
      "text/plain": [
       "<Figure size 432x288 with 1 Axes>"
      ]
     },
     "metadata": {
      "needs_background": "light"
     },
     "output_type": "display_data"
    }
   ],
   "source": [
    "gstgrm(df_2, 0, 0, True, \"Выборка\", \"Отн. частота\", \"Гистограмма отн. частот\")"
   ]
  },
  {
   "cell_type": "code",
   "execution_count": 289,
   "metadata": {},
   "outputs": [
    {
     "data": {
      "image/png": "[encoded data removed]",
      "text/plain": [
       "<Figure size 432x288 with 1 Axes>"
      ]
     },
     "metadata": {
      "needs_background": "light"
     },
     "output_type": "display_data"
    }
   ],
   "source": [
    "gstgrm(df_2, 20, 1, False, \"Выборка\", \"Накоп. частота\", \"Гистограмма накоп. частот\")"
   ]
  },
  {
   "cell_type": "code",
   "execution_count": 290,
   "metadata": {},
   "outputs": [
    {
     "data": {
      "image/png": "[encoded data removed]",
      "text/plain": [
       "<Figure size 432x288 with 1 Axes>"
      ]
     },
     "metadata": {
      "needs_background": "light"
     },
     "output_type": "display_data"
    }
   ],
   "source": [
    "gstgrm(df_2, 20, 1, True, \"Выборка\", \"Отн. накоп. частота\", \"Гистограмма отн. накоп. частот\")"
   ]
  },
  {
   "cell_type": "code",
   "execution_count": 386,
   "metadata": {},
   "outputs": [],
   "source": [
    "def get_cdf():\n",
    "    j = 0\n",
    "    x_coord = borders\n",
    "    y_coord = list(frq_table['Отн. накоп. частота'])\n",
    "    plt.title('Эмпирическая функция распределения', pad=10, weight='bold', size=12)\n",
    "    for i in range(n):\n",
    "        plt.plot([borders[0][i], borders[1][i]], [y_coord[i], y_coord[i]], color='#8F3CED', marker = \"<\")\n",
    "        plt.plot([borders[0][i], borders[0][i]], [y_coord[i], y_coord[0]], \"--\", color='#ED2540', linewidth=0.5)\n",
    "        j += 1"
   ]
  },
  {
   "cell_type": "code",
   "execution_count": 387,
   "metadata": {},
   "outputs": [
    {
     "data": {
      "image/png": "[encoded data removed]",
      "text/plain": [
       "<Figure size 432x288 with 1 Axes>"
      ]
     },
     "metadata": {
      "needs_background": "light"
     },
     "output_type": "display_data"
    }
   ],
   "source": [
    "get_cdf()"
   ]
  }
 ],
 "metadata": {
  "kernelspec": {
   "display_name": "Python 3",
   "language": "python",
   "name": "python3"
  },
  "language_info": {
   "codemirror_mode": {
    "name": "ipython",
    "version": 3
   },
   "file_extension": ".py",
   "mimetype": "text/x-python",
   "name": "python",
   "nbconvert_exporter": "python",
   "pygments_lexer": "ipython3",
   "version": "3.6.8"
  }
 },
 "nbformat": 4,
 "nbformat_minor": 2
}

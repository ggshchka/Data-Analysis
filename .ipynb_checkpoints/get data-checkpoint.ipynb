{
 "cells": [
  {
   "cell_type": "code",
   "execution_count": 50,
   "metadata": {},
   "outputs": [],
   "source": [
    "import pandas as pd"
   ]
  },
  {
   "cell_type": "code",
   "execution_count": 131,
   "metadata": {},
   "outputs": [],
   "source": [
    "def get_tasks_var(my_var):\n",
    "    excel_file = 'var_matstat_K5.xls'\n",
    "    df = pd.read_excel(excel_file)\n",
    "    num_of_task = list(df.columns.values)[1:]\n",
    "    num_of_var = df.values.tolist()[my_var-1][1:]\n",
    "    dict_ = dict(zip(num_of_task, num_of_var))\n",
    "    my_dict = {}\n",
    "    for ls in dict_.keys():\n",
    "        for key in ls.split(','):\n",
    "            k = key.strip()\n",
    "            if k in ls:\n",
    "                my_dict[k]=dict_[ls]\n",
    "    return my_dict"
   ]
  },
  {
   "cell_type": "code",
   "execution_count": 135,
   "metadata": {},
   "outputs": [
    {
     "data": {
      "text/plain": [
       "{'1.1': 'A5 A6 A8',\n",
       " '1.2': 'A8',\n",
       " '2.1': 'A8',\n",
       " '3.1': 'A8',\n",
       " '2.2': 'A8',\n",
       " '3.2': 'A8',\n",
       " '2.3': 'A5 A8',\n",
       " '3.3': 'A5 A8',\n",
       " '2.4': 'A5 A8',\n",
       " '3.4': 'A5 A8',\n",
       " '4': 'A8',\n",
       " '5': 'A5 A8',\n",
       " '6': 'A9 A14',\n",
       " '7': 'A4 A8',\n",
       " '8.1': 'A5 A8',\n",
       " '8.2': 'A5 A6 A8',\n",
       " '9.1': 'A15 A13',\n",
       " '9.2': 'A15 A13',\n",
       " '9.3': 'A15 A5 A13'}"
      ]
     },
     "execution_count": 135,
     "metadata": {},
     "output_type": "execute_result"
    }
   ],
   "source": [
    "get_tasks_var(13)"
   ]
  },
  {
   "cell_type": "code",
   "execution_count": 136,
   "metadata": {},
   "outputs": [],
   "source": [
    "sheet_name_dict = {\n",
    "                    'A' : 'A - aaup', \n",
    "                    'B' : 'B - bodyfat',\n",
    "                    'C' : 'C - plasma',\n",
    "                    'D' : 'D - homedat'\n",
    "                  }"
   ]
  },
  {
   "cell_type": "code",
   "execution_count": 137,
   "metadata": {},
   "outputs": [],
   "source": [
    "def get_name_of_sheet(my_dict):\n",
    "    return sheet_name_dict[list(my_dict.values())[0][0]]\n",
    "    "
   ]
  },
  {
   "cell_type": "code",
   "execution_count": 138,
   "metadata": {},
   "outputs": [
    {
     "data": {
      "text/plain": [
       "'A - aaup'"
      ]
     },
     "execution_count": 138,
     "metadata": {},
     "output_type": "execute_result"
    }
   ],
   "source": [
    "get_name_of_sheet(get_tasks_var(13))"
   ]
  },
  {
   "cell_type": "code",
   "execution_count": 141,
   "metadata": {},
   "outputs": [],
   "source": [
    "def get_data(num_of_task, tasks_var):\n",
    "    excel_file = 'data_matstat_K5.xls'\n",
    "    sht_nm = get_name_of_sheet(tasks_var)\n",
    "    df = pd.read_excel(excel_file, sheet_name=sht_nm)\n",
    "    rows = tasks_var[num_of_task].split()\n",
    "    return df[rows]"
   ]
  },
  {
   "cell_type": "code",
   "execution_count": 142,
   "metadata": {
    "scrolled": true
   },
   "outputs": [
    {
     "data": {
      "text/html": [
       "<div>\n",
       "<style scoped>\n",
       "    .dataframe tbody tr th:only-of-type {\n",
       "        vertical-align: middle;\n",
       "    }\n",
       "\n",
       "    .dataframe tbody tr th {\n",
       "        vertical-align: top;\n",
       "    }\n",
       "\n",
       "    .dataframe thead th {\n",
       "        text-align: right;\n",
       "    }\n",
       "</style>\n",
       "<table border=\"1\" class=\"dataframe\">\n",
       "  <thead>\n",
       "    <tr style=\"text-align: right;\">\n",
       "      <th></th>\n",
       "      <th>A5</th>\n",
       "      <th>A6</th>\n",
       "      <th>A8</th>\n",
       "    </tr>\n",
       "  </thead>\n",
       "  <tbody>\n",
       "    <tr>\n",
       "      <th>0</th>\n",
       "      <td>454</td>\n",
       "      <td>382</td>\n",
       "      <td>382</td>\n",
       "    </tr>\n",
       "    <tr>\n",
       "      <th>1</th>\n",
       "      <td>686</td>\n",
       "      <td>560</td>\n",
       "      <td>508</td>\n",
       "    </tr>\n",
       "    <tr>\n",
       "      <th>2</th>\n",
       "      <td>533</td>\n",
       "      <td>494</td>\n",
       "      <td>415</td>\n",
       "    </tr>\n",
       "    <tr>\n",
       "      <th>3</th>\n",
       "      <td>612</td>\n",
       "      <td>507</td>\n",
       "      <td>498</td>\n",
       "    </tr>\n",
       "    <tr>\n",
       "      <th>4</th>\n",
       "      <td>442</td>\n",
       "      <td>369</td>\n",
       "      <td>350</td>\n",
       "    </tr>\n",
       "    <tr>\n",
       "      <th>...</th>\n",
       "      <td>...</td>\n",
       "      <td>...</td>\n",
       "      <td>...</td>\n",
       "    </tr>\n",
       "    <tr>\n",
       "      <th>1068</th>\n",
       "      <td>408</td>\n",
       "      <td>340</td>\n",
       "      <td>349</td>\n",
       "    </tr>\n",
       "    <tr>\n",
       "      <th>1069</th>\n",
       "      <td>535</td>\n",
       "      <td>431</td>\n",
       "      <td>439</td>\n",
       "    </tr>\n",
       "    <tr>\n",
       "      <th>1070</th>\n",
       "      <td>441</td>\n",
       "      <td>383</td>\n",
       "      <td>383</td>\n",
       "    </tr>\n",
       "    <tr>\n",
       "      <th>1071</th>\n",
       "      <td>403</td>\n",
       "      <td>348</td>\n",
       "      <td>315</td>\n",
       "    </tr>\n",
       "    <tr>\n",
       "      <th>1072</th>\n",
       "      <td>539</td>\n",
       "      <td>410</td>\n",
       "      <td>445</td>\n",
       "    </tr>\n",
       "  </tbody>\n",
       "</table>\n",
       "<p>1073 rows × 3 columns</p>\n",
       "</div>"
      ],
      "text/plain": [
       "       A5   A6   A8\n",
       "0     454  382  382\n",
       "1     686  560  508\n",
       "2     533  494  415\n",
       "3     612  507  498\n",
       "4     442  369  350\n",
       "...   ...  ...  ...\n",
       "1068  408  340  349\n",
       "1069  535  431  439\n",
       "1070  441  383  383\n",
       "1071  403  348  315\n",
       "1072  539  410  445\n",
       "\n",
       "[1073 rows x 3 columns]"
      ]
     },
     "execution_count": 142,
     "metadata": {},
     "output_type": "execute_result"
    }
   ],
   "source": [
    "get_data('1.1', get_tasks_var(13))"
   ]
  }
 ],
 "metadata": {
  "kernelspec": {
   "display_name": "Python 3",
   "language": "python",
   "name": "python3"
  },
  "language_info": {
   "codemirror_mode": {
    "name": "ipython",
    "version": 3
   },
   "file_extension": ".py",
   "mimetype": "text/x-python",
   "name": "python",
   "nbconvert_exporter": "python",
   "pygments_lexer": "ipython3",
   "version": "3.6.8"
  }
 },
 "nbformat": 4,
 "nbformat_minor": 2
}

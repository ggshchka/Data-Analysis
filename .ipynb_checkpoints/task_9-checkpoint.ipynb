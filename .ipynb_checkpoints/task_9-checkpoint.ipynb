{
 "cells": [
  {
   "cell_type": "code",
   "execution_count": 140,
   "metadata": {},
   "outputs": [],
   "source": [
    "import helper as hp\n",
    "import pandas as pd\n",
    "import matplotlib.pyplot as plt\n",
    "import numpy as np\n",
    "from scipy import stats\n",
    "from sklearn.linear_model import LinearRegression\n",
    "import math"
   ]
  },
  {
   "cell_type": "markdown",
   "metadata": {},
   "source": [
    "## 9. Регрессионный анализ"
   ]
  },
  {
   "cell_type": "markdown",
   "metadata": {},
   "source": [
    "### 9.1 Простейшая линейная регрессионная модель"
   ]
  },
  {
   "cell_type": "code",
   "execution_count": 141,
   "metadata": {},
   "outputs": [],
   "source": [
    "my_var = 13"
   ]
  },
  {
   "cell_type": "code",
   "execution_count": 142,
   "metadata": {},
   "outputs": [
    {
     "data": {
      "text/html": [
       "<div>\n",
       "<style scoped>\n",
       "    .dataframe tbody tr th:only-of-type {\n",
       "        vertical-align: middle;\n",
       "    }\n",
       "\n",
       "    .dataframe tbody tr th {\n",
       "        vertical-align: top;\n",
       "    }\n",
       "\n",
       "    .dataframe thead th {\n",
       "        text-align: right;\n",
       "    }\n",
       "</style>\n",
       "<table border=\"1\" class=\"dataframe\">\n",
       "  <thead>\n",
       "    <tr style=\"text-align: right;\">\n",
       "      <th></th>\n",
       "      <th>A15</th>\n",
       "      <th>A13</th>\n",
       "    </tr>\n",
       "  </thead>\n",
       "  <tbody>\n",
       "    <tr>\n",
       "      <th>0</th>\n",
       "      <td>6</td>\n",
       "      <td>487</td>\n",
       "    </tr>\n",
       "    <tr>\n",
       "      <th>1</th>\n",
       "      <td>74</td>\n",
       "      <td>677</td>\n",
       "    </tr>\n",
       "    <tr>\n",
       "      <th>2</th>\n",
       "      <td>9</td>\n",
       "      <td>559</td>\n",
       "    </tr>\n",
       "    <tr>\n",
       "      <th>3</th>\n",
       "      <td>115</td>\n",
       "      <td>670</td>\n",
       "    </tr>\n",
       "    <tr>\n",
       "      <th>4</th>\n",
       "      <td>59</td>\n",
       "      <td>423</td>\n",
       "    </tr>\n",
       "    <tr>\n",
       "      <th>...</th>\n",
       "      <td>...</td>\n",
       "      <td>...</td>\n",
       "    </tr>\n",
       "    <tr>\n",
       "      <th>1068</th>\n",
       "      <td>54</td>\n",
       "      <td>431</td>\n",
       "    </tr>\n",
       "    <tr>\n",
       "      <th>1069</th>\n",
       "      <td>335</td>\n",
       "      <td>529</td>\n",
       "    </tr>\n",
       "    <tr>\n",
       "      <th>1070</th>\n",
       "      <td>25</td>\n",
       "      <td>495</td>\n",
       "    </tr>\n",
       "    <tr>\n",
       "      <th>1071</th>\n",
       "      <td>8</td>\n",
       "      <td>381</td>\n",
       "    </tr>\n",
       "    <tr>\n",
       "      <th>1072</th>\n",
       "      <td>241</td>\n",
       "      <td>549</td>\n",
       "    </tr>\n",
       "  </tbody>\n",
       "</table>\n",
       "<p>1073 rows × 2 columns</p>\n",
       "</div>"
      ],
      "text/plain": [
       "      A15  A13\n",
       "0       6  487\n",
       "1      74  677\n",
       "2       9  559\n",
       "3     115  670\n",
       "4      59  423\n",
       "...   ...  ...\n",
       "1068   54  431\n",
       "1069  335  529\n",
       "1070   25  495\n",
       "1071    8  381\n",
       "1072  241  549\n",
       "\n",
       "[1073 rows x 2 columns]"
      ]
     },
     "execution_count": 142,
     "metadata": {},
     "output_type": "execute_result"
    }
   ],
   "source": [
    "df = hp.get_data('9.1', hp.get_tasks_var(my_var))\n",
    "x = df['A15'].to_numpy()\n",
    "y = df['A13'].to_numpy()\n",
    "df"
   ]
  },
  {
   "cell_type": "markdown",
   "metadata": {},
   "source": [
    "- Факторный признак x – A15\n",
    "- Результативный признак y – A13\n",
    "- Уравнение регрессии – $f(x) = \\beta_0 + \\beta_1x$"
   ]
  },
  {
   "cell_type": "markdown",
   "metadata": {},
   "source": [
    "#### 9.1.1. Точечные оценки линейной регрессионной модели"
   ]
  },
  {
   "cell_type": "markdown",
   "metadata": {},
   "source": [
    "##### а) Рассчитать точечные оценки параметров линейной регрессионной модели"
   ]
  },
  {
   "cell_type": "code",
   "execution_count": 143,
   "metadata": {},
   "outputs": [
    {
     "data": {
      "text/plain": [
       "<matplotlib.collections.PathCollection at 0x9989d1fa58>"
      ]
     },
     "execution_count": 143,
     "metadata": {},
     "output_type": "execute_result"
    },
    {
     "data": {
      "image/png": "[encoded data removed]",
      "text/plain": [
       "<Figure size 432x288 with 1 Axes>"
      ]
     },
     "metadata": {
      "needs_background": "light"
     },
     "output_type": "display_data"
    }
   ],
   "source": [
    "plt.scatter(x,y)"
   ]
  },
  {
   "cell_type": "code",
   "execution_count": 144,
   "metadata": {},
   "outputs": [
    {
     "data": {
      "text/plain": [
       "LinearRegression(copy_X=True, fit_intercept=True, n_jobs=None, normalize=False)"
      ]
     },
     "execution_count": 144,
     "metadata": {},
     "output_type": "execute_result"
    }
   ],
   "source": [
    "model = LinearRegression()\n",
    "model.fit(x.reshape(-1, 1),y)"
   ]
  },
  {
   "cell_type": "code",
   "execution_count": 145,
   "metadata": {},
   "outputs": [
    {
     "data": {
      "text/plain": [
       "(0.4646548118037293, 488.9932986745056)"
      ]
     },
     "execution_count": 145,
     "metadata": {},
     "output_type": "execute_result"
    }
   ],
   "source": [
    "beta_1 = model.coef_[0]\n",
    "beta_0 = model.intercept_\n",
    "regr_func = beta_0 + beta_1 * x\n",
    "beta_1, beta_0"
   ]
  },
  {
   "cell_type": "markdown",
   "metadata": {},
   "source": [
    "$f(x) = 489 + 0.46x$"
   ]
  },
  {
   "cell_type": "code",
   "execution_count": 146,
   "metadata": {},
   "outputs": [],
   "source": [
    "k = 2\n",
    "n = x.size\n",
    "\n",
    "D_regr = 0\n",
    "for i in range(len(x)):\n",
    "    D_regr += (regr_func[i] - np.mean(y))**2 \n",
    "D_regr = D_regr/len(x)\n",
    "\n",
    "D_res = 0\n",
    "for i in range(len(x)):\n",
    "    D_res += (y[i] - regr_func[i])**2\n",
    "D_res = D_res/len(x)\n",
    "\n",
    "D_Y = 0\n",
    "for i in range(len(x)):\n",
    "    D_Y += (y[i] - np.mean(y))**2\n",
    "D_Y = D_Y/len(x)\n"
   ]
  },
  {
   "cell_type": "markdown",
   "metadata": {},
   "source": [
    "#### г) Рассчитать показатели вариации, используемые в регрессионном анализе"
   ]
  },
  {
   "cell_type": "code",
   "execution_count": 147,
   "metadata": {},
   "outputs": [
    {
     "data": {
      "text/html": [
       "<div>\n",
       "<style scoped>\n",
       "    .dataframe tbody tr th:only-of-type {\n",
       "        vertical-align: middle;\n",
       "    }\n",
       "\n",
       "    .dataframe tbody tr th {\n",
       "        vertical-align: top;\n",
       "    }\n",
       "\n",
       "    .dataframe thead th {\n",
       "        text-align: right;\n",
       "    }\n",
       "</style>\n",
       "<table border=\"1\" class=\"dataframe\">\n",
       "  <thead>\n",
       "    <tr style=\"text-align: right;\">\n",
       "      <th></th>\n",
       "      <th>Источник вариации</th>\n",
       "      <th>Мера вариации</th>\n",
       "      <th>Число степ. своб.</th>\n",
       "      <th>Несмещ. оценка</th>\n",
       "    </tr>\n",
       "  </thead>\n",
       "  <tbody>\n",
       "    <tr>\n",
       "      <th>0</th>\n",
       "      <td>Факторный признак</td>\n",
       "      <td>4589.956334</td>\n",
       "      <td>1</td>\n",
       "      <td>4.925023e+06</td>\n",
       "    </tr>\n",
       "    <tr>\n",
       "      <th>1</th>\n",
       "      <td>Остаточные признаки</td>\n",
       "      <td>9440.535574</td>\n",
       "      <td>1071</td>\n",
       "      <td>9.458165e+03</td>\n",
       "    </tr>\n",
       "    <tr>\n",
       "      <th>2</th>\n",
       "      <td>Все признаки</td>\n",
       "      <td>14030.491908</td>\n",
       "      <td>1072</td>\n",
       "      <td>1.404358e+04</td>\n",
       "    </tr>\n",
       "  </tbody>\n",
       "</table>\n",
       "</div>"
      ],
      "text/plain": [
       "     Источник вариации  Мера вариации  Число степ. своб.  Несмещ. оценка\n",
       "0    Факторный признак    4589.956334                  1    4.925023e+06\n",
       "1  Остаточные признаки    9440.535574               1071    9.458165e+03\n",
       "2         Все признаки   14030.491908               1072    1.404358e+04"
      ]
     },
     "execution_count": 147,
     "metadata": {},
     "output_type": "execute_result"
    }
   ],
   "source": [
    "pd.DataFrame({\n",
    "    \"Источник вариации\" : [\"Факторный признак\", \"Остаточные признаки\", \"Все признаки\"],\n",
    "    \"Мера вариации\" : [D_regr, D_res, D_Y],\n",
    "    \"Число степ. своб.\" : [k-1, n-k, n-1],\n",
    "    \"Несмещ. оценка\" : [D_regr*len(x)/(k-1), \n",
    "                        D_res*len(x)/(len(x)-k),\n",
    "                        D_Y*len(x)/(len(x)-1)],\n",
    "})"
   ]
  },
  {
   "cell_type": "markdown",
   "metadata": {},
   "source": [
    "#### е) Рассчитать показатели тесноты связи между факторным и результативным признаками"
   ]
  },
  {
   "cell_type": "code",
   "execution_count": 148,
   "metadata": {},
   "outputs": [
    {
     "data": {
      "text/plain": [
       "0.3271415118066167"
      ]
     },
     "execution_count": 148,
     "metadata": {},
     "output_type": "execute_result"
    }
   ],
   "source": [
    "coef_det = D_regr/D_Y\n",
    "coef_det"
   ]
  },
  {
   "cell_type": "code",
   "execution_count": 149,
   "metadata": {},
   "outputs": [],
   "source": [
    "coef_det = model.score(x.reshape(-1, 1),y)\n",
    "correl_ratio = coef_det**(1/2)"
   ]
  },
  {
   "cell_type": "code",
   "execution_count": 150,
   "metadata": {},
   "outputs": [
    {
     "data": {
      "text/html": [
       "<div>\n",
       "<style scoped>\n",
       "    .dataframe tbody tr th:only-of-type {\n",
       "        vertical-align: middle;\n",
       "    }\n",
       "\n",
       "    .dataframe tbody tr th {\n",
       "        vertical-align: top;\n",
       "    }\n",
       "\n",
       "    .dataframe thead th {\n",
       "        text-align: right;\n",
       "    }\n",
       "</style>\n",
       "<table border=\"1\" class=\"dataframe\">\n",
       "  <thead>\n",
       "    <tr style=\"text-align: right;\">\n",
       "      <th></th>\n",
       "      <th>Показатель</th>\n",
       "      <th>Формула расчета</th>\n",
       "      <th>Значение</th>\n",
       "    </tr>\n",
       "  </thead>\n",
       "  <tbody>\n",
       "    <tr>\n",
       "      <th>0</th>\n",
       "      <td>Коэффициент детерминации</td>\n",
       "      <td>-</td>\n",
       "      <td>0.327142</td>\n",
       "    </tr>\n",
       "    <tr>\n",
       "      <th>1</th>\n",
       "      <td>Корреляционное отношение</td>\n",
       "      <td>-</td>\n",
       "      <td>0.571963</td>\n",
       "    </tr>\n",
       "  </tbody>\n",
       "</table>\n",
       "</div>"
      ],
      "text/plain": [
       "                Показатель  Формула расчета  Значение\n",
       "0  Коэффициент детерминации               -  0.327142\n",
       "1  Корреляционное отношение               -  0.571963"
      ]
     },
     "execution_count": 150,
     "metadata": {},
     "output_type": "execute_result"
    }
   ],
   "source": [
    "pd.DataFrame({\n",
    "    \"Показатель \" : [\"Коэффициент детерминации\", \"Корреляционное отношение\"],\n",
    "    \"Формула расчета\" : [\"-\", \"-\"],\n",
    "    \"Значение\" : [coef_det, correl_ratio]\n",
    "})"
   ]
  },
  {
   "cell_type": "markdown",
   "metadata": {},
   "source": [
    "### 9.1.2. Интервальные оценки линейной регрессионной модели"
   ]
  },
  {
   "cell_type": "markdown",
   "metadata": {},
   "source": [
    "#### б) Рассчитать доверительные интервалы для параметров линейной регрессионной модели"
   ]
  },
  {
   "cell_type": "code",
   "execution_count": 157,
   "metadata": {},
   "outputs": [],
   "source": [
    "def dov_interval_beta_0(alpha, X, Y):\n",
    "    ro_pearson, _ = stats.pearsonr(X,Y)\n",
    "    beta_0 = np.mean(Y) - ro_pearson * (np.std(Y)/np.std(X)) * np.mean(X)\n",
    "    D_res = 0\n",
    "    for i in range(len(X)):\n",
    "        D_res += (Y[i] - regr_func[i])**2\n",
    "    D_res = D_res/len(X)\n",
    "    x = 0\n",
    "    for i in range(len(X)):\n",
    "        x += X[i]**2\n",
    "    lower_bound = beta_0 - stats.t.ppf(1-alpha/2, len(X)-2) * np.power(D_res, 1/2) * np.power(x/((len(X)**2)*np.var(X)), 1/2)\n",
    "    upper_bound = beta_0 + stats.t.ppf(1-alpha/2, len(X)-2) * np.power(D_res, 1/2) * np.power(x/((len(X)**2)*np.var(X)), 1/2)\n",
    "    return lower_bound, upper_bound "
   ]
  },
  {
   "cell_type": "code",
   "execution_count": 158,
   "metadata": {},
   "outputs": [
    {
     "name": "stdout",
     "output_type": "stream",
     "text": [
      "(479.63804572323585, 498.3485516257753)\n",
      "(481.8794762912898, 496.1071210577214)\n",
      "(483.02477493770306, 494.9618224113081)\n"
     ]
    }
   ],
   "source": [
    "print(dov_interval_beta_0(0.01, x, y))\n",
    "print(dov_interval_beta_0(0.05, x, y))\n",
    "print(dov_interval_beta_0(0.1, x, y))"
   ]
  },
  {
   "cell_type": "code",
   "execution_count": 159,
   "metadata": {},
   "outputs": [],
   "source": [
    "def dov_interval_beta_1(alpha, X, Y):\n",
    "    ro_pearson, _ = stats.pearsonr(X,Y)\n",
    "    beta_1 = ro_pearson * (np.std(Y)/np.std(X))\n",
    "    D_res = 0\n",
    "    for i in range(len(X)):\n",
    "        D_res += (Y[i] - regr_func[i])**2\n",
    "    D_res = D_res/len(X)\n",
    "    lower_bound = beta_1 - stats.t.ppf(1-alpha/2, len(X)-2) * np.power(D_res, 1/2) * np.power(1/((len(X))*np.var(X)), 1/2)\n",
    "    upper_bound = beta_1 + stats.t.ppf(1-alpha/2, len(X)-2) * np.power(D_res, 1/2) * np.power(1/((len(X))*np.var(X)), 1/2)\n",
    "    return lower_bound, upper_bound "
   ]
  },
  {
   "cell_type": "code",
   "execution_count": 160,
   "metadata": {},
   "outputs": [
    {
     "name": "stdout",
     "output_type": "stream",
     "text": [
      "(0.4121600099350525, 0.5171496136724065)\n",
      "(0.42473727045224857, 0.5045723531552104)\n",
      "(0.43116384446762757, 0.4981457791398315)\n"
     ]
    }
   ],
   "source": [
    "print(dov_interval_beta_1(0.01, x, y))\n",
    "print(dov_interval_beta_1(0.05, x, y))\n",
    "print(dov_interval_beta_1(0.1, x, y))"
   ]
  },
  {
   "cell_type": "code",
   "execution_count": 168,
   "metadata": {},
   "outputs": [
    {
     "data": {
      "text/plain": [
       "<matplotlib.collections.PathCollection at 0x998ad59ba8>"
      ]
     },
     "execution_count": 168,
     "metadata": {},
     "output_type": "execute_result"
    },
    {
     "data": {
      "image/png": "[encoded data removed]",
      "text/plain": [
       "<Figure size 432x288 with 1 Axes>"
      ]
     },
     "metadata": {
      "needs_background": "light"
     },
     "output_type": "display_data"
    }
   ],
   "source": [
    "x_linspace = np.linspace(min(x),max(x), len(x))\n",
    "regr_func = beta_0 + beta_1 * x_linspace\n",
    "fig, ax = plt.subplots()\n",
    "ax.set_title('Диаграмма рассеяния случайных величин X и Y:')\n",
    "ax.set_xlabel('x')\n",
    "ax.set_ylabel('y')\n",
    "ax.plot(x_linspace, regr_func, lw=2, color='black', alpha=1)\n",
    "lower_bound = regr_func - stats.t.ppf(1-0.1/2, len(x)-2) * np.power(D_res, 1/2) * np.power((1/len(x))+((x_linspace-np.mean(x))**2)/(len(x)*np.var(x)), 1/2)\n",
    "ax.plot(x_linspace, lower_bound, lw=1, color='g', alpha=1)\n",
    "upper_bound = regr_func + stats.t.ppf(1-0.1/2, len(x)-2) * np.power(D_res, 1/2) * np.power((1/len(x))+((x_linspace-np.mean(x))**2)/(len(x)*np.var(x)), 1/2)\n",
    "ax.plot(x_linspace, upper_bound, lw=1, color='g', alpha=1)\n",
    "plt.scatter(x, y)"
   ]
  },
  {
   "cell_type": "code",
   "execution_count": 180,
   "metadata": {},
   "outputs": [
    {
     "data": {
      "text/plain": [
       "Text(0, 0.5, '$\\\\epsilon$')"
      ]
     },
     "execution_count": 180,
     "metadata": {},
     "output_type": "execute_result"
    },
    {
     "data": {
      "image/png": "[encoded data removed]",
      "text/plain": [
       "<Figure size 432x288 with 1 Axes>"
      ]
     },
     "metadata": {
      "needs_background": "light"
     },
     "output_type": "display_data"
    }
   ],
   "source": [
    "fig, ax = plt.subplots()\n",
    "ax.plot(sorted(x), y - regr_func, lw=1, color='b', alpha=1)\n",
    "ax.set_title('$\\epsilon(x) = y - f(x)$')\n",
    "ax.set_xlabel('x')\n",
    "ax.set_ylabel('$\\epsilon$')"
   ]
  },
  {
   "cell_type": "markdown",
   "metadata": {},
   "source": [
    "#### 9.1.3. Проверка значимости линейной регрессионной модели"
   ]
  },
  {
   "cell_type": "code",
   "execution_count": 187,
   "metadata": {},
   "outputs": [],
   "source": [
    "criterion = coef_det/(1 - coef_det)*(len(x) - 2)\n",
    "p_value = 1 - stats.f.cdf(criterion, 1, len(x) - 2)"
   ]
  },
  {
   "cell_type": "code",
   "execution_count": 188,
   "metadata": {},
   "outputs": [
    {
     "data": {
      "text/plain": [
       "(520.7165626841121, 1.1102230246251565e-16)"
      ]
     },
     "execution_count": 188,
     "metadata": {},
     "output_type": "execute_result"
    }
   ],
   "source": [
    "criterion, p_value"
   ]
  },
  {
   "cell_type": "markdown",
   "metadata": {},
   "source": [
    "### 9.2 Линейная регрессионная модель общего вида"
   ]
  },
  {
   "cell_type": "code",
   "execution_count": 191,
   "metadata": {},
   "outputs": [
    {
     "data": {
      "text/html": [
       "<div>\n",
       "<style scoped>\n",
       "    .dataframe tbody tr th:only-of-type {\n",
       "        vertical-align: middle;\n",
       "    }\n",
       "\n",
       "    .dataframe tbody tr th {\n",
       "        vertical-align: top;\n",
       "    }\n",
       "\n",
       "    .dataframe thead th {\n",
       "        text-align: right;\n",
       "    }\n",
       "</style>\n",
       "<table border=\"1\" class=\"dataframe\">\n",
       "  <thead>\n",
       "    <tr style=\"text-align: right;\">\n",
       "      <th></th>\n",
       "      <th>A15</th>\n",
       "      <th>A13</th>\n",
       "    </tr>\n",
       "  </thead>\n",
       "  <tbody>\n",
       "    <tr>\n",
       "      <th>0</th>\n",
       "      <td>6</td>\n",
       "      <td>487</td>\n",
       "    </tr>\n",
       "    <tr>\n",
       "      <th>1</th>\n",
       "      <td>74</td>\n",
       "      <td>677</td>\n",
       "    </tr>\n",
       "    <tr>\n",
       "      <th>2</th>\n",
       "      <td>9</td>\n",
       "      <td>559</td>\n",
       "    </tr>\n",
       "    <tr>\n",
       "      <th>3</th>\n",
       "      <td>115</td>\n",
       "      <td>670</td>\n",
       "    </tr>\n",
       "    <tr>\n",
       "      <th>4</th>\n",
       "      <td>59</td>\n",
       "      <td>423</td>\n",
       "    </tr>\n",
       "    <tr>\n",
       "      <th>...</th>\n",
       "      <td>...</td>\n",
       "      <td>...</td>\n",
       "    </tr>\n",
       "    <tr>\n",
       "      <th>1068</th>\n",
       "      <td>54</td>\n",
       "      <td>431</td>\n",
       "    </tr>\n",
       "    <tr>\n",
       "      <th>1069</th>\n",
       "      <td>335</td>\n",
       "      <td>529</td>\n",
       "    </tr>\n",
       "    <tr>\n",
       "      <th>1070</th>\n",
       "      <td>25</td>\n",
       "      <td>495</td>\n",
       "    </tr>\n",
       "    <tr>\n",
       "      <th>1071</th>\n",
       "      <td>8</td>\n",
       "      <td>381</td>\n",
       "    </tr>\n",
       "    <tr>\n",
       "      <th>1072</th>\n",
       "      <td>241</td>\n",
       "      <td>549</td>\n",
       "    </tr>\n",
       "  </tbody>\n",
       "</table>\n",
       "<p>1073 rows × 2 columns</p>\n",
       "</div>"
      ],
      "text/plain": [
       "      A15  A13\n",
       "0       6  487\n",
       "1      74  677\n",
       "2       9  559\n",
       "3     115  670\n",
       "4      59  423\n",
       "...   ...  ...\n",
       "1068   54  431\n",
       "1069  335  529\n",
       "1070   25  495\n",
       "1071    8  381\n",
       "1072  241  549\n",
       "\n",
       "[1073 rows x 2 columns]"
      ]
     },
     "execution_count": 191,
     "metadata": {},
     "output_type": "execute_result"
    }
   ],
   "source": [
    "df = hp.get_data('9.2', hp.get_tasks_var(my_var))\n",
    "X = df['A15'].to_numpy()\n",
    "Y = df['A13'].to_numpy()\n",
    "df"
   ]
  },
  {
   "cell_type": "code",
   "execution_count": 196,
   "metadata": {},
   "outputs": [
    {
     "name": "stdout",
     "output_type": "stream",
     "text": [
      "b0: 460.11824200766114  | b1: 1.0224467763908305  | b2: -0.0008905357772385812\n"
     ]
    }
   ],
   "source": [
    "a0 = np.ones((len(X), 1))\n",
    "a1 = np.expand_dims(X ,axis=0)\n",
    "a2 = np.expand_dims(X**2 ,axis=0)\n",
    "A = np.concatenate((a0, a1.T, a2.T), axis=1)\n",
    "Y1 = np.expand_dims(Y, axis=0).T\n",
    "beta = np.dot(np.dot(np.linalg.inv(np.dot(A.T, A)), A.T), Y1)\n",
    "beta\n",
    "b0 = beta[0, 0]\n",
    "b1 = beta[1, 0]\n",
    "b2 = beta[2, 0]\n",
    "b0 , b1, b2\n",
    "\n",
    "print (\"b0:\",b0,\" | b1:\",b1,\" | b2:\",b2)\n",
    "reg_func = lambda x: b0 + b1*x + b2*x**2"
   ]
  },
  {
   "cell_type": "code",
   "execution_count": 209,
   "metadata": {},
   "outputs": [],
   "source": [
    "regr_func = b0 + b1*X + b2*(X**2)\n",
    "k = 3\n",
    "\n",
    "D_regr = 0\n",
    "for i in range(len(X)):\n",
    "    D_regr += (regr_func[i] - np.mean(Y))**2 \n",
    "D_regr = D_regr/len(X)\n",
    "\n",
    "D_res = 0\n",
    "for i in range(len(X)):\n",
    "    D_res += (Y[i] - regr_func[i])**2\n",
    "D_res = D_res/len(X)\n",
    "\n",
    "D_Y = 0\n",
    "for i in range(len(X)):\n",
    "    D_Y += (Y[i] - np.mean(Y))**2\n",
    "D_Y = D_Y/len(X)"
   ]
  },
  {
   "cell_type": "code",
   "execution_count": 210,
   "metadata": {},
   "outputs": [
    {
     "name": "stdout",
     "output_type": "stream",
     "text": [
      "5844.452186347225\n",
      "8186.039721699911\n",
      "14030.491908047135\n"
     ]
    }
   ],
   "source": [
    "print(D_regr)\n",
    "print(D_res)\n",
    "print(D_Y)"
   ]
  },
  {
   "cell_type": "code",
   "execution_count": 211,
   "metadata": {},
   "outputs": [
    {
     "name": "stdout",
     "output_type": "stream",
     "text": [
      "3135548.597975286\n",
      "8208.991234938321\n",
      "14043.580053483745\n"
     ]
    }
   ],
   "source": [
    "print(D_regr*len(X)/(k-1))\n",
    "print(D_res*len(X)/(len(X)-k))\n",
    "print(D_Y*len(X)/(len(X)-1))"
   ]
  },
  {
   "cell_type": "code",
   "execution_count": 212,
   "metadata": {},
   "outputs": [
    {
     "name": "stdout",
     "output_type": "stream",
     "text": [
      "0.41655361940625624\n",
      "0.6454096523962561\n"
     ]
    }
   ],
   "source": [
    "coef_det = D_regr/D_Y\n",
    "correl_ratio = np.power(coef_det, 1/2)\n",
    "print(coef_det)\n",
    "print(correl_ratio)"
   ]
  },
  {
   "cell_type": "code",
   "execution_count": 213,
   "metadata": {},
   "outputs": [],
   "source": [
    "x_linspace = np.linspace(min(X),max(X), len(X))\n",
    "regr_func = b0 + b1*x_linspace + b2*(x_linspace**2)"
   ]
  },
  {
   "cell_type": "code",
   "execution_count": 214,
   "metadata": {},
   "outputs": [
    {
     "data": {
      "text/plain": [
       "<matplotlib.collections.PathCollection at 0x998bfbd208>"
      ]
     },
     "execution_count": 214,
     "metadata": {},
     "output_type": "execute_result"
    },
    {
     "data": {
      "image/png": "[encoded data removed]",
      "text/plain": [
       "<Figure size 432x288 with 1 Axes>"
      ]
     },
     "metadata": {
      "needs_background": "light"
     },
     "output_type": "display_data"
    }
   ],
   "source": [
    "fig, ax = plt.subplots()\n",
    "ax.set_title('Диаграмма рассеяния случайных величин X и Y:')\n",
    "ax.set_xlabel('X')\n",
    "ax.set_ylabel('Y')\n",
    "ax.plot(x_linspace, regr_func, lw=3, color='r', alpha=1)\n",
    "plt.scatter(X, Y)"
   ]
  },
  {
   "cell_type": "code",
   "execution_count": 215,
   "metadata": {},
   "outputs": [],
   "source": [
    "f0 = lambda x : 1\n",
    "f1 = lambda x : x\n",
    "f2 = lambda x : x**2"
   ]
  },
  {
   "cell_type": "code",
   "execution_count": 216,
   "metadata": {},
   "outputs": [
    {
     "data": {
      "text/plain": [
       "[<matplotlib.lines.Line2D at 0x998c0e5ef0>]"
      ]
     },
     "execution_count": 216,
     "metadata": {},
     "output_type": "execute_result"
    },
    {
     "data": {
      "image/png": "[encoded data removed]",
      "text/plain": [
       "<Figure size 432x288 with 1 Axes>"
      ]
     },
     "metadata": {
      "needs_background": "light"
     },
     "output_type": "display_data"
    }
   ],
   "source": [
    "\n",
    "f_row = lambda x : np.array([f0(x), f1(x), f2(x)]) \n",
    "f_column = lambda x : (f_row(x)).transpose()  \n",
    "\n",
    "F = [\n",
    "    f_row(val) for val in x\n",
    "]\n",
    "\n",
    "F = np.array(F)\n",
    "\n",
    "fig, ax = plt.subplots()\n",
    "\n",
    "x_linspace = np.linspace(min(X), max(X), 100)\n",
    "y_values = [\n",
    "    reg_func(a) for a in x_linspace\n",
    "]\n",
    "y_values_min = [\n",
    "    reg_func(a)-stats.t(n-k).ppf(1-0.1/2)*np.sqrt(D_res)*np.sqrt(np.dot(np.dot(f_row(a),np.linalg.inv(np.dot(F.transpose(),F))),f_column(a))) for a in x_linspace\n",
    "]\n",
    "y_values_max = [\n",
    "    reg_func(a)+stats.t(n-k).ppf(1-0.1/2)*np.sqrt(D_res)*np.sqrt(np.dot(np.dot(f_row(a),np.linalg.inv(np.dot(F.transpose(),F))),f_column(a))) for a in x_linspace\n",
    "]\n",
    "\n",
    "\n",
    "ax.set_title('Диаграмма рассеяния случайных величин X и Y:')\n",
    "ax.set_xlabel('X')\n",
    "ax.set_ylabel('Y')\n",
    "\n",
    "ax.scatter(X, Y)\n",
    "ax.plot(x_linspace, y_values, color='r', lw=3, label='f(x)')\n",
    "ax.plot(x_linspace, y_values_min, color='y', lw=1, label='f_min(x)')\n",
    "ax.plot(x_linspace, y_values_max, color='y', lw=1, label='f_max(x)')"
   ]
  },
  {
   "cell_type": "code",
   "execution_count": 223,
   "metadata": {},
   "outputs": [
    {
     "data": {
      "text/plain": [
       "Text(0, 0.5, '$\\\\epsilon$')"
      ]
     },
     "execution_count": 223,
     "metadata": {},
     "output_type": "execute_result"
    },
    {
     "data": {
      "image/png": "[encoded data removed]",
      "text/plain": [
       "<Figure size 432x288 with 1 Axes>"
      ]
     },
     "metadata": {
      "needs_background": "light"
     },
     "output_type": "display_data"
    }
   ],
   "source": [
    "fig, ax = plt.subplots()\n",
    "ax.plot(sorted(X), Y - regr_func, lw=1, color='b', alpha=1)\n",
    "ax.set_title('$\\epsilon(x) = y - f(x)$')\n",
    "ax.set_xlabel('x')\n",
    "ax.set_ylabel('$\\epsilon$')"
   ]
  },
  {
   "cell_type": "code",
   "execution_count": 224,
   "metadata": {},
   "outputs": [
    {
     "data": {
      "text/plain": [
       "(381.96515360256006, 1.1102230246251565e-16)"
      ]
     },
     "execution_count": 224,
     "metadata": {},
     "output_type": "execute_result"
    }
   ],
   "source": [
    "criterion = (coef_det/(3-1))/((1 - coef_det)/(len(X) - 3))\n",
    "p_value = 1 - stats.f.cdf(criterion, 3 - 1, len(X) - 3)\n",
    "criterion, p_value"
   ]
  },
  {
   "cell_type": "code",
   "execution_count": null,
   "metadata": {},
   "outputs": [],
   "source": []
  }
 ],
 "metadata": {
  "kernelspec": {
   "display_name": "Python 3",
   "language": "python",
   "name": "python3"
  },
  "language_info": {
   "codemirror_mode": {
    "name": "ipython",
    "version": 3
   },
   "file_extension": ".py",
   "mimetype": "text/x-python",
   "name": "python",
   "nbconvert_exporter": "python",
   "pygments_lexer": "ipython3",
   "version": "3.6.8"
  }
 },
 "nbformat": 4,
 "nbformat_minor": 2
}

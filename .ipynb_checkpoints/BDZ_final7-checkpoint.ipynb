{
 "cells": [
  {
   "cell_type": "code",
   "execution_count": 1,
   "metadata": {
    "scrolled": true
   },
   "outputs": [
    {
     "name": "stdout",
     "output_type": "stream",
     "text": [
      "         A1                            A2  A3   A4   A5   A6   A7   A8 A9  \\\n",
      "0      1061     Alaska Pacific University  AK  IIB  454  382  362  382  N   \n",
      "1      1063         Univ.Alaska-Fairbanks  AK    I  686  560  432  508  Y   \n",
      "2      1065         Univ.Alaska-Southeast  AK  IIA  533  494  329  415  N   \n",
      "3     11462         Univ.Alaska-Anchorage  AK  IIA  612  507  414  498  Y   \n",
      "4      1002     Alabama Agri.&Mech. Univ.  AL  IIA  442  369  310  350  N   \n",
      "5      1004      University of Montevallo  AL  IIA  441  385  310  388  N   \n",
      "6      1008          Athens State College  AL  IIB  466  394  351  396  N   \n",
      "7      1009       Auburn University- Main  AL    I  580  437  374  455  Y   \n",
      "8      1012   Birmingham Southern College  AL  IIB  498  379  322  401  N   \n",
      "9      1016        Univ. of North Alabama  AL  IIB  506  412  359  411  N   \n",
      "10     1019            Huntingdon College  AL  IIB  339  303  287  301  N   \n",
      "11     1020      Jacksonville State Univ.  AL  IIA  461  389  338  386  N   \n",
      "12     1024         Livingston University  AL  IIB  360  304  258  300  N   \n",
      "13     1029          University of Mobile  AL  IIB  354  321  277  291  N   \n",
      "14     1033               Oakwood College  AL  IIB  301  290  283  290  N   \n",
      "15     1036            Samford University  AL  IIA  565  425  363  449  Y   \n",
      "16     1041           Spring Hill College  AL  IIB  431  352  311  373  N   \n",
      "17     1044              Stillman College  AL  IIB  321  288  251  272  N   \n",
      "18     1047    Troy State University-Main  AL  IIA  462  385  322  350  N   \n",
      "19     1050           Tuskegee University  AL  IIA  410  352  306  327  N   \n",
      "20     1051         University of Alabama  AL    I  605  447  382  463  Y   \n",
      "21     1052   Univ. Alabama at Birmingham  AL    I  633  445  366  461  Y   \n",
      "22     1055   Univ. Alabama in Huntsville  AL  IIA  636  443  375  451  Y   \n",
      "23     1057   University of South Alabama  AL  IIA  542  426  370  418  N   \n",
      "24     8310    Auburn Univ. at Montgomery  AL  IIA  519  422  343  403  N   \n",
      "25     1085      Univ. Ark. at Monticello  AR  IIB  453  363  330  349  N   \n",
      "26     1086  Univ. Arkansas at Pine Bluff  AR  IIB  406  366  332  335  N   \n",
      "27     1089      Arkansas Tech University  AR  IIB  439  381  337  374  N   \n",
      "28     1090     Arkansas State Univ.-Main  AR  IIA  520  433  342  398  N   \n",
      "29     1092     Univ. of Central Arkansas  AR  IIA  521  416  339  395  N   \n",
      "...     ...                           ...  ..  ...  ...  ...  ...  ... ..   \n",
      "1043   3895       Univ. Wisconsin-Madison  WI    I  666  498  439  573  Y   \n",
      "1044   3896     Univ. Wisconsin-Milwaukee  WI    I  604  465  421  495  Y   \n",
      "1045   3899     Univ. Wisconsin-Green Bay  WI  IIA  498  417  356  419  N   \n",
      "1046   3911               Viterbo College  WI  IIB  448  366  316  344  N   \n",
      "1047   3915         Univ. Wisconsin-Stout  WI  IIA  502  394  349  412  N   \n",
      "1048   3917    Univ. Wisconsin-Eau Claire  WI  IIA  489  410  372  428  N   \n",
      "1049   3919     Univ. Wisconsin-La Crosse  WI  IIA  511  424  384  430  Y   \n",
      "1050   3921   Univ. Wisconsin-Platteville  WI  IIA  517  417  357  437  Y   \n",
      "1051   3923   Univ. Wisconsin-River Falls  WI  IIA  485  399  340  420  N   \n",
      "1052   3924  Univ. Wisconsin-Stevens Pnt.  WI  IIA  516  423  353  437  Y   \n",
      "1053   3925      Univ. Wisconsin-Superior  WI  IIA  501  410  348  432  Y   \n",
      "1054   3926    Univ. Wisconsin-Whitewater  WI  IIA  525  434  368  432  Y   \n",
      "1055   5015      Univ. Wisconsin-Parkside  WI  IIA  535  427  391  434  Y   \n",
      "1056   9630       Univ. Wisconsin-Oshkosh  WI  IIA  541  435  374  439  Y   \n",
      "1057   3806     Alderson Broaddus College  WV  IIB  385  315  272  299  N   \n",
      "1058   3808               Bethany College  WV  IIB  397  348  286  340  N   \n",
      "1059   3809       Bluefield State College  WV  IIB  409  315  268  310  N   \n",
      "1060   3810               Concord College  WV  IIB  400  342  284  325  N   \n",
      "1061   3811      Davis and Elkins College  WV  IIB  373  305  259  299  N   \n",
      "1062   3812        Fairmont State College  WV  IIB  432  362  317  361  N   \n",
      "1063   3813       Glenville State College  WV  IIB  396  325  274  298  N   \n",
      "1064   3815           Marshall University  WV  IIA  477  390  309  390  N   \n",
      "1065   3818      University of Charleston  WV  IIB  385  347  324  333  N   \n",
      "1066   3820       Salem-Teikyo University  WV  IIB  422  353  305  306  N   \n",
      "1067   3823    West Liberty State College  WV  IIB  417  327  235  337  N   \n",
      "1068   3825  West Virginia Inst. of Tech.  WV  IIB  408  340  297  349  N   \n",
      "1069   3827      West Virginia University  WV    I  535  431  361  439  Y   \n",
      "1070   3830  West Virginia Wesleyan Coll.  WV  IIB  441  383  339  383  N   \n",
      "1071   3831       Wheeling Jesuit College  WV  IIB  403  348  282  315  N   \n",
      "1072   3932         University of Wyoming  WY    I  539  410  374  445  Y   \n",
      "\n",
      "      A10  A11  A12  A13 A14  A15  A16  A17  A18   A19 A20  \n",
      "0     567  485  471  487   N    6   11    9    4    32   N  \n",
      "1     914  753  572  677   Y   74  125  118   40   404   Y  \n",
      "2     716  663  442  559   Y    9   26   20    9    70   N  \n",
      "3     825  681  557  670   Y  115  124  101   21   392   Y  \n",
      "4     530  444  376  423   N   59   77  102   24   262   N  \n",
      "5     542  473  383  477   N   57   33   35    2   127   N  \n",
      "6     558  476  427  478   N   20   18   30    0    68   N  \n",
      "7     692  527  451  546   Y  366  354  301   66  1109   Y  \n",
      "8     655  501  404  523   N   34   25   27    3    89   N  \n",
      "9     607  508  445  503   N   67   40   66   27   200   N  \n",
      "10    421  371  347  366   N    8   15   19    2    44   N  \n",
      "11    585  496  436  493   N  106   42   66   58   272   N  \n",
      "12    433  369  313  363   N   27   25   33    4    89   N  \n",
      "13    436  401  346  363   N   17   19   31   19    86   N  \n",
      "14    375  363  355  362   N   18   28   28    3    77   N  \n",
      "15    710  556  476  578   Y   83   46   77    9   215   N  \n",
      "16    518  425  374  449   N   23   17   14    1    55   N  \n",
      "17    388  354  312  335   N   13   18   18   10    59   N  \n",
      "18    560  467  392  426   N   25   59  100   19   204   N  \n",
      "19    487  415  362  387   N   57   65   85   45   254   N  \n",
      "20    746  563  483  580   Y  267  206  206   76   762   Y  \n",
      "21    786  569  475  587   Y  106  163  107   19   406   Y  \n",
      "22    771  540  455  548   Y   72   87   98    7   282   Y  \n",
      "23    645  514  450  504   N  119  103  142   64   434   Y  \n",
      "24    621  507  411  483   N   56   54   63   28   201   N  \n",
      "25    561  448  402  428   N   23   24   48   22   117   N  \n",
      "26    505  457  415  419   N   40   33   71   46   192   N  \n",
      "27    550  479  427  471   N   44   71   52   13   180   N  \n",
      "28    646  541  431  498   N  103   87  141   63   394   Y  \n",
      "29    632  507  416  482   N   93   89   82   76   340   Y  \n",
      "...   ...  ...  ...  ...  ..  ...  ...  ...  ...   ...  ..  \n",
      "1043  831  628  566  721   Y  918  287  360   30  1641   Y  \n",
      "1044  761  598  544  632   Y  267  306  192    2   797   Y  \n",
      "1045  638  541  468  543   Y   52   55   35    3   157   N  \n",
      "1046  553  441  395  423   N   10   23   28   10    71   N  \n",
      "1047  642  513  460  536   N  121   71   69    6   300   Y  \n",
      "1048  627  533  487  555   Y  167  126  112   12   417   Y  \n",
      "1049  653  549  502  556   Y  128  103   90    8   369   Y  \n",
      "1050  661  542  470  565   Y   94   57   58    0   221   N  \n",
      "1051  622  519  449  545   Y  112   57   57    2   238   N  \n",
      "1052  658  548  464  565   Y  138  104   84    5   344   Y  \n",
      "1053  642  533  459  561   Y   42   26   19    5    97   N  \n",
      "1054  670  562  483  559   Y  127  103   99    5   379   Y  \n",
      "1055  680  553  510  561   Y   49   58   37    1   163   N  \n",
      "1056  688  562  490  567   Y  104  108  130    4   356   Y  \n",
      "1057  507  402  349  386   N    9   18   25   11    63   N  \n",
      "1058  501  485  358  433   N   21    6   23    0    50   N  \n",
      "1059  483  388  341  384   N   23   22   34   12    91   N  \n",
      "1060  505  438  372  420   N   29   18   35   12    94   N  \n",
      "1061  480  388  339  386   N   14   10   14    7    46   N  \n",
      "1062  526  446  394  445   N   57   44   45   27   173   N  \n",
      "1063  484  405  341  371   N   12   17   28   16    75   N  \n",
      "1064  576  478  384  477   N  144  121  102   30   397   Y  \n",
      "1065  484  440  413  423   N   10   21   21   15    67   N  \n",
      "1066  509  429  368  369   N    6   11   17   16    50   N  \n",
      "1067  513  404  294  417   N   42   62   18    7   130   N  \n",
      "1068  502  419  369  431   N   54   43   29   11   137   N  \n",
      "1069  642  521  438  529   N  335  237  272   22   895   Y  \n",
      "1070  572  494  434  495   N   25   22   24    3    74   N  \n",
      "1071  486  416  348  381   N    8   20   25   12    65   N  \n",
      "1072  658  507  464  549   Y  241  154  164    2   591   Y  \n",
      "\n",
      "[1073 rows x 20 columns]\n"
     ]
    }
   ],
   "source": [
    "import pandas as pd   # pip install pandas\n",
    "\n",
    "df = pd.read_excel(r'C:\\Users\\happy\\Desktop\\МИФИ\\Матстат\\Лабы\\БДЗдата\\data_matstat_K5.xls', sheet_name='A - aaup')\n",
    "print(df)"
   ]
  },
  {
   "cell_type": "code",
   "execution_count": 2,
   "metadata": {},
   "outputs": [
    {
     "data": {
      "text/plain": [
       "576"
      ]
     },
     "execution_count": 2,
     "metadata": {},
     "output_type": "execute_result"
    }
   ],
   "source": [
    "max(df['A7'])"
   ]
  },
  {
   "cell_type": "code",
   "execution_count": 3,
   "metadata": {},
   "outputs": [],
   "source": [
    "# 1. Описательные статистики"
   ]
  },
  {
   "cell_type": "code",
   "execution_count": 4,
   "metadata": {},
   "outputs": [],
   "source": [
    "# 1.1. Выборочные характеристики"
   ]
  },
  {
   "cell_type": "code",
   "execution_count": 5,
   "metadata": {},
   "outputs": [],
   "source": [
    "from scipy import stats\n",
    "from scipy.stats import norm\n",
    "import numpy as np"
   ]
  },
  {
   "cell_type": "code",
   "execution_count": 6,
   "metadata": {},
   "outputs": [
    {
     "name": "stdout",
     "output_type": "stream",
     "text": [
      "Выборка 1:  Среднее 420.04193849021436, Оценка дисперсии 4953.143627929115, с.к.о 70.37857364233176, Коэффициент ассиметрии 0.3481481718850067, Эксцесс 0.17581685259992685\n",
      "Выборка 2:  Среднее 355.08853681267476, Оценка дисперсии 2901.5830279615984, с.к.о 53.86634411171412, Коэффициент ассиметрии 0.44737126211025235, Эксцесс 0.4319131904766307\n",
      "Выборка 3:  Среднее 428.0326188257223, Оценка дисперсии 8209.962589320685, с.к.о 90.60884388027851, Коэффициент ассиметрии 0.8191411695756438, Эксцесс 0.9757478446505425\n"
     ]
    }
   ],
   "source": [
    "print(\"Выборка 1:  Среднее {}, Оценка дисперсии {}, с.к.о {}, Коэффициент ассиметрии {}, Эксцесс {}\".format(np.mean(df['A6']),np.var(df['A6']),np.std(df['A6']),stats.skew(df['A6']),stats.kurtosis(df['A6'])))\n",
    "print(\"Выборка 2:  Среднее {}, Оценка дисперсии {}, с.к.о {}, Коэффициент ассиметрии {}, Эксцесс {}\".format(np.mean(df['A7']),np.var(df['A7']),np.std(df['A7']),stats.skew(df['A7']),stats.kurtosis(df['A7'])))\n",
    "print(\"Выборка 3:  Среднее {}, Оценка дисперсии {}, с.к.о {}, Коэффициент ассиметрии {}, Эксцесс {}\".format(np.mean(df['A8']),np.var(df['A8']),np.std(df['A8']),stats.skew(df['A8']),stats.kurtosis(df['A8'])))"
   ]
  },
  {
   "cell_type": "code",
   "execution_count": 7,
   "metadata": {},
   "outputs": [],
   "source": [
    "# 1.2. Группировка и гистограммы частот"
   ]
  },
  {
   "cell_type": "code",
   "execution_count": 8,
   "metadata": {},
   "outputs": [
    {
     "name": "stdout",
     "output_type": "stream",
     "text": [
      "Число групп 10, Ширина интервалов 49.9\n",
      "[[1, 234.0, 283.9, 17, 0.0158, 0.0224], [2, 283.9, 333.8, 97, 0.0904, 0.0837], [3, 333.8, 383.7, 222, 0.2069, 0.1926], [4, 383.7, 433.6, 324, 0.302, 0.2736], [5, 433.6, 483.5, 220, 0.205, 0.24], [6, 483.5, 533.4, 119, 0.1109, 0.13], [7, 533.4, 583.3, 60, 0.0559, 0.0434], [8, 583.3, 633.2, 10, 0.0093, 0.009], [9, 633.2, 683.1, 3, 0.0028, 0.0011], [10, 683.1, 733.0, 1, 0.0009, 0.0001]]\n"
     ]
    }
   ],
   "source": [
    "alpha = [0.01, 0.05, 0.1]\n",
    "def freq(x, local_begin, local_end):\n",
    "    return len(list(filter(lambda t: t >= local_begin and t < local_end, list(x))))\n",
    "\n",
    "def print_4_1(first):\n",
    "    np_first = np.array(df[first])\n",
    "    begin = min(np_first)\n",
    "    end = max(np_first) \n",
    "    std = np.std(np_first)\n",
    "    mean = np.mean(np_first)\n",
    "    n = len(np_first)\n",
    "    k = int(1 + 1.3*np.log(len(np_first)))\n",
    "    h =  (end - begin)/ k\n",
    "    print(\"Число групп {}, Ширина интервалов {}\".format(k,h))\n",
    "    rows = []\n",
    "    bins = []\n",
    "    for i in range(1, k + 1):\n",
    "        local_begin = begin + (i-1)*h\n",
    "        bins.append(local_begin)\n",
    "        local_end   = begin + i*h\n",
    "        probability = stats.norm.cdf((local_end - mean) / std) - stats.norm.cdf((local_begin - mean) / std)\n",
    "        freq = len(list(filter(lambda t: t >= local_begin and t <= local_end, list(np_first))))\n",
    "        rows.append([i, round(local_begin, 4), round(local_end, 4), freq, round(freq/n, 4), round(probability, 4)])\n",
    "    bins.append(local_end)\n",
    "    print(rows)\n",
    "    return bins\n",
    "bins = print_4_1('A6')"
   ]
  },
  {
   "cell_type": "code",
   "execution_count": 9,
   "metadata": {},
   "outputs": [],
   "source": [
    "%matplotlib inline\n",
    "import matplotlib.pyplot as plt"
   ]
  },
  {
   "cell_type": "code",
   "execution_count": 10,
   "metadata": {},
   "outputs": [
    {
     "name": "stdout",
     "output_type": "stream",
     "text": [
      "[ 17.  97. 222. 324. 220. 119.  60.  10.   3.   1.]\n"
     ]
    },
    {
     "data": {
      "text/plain": [
       "[<matplotlib.lines.Line2D at 0x2126e5166a0>]"
      ]
     },
     "execution_count": 10,
     "metadata": {},
     "output_type": "execute_result"
    },
    {
     "data": {
      "image/png": "[encoded data removed]",
      "text/plain": [
       "<Figure size 432x288 with 1 Axes>"
      ]
     },
     "metadata": {
      "needs_background": "light"
     },
     "output_type": "display_data"
    }
   ],
   "source": [
    "fig, ax = plt.subplots()\n",
    "\n",
    "# гистограмма\n",
    "n, bins, patches = ax.hist(df['A6'], 10)\n",
    "print(n)\n",
    "poligon = []\n",
    "for i in range(len(bins)-1):\n",
    "    poligon.append((bins[i+1] + bins[i])/2)\n",
    "ax.plot(poligon, n)"
   ]
  },
  {
   "cell_type": "code",
   "execution_count": 11,
   "metadata": {},
   "outputs": [
    {
     "name": "stdout",
     "output_type": "stream",
     "text": [
      "[3.17503600e-04 1.81163819e-03 4.14622348e-03 6.05124508e-03\n",
      " 4.10887012e-03 2.22252520e-03 1.12060094e-03 1.86766823e-04\n",
      " 5.60300470e-05 1.86766823e-05]\n",
      "1.0\n"
     ]
    },
    {
     "data": {
      "image/png": "[encoded data removed]",
      "text/plain": [
       "<Figure size 432x288 with 1 Axes>"
      ]
     },
     "metadata": {
      "needs_background": "light"
     },
     "output_type": "display_data"
    }
   ],
   "source": [
    "fig, ax = plt.subplots()\n",
    "\n",
    "# гистограмма\n",
    "n, bins, patches = ax.hist(df['A6'], 10, density=True)\n",
    "poligon = []\n",
    "for i in range(len(bins)-1):\n",
    "    poligon.append((bins[i+1] + bins[i])/2)\n",
    "ax.plot(poligon, n)\n",
    "print(n)\n",
    "sum0 = 0\n",
    "for i in range(len(n)):\n",
    "    sum0 += n[i]*49.9\n",
    "print(sum0)"
   ]
  },
  {
   "cell_type": "code",
   "execution_count": 12,
   "metadata": {},
   "outputs": [
    {
     "data": {
      "text/plain": [
       "[<matplotlib.lines.Line2D at 0x2126f596b00>]"
      ]
     },
     "execution_count": 12,
     "metadata": {},
     "output_type": "execute_result"
    },
    {
     "data": {
      "image/png": "[encoded data removed]",
      "text/plain": [
       "<Figure size 432x288 with 1 Axes>"
      ]
     },
     "metadata": {
      "needs_background": "light"
     },
     "output_type": "display_data"
    }
   ],
   "source": [
    "fig, ax = plt.subplots()\n",
    "\n",
    "# гистограмма\n",
    "n, bins, patches = ax.hist(df['A6'], 10, cumulative=True)\n",
    "poligon = []\n",
    "for i in range(len(bins)-1):\n",
    "    poligon.append((bins[i+1] + bins[i])/2)\n",
    "ax.plot(poligon, n)"
   ]
  },
  {
   "cell_type": "code",
   "execution_count": 13,
   "metadata": {},
   "outputs": [
    {
     "data": {
      "text/plain": [
       "[<matplotlib.lines.Line2D at 0x2126f616710>]"
      ]
     },
     "execution_count": 13,
     "metadata": {},
     "output_type": "execute_result"
    },
    {
     "data": {
      "image/png": "[encoded data removed]",
      "text/plain": [
       "<Figure size 432x288 with 1 Axes>"
      ]
     },
     "metadata": {
      "needs_background": "light"
     },
     "output_type": "display_data"
    }
   ],
   "source": [
    "fig, ax = plt.subplots()\n",
    "\n",
    "# гистограмма\n",
    "n, bins, patches = ax.hist(df['A6'], 10, density=True, cumulative=True)\n",
    "poligon = []\n",
    "for i in range(len(bins)-1):\n",
    "    poligon.append((bins[i+1] + bins[i])/2)\n",
    "ax.plot(poligon, n)"
   ]
  },
  {
   "cell_type": "code",
   "execution_count": 14,
   "metadata": {},
   "outputs": [
    {
     "data": {
      "image/png": "[encoded data removed]",
      "text/plain": [
       "<Figure size 432x288 with 1 Axes>"
      ]
     },
     "metadata": {
      "needs_background": "light"
     },
     "output_type": "display_data"
    }
   ],
   "source": [
    "import numpy as np\n",
    "from statsmodels.distributions.empirical_distribution import ECDF\n",
    "ecdf1 = ECDF(df['A6'])\n",
    "ecdf1(df['A6'])\n",
    "fig, ax = plt.subplots()\n",
    "ax.plot(sorted(df['A6']),sorted(ecdf1(df['A6'])), lw = 1, color = 'r', alpha = 1)\n",
    "ax.set_title(\"Эмпирическая функция распределения\")\n",
    "ax.set_xlabel(\"x\")\n",
    "ax.set_ylabel(\"F(x)\")\n",
    "fig.tight_layout()\n",
    "plt.show()"
   ]
  },
  {
   "cell_type": "code",
   "execution_count": 15,
   "metadata": {},
   "outputs": [],
   "source": [
    "# 2. Интервальные оценки"
   ]
  },
  {
   "cell_type": "code",
   "execution_count": 16,
   "metadata": {},
   "outputs": [],
   "source": [
    "# 2.1. Доверительные интервалы для мат. ожидания"
   ]
  },
  {
   "cell_type": "code",
   "execution_count": 17,
   "metadata": {},
   "outputs": [],
   "source": [
    "def dov_interval_m_without_D(alpha, vib):\n",
    "    lower_bound = np.mean(vib) - (np.std(vib, ddof=1) * stats.t.ppf(1-alpha/2, len(vib)-1))/(np.power(len(vib), 1/2))\n",
    "    upper_bound = np.mean(vib) + (np.std(vib, ddof=1) * stats.t.ppf(1-alpha/2, len(vib)-1))/(np.power(len(vib), 1/2))\n",
    "    return lower_bound, upper_bound "
   ]
  },
  {
   "cell_type": "code",
   "execution_count": 18,
   "metadata": {},
   "outputs": [
    {
     "name": "stdout",
     "output_type": "stream",
     "text": [
      "(414.49524677665914, 425.5886302037696)\n",
      "(415.82417934151255, 424.2596976389162)\n",
      "(416.50322182330416, 423.58065515712457)\n"
     ]
    }
   ],
   "source": [
    "print(dov_interval_m_without_D(0.01, df['A6']))\n",
    "print(dov_interval_m_without_D(0.05, df['A6']))\n",
    "print(dov_interval_m_without_D(0.1, df['A6']))"
   ]
  },
  {
   "cell_type": "code",
   "execution_count": 19,
   "metadata": {},
   "outputs": [],
   "source": [
    "# 2.2. Доверительные интервалы для дисперсии"
   ]
  },
  {
   "cell_type": "code",
   "execution_count": 20,
   "metadata": {},
   "outputs": [],
   "source": [
    "def dov_interval_D_without_m(alpha, vib):\n",
    "    lower_bound = ((len(vib) - 1) * np.power(np.std(vib, ddof=1), 2))/(stats.chi2.ppf(1-alpha/2, len(vib)-1))\n",
    "    upper_bound = ((len(vib) - 1) * np.power(np.std(vib, ddof=1), 2))/(stats.chi2.ppf(alpha/2, len(vib)-1))\n",
    "    return lower_bound, upper_bound "
   ]
  },
  {
   "cell_type": "code",
   "execution_count": 21,
   "metadata": {},
   "outputs": [
    {
     "name": "stdout",
     "output_type": "stream",
     "text": [
      "(4447.380960380972, 5556.4941288958635)\n",
      "(4563.435210857338, 5405.777996181661)\n",
      "(4624.384798423496, 5330.759994544361)\n"
     ]
    }
   ],
   "source": [
    "print(dov_interval_D_without_m(0.01, df['A6']))\n",
    "print(dov_interval_D_without_m(0.05, df['A6']))\n",
    "print(dov_interval_D_without_m(0.1, df['A6']))"
   ]
  },
  {
   "cell_type": "code",
   "execution_count": 22,
   "metadata": {},
   "outputs": [],
   "source": [
    "# 2.3. Доверительные интервалы для разности мат. ожиданий"
   ]
  },
  {
   "cell_type": "code",
   "execution_count": 23,
   "metadata": {},
   "outputs": [],
   "source": [
    "def dov_interval_m1_minus_m2(alpha, vib1, vib2):\n",
    "    n1 = len(vib1)\n",
    "    n2 = len(vib2)\n",
    "    X1 = np.mean(vib1)\n",
    "    X2 = np.mean(vib2)\n",
    "    S1 = np.std(vib1)\n",
    "    S2 = np.std(vib2)\n",
    "    k = (np.power((S1**2/n1)+(S2**2/n2), 2))/((((S1**2/n1)**2)/(n1-1)) + (((S2**2/n2)**2)/(n2-1)))\n",
    "    lower_bound = (X1 - X2) - (np.power((S1**2/n1)+(S2**2/n2), 1/2)) * (stats.t.ppf(1-alpha/2, k)) \n",
    "    upper_bound = (X1 - X2) + (np.power((S1**2/n1)+(S2**2/n2), 1/2)) * (stats.t.ppf(1-alpha/2, k)) \n",
    "    return lower_bound, upper_bound "
   ]
  },
  {
   "cell_type": "code",
   "execution_count": 24,
   "metadata": {},
   "outputs": [
    {
     "name": "stdout",
     "output_type": "stream",
     "text": [
      "(57.97757080793266, 71.92923254714654)\n",
      "(59.6472978375815, 70.2595055174977)\n",
      "(60.50100927095243, 69.40579408412678)\n"
     ]
    }
   ],
   "source": [
    "print(dov_interval_m1_minus_m2(0.01, df['A6'], df['A7']))\n",
    "print(dov_interval_m1_minus_m2(0.05, df['A6'], df['A7']))\n",
    "print(dov_interval_m1_minus_m2(0.1, df['A6'], df['A7']))"
   ]
  },
  {
   "cell_type": "code",
   "execution_count": 25,
   "metadata": {},
   "outputs": [],
   "source": [
    "# 2.4. Доверительные интервалы для отношения дисперсий"
   ]
  },
  {
   "cell_type": "code",
   "execution_count": 26,
   "metadata": {},
   "outputs": [],
   "source": [
    "def dov_interval_otnoshenie_D(alpha, vib1, vib2):\n",
    "    lower_bound = (np.power(np.std(vib1, ddof=1), 2)/np.power(np.std(vib2, ddof=1), 2)) * stats.f.ppf(alpha, len(vib2)-1, len(vib1)-1)\n",
    "    upper_bound = (np.power(np.std(vib1, ddof=1), 2)/np.power(np.std(vib2, ddof=1), 2)) * stats.f.ppf(1-alpha/2, len(vib2)-1, len(vib1)-1)\n",
    "    return lower_bound, upper_bound "
   ]
  },
  {
   "cell_type": "code",
   "execution_count": 27,
   "metadata": {},
   "outputs": [
    {
     "name": "stdout",
     "output_type": "stream",
     "text": [
      "(1.480779614071244, 1.9981619064706366)\n",
      "(1.5437985760762851, 1.9242832156651444)\n",
      "(1.5784676144464402, 1.8875618993974836)\n"
     ]
    }
   ],
   "source": [
    "print(dov_interval_otnoshenie_D(0.01, df['A6'], df['A7']))\n",
    "print(dov_interval_otnoshenie_D(0.05, df['A6'], df['A7']))\n",
    "print(dov_interval_otnoshenie_D(0.1, df['A6'], df['A7']))"
   ]
  },
  {
   "cell_type": "code",
   "execution_count": 28,
   "metadata": {},
   "outputs": [],
   "source": [
    "# 3. Проверка статистических гипотез о математических ожиданиях и дисперсиях"
   ]
  },
  {
   "cell_type": "code",
   "execution_count": 29,
   "metadata": {},
   "outputs": [],
   "source": [
    "# 3.1. Проверка статистических гипотез о математических ожиданиях"
   ]
  },
  {
   "cell_type": "code",
   "execution_count": 30,
   "metadata": {},
   "outputs": [
    {
     "name": "stdout",
     "output_type": "stream",
     "text": [
      "1. выбор-е зн-е: 0.019510559498910084 \n",
      "2. выбор-е зн-е: 2.3456028197572425 \n",
      "3. выбор-е зн-е: -4.632673961017755 \n",
      "1. p = 0.9844374406731771\n",
      "2. p = 0.005031432810853831\n",
      "3. p = 4.052250802075712e-06\n"
     ]
    }
   ],
   "source": [
    "def t_test_Z(vib, m0):\n",
    "    return (np.mean(vib) - m0) * np.sqrt(len(vib)) / np.std(vib,ddof=1)\n",
    "\n",
    "print(\"1. выбор-е зн-е: {} \".format(t_test_Z(df['A6'], m0=420)))\n",
    "print(\"2. выбор-е зн-е: {} \".format(t_test_Z(df['A6'], m0=415)))\n",
    "print(\"3. выбор-е зн-е: {} \".format(t_test_Z(df['A6'], m0=430)))\n",
    "print(\"1. p = {}\".format(2*min(stats.t.cdf(t_test_Z(df['A6'], m0=420), len(df['A6'])), 1-stats.t.cdf(t_test_Z(df['A6'], m0=420), len(df['A6'])))))\n",
    "print(\"2. p = {}\".format(2*min(stats.t.cdf(t_test_Z(df['A6'], m0=414), len(df['A6'])), 1-stats.t.cdf(t_test_Z(df['A6'], m0=414), len(df['A6'])))))\n",
    "print(\"3. p = {}\".format(2*min(stats.t.cdf(t_test_Z(df['A6'], m0=430), len(df['A6'])), 1-stats.t.cdf(t_test_Z(df['A6'], m0=430), len(df['A6'])))))\n"
   ]
  },
  {
   "cell_type": "code",
   "execution_count": 31,
   "metadata": {},
   "outputs": [],
   "source": [
    "# 3.2. Проверка статистических гипотез о дисперсиях"
   ]
  },
  {
   "cell_type": "code",
   "execution_count": 32,
   "metadata": {},
   "outputs": [
    {
     "name": "stdout",
     "output_type": "stream",
     "text": [
      "1. выбор-е зн-е: 1084.637369952641 \n",
      "2. выбор-е зн-е: 1220.0925419577457 \n",
      "3. выбор-е зн-е: 830.4254863699907 \n",
      "1. p = 0.7746906092181141\n",
      "2. p = 0.002097208314739696\n",
      "4. p = 1.552116959315864e-08\n"
     ]
    }
   ],
   "source": [
    "def chi2_test_wo_m_Z(vib, sigma):\n",
    "    sum0 = 0\n",
    "    for i in vib:\n",
    "        sum0 += np.power((i-np.mean(vib)), 2)\n",
    "    s0 = sum0/(len(vib)-1)\n",
    "    return (len(vib)-1)*s0/np.power(sigma, 2)\n",
    "\n",
    "print(\"1. выбор-е зн-е: {} \".format(chi2_test_wo_m_Z(df['A6'], sigma=70)))\n",
    "print(\"2. выбор-е зн-е: {} \".format(chi2_test_wo_m_Z(df['A6'], sigma=66)))\n",
    "print(\"3. выбор-е зн-е: {} \".format(chi2_test_wo_m_Z(df['A6'], sigma=80)))\n",
    "print(\"1. p = {}\".format(2*min(stats.chi2.cdf(chi2_test_wo_m_Z(df['A6'], sigma=70), len(df['A6'])-1), 1-stats.chi2.cdf(chi2_test_wo_m_Z(df['A6'], sigma=70), len(df['A6'])-1))))\n",
    "print(\"2. p = {}\".format(2*min(stats.chi2.cdf(chi2_test_wo_m_Z(df['A6'], sigma=66), len(df['A6'])-1), 1-stats.chi2.cdf(chi2_test_wo_m_Z(df['A6'], sigma=66), len(df['A6'])-1))))\n",
    "print(\"4. p = {}\".format(2*min(stats.chi2.cdf(chi2_test_wo_m_Z(df['A6'], sigma=80), len(df['A6'])-1), 1-stats.chi2.cdf(chi2_test_wo_m_Z(df['A6'], sigma=80), len(df['A6'])-1))))"
   ]
  },
  {
   "cell_type": "code",
   "execution_count": 33,
   "metadata": {},
   "outputs": [],
   "source": [
    "# 3.3. Проверка статистических гипотез о равенстве математических ожиданий"
   ]
  },
  {
   "cell_type": "code",
   "execution_count": 34,
   "metadata": {},
   "outputs": [],
   "source": [
    "def t_test_m1_equal_m2(vib1, vib2):\n",
    "    n1 = len(vib1)\n",
    "    n2 = len(vib2)\n",
    "    X1 = np.mean(vib1)\n",
    "    X2 = np.mean(vib2)\n",
    "    S1 = np.std(vib1)\n",
    "    S2 = np.std(vib2)\n",
    "    k = (np.power((S1**2/n1)+(S2**2/n2), 2))/((((S1**2/n1)**2)/(n1-1)) + (((S2**2/n2)**2)/(n2-1)))\n",
    "    statistic = (X1-X2)/(np.power((S1**2/n1)+(S2**2/n2), 1/2))\n",
    "    p_value = 2*min(1 - stats.t.cdf(statistic, k), stats.t.cdf(statistic, k))\n",
    "    return statistic, p_value"
   ]
  },
  {
   "cell_type": "code",
   "execution_count": 35,
   "metadata": {},
   "outputs": [
    {
     "data": {
      "text/plain": [
       "(24.006907733804898, 0.0)"
      ]
     },
     "execution_count": 35,
     "metadata": {},
     "output_type": "execute_result"
    }
   ],
   "source": [
    "t_test_m1_equal_m2(df['A6'],df['A7'])"
   ]
  },
  {
   "cell_type": "code",
   "execution_count": null,
   "metadata": {},
   "outputs": [],
   "source": []
  },
  {
   "cell_type": "code",
   "execution_count": 36,
   "metadata": {},
   "outputs": [],
   "source": [
    "# 3.4. Проверка статистических гипотез о равенстве дисперсий"
   ]
  },
  {
   "cell_type": "code",
   "execution_count": 37,
   "metadata": {},
   "outputs": [
    {
     "name": "stdout",
     "output_type": "stream",
     "text": [
      "1. выбор-е зн-е: 1.707048731743088 \n",
      "1. p = 1.1102230246251565e-16\n"
     ]
    }
   ],
   "source": [
    "def two_smpl_f_test_wo_m_Z(smpl1, smpl2):\n",
    "    sum01 = 0\n",
    "    sum02 = 0\n",
    "    for i in smpl1:\n",
    "        sum01 += np.power((i-np.mean(smpl1)), 2)\n",
    "    for i in smpl2:\n",
    "        sum02 += np.power((i-np.mean(smpl2)), 2)   \n",
    "    s1 = sum01/(len(smpl1)-1)\n",
    "    s2 = sum02/(len(smpl2)-1)\n",
    "    return s1/s2\n",
    "\n",
    "print(\"1. выбор-е зн-е: {} \".format(two_smpl_f_test_wo_m_Z(df['A6'], df['A7'])))\n",
    "print(\"1. p = {}\".format(1-stats.f.cdf(two_smpl_f_test_wo_m_Z(df['A6'], df['A7']), len(df['A6'])-1, len(df['A7'])-1)))"
   ]
  },
  {
   "cell_type": "code",
   "execution_count": 38,
   "metadata": {},
   "outputs": [],
   "source": [
    "# 4. Критерии согласия"
   ]
  },
  {
   "cell_type": "code",
   "execution_count": 39,
   "metadata": {},
   "outputs": [],
   "source": [
    "# 4.1. Критерий хи-квадрат"
   ]
  },
  {
   "cell_type": "code",
   "execution_count": 40,
   "metadata": {},
   "outputs": [],
   "source": [
    "def chisquare_test_norm(vib, n, bins): ######### НЕПРАВИЛЬНЫЙ РЕЗУЛЬТАТ\n",
    "    sum0 = 0\n",
    "    prob = []\n",
    "    i = 0\n",
    "    while i < len(bins)-1:\n",
    "        prob.append(stats.norm.cdf(bins[i+1], loc = np.mean(vib), scale = np.std(vib)) - stats.norm.cdf(bins[i], loc = np.mean(vib), scale = np.std(vib)))\n",
    "        i += 1\n",
    "    print(prob)\n",
    "    for i in range (len(n)):\n",
    "        sum0 += (np.power((n[i] - len(vib)*prob[i]),2))/(len(vib)*prob[i]) \n",
    "    return sum0"
   ]
  },
  {
   "cell_type": "code",
   "execution_count": 41,
   "metadata": {},
   "outputs": [
    {
     "data": {
      "text/plain": [
       "20.1306708841154"
      ]
     },
     "execution_count": 41,
     "metadata": {},
     "output_type": "execute_result"
    }
   ],
   "source": [
    "((17-1073*0.0224)**2)/(1073*0.0224) + ((97-1073*0.0837)**2)/(1073*0.0837) + ((222-1073*0.1926)**2)/(1073*0.1926) + ((324-1073*0.2736)**2)/(1073*0.2736) + ((220-1073*0.24)**2)/(1073*0.24) + ((119-1073*0.13)**2)/(1073*0.13) + ((60-1073*0.0434)**2)/(1073*0.0434) + ((14-1073*0.0102)**2)/(1073*0.0102)"
   ]
  },
  {
   "cell_type": "code",
   "execution_count": 42,
   "metadata": {},
   "outputs": [
    {
     "name": "stdout",
     "output_type": "stream",
     "text": [
      "[0.022427218093273325, 0.08368161719677755, 0.19258307523127594, 0.27358613849726143, 0.24000180185349063, 0.12999314459608802, 0.04344544239035286, 0.00895031659290313, 0.0011350649254424638, 8.847599910999371e-05]\n",
      "1. выбор-е зн-е: 30.520444859130983 \n",
      "1. p = 0.0011810933298804782\n"
     ]
    }
   ],
   "source": [
    "n, bins, patches = ax.hist(df['A6'], 10)\n",
    "print(\"1. выбор-е зн-е: {} \".format(chisquare_test_norm(df['A6'], n, bins)))\n",
    "print(\"1. p = {}\".format(1 - stats.chi2.cdf(20.1306708841154, 8-2-1)))"
   ]
  },
  {
   "cell_type": "code",
   "execution_count": 43,
   "metadata": {},
   "outputs": [
    {
     "name": "stdout",
     "output_type": "stream",
     "text": [
      "[0.022427218093273325, 0.08368161719677755, 0.19258307523127594, 0.27358613849726143, 0.24000180185349063, 0.12999314459608802, 0.04344544239035286, 0.00895031659290313, 0.0011350649254424638, 8.847599910999371e-05]\n",
      "1. выбор-е зн-е: 30.520444859130983 \n",
      "[0.022427218093273325, 0.08368161719677755, 0.19258307523127594, 0.27358613849726143, 0.24000180185349063, 0.12999314459608802, 0.04344544239035286, 0.00895031659290313, 0.0011350649254424638, 8.847599910999371e-05]\n",
      "1. p = 7.619724964103014e-05\n"
     ]
    }
   ],
   "source": [
    "n, bins, patches = ax.hist(df['A6'], 10)\n",
    "print(\"1. выбор-е зн-е: {} \".format(chisquare_test_norm(df['A6'], n, bins)))\n",
    "print(\"1. p = {}\".format(1 - stats.chi2.cdf(chisquare_test_norm(df['A6'], n, bins), 10-2-1)))"
   ]
  },
  {
   "cell_type": "code",
   "execution_count": 44,
   "metadata": {},
   "outputs": [
    {
     "data": {
      "image/png": "[encoded data removed]",
      "text/plain": [
       "<Figure size 432x288 with 1 Axes>"
      ]
     },
     "metadata": {
      "needs_background": "light"
     },
     "output_type": "display_data"
    }
   ],
   "source": [
    "\n",
    "fig, ax = plt.subplots()\n",
    "\n",
    "# гистограмма\n",
    "n, bins, patches = ax.hist(df['A6'], 10, density=True)\n",
    "\n",
    "# график\n",
    "x = np.linspace(stats.norm.ppf(0.01, np.mean(df['A6']), np.std(df['A6'])), stats.norm.ppf(0.99, np.mean(df['A6']), np.std(df['A6'])))\n",
    "ax.plot(x, stats.norm.pdf(x, np.mean(df['A6']), np.std(df['A6'])), lw=3, alpha=1)\n",
    "\n",
    "ax.set_title(\"Статистика критерия\")\n",
    "ax.set_ylabel(\"Плотность вероятности\")\n",
    "\n",
    "fig.tight_layout()\n",
    "plt.show()"
   ]
  },
  {
   "cell_type": "code",
   "execution_count": 45,
   "metadata": {},
   "outputs": [
    {
     "data": {
      "text/plain": [
       "KstestResult(statistic=0.046919922824760096, pvalue=0.017182569671219172)"
      ]
     },
     "execution_count": 45,
     "metadata": {},
     "output_type": "execute_result"
    }
   ],
   "source": [
    "stats.kstest(df['A6'],'norm',args = (np.mean(df['A6']),np.std(df['A6'])))"
   ]
  },
  {
   "cell_type": "code",
   "execution_count": 46,
   "metadata": {},
   "outputs": [
    {
     "data": {
      "image/png": "[encoded data removed]",
      "text/plain": [
       "<Figure size 432x288 with 1 Axes>"
      ]
     },
     "metadata": {
      "needs_background": "light"
     },
     "output_type": "display_data"
    }
   ],
   "source": [
    "\n",
    "fig, ax = plt.subplots()\n",
    "\n",
    "# гистограмма\n",
    "n, bins, patches = ax.hist(df['A6'], 10)"
   ]
  },
  {
   "cell_type": "code",
   "execution_count": 47,
   "metadata": {},
   "outputs": [
    {
     "name": "stdout",
     "output_type": "stream",
     "text": [
      "[24.06440501408228, 89.79037525214231, 206.64163972315907, 293.5579266075615, 257.52193338879545, 139.48264415160244, 46.616959684848624, 9.603689704185058, 1.2179246649997637, 0.09493474704502325]\n"
     ]
    }
   ],
   "source": [
    "prob = []\n",
    "i = 0\n",
    "while i < len(bins)-1:\n",
    "    prob.append(len(df['A6'])*(stats.norm.cdf(bins[i+1], loc = np.mean(df['A6']), scale = np.std(df['A6'])) - stats.norm.cdf(bins[i], loc = np.mean(df['A6']), scale = np.std(df['A6']))))\n",
    "    i += 1\n",
    "f_exp = prob \n",
    "print(f_exp)"
   ]
  },
  {
   "cell_type": "code",
   "execution_count": 48,
   "metadata": {},
   "outputs": [],
   "source": [
    "def chisquare_test_norm(vib, n, bins): \n",
    "    sum0 = 0\n",
    "    prob = []\n",
    "    i = 0\n",
    "    while i < len(bins)-1:\n",
    "        prob.append(len(vib)*(stats.norm.cdf(bins[i+1], loc = np.mean(vib), scale = np.std(vib)) - stats.norm.cdf(bins[i], loc = np.mean(vib), scale = np.std(vib))))\n",
    "        i += 1\n",
    "    f_exp = prob \n",
    "    f_obs = n\n",
    "    return stats.chisquare(f_obs, f_exp, ddof = 2)"
   ]
  },
  {
   "cell_type": "code",
   "execution_count": 49,
   "metadata": {},
   "outputs": [
    {
     "data": {
      "text/plain": [
       "Power_divergenceResult(statistic=30.520444859130983, pvalue=7.61972496410758e-05)"
      ]
     },
     "execution_count": 49,
     "metadata": {},
     "output_type": "execute_result"
    }
   ],
   "source": [
    "chisquare_test_norm(df['A6'], n, bins)"
   ]
  },
  {
   "cell_type": "code",
   "execution_count": 50,
   "metadata": {},
   "outputs": [],
   "source": [
    "# 4.2. Проверка гипотезы о нормальности на основе коэффициента асимметрии и эксцесса (критерий Харке-Бера)"
   ]
  },
  {
   "cell_type": "code",
   "execution_count": 51,
   "metadata": {},
   "outputs": [],
   "source": [
    "def Jarque_Bera_test(vib):\n",
    "    k = stats.kurtosis(vib)\n",
    "    s = stats.skew(vib)\n",
    "    n = len(vib)\n",
    "    criterion_v = n * ((s**2) / 6 + ((k - 3)**2)/24)\n",
    "    return criterion_v"
   ]
  },
  {
   "cell_type": "code",
   "execution_count": 52,
   "metadata": {},
   "outputs": [
    {
     "name": "stdout",
     "output_type": "stream",
     "text": [
      "1. выбор-е зн-е: 378.2700124558215 \n",
      "1. p = 0.0\n"
     ]
    }
   ],
   "source": [
    "print(\"1. выбор-е зн-е: {} \".format(Jarque_Bera_test(df['A6'])))\n",
    "print(\"1. p = {}\".format(1 - stats.chi2.cdf(Jarque_Bera_test(df['A6']), 2)))"
   ]
  },
  {
   "cell_type": "code",
   "execution_count": 53,
   "metadata": {},
   "outputs": [],
   "source": [
    "# 5. Проверка однородности выборок"
   ]
  },
  {
   "cell_type": "code",
   "execution_count": 54,
   "metadata": {},
   "outputs": [],
   "source": [
    "# 5.1 Критерий знаков"
   ]
  },
  {
   "cell_type": "code",
   "execution_count": 55,
   "metadata": {},
   "outputs": [],
   "source": [
    "def sign_test(vib_X, vib_Y):\n",
    "    quantity_plus = 0\n",
    "    length_n = len(vib_X)\n",
    "    for i in range (len(vib_X)):\n",
    "        if ((vib_X[i] - vib_Y[i]) > 0):\n",
    "            quantity_plus += 1\n",
    "        if ((vib_X[i] - vib_Y[i]) == 0):\n",
    "            length_n -= 1\n",
    "    freq_plus = quantity_plus/length_n\n",
    "    z_value = 2 * np.sqrt(length_n) * (freq_plus - 0.5)\n",
    "    p_value = 2 * min(stats.norm.cdf(z_value, 0, 1), 1 - stats.norm.cdf(z_value, 0, 1))\n",
    "    return z_value, p_value"
   ]
  },
  {
   "cell_type": "code",
   "execution_count": 56,
   "metadata": {},
   "outputs": [
    {
     "data": {
      "text/plain": [
       "(32.4970721987772, 0.0)"
      ]
     },
     "execution_count": 56,
     "metadata": {},
     "output_type": "execute_result"
    }
   ],
   "source": [
    "sign_test(df['A6'], df['A7'])"
   ]
  },
  {
   "cell_type": "code",
   "execution_count": 57,
   "metadata": {},
   "outputs": [
    {
     "data": {
      "image/png": "[encoded data removed]",
      "text/plain": [
       "<Figure size 432x288 with 1 Axes>"
      ]
     },
     "metadata": {
      "needs_background": "light"
     },
     "output_type": "display_data"
    }
   ],
   "source": [
    "fig, ax = plt.subplots()\n",
    "\n",
    "# гистограмма\n",
    "n1, bins1, patches1 = ax.hist(df['A6'], 10, density=True)\n",
    "n2, bins2, patches2 = ax.hist(df['A7'], 10, density=True)\n",
    "fig.tight_layout()\n",
    "plt.show()"
   ]
  },
  {
   "cell_type": "code",
   "execution_count": 58,
   "metadata": {},
   "outputs": [],
   "source": [
    "# 5.2. Критерий хи-квадрат"
   ]
  },
  {
   "cell_type": "code",
   "execution_count": 59,
   "metadata": {},
   "outputs": [
    {
     "name": "stdout",
     "output_type": "stream",
     "text": [
      "10 53.410000000000004\n",
      "[[1, 199.0, 252.41, 2, 18, 0.0019, 0.0168], [2, 252.41, 305.82, 43, 178, 0.0401, 0.1659], [3, 305.82, 359.23, 162, 411, 0.151, 0.383], [4, 359.23, 412.64, 306, 315, 0.2852, 0.2936], [5, 412.64, 466.05, 293, 119, 0.2731, 0.1109], [6, 466.05, 519.46, 168, 27, 0.1566, 0.0252], [7, 519.46, 572.87, 79, 4, 0.0736, 0.0037], [8, 572.87, 626.28, 15, 1, 0.014, 0.0009], [9, 626.28, 679.69, 4, 0, 0.0037, 0.0], [10, 679.69, 733.1, 1, 0, 0.0009, 0.0]]\n"
     ]
    }
   ],
   "source": [
    "def print_5_2(first , second):\n",
    "    np_first = np.array(df[first])\n",
    "    np_second = np.array(df[second])\n",
    "    begin = min(min(np_first), min(np_second))\n",
    "    end = max(max(np_first), max(np_second)) + 0.1\n",
    "    n = len(np_first)\n",
    "    k = int(1 + 1.3*np.log(len(np_first)))\n",
    "    h =  (end - begin)/ k\n",
    "    print(k,h)\n",
    "    rows = []\n",
    "    bins = []\n",
    "    for i in range(1, k + 1):\n",
    "        local_begin = begin + (i-1)*h\n",
    "        bins.append(local_begin)\n",
    "        local_end   = begin + i*h\n",
    "        freq1 = freq(np_first, local_begin, local_end)\n",
    "        freq2 = freq(np_second, local_begin, local_end)\n",
    "        rows.append([i, round(local_begin, 4), round(local_end, 4), freq1, freq2, round(freq1/n, 4), round(freq2/n, 4)])\n",
    "    bins.append(local_end)\n",
    "    print(rows)\n",
    "    return bins\n",
    "bins = print_5_2('A6', 'A7')"
   ]
  },
  {
   "cell_type": "code",
   "execution_count": 60,
   "metadata": {},
   "outputs": [],
   "source": [
    "freq = [[1, 199.0, 252.41, 2, 18, 0.0019, 0.0168], [2, 252.41, 305.82, 43, 178, 0.0401, 0.1659], [3, 305.82, 359.23, 162, 411, 0.151, 0.383], [4, 359.23, 412.64, 306, 315, 0.2852, 0.2936], [5, 412.64, 466.05, 293, 119, 0.2731, 0.1109], [6, 466.05, 519.46, 168, 27, 0.1566, 0.0252], [7, 519.46, 572.87, 79, 4, 0.0736, 0.0037], [8, 572.87, 626.28, 15, 1, 0.014, 0.0009], [9, 626.28, 679.69, 4, 0, 0.0037, 0.0], [10, 679.69, 733.1, 1, 0, 0.0009, 0.0]]"
   ]
  },
  {
   "cell_type": "code",
   "execution_count": 61,
   "metadata": {},
   "outputs": [
    {
     "data": {
      "text/plain": [
       "[[1, 199.0, 252.41, 2, 18, 0.0019, 0.0168],\n",
       " [2, 252.41, 305.82, 43, 178, 0.0401, 0.1659],\n",
       " [3, 305.82, 359.23, 162, 411, 0.151, 0.383],\n",
       " [4, 359.23, 412.64, 306, 315, 0.2852, 0.2936],\n",
       " [5, 412.64, 466.05, 293, 119, 0.2731, 0.1109],\n",
       " [6, 466.05, 519.46, 168, 27, 0.1566, 0.0252],\n",
       " [7, 519.46, 572.87, 79, 4, 0.0736, 0.0037],\n",
       " [8, 572.87, 626.28, 15, 1, 0.014, 0.0009],\n",
       " [9, 626.28, 679.69, 4, 0, 0.0037, 0.0],\n",
       " [10, 679.69, 733.1, 1, 0, 0.0009, 0.0]]"
      ]
     },
     "execution_count": 61,
     "metadata": {},
     "output_type": "execute_result"
    }
   ],
   "source": [
    "freq"
   ]
  },
  {
   "cell_type": "code",
   "execution_count": 62,
   "metadata": {},
   "outputs": [],
   "source": [
    "f_1 = []\n",
    "f_2 = []\n",
    "for i in range(10):\n",
    "    f_1.append(freq[i][3])\n",
    "    f_2.append(freq[i][4])"
   ]
  },
  {
   "cell_type": "code",
   "execution_count": 63,
   "metadata": {},
   "outputs": [
    {
     "data": {
      "text/plain": [
       "[2, 43, 162, 306, 293, 168, 79, 15, 4, 1]"
      ]
     },
     "execution_count": 63,
     "metadata": {},
     "output_type": "execute_result"
    }
   ],
   "source": [
    "f_1"
   ]
  },
  {
   "cell_type": "code",
   "execution_count": 64,
   "metadata": {},
   "outputs": [
    {
     "data": {
      "text/plain": [
       "[18, 178, 411, 315, 119, 27, 4, 1, 0, 0]"
      ]
     },
     "execution_count": 64,
     "metadata": {},
     "output_type": "execute_result"
    }
   ],
   "source": [
    "f_2"
   ]
  },
  {
   "cell_type": "code",
   "execution_count": 65,
   "metadata": {},
   "outputs": [
    {
     "data": {
      "text/plain": [
       "Power_divergenceResult(statistic=1245.7636794539005, pvalue=1.5961473086047256e-262)"
      ]
     },
     "execution_count": 65,
     "metadata": {},
     "output_type": "execute_result"
    }
   ],
   "source": [
    "stats.chisquare(f_2, f_1)"
   ]
  },
  {
   "cell_type": "code",
   "execution_count": 66,
   "metadata": {},
   "outputs": [],
   "source": [
    "def chisquare_2samp(freq_1, freq_2):\n",
    "    length_vib = 0\n",
    "    for i in range(len(freq_1)):\n",
    "        length_vib += freq_1[i]\n",
    "    criterion = 0\n",
    "    for i in range(len(freq_1)):\n",
    "        criterion +=  (((freq_1[i]/length_vib) - (freq_2[i]/length_vib))**2)/(freq_1[i]+freq_2[i])\n",
    "    criterion = criterion*length_vib*length_vib  \n",
    "    p_value = 1 - stats.chi2.cdf(criterion, len(freq_1)-1)\n",
    "    return criterion, p_value"
   ]
  },
  {
   "cell_type": "code",
   "execution_count": 67,
   "metadata": {},
   "outputs": [
    {
     "data": {
      "text/plain": [
       "(464.0610539970998, 0.0)"
      ]
     },
     "execution_count": 67,
     "metadata": {},
     "output_type": "execute_result"
    }
   ],
   "source": [
    "chisquare_2samp(f_1,f_2)"
   ]
  },
  {
   "cell_type": "code",
   "execution_count": 68,
   "metadata": {},
   "outputs": [],
   "source": [
    "# 6. Таблицы сопряжённости"
   ]
  },
  {
   "cell_type": "code",
   "execution_count": 69,
   "metadata": {},
   "outputs": [
    {
     "name": "stdout",
     "output_type": "stream",
     "text": [
      "['x \\\\ y', 'I', 'IIA', 'IIB', '$\\\\sum$'] [['N', 16, 173, 403, 592], ['Y', 164, 186, 131, 481], ['$\\\\sum$', 180, 359, 534, 1073]]\n"
     ]
    }
   ],
   "source": [
    "def crosstab(first, second):\n",
    "    x = df[first]\n",
    "    x_labels = df.groupby(first).count().index\n",
    "    y_labels = df.groupby(second).count().index\n",
    "    \n",
    "    rows =[]\n",
    "    column_sum = [0 for i in range(len(y_labels)+1)] \n",
    "    for i in x_labels:\n",
    "        row = [i]\n",
    "        for j in range(len(y_labels)):\n",
    "            count = x[(df[first] == i) & (df[second] == y_labels[j])].count()\n",
    "            column_sum[j]+=count\n",
    "            row.append(count)\n",
    "        row_sum = sum(row[1:])\n",
    "        row.append(row_sum)\n",
    "        column_sum[j+1]+=row_sum\n",
    "        rows.append(row)\n",
    "    final_row =  ['$\\sum$']\n",
    "    final_row.extend(column_sum)\n",
    "    rows.append(final_row)\n",
    "    \n",
    "    first_row = ['x \\ y']\n",
    "    first_row.extend(y_labels)\n",
    "    first_row.append('$\\sum$')\n",
    "    \n",
    "    print(first_row, rows) \n",
    "         \n",
    "    \n",
    "    for l in rows:\n",
    "        l.pop(0)\n",
    "    return np.array(rows)\n",
    "    \n",
    "ctab = crosstab('A14', 'A4')"
   ]
  },
  {
   "cell_type": "code",
   "execution_count": 70,
   "metadata": {},
   "outputs": [],
   "source": [
    "emp = [[16, 173, 403, 592],\n",
    "       [164, 186, 131, 481],\n",
    "       [180, 359, 534, 1073]\n",
    "      ]"
   ]
  },
  {
   "cell_type": "code",
   "execution_count": 71,
   "metadata": {},
   "outputs": [
    {
     "data": {
      "text/plain": [
       "(251.91962827126846,\n",
       " 1.594693713225633e-51,\n",
       " 6,\n",
       " array([[  99.31034483,  198.06896552,  294.62068966,  592.        ],\n",
       "        [  80.68965517,  160.93103448,  239.37931034,  481.        ],\n",
       "        [ 180.        ,  359.        ,  534.        , 1073.        ]]))"
      ]
     },
     "execution_count": 71,
     "metadata": {},
     "output_type": "execute_result"
    }
   ],
   "source": [
    "stats.chi2_contingency(emp)"
   ]
  },
  {
   "cell_type": "code",
   "execution_count": 72,
   "metadata": {},
   "outputs": [],
   "source": [
    "# 7. Дисперсионный анализ"
   ]
  },
  {
   "cell_type": "code",
   "execution_count": 73,
   "metadata": {},
   "outputs": [
    {
     "name": "stdout",
     "output_type": "stream",
     "text": [
      "[[1, 'I', 180, 486.7556, 3266.1857], [2, 'IIA', 359, 439.1866, 3067.1578], [3, 'IIB', 534, 384.6835, 3811.8377]]\n"
     ]
    }
   ],
   "source": [
    "def print_7_a(first, second):\n",
    "    fetures = df.groupby(first).count().index\n",
    "    rows = []\n",
    "    for i in range(len(fetures)):\n",
    "        n  = len(df[df[first] == fetures[i]])\n",
    "        mean = round(df[df[first] == fetures[i]][second].mean(), 4)\n",
    "        var = round(df[df[first] == fetures[i]][second].var(), 4)\n",
    "        rows.append([i+1, fetures[i], n , mean, var])\n",
    "    print(rows)\n",
    "        \n",
    "    rows = np.array(rows)\n",
    "    return rows[:, 2:].astype(float)\n",
    "data = print_7_a('A4', 'A6')"
   ]
  },
  {
   "cell_type": "code",
   "execution_count": 74,
   "metadata": {},
   "outputs": [
    {
     "data": {
      "text/plain": [
       "384.6835205992509"
      ]
     },
     "execution_count": 74,
     "metadata": {},
     "output_type": "execute_result"
    }
   ],
   "source": [
    "np.mean(df[df['A4'] =='IIB']['A6'])"
   ]
  },
  {
   "cell_type": "code",
   "execution_count": 75,
   "metadata": {},
   "outputs": [
    {
     "name": "stdout",
     "output_type": "stream",
     "text": [
      "Все признаки:  Показатель вариации: 4953.143627929115, Число степеней свободы: 1072, Несмещённая оценка: 4957.764097731288\n",
      "Остаточные признаки:  Показатель вариации: 3461.6954848531645, Число степеней свободы: 1070, Несмещённая оценка: 3471.401173128454\n",
      "Группировочный признак:  Показатель вариации: 1491.448143075951, Число степеней свободы: 2, Несмещённая оценка: 800161.9287602478\n",
      "Ню квадрат 0.30111142642142974, Ню 0.548736208411136\n"
     ]
    }
   ],
   "source": [
    "D_X = np.var(df['A6'])\n",
    "print(\"Все признаки:  Показатель вариации: {}, Число степеней свободы: {}, Несмещённая оценка: {}\".format(D_X, len(df['A6']) - 1, D_X*(len(df['A6']))/(len(df['A6'])-1)))\n",
    "D_W = (len(df[df['A4'] =='IIB']['A6'])*np.var(df[df['A4'] =='IIB']['A6']) + len(df[df['A4'] =='IIA']['A6'])*np.var(df[df['A4'] =='IIA']['A6']) + len(df[df['A4'] =='I']['A6'])*np.var(df[df['A4'] =='I']['A6']))/len(df['A6'])\n",
    "k = 3 #Количество случайных величин \n",
    "print(\"Остаточные признаки:  Показатель вариации: {}, Число степеней свободы: {}, Несмещённая оценка: {}\".format(D_W, len(df['A6']) - k, D_W*(len(df['A6']))/(len(df['A6'])-k)))\n",
    "D_B = (len(df[df['A4'] =='IIB']['A6'])*np.power(np.mean(df[df['A4'] =='IIB']['A6'])-np.mean(df['A6']),2) + len(df[df['A4'] =='IIA']['A6'])*np.power(np.mean(df[df['A4'] =='IIA']['A6'])-np.mean(df['A6']),2) + len(df[df['A4'] =='I']['A6'])*np.power(np.mean(df[df['A4'] =='I']['A6'])-np.mean(df['A6']),2))/len(df['A6'])\n",
    "print(\"Группировочный признак:  Показатель вариации: {}, Число степеней свободы: {}, Несмещённая оценка: {}\".format(D_B, k - 1, D_B*(len(df['A6']))/(k - 1)))\n",
    "print(\"Ню квадрат {}, Ню {}\".format(D_B/D_X, np.power(D_B/D_X, 1/2)))"
   ]
  },
  {
   "cell_type": "code",
   "execution_count": 76,
   "metadata": {},
   "outputs": [
    {
     "data": {
      "text/plain": [
       "4953.143627929116"
      ]
     },
     "execution_count": 76,
     "metadata": {},
     "output_type": "execute_result"
    }
   ],
   "source": [
    "D_B+D_W"
   ]
  },
  {
   "cell_type": "code",
   "execution_count": 77,
   "metadata": {},
   "outputs": [
    {
     "data": {
      "text/plain": [
       "F_onewayResult(statistic=230.5011402756243, pvalue=5.731231318175073e-84)"
      ]
     },
     "execution_count": 77,
     "metadata": {},
     "output_type": "execute_result"
    }
   ],
   "source": [
    "stats.f_oneway(df[df['A4'] =='IIB']['A6'], df[df['A4'] =='IIA']['A6'], df[df['A4'] =='I']['A6'])"
   ]
  },
  {
   "cell_type": "code",
   "execution_count": 78,
   "metadata": {},
   "outputs": [
    {
     "data": {
      "text/plain": [
       "230.5011402756241"
      ]
     },
     "execution_count": 78,
     "metadata": {},
     "output_type": "execute_result"
    }
   ],
   "source": [
    "(D_B/(k-1))/((D_W)/(1073-k))"
   ]
  },
  {
   "cell_type": "code",
   "execution_count": 79,
   "metadata": {},
   "outputs": [
    {
     "data": {
      "text/plain": [
       "0.004328958671009131"
      ]
     },
     "execution_count": 79,
     "metadata": {},
     "output_type": "execute_result"
    }
   ],
   "source": [
    "1 - stats.f.cdf((D_B/(k-1))/((D_W)/(1073-k)), 1073-3, 3-1)"
   ]
  },
  {
   "cell_type": "code",
   "execution_count": 80,
   "metadata": {},
   "outputs": [],
   "source": [
    "# 8. Корреляционный анализ"
   ]
  },
  {
   "cell_type": "code",
   "execution_count": 81,
   "metadata": {},
   "outputs": [],
   "source": [
    "# 8.1. Расчёт парных коэффициентов корреляции"
   ]
  },
  {
   "cell_type": "code",
   "execution_count": 82,
   "metadata": {},
   "outputs": [
    {
     "data": {
      "text/plain": [
       "(0.9414076013458371, 0.0)"
      ]
     },
     "execution_count": 82,
     "metadata": {},
     "output_type": "execute_result"
    }
   ],
   "source": [
    "stats.pearsonr(df['A6'], df['A7'])"
   ]
  },
  {
   "cell_type": "code",
   "execution_count": 83,
   "metadata": {},
   "outputs": [],
   "source": [
    "correl,_=stats.pearsonr(df['A6'], df['A7'])"
   ]
  },
  {
   "cell_type": "code",
   "execution_count": 84,
   "metadata": {},
   "outputs": [
    {
     "data": {
      "text/plain": [
       "<matplotlib.collections.PathCollection at 0x2126f95e2e8>"
      ]
     },
     "execution_count": 84,
     "metadata": {},
     "output_type": "execute_result"
    },
    {
     "data": {
      "image/png": "[encoded data removed]",
      "text/plain": [
       "<Figure size 432x288 with 1 Axes>"
      ]
     },
     "metadata": {
      "needs_background": "light"
     },
     "output_type": "display_data"
    }
   ],
   "source": [
    "plt.scatter(df['A6'], df['A7'])"
   ]
  },
  {
   "cell_type": "code",
   "execution_count": 85,
   "metadata": {},
   "outputs": [
    {
     "data": {
      "text/plain": [
       "SpearmanrResult(correlation=0.9424893824769129, pvalue=0.0)"
      ]
     },
     "execution_count": 85,
     "metadata": {},
     "output_type": "execute_result"
    }
   ],
   "source": [
    "stats.spearmanr(df['A6'], df['A7'])"
   ]
  },
  {
   "cell_type": "code",
   "execution_count": 86,
   "metadata": {},
   "outputs": [
    {
     "data": {
      "text/plain": [
       "KendalltauResult(correlation=0.8019916322882887, pvalue=0.0)"
      ]
     },
     "execution_count": 86,
     "metadata": {},
     "output_type": "execute_result"
    }
   ],
   "source": [
    "stats.kendalltau(df['A6'], df['A7'])"
   ]
  },
  {
   "cell_type": "code",
   "execution_count": 87,
   "metadata": {},
   "outputs": [],
   "source": [
    "def dov_interval_for_coef_pearson(alpha, vib1, vib2):\n",
    "    correl, _ = stats.pearsonr(vib1, vib2)\n",
    "    lower_bound = correl + (correl*(1-correl**2))/(2*len(vib1)) - stats.norm.ppf(1-alpha/2, loc=0, scale=1)*(1-correl**2)/np.power(len(vib1), 1/2)\n",
    "    upper_bound = correl + (correl*(1-correl**2))/(2*len(vib1)) + stats.norm.ppf(1-alpha/2, loc=0, scale=1)*(1-correl**2)/np.power(len(vib1), 1/2)\n",
    "    return lower_bound, upper_bound "
   ]
  },
  {
   "cell_type": "code",
   "execution_count": 88,
   "metadata": {},
   "outputs": [
    {
     "name": "stdout",
     "output_type": "stream",
     "text": [
      "(0.9325126074884938, 0.9504023964534377)\n",
      "(0.9346512780464994, 0.9482637258954322)\n",
      "(0.9357455387939334, 0.9471694651479982)\n"
     ]
    }
   ],
   "source": [
    "print(dov_interval_for_coef_pearson(0.01, df['A6'], df['A7']))\n",
    "print(dov_interval_for_coef_pearson(0.05, df['A6'], df['A7']))\n",
    "print(dov_interval_for_coef_pearson(0.1, df['A6'], df['A7']))"
   ]
  },
  {
   "cell_type": "code",
   "execution_count": 89,
   "metadata": {},
   "outputs": [],
   "source": [
    "def pearson(x, y):\n",
    "    ro_pearson, _ = stats.pearsonr(x, y)\n",
    "    z_crit = (ro_pearson * np.power(len(x) - 2, 1/2))/(np.power(1 - np.power(ro_pearson, 2), 1/2)) \n",
    "    p_value = 2*min(stats.t.cdf(z_crit, len(x) - 2), 1 - stats.t.cdf(z_crit, len(x) - 2))\n",
    "    return ro_pearson, z_crit, p_value\n",
    "\n",
    "def spirmen(x, y):\n",
    "    ro_spirmen, _ = stats.spearmanr(x, y) \n",
    "    z_crit = (ro_spirmen * np.power(len(x) - 2, 1/2))/(np.power(1 - np.power(ro_spirmen, 2), 1/2)) \n",
    "    p_value = 2*min(stats.t.cdf(z_crit, len(x) - 2), 1 - stats.t.cdf(z_crit, len(x) - 2))\n",
    "    return ro_spirmen, z_crit, p_value\n",
    "\n",
    "def kendell(x, y):\n",
    "    tao_kendell, _ = stats.kendalltau(x,y)\n",
    "    z_crit =  np.power((9 * len(x) * (len(x) - 1))/(2 * (2 * len(x) + 5)), 1/2) * tao_kendell\n",
    "    p_value = 2*min(stats.norm.cdf(z_crit, 0, 1), 1 - stats.norm.cdf(z_crit, 0, 1))\n",
    "    return tao_kendell, z_crit, p_value"
   ]
  },
  {
   "cell_type": "code",
   "execution_count": 90,
   "metadata": {},
   "outputs": [
    {
     "name": "stdout",
     "output_type": "stream",
     "text": [
      "(0.9414076013458371, 91.34682028328257, 0.0)\n",
      "(0.9424893824769129, 92.28218300833117, 0.0)\n",
      "(0.8019916322882887, 39.34170181432877, 0.0)\n"
     ]
    }
   ],
   "source": [
    "print(pearson(df['A6'], df['A7']))\n",
    "print(spirmen(df['A6'], df['A7']))\n",
    "print(kendell(df['A6'], df['A7']))"
   ]
  },
  {
   "cell_type": "code",
   "execution_count": 91,
   "metadata": {},
   "outputs": [],
   "source": [
    "# 8.2. Расчёт множественных коэффициентов корреляции"
   ]
  },
  {
   "cell_type": "code",
   "execution_count": 92,
   "metadata": {},
   "outputs": [
    {
     "name": "stdout",
     "output_type": "stream",
     "text": [
      "KendalltauResult(correlation=1.0, pvalue=0.0)\n",
      "KendalltauResult(correlation=0.8019916322882887, pvalue=0.0)\n",
      "KendalltauResult(correlation=0.8129554569730247, pvalue=0.0)\n",
      "KendalltauResult(correlation=0.8019916322882887, pvalue=0.0)\n",
      "KendalltauResult(correlation=0.9999999999999999, pvalue=0.0)\n",
      "KendalltauResult(correlation=0.7868780458733714, pvalue=0.0)\n",
      "KendalltauResult(correlation=0.8129554569730247, pvalue=0.0)\n",
      "KendalltauResult(correlation=0.7868780458733714, pvalue=0.0)\n",
      "KendalltauResult(correlation=1.0, pvalue=0.0)\n"
     ]
    }
   ],
   "source": [
    "print(stats.kendalltau(df['A6'], df['A6']))\n",
    "print(stats.kendalltau(df['A6'], df['A7']))\n",
    "print(stats.kendalltau(df['A6'], df['A8']))\n",
    "print(stats.kendalltau(df['A7'], df['A6']))\n",
    "print(stats.kendalltau(df['A7'], df['A7']))\n",
    "print(stats.kendalltau(df['A7'], df['A8']))\n",
    "print(stats.kendalltau(df['A8'], df['A6']))\n",
    "print(stats.kendalltau(df['A8'], df['A7']))\n",
    "print(stats.kendalltau(df['A8'], df['A8']))"
   ]
  },
  {
   "cell_type": "code",
   "execution_count": null,
   "metadata": {},
   "outputs": [],
   "source": []
  },
  {
   "cell_type": "code",
   "execution_count": null,
   "metadata": {},
   "outputs": [],
   "source": []
  },
  {
   "cell_type": "code",
   "execution_count": null,
   "metadata": {},
   "outputs": [],
   "source": []
  },
  {
   "cell_type": "code",
   "execution_count": null,
   "metadata": {},
   "outputs": [],
   "source": []
  },
  {
   "cell_type": "code",
   "execution_count": null,
   "metadata": {},
   "outputs": [],
   "source": []
  },
  {
   "cell_type": "code",
   "execution_count": 93,
   "metadata": {},
   "outputs": [],
   "source": [
    "# 9. Регрессионный анализ"
   ]
  },
  {
   "cell_type": "code",
   "execution_count": 94,
   "metadata": {},
   "outputs": [],
   "source": [
    "# 9.1.1. Точечные оценки линейной регрессионной модели"
   ]
  },
  {
   "cell_type": "code",
   "execution_count": 95,
   "metadata": {},
   "outputs": [
    {
     "name": "stdout",
     "output_type": "stream",
     "text": [
      "491.7257722756832\n",
      "0.4763277136914644\n"
     ]
    }
   ],
   "source": [
    "X = df['A16']\n",
    "Y = df['A11']\n",
    "ro_pearson, _ = stats.pearsonr(X,Y)\n",
    "beta_0 = np.mean(Y) - ro_pearson * (np.std(Y)/np.std(X)) * np.mean(X)\n",
    "beta_1 = ro_pearson * (np.std(Y)/np.std(X))\n",
    "print(beta_0)\n",
    "print(beta_1)"
   ]
  },
  {
   "cell_type": "code",
   "execution_count": 1,
   "metadata": {},
   "outputs": [
    {
     "ename": "NameError",
     "evalue": "name 'beta_0' is not defined",
     "output_type": "error",
     "traceback": [
      "\u001b[1;31m---------------------------------------------------------------------------\u001b[0m",
      "\u001b[1;31mNameError\u001b[0m                                 Traceback (most recent call last)",
      "\u001b[1;32m<ipython-input-1-4c32be731b99>\u001b[0m in \u001b[0;36m<module>\u001b[1;34m\u001b[0m\n\u001b[1;32m----> 1\u001b[1;33m \u001b[0mregr_func\u001b[0m \u001b[1;33m=\u001b[0m \u001b[0mbeta_0\u001b[0m \u001b[1;33m+\u001b[0m \u001b[0mbeta_1\u001b[0m \u001b[1;33m*\u001b[0m \u001b[0mX\u001b[0m\u001b[1;33m\u001b[0m\u001b[1;33m\u001b[0m\u001b[0m\n\u001b[0m\u001b[0;32m      2\u001b[0m \u001b[1;33m\u001b[0m\u001b[0m\n\u001b[0;32m      3\u001b[0m \u001b[0mk\u001b[0m \u001b[1;33m=\u001b[0m \u001b[1;36m2\u001b[0m\u001b[1;33m\u001b[0m\u001b[1;33m\u001b[0m\u001b[0m\n\u001b[0;32m      4\u001b[0m \u001b[1;33m\u001b[0m\u001b[0m\n\u001b[0;32m      5\u001b[0m \u001b[0mD_regr\u001b[0m \u001b[1;33m=\u001b[0m \u001b[1;36m0\u001b[0m\u001b[1;33m\u001b[0m\u001b[1;33m\u001b[0m\u001b[0m\n",
      "\u001b[1;31mNameError\u001b[0m: name 'beta_0' is not defined"
     ]
    }
   ],
   "source": [
    "regr_func = beta_0 + beta_1 * X\n",
    "\n",
    "k = 2\n",
    "\n",
    "D_regr = 0\n",
    "for i in range(len(X)):\n",
    "    D_regr += (regr_func[i] - np.mean(Y))**2 \n",
    "D_regr = D_regr/len(X)\n",
    "\n",
    "D_res = 0\n",
    "for i in range(len(X)):\n",
    "    D_res += (Y[i] - regr_func[i])**2\n",
    "D_res = D_res/len(X)\n",
    "\n",
    "D_Y = 0\n",
    "for i in range(len(X)):\n",
    "    D_Y += (Y[i] - np.mean(Y))**2\n",
    "D_Y = D_Y/len(X)"
   ]
  },
  {
   "cell_type": "code",
   "execution_count": 97,
   "metadata": {},
   "outputs": [
    {
     "name": "stdout",
     "output_type": "stream",
     "text": [
      "1876.9930642266947\n",
      "7238.431095157811\n",
      "9115.424159384516\n"
     ]
    }
   ],
   "source": [
    "print(D_regr)\n",
    "print(D_res)\n",
    "print(D_Y)"
   ]
  },
  {
   "cell_type": "code",
   "execution_count": 98,
   "metadata": {},
   "outputs": [
    {
     "name": "stdout",
     "output_type": "stream",
     "text": [
      "2014013.5579152436\n",
      "7251.948240060066\n",
      "9123.927353563045\n"
     ]
    }
   ],
   "source": [
    "print(D_regr*len(X)/(k-1))\n",
    "print(D_res*len(X)/(len(X)-k))\n",
    "print(D_Y*len(X)/(len(X)-1))"
   ]
  },
  {
   "cell_type": "code",
   "execution_count": 99,
   "metadata": {},
   "outputs": [
    {
     "data": {
      "text/plain": [
       "9115.424159384505"
      ]
     },
     "execution_count": 99,
     "metadata": {},
     "output_type": "execute_result"
    }
   ],
   "source": [
    "D_res+D_regr"
   ]
  },
  {
   "cell_type": "code",
   "execution_count": 100,
   "metadata": {},
   "outputs": [
    {
     "name": "stdout",
     "output_type": "stream",
     "text": [
      "0.20591395764006132\n",
      "0.4537774318320175\n"
     ]
    }
   ],
   "source": [
    "coef_det = D_regr/D_Y\n",
    "correl_ratio = np.power(coef_det, 1/2)\n",
    "print(coef_det)\n",
    "print(correl_ratio)"
   ]
  },
  {
   "cell_type": "code",
   "execution_count": 101,
   "metadata": {},
   "outputs": [],
   "source": [
    "# 9.1.2. Интервальные оценки линейной регрессионной модели"
   ]
  },
  {
   "cell_type": "code",
   "execution_count": 102,
   "metadata": {},
   "outputs": [],
   "source": [
    "def dov_interval_beta_0(alpha, X, Y):\n",
    "    ro_pearson, _ = stats.pearsonr(X,Y)\n",
    "    beta_0 = np.mean(Y) - ro_pearson * (np.std(Y)/np.std(X)) * np.mean(X)\n",
    "    D_res = 0\n",
    "    for i in range(len(X)):\n",
    "        D_res += (Y[i] - regr_func[i])**2\n",
    "    D_res = D_res/len(X)\n",
    "    x = 0\n",
    "    for i in range(len(X)):\n",
    "        x += X[i]**2\n",
    "    lower_bound = beta_0 - stats.t.ppf(1-alpha/2, len(X)-2) * np.power(D_res, 1/2) * np.power(x/((len(X)**2)*np.var(X)), 1/2)\n",
    "    upper_bound = beta_0 + stats.t.ppf(1-alpha/2, len(X)-2) * np.power(D_res, 1/2) * np.power(x/((len(X)**2)*np.var(X)), 1/2)\n",
    "    return lower_bound, upper_bound "
   ]
  },
  {
   "cell_type": "code",
   "execution_count": 103,
   "metadata": {},
   "outputs": [
    {
     "name": "stdout",
     "output_type": "stream",
     "text": [
      "(482.9126466678909, 500.5388978834755)\n",
      "(485.02418862622176, 498.42735592514464)\n",
      "(486.1031183870578, 497.3484261643086)\n"
     ]
    }
   ],
   "source": [
    "print(dov_interval_beta_0(0.01, X, Y))\n",
    "print(dov_interval_beta_0(0.05, X, Y))\n",
    "print(dov_interval_beta_0(0.1, X, Y))"
   ]
  },
  {
   "cell_type": "code",
   "execution_count": 104,
   "metadata": {},
   "outputs": [],
   "source": [
    "def dov_interval_beta_1(alpha, X, Y):\n",
    "    ro_pearson, _ = stats.pearsonr(X,Y)\n",
    "    beta_1 = ro_pearson * (np.std(Y)/np.std(X))\n",
    "    D_res = 0\n",
    "    for i in range(len(X)):\n",
    "        D_res += (Y[i] - regr_func[i])**2\n",
    "    D_res = D_res/len(X)\n",
    "    lower_bound = beta_1 - stats.t.ppf(1-alpha/2, len(X)-2) * np.power(D_res, 1/2) * np.power(1/((len(X))*np.var(X)), 1/2)\n",
    "    upper_bound = beta_1 + stats.t.ppf(1-alpha/2, len(X)-2) * np.power(D_res, 1/2) * np.power(1/((len(X))*np.var(X)), 1/2)\n",
    "    return lower_bound, upper_bound "
   ]
  },
  {
   "cell_type": "code",
   "execution_count": 105,
   "metadata": {},
   "outputs": [
    {
     "name": "stdout",
     "output_type": "stream",
     "text": [
      "(0.4026411063770828, 0.5500143210058461)\n",
      "(0.4202957240502719, 0.532359703332657)\n",
      "(0.42931666362887433, 0.5233387637540545)\n"
     ]
    }
   ],
   "source": [
    "print(dov_interval_beta_1(0.01, X, Y))\n",
    "print(dov_interval_beta_1(0.05, X, Y))\n",
    "print(dov_interval_beta_1(0.1, X, Y))"
   ]
  },
  {
   "cell_type": "code",
   "execution_count": 106,
   "metadata": {},
   "outputs": [
    {
     "data": {
      "text/plain": [
       "<matplotlib.collections.PathCollection at 0x2126fc4ba20>"
      ]
     },
     "execution_count": 106,
     "metadata": {},
     "output_type": "execute_result"
    },
    {
     "data": {
      "image/png": "[encoded data removed]",
      "text/plain": [
       "<Figure size 432x288 with 1 Axes>"
      ]
     },
     "metadata": {
      "needs_background": "light"
     },
     "output_type": "display_data"
    }
   ],
   "source": [
    "x_linspace = np.linspace(min(X),max(X), len(X))\n",
    "regr_func = beta_0 + beta_1 * x_linspace\n",
    "fig, ax = plt.subplots()\n",
    "ax.set_title('Диаграмма рассеяния случайных величин X и Y:')\n",
    "ax.set_xlabel('X')\n",
    "ax.set_ylabel('Y')\n",
    "ax.plot(x_linspace, regr_func, lw=3, color='r', alpha=1)\n",
    "lower_bound = regr_func - stats.t.ppf(1-0.1/2, len(X)-2) * np.power(D_res, 1/2) * np.power((1/len(X))+((x_linspace-np.mean(X))**2)/(len(X)*np.var(X)), 1/2)\n",
    "ax.plot(x_linspace, lower_bound, lw=1, color='y', alpha=1)\n",
    "upper_bound = regr_func + stats.t.ppf(1-0.1/2, len(X)-2) * np.power(D_res, 1/2) * np.power((1/len(X))+((x_linspace-np.mean(X))**2)/(len(X)*np.var(X)), 1/2)\n",
    "ax.plot(x_linspace, upper_bound, lw=1, color='y', alpha=1)\n",
    "plt.scatter(X, Y)"
   ]
  },
  {
   "cell_type": "code",
   "execution_count": 107,
   "metadata": {},
   "outputs": [
    {
     "data": {
      "text/plain": [
       "[<matplotlib.lines.Line2D at 0x2126f745128>]"
      ]
     },
     "execution_count": 107,
     "metadata": {},
     "output_type": "execute_result"
    },
    {
     "data": {
      "image/png": "[encoded data removed]",
      "text/plain": [
       "<Figure size 432x288 with 1 Axes>"
      ]
     },
     "metadata": {
      "needs_background": "light"
     },
     "output_type": "display_data"
    }
   ],
   "source": [
    "reg_func = lambda x: beta_0 + beta_1*x\n",
    "fig, ax = plt.subplots()\n",
    "\n",
    "x_linspace = np.linspace(min(X), max(X), 100)\n",
    "y_values = [\n",
    "    reg_func(a) for a in x_linspace\n",
    "]\n",
    "y_values_min = [\n",
    "    reg_func(a)-stats.t(len(X)-2).ppf(1-0.1/2)*np.sqrt(D_res)*np.sqrt(1/len(X) + (a-np.mean(X))**2/(len(X)*np.var(X))) for a in x_linspace\n",
    "]\n",
    "y_values_max = [\n",
    "    reg_func(a)+stats.t(len(X)-2).ppf(1-0.1/2)*np.sqrt(D_res)*np.sqrt(1/len(X) + (a-np.mean(X))**2/(len(X)*np.var(X))) for a in x_linspace\n",
    "]\n",
    "\n",
    "\n",
    "ax.set_title('Диаграмма рассеяния случайных величин X и Y:')\n",
    "ax.set_xlabel('X')\n",
    "ax.set_ylabel('Y')\n",
    "\n",
    "ax.scatter(X, Y)\n",
    "ax.plot(x_linspace, y_values, label='f(x)')\n",
    "ax.plot(x_linspace, y_values_min, label='f_min(x)')\n",
    "ax.plot(x_linspace, y_values_max, label='f_max(x)')"
   ]
  },
  {
   "cell_type": "code",
   "execution_count": 135,
   "metadata": {},
   "outputs": [
    {
     "data": {
      "text/plain": [
       "<matplotlib.collections.PathCollection at 0x2126fdff550>"
      ]
     },
     "execution_count": 135,
     "metadata": {},
     "output_type": "execute_result"
    },
    {
     "data": {
      "image/png": "[encoded data removed]",
      "text/plain": [
       "<Figure size 432x288 with 1 Axes>"
      ]
     },
     "metadata": {
      "needs_background": "light"
     },
     "output_type": "display_data"
    }
   ],
   "source": [
    "regr_func = beta_0 + beta_1 * X\n",
    "fig, ax = plt.subplots()\n",
    "ax.set_title('Диаграмма рассеяния случайных величин X и Y:')\n",
    "ax.set_xlabel('X')\n",
    "ax.set_ylabel('Y')\n",
    "ax.plot(X, regr_func, lw=3, color='r', alpha=1)\n",
    "lower_bound = regr_func - stats.t.ppf(1-0.1/2, len(X)-2) * np.power(D_res, 1/2) * np.power((1/len(X))+((X-np.mean(X))**2)/(len(X)*np.var(X)), 1/2)\n",
    "ax.plot(X, lower_bound, lw=1, color='y', alpha=1)\n",
    "upper_bound = regr_func + stats.t.ppf(1-0.1/2, len(X)-2) * np.power(D_res, 1/2) * np.power((1/len(X))+((X-np.mean(X))**2)/(len(X)*np.var(X)), 1/2)\n",
    "ax.plot(X, upper_bound, lw=1, color='y', alpha=1)\n",
    "plt.scatter(X, Y)"
   ]
  },
  {
   "cell_type": "code",
   "execution_count": 136,
   "metadata": {},
   "outputs": [
    {
     "data": {
      "text/plain": [
       "Text(0, 0.5, 'e')"
      ]
     },
     "execution_count": 136,
     "metadata": {},
     "output_type": "execute_result"
    },
    {
     "data": {
      "image/png": "[encoded data removed]",
      "text/plain": [
       "<Figure size 432x288 with 1 Axes>"
      ]
     },
     "metadata": {
      "needs_background": "light"
     },
     "output_type": "display_data"
    }
   ],
   "source": [
    "fig, ax = plt.subplots()\n",
    "ax.plot(sorted(X), Y - regr_func, lw=1, color='r', alpha=1)\n",
    "ax.set_title('e(x)')\n",
    "ax.set_xlabel('x')\n",
    "ax.set_ylabel('e')"
   ]
  },
  {
   "cell_type": "code",
   "execution_count": 2,
   "metadata": {},
   "outputs": [],
   "source": [
    "def significance_of_linear_regression_model(regr_func, X, Y):\n",
    "    D_regr = 0\n",
    "    for i in range(len(X)):\n",
    "        D_regr += (regr_func[i] - np.mean(Y))**2 \n",
    "    D_regr = D_regr/len(X)\n",
    "    D_Y = 0\n",
    "    for i in range(len(X)):\n",
    "        D_Y += (Y[i] - np.mean(Y))**2\n",
    "    D_Y = D_Y/len(X)\n",
    "    coef_det = D_regr/D_Y\n",
    "    criterion = coef_det/(1 - coef_det)*(len(X) - 2)\n",
    "    p_value = 1 - stats.f.cdf(criterion, 1, len(X) - 2)\n",
    "    return criterion, p_value"
   ]
  },
  {
   "cell_type": "code",
   "execution_count": 3,
   "metadata": {},
   "outputs": [
    {
     "ename": "NameError",
     "evalue": "name 'regr_func' is not defined",
     "output_type": "error",
     "traceback": [
      "\u001b[1;31m---------------------------------------------------------------------------\u001b[0m",
      "\u001b[1;31mNameError\u001b[0m                                 Traceback (most recent call last)",
      "\u001b[1;32m<ipython-input-3-5ea8ba8687e5>\u001b[0m in \u001b[0;36m<module>\u001b[1;34m\u001b[0m\n\u001b[1;32m----> 1\u001b[1;33m \u001b[0msignificance_of_linear_regression_model\u001b[0m\u001b[1;33m(\u001b[0m\u001b[0mregr_func\u001b[0m\u001b[1;33m,\u001b[0m \u001b[0mX\u001b[0m\u001b[1;33m,\u001b[0m \u001b[0mY\u001b[0m\u001b[1;33m)\u001b[0m\u001b[1;33m\u001b[0m\u001b[1;33m\u001b[0m\u001b[0m\n\u001b[0m",
      "\u001b[1;31mNameError\u001b[0m: name 'regr_func' is not defined"
     ]
    }
   ],
   "source": [
    "significance_of_linear_regression_model(regr_func, X, Y)"
   ]
  },
  {
   "cell_type": "code",
   "execution_count": 139,
   "metadata": {},
   "outputs": [],
   "source": [
    "# 9.2 Линейная регрессионная модель общего вида"
   ]
  },
  {
   "cell_type": "code",
   "execution_count": 140,
   "metadata": {},
   "outputs": [],
   "source": [
    "X = df['A16']\n",
    "Y = df['A11']"
   ]
  },
  {
   "cell_type": "code",
   "execution_count": 141,
   "metadata": {},
   "outputs": [
    {
     "name": "stdout",
     "output_type": "stream",
     "text": [
      "b0: 462.6002575659367  | b1: 1.1920234862114878  | b2: -0.001849722232005753\n"
     ]
    }
   ],
   "source": [
    "import numpy as np\n",
    "a0 = np.ones((len(X), 1))\n",
    "a1 = np.expand_dims(X ,axis=0)\n",
    "a2 = np.expand_dims(X**2 ,axis=0)\n",
    "A = np.concatenate((a0, a1.T, a2.T), axis=1)\n",
    "Y1 = np.expand_dims(Y, axis=0).T\n",
    "beta = np.dot(np.dot(np.linalg.inv(np.dot(A.T, A)), A.T), Y1)\n",
    "beta\n",
    "b0 = beta[0, 0]\n",
    "b1 = beta[1, 0]\n",
    "b2 = beta[2, 0]\n",
    "b0 , b1, b2\n",
    "\n",
    "print (\"b0:\",b0,\" | b1:\",b1,\" | b2:\",b2)\n",
    "reg_func = lambda x: b0 + b1*x + b2*x**2"
   ]
  },
  {
   "cell_type": "code",
   "execution_count": 142,
   "metadata": {},
   "outputs": [],
   "source": [
    "regr_func = 462.6002575659367 + 1.1920234862114878*X -0.001849722232005753*(X**2)\n",
    "k = 3\n",
    "\n",
    "D_regr = 0\n",
    "for i in range(len(X)):\n",
    "    D_regr += (regr_func[i] - np.mean(Y))**2 \n",
    "D_regr = D_regr/len(X)\n",
    "\n",
    "D_res = 0\n",
    "for i in range(len(X)):\n",
    "    D_res += (Y[i] - regr_func[i])**2\n",
    "D_res = D_res/len(X)\n",
    "\n",
    "D_Y = 0\n",
    "for i in range(len(X)):\n",
    "    D_Y += (Y[i] - np.mean(Y))**2\n",
    "D_Y = D_Y/len(X)"
   ]
  },
  {
   "cell_type": "code",
   "execution_count": 143,
   "metadata": {},
   "outputs": [
    {
     "name": "stdout",
     "output_type": "stream",
     "text": [
      "2777.705255821771\n",
      "6337.718903562682\n",
      "9115.424159384516\n"
     ]
    }
   ],
   "source": [
    "print(D_regr)\n",
    "print(D_res)\n",
    "print(D_Y)"
   ]
  },
  {
   "cell_type": "code",
   "execution_count": 144,
   "metadata": {},
   "outputs": [
    {
     "name": "stdout",
     "output_type": "stream",
     "text": [
      "1490238.8697483803\n",
      "6355.488208899773\n",
      "9123.927353563045\n"
     ]
    }
   ],
   "source": [
    "print(D_regr*len(X)/(k-1))\n",
    "print(D_res*len(X)/(len(X)-k))\n",
    "print(D_Y*len(X)/(len(X)-1))"
   ]
  },
  {
   "cell_type": "code",
   "execution_count": 145,
   "metadata": {},
   "outputs": [
    {
     "data": {
      "text/plain": [
       "9115.424159384453"
      ]
     },
     "execution_count": 145,
     "metadata": {},
     "output_type": "execute_result"
    }
   ],
   "source": [
    "D_res+D_regr"
   ]
  },
  {
   "cell_type": "code",
   "execution_count": 146,
   "metadata": {},
   "outputs": [
    {
     "name": "stdout",
     "output_type": "stream",
     "text": [
      "0.3047258369169872\n",
      "0.5520197794617392\n"
     ]
    }
   ],
   "source": [
    "coef_det = D_regr/D_Y\n",
    "correl_ratio = np.power(coef_det, 1/2)\n",
    "print(coef_det)\n",
    "print(correl_ratio)"
   ]
  },
  {
   "cell_type": "code",
   "execution_count": 147,
   "metadata": {},
   "outputs": [],
   "source": [
    "x_linspace = np.linspace(min(X),max(X), len(X))\n",
    "regr_func = 462.6002575659367 + 1.1920234862114878*x_linspace -0.001849722232005753*(x_linspace**2)"
   ]
  },
  {
   "cell_type": "code",
   "execution_count": 148,
   "metadata": {},
   "outputs": [
    {
     "data": {
      "text/plain": [
       "<matplotlib.collections.PathCollection at 0x21270e97cc0>"
      ]
     },
     "execution_count": 148,
     "metadata": {},
     "output_type": "execute_result"
    },
    {
     "data": {
      "image/png": "[encoded data removed]",
      "text/plain": [
       "<Figure size 432x288 with 1 Axes>"
      ]
     },
     "metadata": {
      "needs_background": "light"
     },
     "output_type": "display_data"
    }
   ],
   "source": [
    "fig, ax = plt.subplots()\n",
    "ax.set_title('Диаграмма рассеяния случайных величин X и Y:')\n",
    "ax.set_xlabel('X')\n",
    "ax.set_ylabel('Y')\n",
    "ax.plot(x_linspace, regr_func, lw=3, color='r', alpha=1)\n",
    "plt.scatter(X, Y)"
   ]
  },
  {
   "cell_type": "code",
   "execution_count": 149,
   "metadata": {},
   "outputs": [],
   "source": [
    "f0 = lambda x : 1\n",
    "f1 = lambda x : x\n",
    "f2 = lambda x : x**2"
   ]
  },
  {
   "cell_type": "code",
   "execution_count": 150,
   "metadata": {},
   "outputs": [
    {
     "data": {
      "text/plain": [
       "[<matplotlib.lines.Line2D at 0x21270f48208>,\n",
       " <matplotlib.lines.Line2D at 0x21270f1bba8>,\n",
       " <matplotlib.lines.Line2D at 0x21270f1be80>,\n",
       " <matplotlib.lines.Line2D at 0x21270f26ac8>,\n",
       " <matplotlib.lines.Line2D at 0x21270f26278>,\n",
       " <matplotlib.lines.Line2D at 0x21270f261d0>,\n",
       " <matplotlib.lines.Line2D at 0x21270f26208>,\n",
       " <matplotlib.lines.Line2D at 0x21270f26b70>,\n",
       " <matplotlib.lines.Line2D at 0x21270f3e5c0>,\n",
       " <matplotlib.lines.Line2D at 0x21270f3e2e8>]"
      ]
     },
     "execution_count": 150,
     "metadata": {},
     "output_type": "execute_result"
    },
    {
     "data": {
      "image/png": "[encoded data removed]",
      "text/plain": [
       "<Figure size 432x288 with 1 Axes>"
      ]
     },
     "metadata": {
      "needs_background": "light"
     },
     "output_type": "display_data"
    }
   ],
   "source": [
    "# б), в)\n",
    "\n",
    "f_row = lambda x : np.array([f0(x), f1(x), f2(x)]) \n",
    "f_column = lambda x : (f_row(x)).transpose()  \n",
    "\n",
    "F = [\n",
    "    f_row(val) for val in x\n",
    "]\n",
    "\n",
    "F = np.array(F)\n",
    "\n",
    "fig, ax = plt.subplots()\n",
    "\n",
    "x_linspace = np.linspace(min(X), max(X), 100)\n",
    "y_values = [\n",
    "    reg_func(a) for a in x_linspace\n",
    "]\n",
    "y_values_min = [\n",
    "    reg_func(a)-stats.t(n-k).ppf(1-0.1/2)*np.sqrt(D_res)*np.sqrt(np.dot(np.dot(f_row(a),np.linalg.inv(np.dot(F.transpose(),F))),f_column(a))) for a in x_linspace\n",
    "]\n",
    "y_values_max = [\n",
    "    reg_func(a)+stats.t(n-k).ppf(1-0.1/2)*np.sqrt(D_res)*np.sqrt(np.dot(np.dot(f_row(a),np.linalg.inv(np.dot(F.transpose(),F))),f_column(a))) for a in x_linspace\n",
    "]\n",
    "\n",
    "\n",
    "ax.set_title('Диаграмма рассеяния случайных величин X и Y:')\n",
    "ax.set_xlabel('X')\n",
    "ax.set_ylabel('Y')\n",
    "\n",
    "ax.scatter(X, Y)\n",
    "ax.plot(x_linspace, y_values, color='r', lw=3, label='f(x)')\n",
    "ax.plot(x_linspace, y_values_min, color='y', lw=1, label='f_min(x)')\n",
    "ax.plot(x_linspace, y_values_max, color='y', lw=1, label='f_max(x)')\n",
    "\n"
   ]
  },
  {
   "cell_type": "code",
   "execution_count": 151,
   "metadata": {},
   "outputs": [
    {
     "data": {
      "text/plain": [
       "Text(0, 0.5, 'e')"
      ]
     },
     "execution_count": 151,
     "metadata": {},
     "output_type": "execute_result"
    },
    {
     "data": {
      "image/png": "[encoded data removed]",
      "text/plain": [
       "<Figure size 432x288 with 1 Axes>"
      ]
     },
     "metadata": {
      "needs_background": "light"
     },
     "output_type": "display_data"
    }
   ],
   "source": [
    "#regr_func = 462.6002575659367 + 1.1920234862114878*X -0.001849722232005753*(X**2)\n",
    "fig, ax = plt.subplots()\n",
    "ax.plot(sorted(X), Y - regr_func, lw=1, color='r', alpha=1)\n",
    "ax.set_title('e(x)')\n",
    "ax.set_xlabel('x')\n",
    "ax.set_ylabel('e')"
   ]
  },
  {
   "cell_type": "code",
   "execution_count": 152,
   "metadata": {},
   "outputs": [],
   "source": [
    "def significance_of_linear_regression_model_2(regr_func, X, Y):\n",
    "    D_regr = 0\n",
    "    for i in range(len(X)):\n",
    "        D_regr += (regr_func[i] - np.mean(Y))**2 \n",
    "    D_regr = D_regr/len(X)\n",
    "    D_Y = 0\n",
    "    for i in range(len(X)):\n",
    "        D_Y += (Y[i] - np.mean(Y))**2\n",
    "    D_Y = D_Y/len(X)\n",
    "    coef_det = D_regr/D_Y\n",
    "    criterion = (coef_det/(3-1))/((1 - coef_det)/(len(X) - 3))\n",
    "    p_value = 1 - stats.f.cdf(criterion, 3 - 1, len(X) - 3)\n",
    "    return criterion, p_value"
   ]
  },
  {
   "cell_type": "code",
   "execution_count": 153,
   "metadata": {},
   "outputs": [
    {
     "data": {
      "text/plain": [
       "(3485.2443900056483, 1.1102230246251565e-16)"
      ]
     },
     "execution_count": 153,
     "metadata": {},
     "output_type": "execute_result"
    }
   ],
   "source": [
    "significance_of_linear_regression_model_2(regr_func, X, Y)"
   ]
  },
  {
   "cell_type": "code",
   "execution_count": 154,
   "metadata": {},
   "outputs": [],
   "source": [
    "# 9.3 Множественная линейная регрессионная модель"
   ]
  },
  {
   "cell_type": "code",
   "execution_count": 155,
   "metadata": {},
   "outputs": [],
   "source": [
    "X1 = np.array(df['A16']) #фактор1 (заполнить своим)\n",
    "X2 = np.array(df['A6']) #фактор1 (заполнить своим)\n",
    "Y = np.array(df['A11'])  #результирующий признак (заполнить своим)"
   ]
  },
  {
   "cell_type": "code",
   "execution_count": 156,
   "metadata": {},
   "outputs": [
    {
     "name": "stdout",
     "output_type": "stream",
     "text": [
      "b0: -34.010052532796976  | b1: -0.01898226968199737  | b2: 1.3432105097434315\n"
     ]
    }
   ],
   "source": [
    "f0 = lambda x1, x2 : 1\n",
    "f1 = lambda x1, x2 : x1\n",
    "f2 = lambda x1, x2 : x2\n",
    "\n",
    "y_column =  np.array(Y).transpose()\n",
    "\n",
    "F = [\n",
    "    np.array([f0(X[i], X2[i]), f1(X1[i], X2[i]), f2(X1[i], X2[i])]) for i in range(len(Y))\n",
    "]\n",
    "\n",
    "F = np.array(F)\n",
    "\n",
    "b = np.dot(np.dot(np.linalg.inv(np.dot(F.transpose(), F)), F.transpose()), y_column)\n",
    "\n",
    "b0 = b[0]\n",
    "b1 = b[1]\n",
    "b2 = b[2]\n",
    "\n",
    "\n",
    "print (\"b0:\",b0,\" | b1:\",b1,\" | b2:\",b2)\n",
    "\n",
    "\n",
    "reg_func = lambda x1, x2: b0 + b1*x1 + b2*x2"
   ]
  },
  {
   "cell_type": "code",
   "execution_count": 157,
   "metadata": {},
   "outputs": [],
   "source": [
    "regr_func = -34.010052532796976 - 0.01898226968199737*X1 + 1.3432105097434315*X2\n",
    "k = 3\n",
    "\n",
    "D_regr = 0\n",
    "for i in range(len(X)):\n",
    "    D_regr += (regr_func[i] - np.mean(Y))**2 \n",
    "D_regr = D_regr/len(X)\n",
    "\n",
    "D_res = 0\n",
    "for i in range(len(X)):\n",
    "    D_res += (Y[i] - regr_func[i])**2\n",
    "D_res = D_res/len(X)\n",
    "\n",
    "D_Y = 0\n",
    "for i in range(len(X)):\n",
    "    D_Y += (Y[i] - np.mean(Y))**2\n",
    "D_Y = D_Y/len(X)"
   ]
  },
  {
   "cell_type": "code",
   "execution_count": 158,
   "metadata": {},
   "outputs": [
    {
     "name": "stdout",
     "output_type": "stream",
     "text": [
      "8783.951366884026\n",
      "331.47279250055146\n",
      "9115.424159384516\n"
     ]
    }
   ],
   "source": [
    "print(D_regr)\n",
    "print(D_res)\n",
    "print(D_Y)"
   ]
  },
  {
   "cell_type": "code",
   "execution_count": 159,
   "metadata": {},
   "outputs": [
    {
     "name": "stdout",
     "output_type": "stream",
     "text": [
      "4712589.90833328\n",
      "332.4021554701792\n",
      "9123.927353563045\n"
     ]
    }
   ],
   "source": [
    "print(D_regr*len(X)/(k-1))\n",
    "print(D_res*len(X)/(len(X)-k))\n",
    "print(D_Y*len(X)/(len(X)-1))"
   ]
  },
  {
   "cell_type": "code",
   "execution_count": 160,
   "metadata": {},
   "outputs": [
    {
     "data": {
      "text/plain": [
       "9115.424159384578"
      ]
     },
     "execution_count": 160,
     "metadata": {},
     "output_type": "execute_result"
    }
   ],
   "source": [
    "D_res+D_regr"
   ]
  },
  {
   "cell_type": "code",
   "execution_count": 161,
   "metadata": {},
   "outputs": [
    {
     "name": "stdout",
     "output_type": "stream",
     "text": [
      "0.963636053934009\n",
      "0.9816496594681877\n"
     ]
    }
   ],
   "source": [
    "coef_det = D_regr/D_Y\n",
    "correl_ratio = np.power(coef_det, 1/2)\n",
    "print(coef_det)\n",
    "print(correl_ratio)"
   ]
  },
  {
   "cell_type": "code",
   "execution_count": null,
   "metadata": {},
   "outputs": [],
   "source": []
  }
 ],
 "metadata": {
  "kernelspec": {
   "display_name": "Python 3",
   "language": "python",
   "name": "python3"
  },
  "language_info": {
   "codemirror_mode": {
    "name": "ipython",
    "version": 3
   },
   "file_extension": ".py",
   "mimetype": "text/x-python",
   "name": "python",
   "nbconvert_exporter": "python",
   "pygments_lexer": "ipython3",
   "version": "3.6.8"
  }
 },
 "nbformat": 4,
 "nbformat_minor": 2
}

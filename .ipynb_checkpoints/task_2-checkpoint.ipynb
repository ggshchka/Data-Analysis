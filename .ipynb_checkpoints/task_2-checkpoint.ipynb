{
 "cells": [
  {
   "cell_type": "code",
   "execution_count": 1,
   "metadata": {},
   "outputs": [],
   "source": [
    "import helper as hp\n",
    "import pandas as pd\n",
    "import matplotlib.pyplot as plt\n",
    "import numpy as np\n",
    "from scipy import stats\n",
    "import math"
   ]
  },
  {
   "cell_type": "markdown",
   "metadata": {},
   "source": [
    "# 2.1"
   ]
  },
  {
   "cell_type": "code",
   "execution_count": 2,
   "metadata": {},
   "outputs": [],
   "source": [
    "my_var = 13\n",
    "task_2_1 = '2.1'"
   ]
  },
  {
   "cell_type": "code",
   "execution_count": 3,
   "metadata": {},
   "outputs": [],
   "source": [
    "df_1 = hp.get_data(task_2_1, hp.get_tasks_var(my_var))"
   ]
  },
  {
   "cell_type": "code",
   "execution_count": 4,
   "metadata": {},
   "outputs": [
    {
     "data": {
      "text/html": [
       "<div>\n",
       "<style scoped>\n",
       "    .dataframe tbody tr th:only-of-type {\n",
       "        vertical-align: middle;\n",
       "    }\n",
       "\n",
       "    .dataframe tbody tr th {\n",
       "        vertical-align: top;\n",
       "    }\n",
       "\n",
       "    .dataframe thead th {\n",
       "        text-align: right;\n",
       "    }\n",
       "</style>\n",
       "<table border=\"1\" class=\"dataframe\">\n",
       "  <thead>\n",
       "    <tr style=\"text-align: right;\">\n",
       "      <th></th>\n",
       "      <th>A8</th>\n",
       "    </tr>\n",
       "  </thead>\n",
       "  <tbody>\n",
       "    <tr>\n",
       "      <th>0</th>\n",
       "      <td>382</td>\n",
       "    </tr>\n",
       "    <tr>\n",
       "      <th>1</th>\n",
       "      <td>508</td>\n",
       "    </tr>\n",
       "    <tr>\n",
       "      <th>2</th>\n",
       "      <td>415</td>\n",
       "    </tr>\n",
       "    <tr>\n",
       "      <th>3</th>\n",
       "      <td>498</td>\n",
       "    </tr>\n",
       "    <tr>\n",
       "      <th>4</th>\n",
       "      <td>350</td>\n",
       "    </tr>\n",
       "    <tr>\n",
       "      <th>...</th>\n",
       "      <td>...</td>\n",
       "    </tr>\n",
       "    <tr>\n",
       "      <th>1068</th>\n",
       "      <td>349</td>\n",
       "    </tr>\n",
       "    <tr>\n",
       "      <th>1069</th>\n",
       "      <td>439</td>\n",
       "    </tr>\n",
       "    <tr>\n",
       "      <th>1070</th>\n",
       "      <td>383</td>\n",
       "    </tr>\n",
       "    <tr>\n",
       "      <th>1071</th>\n",
       "      <td>315</td>\n",
       "    </tr>\n",
       "    <tr>\n",
       "      <th>1072</th>\n",
       "      <td>445</td>\n",
       "    </tr>\n",
       "  </tbody>\n",
       "</table>\n",
       "<p>1073 rows × 1 columns</p>\n",
       "</div>"
      ],
      "text/plain": [
       "       A8\n",
       "0     382\n",
       "1     508\n",
       "2     415\n",
       "3     498\n",
       "4     350\n",
       "...   ...\n",
       "1068  349\n",
       "1069  439\n",
       "1070  383\n",
       "1071  315\n",
       "1072  445\n",
       "\n",
       "[1073 rows x 1 columns]"
      ]
     },
     "execution_count": 4,
     "metadata": {},
     "output_type": "execute_result"
    }
   ],
   "source": [
    "df_1"
   ]
  },
  {
   "cell_type": "code",
   "execution_count": 5,
   "metadata": {},
   "outputs": [],
   "source": [
    "def mean_confidence_interval(data, confidence, attrbt):\n",
    "    a = 1.0*np.array(data)\n",
    "    n = len(a)\n",
    "    m, se = attrbt(a), stats.sem(a)\n",
    "    h = se * stats.t._ppf((1+confidence)/2., n-1)\n",
    "    return m-h, m+h"
   ]
  },
  {
   "cell_type": "code",
   "execution_count": 6,
   "metadata": {},
   "outputs": [],
   "source": [
    "def illstr_table(data, attrbt):\n",
    "    intr = [mean_confidence_interval(data, 0.99, attrbt), \n",
    "          mean_confidence_interval(data, 0.95, attrbt), \n",
    "          mean_confidence_interval(data, 0.90, attrbt)]\n",
    "    left_board = [intr[i][0] for i in range(3)]\n",
    "    right_board = [intr[i][1] for i in range(3)]\n",
    "    display(pd.DataFrame([left_board, right_board]).rename(index={0:'Левая граница', 1:'Правая граница'}, \n",
    "                                               columns={0: 'alpha = 0.99', 1: 'alpha = 0.95', 2: 'alpha = 0.90'}))\n",
    "    "
   ]
  },
  {
   "cell_type": "code",
   "execution_count": 7,
   "metadata": {},
   "outputs": [
    {
     "data": {
      "text/html": [
       "<div>\n",
       "<style scoped>\n",
       "    .dataframe tbody tr th:only-of-type {\n",
       "        vertical-align: middle;\n",
       "    }\n",
       "\n",
       "    .dataframe tbody tr th {\n",
       "        vertical-align: top;\n",
       "    }\n",
       "\n",
       "    .dataframe thead th {\n",
       "        text-align: right;\n",
       "    }\n",
       "</style>\n",
       "<table border=\"1\" class=\"dataframe\">\n",
       "  <thead>\n",
       "    <tr style=\"text-align: right;\">\n",
       "      <th></th>\n",
       "      <th>alpha = 0.99</th>\n",
       "      <th>alpha = 0.95</th>\n",
       "      <th>alpha = 0.90</th>\n",
       "    </tr>\n",
       "  </thead>\n",
       "  <tbody>\n",
       "    <tr>\n",
       "      <th>Левая граница</th>\n",
       "      <td>[420.89153457926255]</td>\n",
       "      <td>[422.60246785148496]</td>\n",
       "      <td>[423.47670060495653]</td>\n",
       "    </tr>\n",
       "    <tr>\n",
       "      <th>Правая граница</th>\n",
       "      <td>[435.17370307218204]</td>\n",
       "      <td>[433.46276979995963]</td>\n",
       "      <td>[432.58853704648806]</td>\n",
       "    </tr>\n",
       "  </tbody>\n",
       "</table>\n",
       "</div>"
      ],
      "text/plain": [
       "                        alpha = 0.99          alpha = 0.95  \\\n",
       "Левая граница   [420.89153457926255]  [422.60246785148496]   \n",
       "Правая граница  [435.17370307218204]  [433.46276979995963]   \n",
       "\n",
       "                        alpha = 0.90  \n",
       "Левая граница   [423.47670060495653]  \n",
       "Правая граница  [432.58853704648806]  "
      ]
     },
     "metadata": {},
     "output_type": "display_data"
    }
   ],
   "source": [
    "illstr_table(df_1, attrbt=np.mean)"
   ]
  },
  {
   "cell_type": "markdown",
   "metadata": {},
   "source": [
    "# 2.2"
   ]
  },
  {
   "cell_type": "code",
   "execution_count": 8,
   "metadata": {},
   "outputs": [],
   "source": [
    "task_2_2 = '2.2'"
   ]
  },
  {
   "cell_type": "code",
   "execution_count": 9,
   "metadata": {},
   "outputs": [],
   "source": [
    "df_2 = hp.get_data(task_2_2, hp.get_tasks_var(my_var))"
   ]
  },
  {
   "cell_type": "code",
   "execution_count": 10,
   "metadata": {},
   "outputs": [
    {
     "data": {
      "text/html": [
       "<div>\n",
       "<style scoped>\n",
       "    .dataframe tbody tr th:only-of-type {\n",
       "        vertical-align: middle;\n",
       "    }\n",
       "\n",
       "    .dataframe tbody tr th {\n",
       "        vertical-align: top;\n",
       "    }\n",
       "\n",
       "    .dataframe thead th {\n",
       "        text-align: right;\n",
       "    }\n",
       "</style>\n",
       "<table border=\"1\" class=\"dataframe\">\n",
       "  <thead>\n",
       "    <tr style=\"text-align: right;\">\n",
       "      <th></th>\n",
       "      <th>A8</th>\n",
       "    </tr>\n",
       "  </thead>\n",
       "  <tbody>\n",
       "    <tr>\n",
       "      <th>0</th>\n",
       "      <td>382</td>\n",
       "    </tr>\n",
       "    <tr>\n",
       "      <th>1</th>\n",
       "      <td>508</td>\n",
       "    </tr>\n",
       "    <tr>\n",
       "      <th>2</th>\n",
       "      <td>415</td>\n",
       "    </tr>\n",
       "    <tr>\n",
       "      <th>3</th>\n",
       "      <td>498</td>\n",
       "    </tr>\n",
       "    <tr>\n",
       "      <th>4</th>\n",
       "      <td>350</td>\n",
       "    </tr>\n",
       "    <tr>\n",
       "      <th>...</th>\n",
       "      <td>...</td>\n",
       "    </tr>\n",
       "    <tr>\n",
       "      <th>1068</th>\n",
       "      <td>349</td>\n",
       "    </tr>\n",
       "    <tr>\n",
       "      <th>1069</th>\n",
       "      <td>439</td>\n",
       "    </tr>\n",
       "    <tr>\n",
       "      <th>1070</th>\n",
       "      <td>383</td>\n",
       "    </tr>\n",
       "    <tr>\n",
       "      <th>1071</th>\n",
       "      <td>315</td>\n",
       "    </tr>\n",
       "    <tr>\n",
       "      <th>1072</th>\n",
       "      <td>445</td>\n",
       "    </tr>\n",
       "  </tbody>\n",
       "</table>\n",
       "<p>1073 rows × 1 columns</p>\n",
       "</div>"
      ],
      "text/plain": [
       "       A8\n",
       "0     382\n",
       "1     508\n",
       "2     415\n",
       "3     498\n",
       "4     350\n",
       "...   ...\n",
       "1068  349\n",
       "1069  439\n",
       "1070  383\n",
       "1071  315\n",
       "1072  445\n",
       "\n",
       "[1073 rows x 1 columns]"
      ]
     },
     "execution_count": 10,
     "metadata": {},
     "output_type": "execute_result"
    }
   ],
   "source": [
    "df_2"
   ]
  },
  {
   "cell_type": "code",
   "execution_count": 11,
   "metadata": {},
   "outputs": [
    {
     "data": {
      "text/html": [
       "<div>\n",
       "<style scoped>\n",
       "    .dataframe tbody tr th:only-of-type {\n",
       "        vertical-align: middle;\n",
       "    }\n",
       "\n",
       "    .dataframe tbody tr th {\n",
       "        vertical-align: top;\n",
       "    }\n",
       "\n",
       "    .dataframe thead th {\n",
       "        text-align: right;\n",
       "    }\n",
       "</style>\n",
       "<table border=\"1\" class=\"dataframe\">\n",
       "  <thead>\n",
       "    <tr style=\"text-align: right;\">\n",
       "      <th></th>\n",
       "      <th>alpha = 0.99</th>\n",
       "      <th>alpha = 0.95</th>\n",
       "      <th>alpha = 0.90</th>\n",
       "    </tr>\n",
       "  </thead>\n",
       "  <tbody>\n",
       "    <tr>\n",
       "      <th>Левая граница</th>\n",
       "      <td>[8202.82150507423]</td>\n",
       "      <td>[8204.53243834645]</td>\n",
       "      <td>[8205.406671099923]</td>\n",
       "    </tr>\n",
       "    <tr>\n",
       "      <th>Правая граница</th>\n",
       "      <td>[8217.103673567148]</td>\n",
       "      <td>[8215.392740294927]</td>\n",
       "      <td>[8214.518507541454]</td>\n",
       "    </tr>\n",
       "  </tbody>\n",
       "</table>\n",
       "</div>"
      ],
      "text/plain": [
       "                       alpha = 0.99         alpha = 0.95         alpha = 0.90\n",
       "Левая граница    [8202.82150507423]   [8204.53243834645]  [8205.406671099923]\n",
       "Правая граница  [8217.103673567148]  [8215.392740294927]  [8214.518507541454]"
      ]
     },
     "metadata": {},
     "output_type": "display_data"
    }
   ],
   "source": [
    "illstr_table(df_1, attrbt=np.var)"
   ]
  },
  {
   "cell_type": "markdown",
   "metadata": {},
   "source": [
    "# 2.3"
   ]
  },
  {
   "cell_type": "code",
   "execution_count": 12,
   "metadata": {},
   "outputs": [],
   "source": [
    "task_2_3 = '2.3'"
   ]
  },
  {
   "cell_type": "code",
   "execution_count": 13,
   "metadata": {},
   "outputs": [],
   "source": [
    "df_3 = hp.get_data(task_2_3, hp.get_tasks_var(my_var))"
   ]
  },
  {
   "cell_type": "code",
   "execution_count": 14,
   "metadata": {},
   "outputs": [
    {
     "data": {
      "text/html": [
       "<div>\n",
       "<style scoped>\n",
       "    .dataframe tbody tr th:only-of-type {\n",
       "        vertical-align: middle;\n",
       "    }\n",
       "\n",
       "    .dataframe tbody tr th {\n",
       "        vertical-align: top;\n",
       "    }\n",
       "\n",
       "    .dataframe thead th {\n",
       "        text-align: right;\n",
       "    }\n",
       "</style>\n",
       "<table border=\"1\" class=\"dataframe\">\n",
       "  <thead>\n",
       "    <tr style=\"text-align: right;\">\n",
       "      <th></th>\n",
       "      <th>A5</th>\n",
       "      <th>A8</th>\n",
       "    </tr>\n",
       "  </thead>\n",
       "  <tbody>\n",
       "    <tr>\n",
       "      <th>0</th>\n",
       "      <td>454</td>\n",
       "      <td>382</td>\n",
       "    </tr>\n",
       "    <tr>\n",
       "      <th>1</th>\n",
       "      <td>686</td>\n",
       "      <td>508</td>\n",
       "    </tr>\n",
       "    <tr>\n",
       "      <th>2</th>\n",
       "      <td>533</td>\n",
       "      <td>415</td>\n",
       "    </tr>\n",
       "    <tr>\n",
       "      <th>3</th>\n",
       "      <td>612</td>\n",
       "      <td>498</td>\n",
       "    </tr>\n",
       "    <tr>\n",
       "      <th>4</th>\n",
       "      <td>442</td>\n",
       "      <td>350</td>\n",
       "    </tr>\n",
       "    <tr>\n",
       "      <th>...</th>\n",
       "      <td>...</td>\n",
       "      <td>...</td>\n",
       "    </tr>\n",
       "    <tr>\n",
       "      <th>1068</th>\n",
       "      <td>408</td>\n",
       "      <td>349</td>\n",
       "    </tr>\n",
       "    <tr>\n",
       "      <th>1069</th>\n",
       "      <td>535</td>\n",
       "      <td>439</td>\n",
       "    </tr>\n",
       "    <tr>\n",
       "      <th>1070</th>\n",
       "      <td>441</td>\n",
       "      <td>383</td>\n",
       "    </tr>\n",
       "    <tr>\n",
       "      <th>1071</th>\n",
       "      <td>403</td>\n",
       "      <td>315</td>\n",
       "    </tr>\n",
       "    <tr>\n",
       "      <th>1072</th>\n",
       "      <td>539</td>\n",
       "      <td>445</td>\n",
       "    </tr>\n",
       "  </tbody>\n",
       "</table>\n",
       "<p>1073 rows × 2 columns</p>\n",
       "</div>"
      ],
      "text/plain": [
       "       A5   A8\n",
       "0     454  382\n",
       "1     686  508\n",
       "2     533  415\n",
       "3     612  498\n",
       "4     442  350\n",
       "...   ...  ...\n",
       "1068  408  349\n",
       "1069  535  439\n",
       "1070  441  383\n",
       "1071  403  315\n",
       "1072  539  445\n",
       "\n",
       "[1073 rows x 2 columns]"
      ]
     },
     "execution_count": 14,
     "metadata": {},
     "output_type": "execute_result"
    }
   ],
   "source": [
    "df_3"
   ]
  },
  {
   "cell_type": "code",
   "execution_count": 15,
   "metadata": {},
   "outputs": [],
   "source": [
    "def dif_mean_confidence_interval(data_1, data_2, confidence, attrbt):\n",
    "    a_1 = 1.0*np.array(data_1)\n",
    "    a_2 = 1.0*np.array(data_2)\n",
    "    n_1 = len(a_1)\n",
    "    n_2 = len(a_2)\n",
    "    m_1, se_1 = attrbt(a_1), stats.sem(a_1)\n",
    "    m_2, se_2 = attrbt(a_2), stats.sem(a_2)\n",
    "    h = max(se_1 * stats.t._ppf((1+confidence)/2., n_1-1), se_2 * stats.t._ppf((1+confidence)/2., n_2-1))\n",
    "    m = m_1 - m_2\n",
    "    return m-h, m+h"
   ]
  },
  {
   "cell_type": "code",
   "execution_count": 16,
   "metadata": {},
   "outputs": [],
   "source": [
    "def dif_illstr_table(data_1, data_2, attrbt):\n",
    "    intr = [  \n",
    "              dif_mean_confidence_interval(data_1, data_2, 0.99, attrbt), \n",
    "              dif_mean_confidence_interval(data_1, data_2, 0.95, attrbt),\n",
    "              dif_mean_confidence_interval(data_1, data_2, 0.90, attrbt),\n",
    "           ]\n",
    "    left_board = [intr[i][0] for i in range(3)]\n",
    "    right_board = [intr[i][1] for i in range(3)]\n",
    "    display(pd.DataFrame([left_board, right_board]).rename(index={0:'Левая граница', 1:'Правая граница'}, \n",
    "                                               columns={0: 'alpha = 0.99', 1: 'alpha = 0.95', 2: 'alpha = 0.90'}))"
   ]
  },
  {
   "cell_type": "code",
   "execution_count": 17,
   "metadata": {},
   "outputs": [
    {
     "data": {
      "text/html": [
       "<div>\n",
       "<style scoped>\n",
       "    .dataframe tbody tr th:only-of-type {\n",
       "        vertical-align: middle;\n",
       "    }\n",
       "\n",
       "    .dataframe tbody tr th {\n",
       "        vertical-align: top;\n",
       "    }\n",
       "\n",
       "    .dataframe thead th {\n",
       "        text-align: right;\n",
       "    }\n",
       "</style>\n",
       "<table border=\"1\" class=\"dataframe\">\n",
       "  <thead>\n",
       "    <tr style=\"text-align: right;\">\n",
       "      <th></th>\n",
       "      <th>alpha = 0.99</th>\n",
       "      <th>alpha = 0.95</th>\n",
       "      <th>alpha = 0.90</th>\n",
       "    </tr>\n",
       "  </thead>\n",
       "  <tbody>\n",
       "    <tr>\n",
       "      <th>Левая граница</th>\n",
       "      <td>89.173989</td>\n",
       "      <td>91.396687</td>\n",
       "      <td>92.532415</td>\n",
       "    </tr>\n",
       "    <tr>\n",
       "      <th>Правая граница</th>\n",
       "      <td>107.728154</td>\n",
       "      <td>105.505457</td>\n",
       "      <td>104.369729</td>\n",
       "    </tr>\n",
       "  </tbody>\n",
       "</table>\n",
       "</div>"
      ],
      "text/plain": [
       "                alpha = 0.99  alpha = 0.95  alpha = 0.90\n",
       "Левая граница      89.173989     91.396687     92.532415\n",
       "Правая граница    107.728154    105.505457    104.369729"
      ]
     },
     "metadata": {},
     "output_type": "display_data"
    }
   ],
   "source": [
    "dif_illstr_table(df_3['A5'], df_3['A8'], np.mean)"
   ]
  },
  {
   "cell_type": "code",
   "execution_count": 18,
   "metadata": {},
   "outputs": [
    {
     "data": {
      "text/html": [
       "<div>\n",
       "<style scoped>\n",
       "    .dataframe tbody tr th:only-of-type {\n",
       "        vertical-align: middle;\n",
       "    }\n",
       "\n",
       "    .dataframe tbody tr th {\n",
       "        vertical-align: top;\n",
       "    }\n",
       "\n",
       "    .dataframe thead th {\n",
       "        text-align: right;\n",
       "    }\n",
       "</style>\n",
       "<table border=\"1\" class=\"dataframe\">\n",
       "  <thead>\n",
       "    <tr style=\"text-align: right;\">\n",
       "      <th></th>\n",
       "      <th>alpha = 0.99</th>\n",
       "      <th>alpha = 0.95</th>\n",
       "      <th>alpha = 0.90</th>\n",
       "    </tr>\n",
       "  </thead>\n",
       "  <tbody>\n",
       "    <tr>\n",
       "      <th>Левая граница</th>\n",
       "      <td>89.173989</td>\n",
       "      <td>91.396687</td>\n",
       "      <td>92.532415</td>\n",
       "    </tr>\n",
       "    <tr>\n",
       "      <th>Правая граница</th>\n",
       "      <td>107.728154</td>\n",
       "      <td>105.505457</td>\n",
       "      <td>104.369729</td>\n",
       "    </tr>\n",
       "  </tbody>\n",
       "</table>\n",
       "</div>"
      ],
      "text/plain": [
       "                alpha = 0.99  alpha = 0.95  alpha = 0.90\n",
       "Левая граница      89.173989     91.396687     92.532415\n",
       "Правая граница    107.728154    105.505457    104.369729"
      ]
     },
     "metadata": {},
     "output_type": "display_data"
    }
   ],
   "source": [
    "dif_illstr_table(df_3['A5'], df_3['A8'], np.mean)"
   ]
  },
  {
   "cell_type": "code",
   "execution_count": 19,
   "metadata": {},
   "outputs": [],
   "source": [
    "def div_std_confidence_interval(data_1, data_2, confidence, attrbt):\n",
    "    a_1 = 1.0*np.array(data_1)\n",
    "    a_2 = 1.0*np.array(data_2)\n",
    "    n_1 = len(a_1)\n",
    "    n_2 = len(a_2)\n",
    "    m_1, se_1 = attrbt(a_1), stats.sem(a_1)\n",
    "    m_2, se_2 = attrbt(a_2), stats.sem(a_2)\n",
    "    h = (se_1 * stats.t._ppf((1+confidence)/2., n_1-1)) / (se_2 * stats.t._ppf((1+confidence)/2., n_2-1))\n",
    "    m = m_1 / m_2\n",
    "    return m-h, m+h"
   ]
  },
  {
   "cell_type": "code",
   "execution_count": 20,
   "metadata": {},
   "outputs": [],
   "source": [
    "def div_illstr_table(data_1, data_2, attrbt):\n",
    "    intr = [  \n",
    "              div_std_confidence_interval(data_1, data_2, 0.99, attrbt), \n",
    "              div_std_confidence_interval(data_1, data_2, 0.95, attrbt),\n",
    "              div_std_confidence_interval(data_1, data_2, 0.90, attrbt),\n",
    "           ]\n",
    "    left_board = [intr[i][0] for i in range(3)]\n",
    "    right_board = [intr[i][1] for i in range(3)]\n",
    "    display(pd.DataFrame([left_board, right_board]).rename(index={0:'Левая граница', 1:'Правая граница'}, \n",
    "                                               columns={0: 'alpha = 0.99', 1: 'alpha = 0.95', 2: 'alpha = 0.90'}))"
   ]
  },
  {
   "cell_type": "code",
   "execution_count": 21,
   "metadata": {},
   "outputs": [
    {
     "data": {
      "text/html": [
       "<div>\n",
       "<style scoped>\n",
       "    .dataframe tbody tr th:only-of-type {\n",
       "        vertical-align: middle;\n",
       "    }\n",
       "\n",
       "    .dataframe tbody tr th {\n",
       "        vertical-align: top;\n",
       "    }\n",
       "\n",
       "    .dataframe thead th {\n",
       "        text-align: right;\n",
       "    }\n",
       "</style>\n",
       "<table border=\"1\" class=\"dataframe\">\n",
       "  <thead>\n",
       "    <tr style=\"text-align: right;\">\n",
       "      <th></th>\n",
       "      <th>alpha = 0.99</th>\n",
       "      <th>alpha = 0.95</th>\n",
       "      <th>alpha = 0.90</th>\n",
       "    </tr>\n",
       "  </thead>\n",
       "  <tbody>\n",
       "    <tr>\n",
       "      <th>Левая граница</th>\n",
       "      <td>2.220446e-16</td>\n",
       "      <td>0.000000</td>\n",
       "      <td>0.000000</td>\n",
       "    </tr>\n",
       "    <tr>\n",
       "      <th>Правая граница</th>\n",
       "      <td>2.598228e+00</td>\n",
       "      <td>2.598228</td>\n",
       "      <td>2.598228</td>\n",
       "    </tr>\n",
       "  </tbody>\n",
       "</table>\n",
       "</div>"
      ],
      "text/plain": [
       "                alpha = 0.99  alpha = 0.95  alpha = 0.90\n",
       "Левая граница   2.220446e-16      0.000000      0.000000\n",
       "Правая граница  2.598228e+00      2.598228      2.598228"
      ]
     },
     "metadata": {},
     "output_type": "display_data"
    }
   ],
   "source": [
    "div_illstr_table(df_3['A5'], df_3['A8'], np.std)"
   ]
  },
  {
   "cell_type": "code",
   "execution_count": 23,
   "metadata": {},
   "outputs": [
    {
     "data": {
      "text/html": [
       "<div>\n",
       "<style scoped>\n",
       "    .dataframe tbody tr th:only-of-type {\n",
       "        vertical-align: middle;\n",
       "    }\n",
       "\n",
       "    .dataframe tbody tr th {\n",
       "        vertical-align: top;\n",
       "    }\n",
       "\n",
       "    .dataframe thead th {\n",
       "        text-align: right;\n",
       "    }\n",
       "</style>\n",
       "<table border=\"1\" class=\"dataframe\">\n",
       "  <thead>\n",
       "    <tr style=\"text-align: right;\">\n",
       "      <th></th>\n",
       "      <th>A7</th>\n",
       "    </tr>\n",
       "  </thead>\n",
       "  <tbody>\n",
       "    <tr>\n",
       "      <th>0</th>\n",
       "      <td>362</td>\n",
       "    </tr>\n",
       "    <tr>\n",
       "      <th>1</th>\n",
       "      <td>432</td>\n",
       "    </tr>\n",
       "    <tr>\n",
       "      <th>2</th>\n",
       "      <td>329</td>\n",
       "    </tr>\n",
       "    <tr>\n",
       "      <th>3</th>\n",
       "      <td>414</td>\n",
       "    </tr>\n",
       "    <tr>\n",
       "      <th>4</th>\n",
       "      <td>310</td>\n",
       "    </tr>\n",
       "    <tr>\n",
       "      <th>...</th>\n",
       "      <td>...</td>\n",
       "    </tr>\n",
       "    <tr>\n",
       "      <th>1068</th>\n",
       "      <td>297</td>\n",
       "    </tr>\n",
       "    <tr>\n",
       "      <th>1069</th>\n",
       "      <td>361</td>\n",
       "    </tr>\n",
       "    <tr>\n",
       "      <th>1070</th>\n",
       "      <td>339</td>\n",
       "    </tr>\n",
       "    <tr>\n",
       "      <th>1071</th>\n",
       "      <td>282</td>\n",
       "    </tr>\n",
       "    <tr>\n",
       "      <th>1072</th>\n",
       "      <td>374</td>\n",
       "    </tr>\n",
       "  </tbody>\n",
       "</table>\n",
       "<p>1073 rows × 1 columns</p>\n",
       "</div>"
      ],
      "text/plain": [
       "       A7\n",
       "0     362\n",
       "1     432\n",
       "2     329\n",
       "3     414\n",
       "4     310\n",
       "...   ...\n",
       "1068  297\n",
       "1069  361\n",
       "1070  339\n",
       "1071  282\n",
       "1072  374\n",
       "\n",
       "[1073 rows x 1 columns]"
      ]
     },
     "execution_count": 23,
     "metadata": {},
     "output_type": "execute_result"
    }
   ],
   "source": [
    "hp.get_data(task_2_1, hp.get_tasks_var(9))"
   ]
  }
 ],
 "metadata": {
  "kernelspec": {
   "display_name": "Python 3",
   "language": "python",
   "name": "python3"
  },
  "language_info": {
   "codemirror_mode": {
    "name": "ipython",
    "version": 3
   },
   "file_extension": ".py",
   "mimetype": "text/x-python",
   "name": "python",
   "nbconvert_exporter": "python",
   "pygments_lexer": "ipython3",
   "version": "3.6.8"
  }
 },
 "nbformat": 4,
 "nbformat_minor": 2
}

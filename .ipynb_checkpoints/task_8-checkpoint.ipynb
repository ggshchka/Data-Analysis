{
 "cells": [
  {
   "cell_type": "markdown",
   "metadata": {},
   "source": [
    "## Task-8. Корреляционный анализ"
   ]
  },
  {
   "cell_type": "code",
   "execution_count": 2,
   "metadata": {},
   "outputs": [],
   "source": [
    "import helper as hp\n",
    "import pandas as pd\n",
    "import matplotlib.pyplot as plt\n",
    "import numpy as np\n",
    "from scipy import stats\n",
    "import math"
   ]
  },
  {
   "cell_type": "code",
   "execution_count": 3,
   "metadata": {},
   "outputs": [],
   "source": [
    "my_var = 13"
   ]
  },
  {
   "cell_type": "code",
   "execution_count": 4,
   "metadata": {},
   "outputs": [],
   "source": [
    "df_1 = hp.get_data('8.1', hp.get_tasks_var(my_var))\n",
    "df_2 = hp.get_data('8.2', hp.get_tasks_var(my_var))"
   ]
  },
  {
   "cell_type": "markdown",
   "metadata": {},
   "source": [
    "### 8.1. Расчёт парных коэффициентов корреляции\n"
   ]
  },
  {
   "cell_type": "code",
   "execution_count": 5,
   "metadata": {},
   "outputs": [
    {
     "data": {
      "text/html": [
       "<div>\n",
       "<style scoped>\n",
       "    .dataframe tbody tr th:only-of-type {\n",
       "        vertical-align: middle;\n",
       "    }\n",
       "\n",
       "    .dataframe tbody tr th {\n",
       "        vertical-align: top;\n",
       "    }\n",
       "\n",
       "    .dataframe thead th {\n",
       "        text-align: right;\n",
       "    }\n",
       "</style>\n",
       "<table border=\"1\" class=\"dataframe\">\n",
       "  <thead>\n",
       "    <tr style=\"text-align: right;\">\n",
       "      <th></th>\n",
       "      <th>A5</th>\n",
       "      <th>A8</th>\n",
       "    </tr>\n",
       "  </thead>\n",
       "  <tbody>\n",
       "    <tr>\n",
       "      <th>0</th>\n",
       "      <td>454</td>\n",
       "      <td>382</td>\n",
       "    </tr>\n",
       "    <tr>\n",
       "      <th>1</th>\n",
       "      <td>686</td>\n",
       "      <td>508</td>\n",
       "    </tr>\n",
       "    <tr>\n",
       "      <th>2</th>\n",
       "      <td>533</td>\n",
       "      <td>415</td>\n",
       "    </tr>\n",
       "    <tr>\n",
       "      <th>3</th>\n",
       "      <td>612</td>\n",
       "      <td>498</td>\n",
       "    </tr>\n",
       "    <tr>\n",
       "      <th>4</th>\n",
       "      <td>442</td>\n",
       "      <td>350</td>\n",
       "    </tr>\n",
       "    <tr>\n",
       "      <th>...</th>\n",
       "      <td>...</td>\n",
       "      <td>...</td>\n",
       "    </tr>\n",
       "    <tr>\n",
       "      <th>1068</th>\n",
       "      <td>408</td>\n",
       "      <td>349</td>\n",
       "    </tr>\n",
       "    <tr>\n",
       "      <th>1069</th>\n",
       "      <td>535</td>\n",
       "      <td>439</td>\n",
       "    </tr>\n",
       "    <tr>\n",
       "      <th>1070</th>\n",
       "      <td>441</td>\n",
       "      <td>383</td>\n",
       "    </tr>\n",
       "    <tr>\n",
       "      <th>1071</th>\n",
       "      <td>403</td>\n",
       "      <td>315</td>\n",
       "    </tr>\n",
       "    <tr>\n",
       "      <th>1072</th>\n",
       "      <td>539</td>\n",
       "      <td>445</td>\n",
       "    </tr>\n",
       "  </tbody>\n",
       "</table>\n",
       "<p>1073 rows × 2 columns</p>\n",
       "</div>"
      ],
      "text/plain": [
       "       A5   A8\n",
       "0     454  382\n",
       "1     686  508\n",
       "2     533  415\n",
       "3     612  498\n",
       "4     442  350\n",
       "...   ...  ...\n",
       "1068  408  349\n",
       "1069  535  439\n",
       "1070  441  383\n",
       "1071  403  315\n",
       "1072  539  445\n",
       "\n",
       "[1073 rows x 2 columns]"
      ]
     },
     "execution_count": 5,
     "metadata": {},
     "output_type": "execute_result"
    }
   ],
   "source": [
    "df_1"
   ]
  },
  {
   "cell_type": "code",
   "execution_count": 6,
   "metadata": {},
   "outputs": [],
   "source": [
    "x1 = df_1['A5'].to_numpy()\n",
    "x2 = df_1['A8'].to_numpy()"
   ]
  },
  {
   "cell_type": "markdown",
   "metadata": {},
   "source": [
    "#### а) Рассчитать точечные оценки коэффициентов корреляции\n"
   ]
  },
  {
   "cell_type": "code",
   "execution_count": 7,
   "metadata": {},
   "outputs": [
    {
     "data": {
      "text/html": [
       "<div>\n",
       "<style scoped>\n",
       "    .dataframe tbody tr th:only-of-type {\n",
       "        vertical-align: middle;\n",
       "    }\n",
       "\n",
       "    .dataframe tbody tr th {\n",
       "        vertical-align: top;\n",
       "    }\n",
       "\n",
       "    .dataframe thead th {\n",
       "        text-align: right;\n",
       "    }\n",
       "</style>\n",
       "<table border=\"1\" class=\"dataframe\">\n",
       "  <thead>\n",
       "    <tr style=\"text-align: right;\">\n",
       "      <th></th>\n",
       "      <th>Линейный коэффициент корреляции</th>\n",
       "      <th>Ранговый коэффициент корреляции по Спирмену</th>\n",
       "      <th>Ранговый коэффициент корреляции по Кендаллу</th>\n",
       "    </tr>\n",
       "  </thead>\n",
       "  <tbody>\n",
       "    <tr>\n",
       "      <th>0</th>\n",
       "      <td>0.96765</td>\n",
       "      <td>0.964218</td>\n",
       "      <td>0.840527</td>\n",
       "    </tr>\n",
       "  </tbody>\n",
       "</table>\n",
       "</div>"
      ],
      "text/plain": [
       "   Линейный коэффициент корреляции  \\\n",
       "0                          0.96765   \n",
       "\n",
       "   Ранговый коэффициент корреляции по Спирмену  \\\n",
       "0                                     0.964218   \n",
       "\n",
       "   Ранговый коэффициент корреляции по Кендаллу  \n",
       "0                                     0.840527  "
      ]
     },
     "execution_count": 7,
     "metadata": {},
     "output_type": "execute_result"
    }
   ],
   "source": [
    "pd.DataFrame({\"Линейный коэффициент корреляции\" : [stats.pearsonr(x1, x2)[0]],\n",
    "              \"Ранговый коэффициент корреляции по Спирмену\" : [stats.spearmanr(x1, x2)[0]],\n",
    "              \"Ранговый коэффициент корреляции по Кендаллу\" : [stats.kendalltau(x1, x2)[0]]\n",
    "             })"
   ]
  },
  {
   "cell_type": "markdown",
   "metadata": {},
   "source": [
    "#### в) Рассчитать доверительные интервалы для линейного коэффициента корреляции"
   ]
  },
  {
   "cell_type": "code",
   "execution_count": 8,
   "metadata": {},
   "outputs": [
    {
     "data": {
      "text/plain": [
       "array([0.96223568, 0.97229818])"
      ]
     },
     "execution_count": 8,
     "metadata": {},
     "output_type": "execute_result"
    }
   ],
   "source": [
    "def get_corr_conf_int(x, y, alpha):\n",
    "    r, p = stats.pearsonr(x,y)\n",
    "    r_z = np.arctanh(r)\n",
    "    se = 1/np.sqrt(x.size-3)\n",
    "    z = stats.norm.ppf(1-alpha/2)\n",
    "    lo_z, hi_z = r_z-z*se, r_z+z*se\n",
    "    return np.tanh((lo_z, hi_z))\n",
    "get_corr_conf_int(x1, x2, alpha=0.01)"
   ]
  },
  {
   "cell_type": "code",
   "execution_count": 9,
   "metadata": {},
   "outputs": [
    {
     "data": {
      "text/html": [
       "<div>\n",
       "<style scoped>\n",
       "    .dataframe tbody tr th:only-of-type {\n",
       "        vertical-align: middle;\n",
       "    }\n",
       "\n",
       "    .dataframe tbody tr th {\n",
       "        vertical-align: top;\n",
       "    }\n",
       "\n",
       "    .dataframe thead th {\n",
       "        text-align: right;\n",
       "    }\n",
       "</style>\n",
       "<table border=\"1\" class=\"dataframe\">\n",
       "  <thead>\n",
       "    <tr style=\"text-align: right;\">\n",
       "      <th></th>\n",
       "      <th>Граница доверительного интервала</th>\n",
       "      <th>$\\alpha$ = 0.01</th>\n",
       "      <th>$\\alpha$ = 0.05</th>\n",
       "      <th>$\\alpha$ = 0.1</th>\n",
       "    </tr>\n",
       "  </thead>\n",
       "  <tbody>\n",
       "    <tr>\n",
       "      <th>0</th>\n",
       "      <td>Нижняя граница</td>\n",
       "      <td>0.962236</td>\n",
       "      <td>0.963606</td>\n",
       "      <td>0.964288</td>\n",
       "    </tr>\n",
       "    <tr>\n",
       "      <th>1</th>\n",
       "      <td>Верхняя граница</td>\n",
       "      <td>0.972298</td>\n",
       "      <td>0.971250</td>\n",
       "      <td>0.970699</td>\n",
       "    </tr>\n",
       "  </tbody>\n",
       "</table>\n",
       "</div>"
      ],
      "text/plain": [
       "  Граница доверительного интервала  $\\alpha$ = 0.01  $\\alpha$ = 0.05  \\\n",
       "0                   Нижняя граница         0.962236         0.963606   \n",
       "1                  Верхняя граница         0.972298         0.971250   \n",
       "\n",
       "   $\\alpha$ = 0.1  \n",
       "0        0.964288  \n",
       "1        0.970699  "
      ]
     },
     "execution_count": 9,
     "metadata": {},
     "output_type": "execute_result"
    }
   ],
   "source": [
    "pd.DataFrame({\"Граница доверительного интервала\" : [\"Нижняя граница\", \"Верхняя граница\"],\n",
    "              \"$\\\\alpha$ = 0.01\" : get_corr_conf_int(x1, x2, alpha=0.01),\n",
    "              \"$\\\\alpha$ = 0.05\" : get_corr_conf_int(x1, x2, alpha=0.05),\n",
    "              \"$\\\\alpha$ = 0.1\" : get_corr_conf_int(x1, x2, alpha=0.1),\n",
    "             })"
   ]
  },
  {
   "cell_type": "markdown",
   "metadata": {},
   "source": [
    "#### г) Указать формулы расчёта показателей, используемых при проверке значимости коэффициентов корреляции"
   ]
  },
  {
   "cell_type": "code",
   "execution_count": 10,
   "metadata": {},
   "outputs": [
    {
     "data": {
      "text/html": [
       "<div>\n",
       "<style scoped>\n",
       "    .dataframe tbody tr th:only-of-type {\n",
       "        vertical-align: middle;\n",
       "    }\n",
       "\n",
       "    .dataframe tbody tr th {\n",
       "        vertical-align: top;\n",
       "    }\n",
       "\n",
       "    .dataframe thead th {\n",
       "        text-align: right;\n",
       "    }\n",
       "</style>\n",
       "<table border=\"1\" class=\"dataframe\">\n",
       "  <thead>\n",
       "    <tr style=\"text-align: right;\">\n",
       "      <th></th>\n",
       "      <th>Стат. гипотеза, H0</th>\n",
       "      <th>crit</th>\n",
       "      <th>p-value</th>\n",
       "      <th>Стат. реш. при alpha = 0.01</th>\n",
       "      <th>Ошибка стат. решения</th>\n",
       "    </tr>\n",
       "  </thead>\n",
       "  <tbody>\n",
       "    <tr>\n",
       "      <th>0</th>\n",
       "      <td>H0: $r_{XY}$ = 0</td>\n",
       "      <td>0.967650</td>\n",
       "      <td>0.0</td>\n",
       "      <td></td>\n",
       "      <td></td>\n",
       "    </tr>\n",
       "    <tr>\n",
       "      <th>1</th>\n",
       "      <td>H0: $\\rho_{XY}$ = 0</td>\n",
       "      <td>0.964218</td>\n",
       "      <td>0.0</td>\n",
       "      <td></td>\n",
       "      <td></td>\n",
       "    </tr>\n",
       "    <tr>\n",
       "      <th>2</th>\n",
       "      <td>H0: $\\tau_{XY}$ = 0</td>\n",
       "      <td>0.840527</td>\n",
       "      <td>0.0</td>\n",
       "      <td></td>\n",
       "      <td></td>\n",
       "    </tr>\n",
       "  </tbody>\n",
       "</table>\n",
       "</div>"
      ],
      "text/plain": [
       "    Стат. гипотеза, H0      crit  p-value Стат. реш. при alpha = 0.01  \\\n",
       "0     H0: $r_{XY}$ = 0  0.967650      0.0                               \n",
       "1  H0: $\\rho_{XY}$ = 0  0.964218      0.0                               \n",
       "2  H0: $\\tau_{XY}$ = 0  0.840527      0.0                               \n",
       "\n",
       "  Ошибка стат. решения  \n",
       "0                       \n",
       "1                       \n",
       "2                       "
      ]
     },
     "execution_count": 10,
     "metadata": {},
     "output_type": "execute_result"
    }
   ],
   "source": [
    "pd.DataFrame({\"Стат. гипотеза, H0\" : [\"H0: $r_{XY}$ = 0\", \"H0: $\\rho_{XY}$ = 0\", \"H0: $\\tau_{XY}$ = 0\"],\n",
    "              \"crit\" : [stats.pearsonr(x1, x2)[0], stats.spearmanr(x1, x2)[0], stats.kendalltau(x1, x2)[0]],\n",
    "              \"p-value\" : [stats.pearsonr(x1, x2)[1], stats.spearmanr(x1, x2)[1], stats.kendalltau(x1, x2)[1]],\n",
    "              \"Стат. реш. при alpha = 0.01\" : [\"\", \"\", \"\"],\n",
    "              \"Ошибка стат. решения\" : [\"\", \"\", \"\"],\n",
    "             })"
   ]
  },
  {
   "cell_type": "markdown",
   "metadata": {},
   "source": [
    "### 8.2. Расчёт множественных коэффициентов корреляции"
   ]
  },
  {
   "cell_type": "code",
   "execution_count": 11,
   "metadata": {},
   "outputs": [
    {
     "data": {
      "text/html": [
       "<div>\n",
       "<style scoped>\n",
       "    .dataframe tbody tr th:only-of-type {\n",
       "        vertical-align: middle;\n",
       "    }\n",
       "\n",
       "    .dataframe tbody tr th {\n",
       "        vertical-align: top;\n",
       "    }\n",
       "\n",
       "    .dataframe thead th {\n",
       "        text-align: right;\n",
       "    }\n",
       "</style>\n",
       "<table border=\"1\" class=\"dataframe\">\n",
       "  <thead>\n",
       "    <tr style=\"text-align: right;\">\n",
       "      <th></th>\n",
       "      <th>A5</th>\n",
       "      <th>A6</th>\n",
       "      <th>A8</th>\n",
       "    </tr>\n",
       "  </thead>\n",
       "  <tbody>\n",
       "    <tr>\n",
       "      <th>0</th>\n",
       "      <td>454</td>\n",
       "      <td>382</td>\n",
       "      <td>382</td>\n",
       "    </tr>\n",
       "    <tr>\n",
       "      <th>1</th>\n",
       "      <td>686</td>\n",
       "      <td>560</td>\n",
       "      <td>508</td>\n",
       "    </tr>\n",
       "    <tr>\n",
       "      <th>2</th>\n",
       "      <td>533</td>\n",
       "      <td>494</td>\n",
       "      <td>415</td>\n",
       "    </tr>\n",
       "    <tr>\n",
       "      <th>3</th>\n",
       "      <td>612</td>\n",
       "      <td>507</td>\n",
       "      <td>498</td>\n",
       "    </tr>\n",
       "    <tr>\n",
       "      <th>4</th>\n",
       "      <td>442</td>\n",
       "      <td>369</td>\n",
       "      <td>350</td>\n",
       "    </tr>\n",
       "    <tr>\n",
       "      <th>...</th>\n",
       "      <td>...</td>\n",
       "      <td>...</td>\n",
       "      <td>...</td>\n",
       "    </tr>\n",
       "    <tr>\n",
       "      <th>1068</th>\n",
       "      <td>408</td>\n",
       "      <td>340</td>\n",
       "      <td>349</td>\n",
       "    </tr>\n",
       "    <tr>\n",
       "      <th>1069</th>\n",
       "      <td>535</td>\n",
       "      <td>431</td>\n",
       "      <td>439</td>\n",
       "    </tr>\n",
       "    <tr>\n",
       "      <th>1070</th>\n",
       "      <td>441</td>\n",
       "      <td>383</td>\n",
       "      <td>383</td>\n",
       "    </tr>\n",
       "    <tr>\n",
       "      <th>1071</th>\n",
       "      <td>403</td>\n",
       "      <td>348</td>\n",
       "      <td>315</td>\n",
       "    </tr>\n",
       "    <tr>\n",
       "      <th>1072</th>\n",
       "      <td>539</td>\n",
       "      <td>410</td>\n",
       "      <td>445</td>\n",
       "    </tr>\n",
       "  </tbody>\n",
       "</table>\n",
       "<p>1073 rows × 3 columns</p>\n",
       "</div>"
      ],
      "text/plain": [
       "       A5   A6   A8\n",
       "0     454  382  382\n",
       "1     686  560  508\n",
       "2     533  494  415\n",
       "3     612  507  498\n",
       "4     442  369  350\n",
       "...   ...  ...  ...\n",
       "1068  408  340  349\n",
       "1069  535  431  439\n",
       "1070  441  383  383\n",
       "1071  403  348  315\n",
       "1072  539  410  445\n",
       "\n",
       "[1073 rows x 3 columns]"
      ]
     },
     "execution_count": 11,
     "metadata": {},
     "output_type": "execute_result"
    }
   ],
   "source": [
    "df_2"
   ]
  },
  {
   "cell_type": "code",
   "execution_count": 22,
   "metadata": {},
   "outputs": [],
   "source": [
    "y1 = df_2['A5']\n",
    "y2 = df_2['A6']\n",
    "y3 = df_2['A8']"
   ]
  },
  {
   "cell_type": "markdown",
   "metadata": {},
   "source": [
    "#### а) Рассчитать матрицу ранговых коэффициентов корреляции по Кендаллу"
   ]
  },
  {
   "cell_type": "code",
   "execution_count": 23,
   "metadata": {},
   "outputs": [
    {
     "data": {
      "text/html": [
       "<div>\n",
       "<style scoped>\n",
       "    .dataframe tbody tr th:only-of-type {\n",
       "        vertical-align: middle;\n",
       "    }\n",
       "\n",
       "    .dataframe tbody tr th {\n",
       "        vertical-align: top;\n",
       "    }\n",
       "\n",
       "    .dataframe thead th {\n",
       "        text-align: right;\n",
       "    }\n",
       "</style>\n",
       "<table border=\"1\" class=\"dataframe\">\n",
       "  <thead>\n",
       "    <tr style=\"text-align: right;\">\n",
       "      <th></th>\n",
       "      <th>Признак</th>\n",
       "      <th>$Y_1$</th>\n",
       "      <th>$Y_2$</th>\n",
       "      <th>$Y_3$</th>\n",
       "    </tr>\n",
       "  </thead>\n",
       "  <tbody>\n",
       "    <tr>\n",
       "      <th>0</th>\n",
       "      <td>$Y_1$</td>\n",
       "      <td>1.000000</td>\n",
       "      <td>0.820784</td>\n",
       "      <td>0.840527</td>\n",
       "    </tr>\n",
       "    <tr>\n",
       "      <th>1</th>\n",
       "      <td>$Y_2$</td>\n",
       "      <td>0.820784</td>\n",
       "      <td>1.000000</td>\n",
       "      <td>0.812955</td>\n",
       "    </tr>\n",
       "    <tr>\n",
       "      <th>2</th>\n",
       "      <td>$Y_3$</td>\n",
       "      <td>0.840527</td>\n",
       "      <td>0.812955</td>\n",
       "      <td>1.000000</td>\n",
       "    </tr>\n",
       "  </tbody>\n",
       "</table>\n",
       "</div>"
      ],
      "text/plain": [
       "  Признак     $Y_1$     $Y_2$     $Y_3$\n",
       "0   $Y_1$  1.000000  0.820784  0.840527\n",
       "1   $Y_2$  0.820784  1.000000  0.812955\n",
       "2   $Y_3$  0.840527  0.812955  1.000000"
      ]
     },
     "execution_count": 23,
     "metadata": {},
     "output_type": "execute_result"
    }
   ],
   "source": [
    "pd.DataFrame({\"Признак\" : [\"$Y_1$\", \"$Y_2$\", \"$Y_3$\"],\n",
    "              \"$Y_1$\" : [stats.kendalltau(y1, y1)[0], stats.kendalltau(y2, y1)[0], stats.kendalltau(y3, y1)[0]],\n",
    "              \"$Y_2$\" : [stats.kendalltau(y1, y2)[0], stats.kendalltau(y2, y2)[0], stats.kendalltau(y2, y3)[0]],\n",
    "              \"$Y_3$\" : [stats.kendalltau(y1, y3)[0], stats.kendalltau(y3, y2)[0], stats.kendalltau(y3, y3)[0]]\n",
    "             })"
   ]
  },
  {
   "cell_type": "markdown",
   "metadata": {},
   "source": [
    "#### б) Рассчитать матрицу значений p-value для ранговых коэффициентов корреляции по Кендаллу"
   ]
  },
  {
   "cell_type": "code",
   "execution_count": 24,
   "metadata": {},
   "outputs": [
    {
     "data": {
      "text/html": [
       "<div>\n",
       "<style scoped>\n",
       "    .dataframe tbody tr th:only-of-type {\n",
       "        vertical-align: middle;\n",
       "    }\n",
       "\n",
       "    .dataframe tbody tr th {\n",
       "        vertical-align: top;\n",
       "    }\n",
       "\n",
       "    .dataframe thead th {\n",
       "        text-align: right;\n",
       "    }\n",
       "</style>\n",
       "<table border=\"1\" class=\"dataframe\">\n",
       "  <thead>\n",
       "    <tr style=\"text-align: right;\">\n",
       "      <th></th>\n",
       "      <th>Признак</th>\n",
       "      <th>$Y_1$</th>\n",
       "      <th>$Y_2$</th>\n",
       "      <th>$Y_3$</th>\n",
       "    </tr>\n",
       "  </thead>\n",
       "  <tbody>\n",
       "    <tr>\n",
       "      <th>0</th>\n",
       "      <td>$Y_1$</td>\n",
       "      <td>0.0</td>\n",
       "      <td>0.0</td>\n",
       "      <td>0.0</td>\n",
       "    </tr>\n",
       "    <tr>\n",
       "      <th>1</th>\n",
       "      <td>$Y_2$</td>\n",
       "      <td>0.0</td>\n",
       "      <td>0.0</td>\n",
       "      <td>0.0</td>\n",
       "    </tr>\n",
       "    <tr>\n",
       "      <th>2</th>\n",
       "      <td>$Y_3$</td>\n",
       "      <td>0.0</td>\n",
       "      <td>0.0</td>\n",
       "      <td>0.0</td>\n",
       "    </tr>\n",
       "  </tbody>\n",
       "</table>\n",
       "</div>"
      ],
      "text/plain": [
       "  Признак  $Y_1$  $Y_2$  $Y_3$\n",
       "0   $Y_1$    0.0    0.0    0.0\n",
       "1   $Y_2$    0.0    0.0    0.0\n",
       "2   $Y_3$    0.0    0.0    0.0"
      ]
     },
     "execution_count": 24,
     "metadata": {},
     "output_type": "execute_result"
    }
   ],
   "source": [
    "pd.DataFrame({\"Признак\" : [\"$Y_1$\", \"$Y_2$\", \"$Y_3$\"],\n",
    "              \"$Y_1$\" : [stats.kendalltau(y1, y1)[1], stats.kendalltau(y2, y1)[1], stats.kendalltau(y3, y1)[1]],\n",
    "              \"$Y_2$\" : [stats.kendalltau(y1, y2)[1], stats.kendalltau(y2, y2)[1], stats.kendalltau(y2, y3)[1]],\n",
    "              \"$Y_3$\" : [stats.kendalltau(y1, y3)[1], stats.kendalltau(y3, y2)[1], stats.kendalltau(y3, y3)[1]]\n",
    "             })"
   ]
  },
  {
   "cell_type": "markdown",
   "metadata": {},
   "source": [
    "#### в) Рассчитать точечную оценку коэффициента конкордации"
   ]
  },
  {
   "cell_type": "code",
   "execution_count": 25,
   "metadata": {},
   "outputs": [
    {
     "ename": "SyntaxError",
     "evalue": "invalid syntax (<ipython-input-25-db814080da93>, line 1)",
     "output_type": "error",
     "traceback": [
      "\u001b[1;36m  File \u001b[1;32m\"<ipython-input-25-db814080da93>\"\u001b[1;36m, line \u001b[1;32m1\u001b[0m\n\u001b[1;33m    w = 12 *\u001b[0m\n\u001b[1;37m             ^\u001b[0m\n\u001b[1;31mSyntaxError\u001b[0m\u001b[1;31m:\u001b[0m invalid syntax\n"
     ]
    }
   ],
   "source": [
    "w = 12 * "
   ]
  },
  {
   "cell_type": "code",
   "execution_count": 39,
   "metadata": {},
   "outputs": [
    {
     "data": {
      "text/plain": [
       "2887726013.5"
      ]
     },
     "execution_count": 39,
     "metadata": {},
     "output_type": "execute_result"
    }
   ],
   "source": [
    "m = y1.size\n",
    "n = 3\n",
    "s1 = (stats.rankdata(y1) - (m+1)*(n+1)/2)**2\n",
    "s2 = (stats.rankdata(y2) - (m+1)*(n+1)/2)**2\n",
    "s3 = (stats.rankdata(y3) - (m+1)*(n+1)/2)**2\n",
    "s1.sum()"
   ]
  },
  {
   "cell_type": "code",
   "execution_count": 35,
   "metadata": {},
   "outputs": [
    {
     "data": {
      "text/plain": [
       "2148.0"
      ]
     },
     "execution_count": 35,
     "metadata": {},
     "output_type": "execute_result"
    }
   ],
   "source": [
    "(m+1)*(n+1)/2"
   ]
  },
  {
   "cell_type": "code",
   "execution_count": 38,
   "metadata": {},
   "outputs": [
    {
     "data": {
      "text/plain": [
       "array([-1837.5, -1175. , -1515. , ..., -1886.5, -2006.5, -1495.5])"
      ]
     },
     "execution_count": 38,
     "metadata": {},
     "output_type": "execute_result"
    }
   ],
   "source": [
    "stats.rankdata(y1)-(m+1)*(n+1)/2"
   ]
  },
  {
   "cell_type": "code",
   "execution_count": null,
   "metadata": {},
   "outputs": [],
   "source": []
  }
 ],
 "metadata": {
  "kernelspec": {
   "display_name": "Python 3",
   "language": "python",
   "name": "python3"
  },
  "language_info": {
   "codemirror_mode": {
    "name": "ipython",
    "version": 3
   },
   "file_extension": ".py",
   "mimetype": "text/x-python",
   "name": "python",
   "nbconvert_exporter": "python",
   "pygments_lexer": "ipython3",
   "version": "3.6.8"
  }
 },
 "nbformat": 4,
 "nbformat_minor": 2
}

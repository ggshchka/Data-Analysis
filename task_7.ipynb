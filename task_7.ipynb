{
 "cells": [
  {
   "cell_type": "markdown",
   "metadata": {},
   "source": [
    "## Task-7. Дисперсионный анализ"
   ]
  },
  {
   "cell_type": "code",
   "execution_count": 2,
   "metadata": {},
   "outputs": [],
   "source": [
    "import helper as hp\n",
    "import pandas as pd\n",
    "import matplotlib.pyplot as plt\n",
    "import numpy as np\n",
    "from scipy import stats\n",
    "import math"
   ]
  },
  {
   "cell_type": "code",
   "execution_count": 3,
   "metadata": {},
   "outputs": [],
   "source": [
    "my_var = 13"
   ]
  },
  {
   "cell_type": "code",
   "execution_count": 4,
   "metadata": {},
   "outputs": [
    {
     "data": {
      "text/html": [
       "<div>\n",
       "<style scoped>\n",
       "    .dataframe tbody tr th:only-of-type {\n",
       "        vertical-align: middle;\n",
       "    }\n",
       "\n",
       "    .dataframe tbody tr th {\n",
       "        vertical-align: top;\n",
       "    }\n",
       "\n",
       "    .dataframe thead th {\n",
       "        text-align: right;\n",
       "    }\n",
       "</style>\n",
       "<table border=\"1\" class=\"dataframe\">\n",
       "  <thead>\n",
       "    <tr style=\"text-align: right;\">\n",
       "      <th></th>\n",
       "      <th>A4</th>\n",
       "      <th>A8</th>\n",
       "    </tr>\n",
       "  </thead>\n",
       "  <tbody>\n",
       "    <tr>\n",
       "      <th>0</th>\n",
       "      <td>IIB</td>\n",
       "      <td>382</td>\n",
       "    </tr>\n",
       "    <tr>\n",
       "      <th>1</th>\n",
       "      <td>I</td>\n",
       "      <td>508</td>\n",
       "    </tr>\n",
       "    <tr>\n",
       "      <th>2</th>\n",
       "      <td>IIA</td>\n",
       "      <td>415</td>\n",
       "    </tr>\n",
       "    <tr>\n",
       "      <th>3</th>\n",
       "      <td>IIA</td>\n",
       "      <td>498</td>\n",
       "    </tr>\n",
       "    <tr>\n",
       "      <th>4</th>\n",
       "      <td>IIA</td>\n",
       "      <td>350</td>\n",
       "    </tr>\n",
       "    <tr>\n",
       "      <th>...</th>\n",
       "      <td>...</td>\n",
       "      <td>...</td>\n",
       "    </tr>\n",
       "    <tr>\n",
       "      <th>1068</th>\n",
       "      <td>IIB</td>\n",
       "      <td>349</td>\n",
       "    </tr>\n",
       "    <tr>\n",
       "      <th>1069</th>\n",
       "      <td>I</td>\n",
       "      <td>439</td>\n",
       "    </tr>\n",
       "    <tr>\n",
       "      <th>1070</th>\n",
       "      <td>IIB</td>\n",
       "      <td>383</td>\n",
       "    </tr>\n",
       "    <tr>\n",
       "      <th>1071</th>\n",
       "      <td>IIB</td>\n",
       "      <td>315</td>\n",
       "    </tr>\n",
       "    <tr>\n",
       "      <th>1072</th>\n",
       "      <td>I</td>\n",
       "      <td>445</td>\n",
       "    </tr>\n",
       "  </tbody>\n",
       "</table>\n",
       "<p>1073 rows × 2 columns</p>\n",
       "</div>"
      ],
      "text/plain": [
       "       A4   A8\n",
       "0     IIB  382\n",
       "1       I  508\n",
       "2     IIA  415\n",
       "3     IIA  498\n",
       "4     IIA  350\n",
       "...   ...  ...\n",
       "1068  IIB  349\n",
       "1069    I  439\n",
       "1070  IIB  383\n",
       "1071  IIB  315\n",
       "1072    I  445\n",
       "\n",
       "[1073 rows x 2 columns]"
      ]
     },
     "execution_count": 4,
     "metadata": {},
     "output_type": "execute_result"
    }
   ],
   "source": [
    "df = hp.get_data('7', hp.get_tasks_var(my_var))\n",
    "pooled = df['A8'].to_numpy()\n",
    "df"
   ]
  },
  {
   "cell_type": "code",
   "execution_count": 5,
   "metadata": {},
   "outputs": [
    {
     "data": {
      "text/html": [
       "<div>\n",
       "<style scoped>\n",
       "    .dataframe tbody tr th:only-of-type {\n",
       "        vertical-align: middle;\n",
       "    }\n",
       "\n",
       "    .dataframe tbody tr th {\n",
       "        vertical-align: top;\n",
       "    }\n",
       "\n",
       "    .dataframe thead th {\n",
       "        text-align: right;\n",
       "    }\n",
       "</style>\n",
       "<table border=\"1\" class=\"dataframe\">\n",
       "  <thead>\n",
       "    <tr style=\"text-align: right;\">\n",
       "      <th></th>\n",
       "      <th>n</th>\n",
       "      <th>mean</th>\n",
       "      <th>variance</th>\n",
       "    </tr>\n",
       "    <tr>\n",
       "      <th>A4</th>\n",
       "      <th></th>\n",
       "      <th></th>\n",
       "      <th></th>\n",
       "    </tr>\n",
       "  </thead>\n",
       "  <tbody>\n",
       "    <tr>\n",
       "      <th>I</th>\n",
       "      <td>180</td>\n",
       "      <td>533.666667</td>\n",
       "      <td>7652.245810</td>\n",
       "    </tr>\n",
       "    <tr>\n",
       "      <th>IIA</th>\n",
       "      <td>359</td>\n",
       "      <td>440.818942</td>\n",
       "      <td>4684.098411</td>\n",
       "    </tr>\n",
       "    <tr>\n",
       "      <th>IIB</th>\n",
       "      <td>534</td>\n",
       "      <td>383.829588</td>\n",
       "      <td>4975.631318</td>\n",
       "    </tr>\n",
       "  </tbody>\n",
       "</table>\n",
       "</div>"
      ],
      "text/plain": [
       "       n        mean     variance\n",
       "A4                               \n",
       "I    180  533.666667  7652.245810\n",
       "IIA  359  440.818942  4684.098411\n",
       "IIB  534  383.829588  4975.631318"
      ]
     },
     "execution_count": 5,
     "metadata": {},
     "output_type": "execute_result"
    }
   ],
   "source": [
    "tabl = pd.DataFrame({\"n\": df.groupby('A4').size()}\n",
    "            ).join(df.groupby('A4').mean().rename(columns={'A8':'mean'})\n",
    "                  ).join(df.groupby('A4').var().rename(columns={'A8':'variance'}))\n",
    "tabl"
   ]
  },
  {
   "cell_type": "code",
   "execution_count": 6,
   "metadata": {},
   "outputs": [],
   "source": [
    "k = 3\n",
    "i = df.groupby('A4').get_group('I')['A8'].to_numpy()\n",
    "iia = df.groupby('A4').get_group('IIA')['A8'].to_numpy()\n",
    "iib = df.groupby('A4').get_group('IIB')['A8'].to_numpy()"
   ]
  },
  {
   "cell_type": "code",
   "execution_count": 7,
   "metadata": {},
   "outputs": [],
   "source": [
    "group_i = [i, iia, iib]\n",
    "within_group_var = np.sum([x.size * x.var() for x in group_i]) / pooled.size\n",
    "between_group_var = np.sum([x.size * (x.mean() - pooled.mean())**2 for x in group_i]) / pooled.size\n",
    "pooled_var = pooled.var()"
   ]
  },
  {
   "cell_type": "code",
   "execution_count": 8,
   "metadata": {},
   "outputs": [
    {
     "data": {
      "text/html": [
       "<div>\n",
       "<style scoped>\n",
       "    .dataframe tbody tr th:only-of-type {\n",
       "        vertical-align: middle;\n",
       "    }\n",
       "\n",
       "    .dataframe tbody tr th {\n",
       "        vertical-align: top;\n",
       "    }\n",
       "\n",
       "    .dataframe thead th {\n",
       "        text-align: right;\n",
       "    }\n",
       "</style>\n",
       "<table border=\"1\" class=\"dataframe\">\n",
       "  <thead>\n",
       "    <tr style=\"text-align: right;\">\n",
       "      <th></th>\n",
       "      <th>Источник вариации</th>\n",
       "      <th>Мера вариации</th>\n",
       "      <th>Число степ. своб.</th>\n",
       "      <th>Несмещ. оценка</th>\n",
       "    </tr>\n",
       "  </thead>\n",
       "  <tbody>\n",
       "    <tr>\n",
       "      <th>0</th>\n",
       "      <td>Группиров. приз</td>\n",
       "      <td>2898.992670</td>\n",
       "      <td>2</td>\n",
       "      <td>1.555310e+06</td>\n",
       "    </tr>\n",
       "    <tr>\n",
       "      <th>1</th>\n",
       "      <td>Остаточ. факторы</td>\n",
       "      <td>5310.969920</td>\n",
       "      <td>1070</td>\n",
       "      <td>5.325860e+03</td>\n",
       "    </tr>\n",
       "    <tr>\n",
       "      <th>2</th>\n",
       "      <td>Все факторы</td>\n",
       "      <td>8209.962589</td>\n",
       "      <td>1072</td>\n",
       "      <td>8.217621e+03</td>\n",
       "    </tr>\n",
       "  </tbody>\n",
       "</table>\n",
       "</div>"
      ],
      "text/plain": [
       "  Источник вариации  Мера вариации  Число степ. своб.  Несмещ. оценка\n",
       "0   Группиров. приз    2898.992670                  2    1.555310e+06\n",
       "1  Остаточ. факторы    5310.969920               1070    5.325860e+03\n",
       "2       Все факторы    8209.962589               1072    8.217621e+03"
      ]
     },
     "execution_count": 8,
     "metadata": {},
     "output_type": "execute_result"
    }
   ],
   "source": [
    "pd.DataFrame({\n",
    "    \"Источник вариации\" : [\"Группиров. приз\", \"Остаточ. факторы\", \"Все факторы\"],\n",
    "    \"Мера вариации\" : [between_group_var, within_group_var, pooled_var],\n",
    "    \"Число степ. своб.\" : [k - 1, pooled.size - k, pooled.size - 1],\n",
    "    \"Несмещ. оценка\" : [pooled.size / (k - 1) * between_group_var, \n",
    "                        pooled.size / (pooled.size - k) * within_group_var,\n",
    "                        pooled.size / (pooled.size - 1) * pooled_var],\n",
    "})"
   ]
  },
  {
   "cell_type": "code",
   "execution_count": 9,
   "metadata": {},
   "outputs": [
    {
     "name": "stdout",
     "output_type": "stream",
     "text": [
      "True\n"
     ]
    },
    {
     "data": {
      "text/html": [
       "<div>\n",
       "<style scoped>\n",
       "    .dataframe tbody tr th:only-of-type {\n",
       "        vertical-align: middle;\n",
       "    }\n",
       "\n",
       "    .dataframe tbody tr th {\n",
       "        vertical-align: top;\n",
       "    }\n",
       "\n",
       "    .dataframe thead th {\n",
       "        text-align: right;\n",
       "    }\n",
       "</style>\n",
       "<table border=\"1\" class=\"dataframe\">\n",
       "  <thead>\n",
       "    <tr style=\"text-align: right;\">\n",
       "      <th></th>\n",
       "      <th>D_межгр</th>\n",
       "      <th>D_внгруп</th>\n",
       "      <th>D_общ</th>\n",
       "      <th>D_межгр + D_внгруп</th>\n",
       "    </tr>\n",
       "  </thead>\n",
       "  <tbody>\n",
       "    <tr>\n",
       "      <th>0</th>\n",
       "      <td>2898.99267</td>\n",
       "      <td>5310.96992</td>\n",
       "      <td>8209.962589</td>\n",
       "      <td>8209.962589</td>\n",
       "    </tr>\n",
       "  </tbody>\n",
       "</table>\n",
       "</div>"
      ],
      "text/plain": [
       "      D_межгр    D_внгруп        D_общ  D_межгр + D_внгруп\n",
       "0  2898.99267  5310.96992  8209.962589         8209.962589"
      ]
     },
     "execution_count": 9,
     "metadata": {},
     "output_type": "execute_result"
    }
   ],
   "source": [
    "print(\"True\" if pooled_var == between_group_var + within_group_var else \"False\")\n",
    "pd.DataFrame({\n",
    "    \"D_межгр\" : [between_group_var],\n",
    "    \"D_внгруп\" : [within_group_var],\n",
    "    \"D_общ\" : [pooled_var],\n",
    "    \"D_межгр + D_внгруп\" : [between_group_var + within_group_var]\n",
    "})"
   ]
  },
  {
   "cell_type": "code",
   "execution_count": 10,
   "metadata": {},
   "outputs": [
    {
     "data": {
      "text/html": [
       "<div>\n",
       "<style scoped>\n",
       "    .dataframe tbody tr th:only-of-type {\n",
       "        vertical-align: middle;\n",
       "    }\n",
       "\n",
       "    .dataframe tbody tr th {\n",
       "        vertical-align: top;\n",
       "    }\n",
       "\n",
       "    .dataframe thead th {\n",
       "        text-align: right;\n",
       "    }\n",
       "</style>\n",
       "<table border=\"1\" class=\"dataframe\">\n",
       "  <thead>\n",
       "    <tr style=\"text-align: right;\">\n",
       "      <th></th>\n",
       "      <th>Эмпирический коэффициент детерминации</th>\n",
       "      <th>Эмпирическое корреляционное отношение</th>\n",
       "    </tr>\n",
       "  </thead>\n",
       "  <tbody>\n",
       "    <tr>\n",
       "      <th>0</th>\n",
       "      <td>0.353107</td>\n",
       "      <td>0.594228</td>\n",
       "    </tr>\n",
       "  </tbody>\n",
       "</table>\n",
       "</div>"
      ],
      "text/plain": [
       "   Эмпирический коэффициент детерминации  \\\n",
       "0                               0.353107   \n",
       "\n",
       "   Эмпирическое корреляционное отношение  \n",
       "0                               0.594228  "
      ]
     },
     "execution_count": 10,
     "metadata": {},
     "output_type": "execute_result"
    }
   ],
   "source": [
    "pd.DataFrame({\n",
    "    \"Эмпирический коэффициент детерминации\" : [between_group_var / pooled_var],\n",
    "    \"Эмпирическое корреляционное отношение\" : [np.sqrt(between_group_var / pooled_var)],\n",
    "})"
   ]
  },
  {
   "cell_type": "code",
   "execution_count": 11,
   "metadata": {},
   "outputs": [
    {
     "data": {
      "text/plain": [
       "F_onewayResult(statistic=292.02972372240845, pvalue=6.244173657733121e-102)"
      ]
     },
     "execution_count": 11,
     "metadata": {},
     "output_type": "execute_result"
    }
   ],
   "source": [
    "anv = stats.f_oneway(i, iia, iib)\n",
    "anv"
   ]
  },
  {
   "cell_type": "code",
   "execution_count": 12,
   "metadata": {},
   "outputs": [
    {
     "data": {
      "text/html": [
       "<div>\n",
       "<style scoped>\n",
       "    .dataframe tbody tr th:only-of-type {\n",
       "        vertical-align: middle;\n",
       "    }\n",
       "\n",
       "    .dataframe tbody tr th {\n",
       "        vertical-align: top;\n",
       "    }\n",
       "\n",
       "    .dataframe thead th {\n",
       "        text-align: right;\n",
       "    }\n",
       "</style>\n",
       "<table border=\"1\" class=\"dataframe\">\n",
       "  <thead>\n",
       "    <tr style=\"text-align: right;\">\n",
       "      <th></th>\n",
       "      <th>Cтат. крит.</th>\n",
       "      <th>p-value</th>\n",
       "      <th>Стат. реш. при alpha=0.01</th>\n",
       "      <th>Ошибка стат. решения</th>\n",
       "    </tr>\n",
       "  </thead>\n",
       "  <tbody>\n",
       "    <tr>\n",
       "      <th>0</th>\n",
       "      <td>292.029724</td>\n",
       "      <td>6.244174e-102</td>\n",
       "      <td>Отклоняется</td>\n",
       "      <td>-</td>\n",
       "    </tr>\n",
       "  </tbody>\n",
       "</table>\n",
       "</div>"
      ],
      "text/plain": [
       "   Cтат. крит.        p-value Стат. реш. при alpha=0.01 Ошибка стат. решения\n",
       "0   292.029724  6.244174e-102               Отклоняется                    -"
      ]
     },
     "execution_count": 12,
     "metadata": {},
     "output_type": "execute_result"
    }
   ],
   "source": [
    "pd.DataFrame({\n",
    "    \"Cтат. крит.\" : [anv.statistic], \n",
    "    \"p-value\" : [anv.pvalue],\n",
    "    \"Стат. реш. при alpha=0.01\" : [\"Отклоняется\" if anv.pvalue < 0.01 else \"Принимается\"],\n",
    "    \"Ошибка стат. решения\" : [\"-\"],\n",
    "})"
   ]
  },
  {
   "cell_type": "code",
   "execution_count": 20,
   "metadata": {},
   "outputs": [
    {
     "data": {
      "text/html": [
       "<div>\n",
       "<style scoped>\n",
       "    .dataframe tbody tr th:only-of-type {\n",
       "        vertical-align: middle;\n",
       "    }\n",
       "\n",
       "    .dataframe tbody tr th {\n",
       "        vertical-align: top;\n",
       "    }\n",
       "\n",
       "    .dataframe thead th {\n",
       "        text-align: right;\n",
       "    }\n",
       "</style>\n",
       "<table border=\"1\" class=\"dataframe\">\n",
       "  <thead>\n",
       "    <tr style=\"text-align: right;\">\n",
       "      <th></th>\n",
       "      <th>Cтат. крит.</th>\n",
       "      <th>p-value</th>\n",
       "      <th>Стат. реш. при</th>\n",
       "      <th>Ошибка стат. решения</th>\n",
       "    </tr>\n",
       "  </thead>\n",
       "  <tbody>\n",
       "    <tr>\n",
       "      <th>0</th>\n",
       "      <td>292.029724</td>\n",
       "      <td>6.244174e-102</td>\n",
       "      <td>Отклоняется</td>\n",
       "      <td>-</td>\n",
       "    </tr>\n",
       "    <tr>\n",
       "      <th>1</th>\n",
       "      <td>292.029724</td>\n",
       "      <td>6.244174e-102</td>\n",
       "      <td>Отклоняется</td>\n",
       "      <td>-</td>\n",
       "    </tr>\n",
       "    <tr>\n",
       "      <th>2</th>\n",
       "      <td>292.029724</td>\n",
       "      <td>6.244174e-102</td>\n",
       "      <td>Отклоняется</td>\n",
       "      <td>-</td>\n",
       "    </tr>\n",
       "  </tbody>\n",
       "</table>\n",
       "</div>"
      ],
      "text/plain": [
       "   Cтат. крит.        p-value Стат. реш. при Ошибка стат. решения\n",
       "0   292.029724  6.244174e-102    Отклоняется                    -\n",
       "1   292.029724  6.244174e-102    Отклоняется                    -\n",
       "2   292.029724  6.244174e-102    Отклоняется                    -"
      ]
     },
     "execution_count": 20,
     "metadata": {},
     "output_type": "execute_result"
    }
   ],
   "source": [
    "pd.DataFrame({\n",
    "    \"Cтат. крит.\" : [anv.statistic]*3, \n",
    "    \"p-value\" : [anv.pvalue]*3,\n",
    "    \"Стат. реш. при\" : [\"Отклоняется\" if anv.pvalue < 0.01 else \"Принимается\", \n",
    "                        \"Отклоняется\" if anv.pvalue < 0.05 else \"Принимается\",\n",
    "                        \"Отклоняется\" if anv.pvalue < 0.1 else \"Принимается\"],\n",
    "    \"Ошибка стат. решения\" : [\"-\", \"-\", \"-\"],\n",
    "})"
   ]
  },
  {
   "cell_type": "code",
   "execution_count": 19,
   "metadata": {},
   "outputs": [
    {
     "data": {
      "text/plain": [
       "[6.244173657733121e-102, 6.244173657733121e-102, 6.244173657733121e-102]"
      ]
     },
     "execution_count": 19,
     "metadata": {},
     "output_type": "execute_result"
    }
   ],
   "source": [
    "[anv.pvalue]*3"
   ]
  },
  {
   "cell_type": "code",
   "execution_count": null,
   "metadata": {},
   "outputs": [],
   "source": []
  }
 ],
 "metadata": {
  "kernelspec": {
   "display_name": "Python 3",
   "language": "python",
   "name": "python3"
  },
  "language_info": {
   "codemirror_mode": {
    "name": "ipython",
    "version": 3
   },
   "file_extension": ".py",
   "mimetype": "text/x-python",
   "name": "python",
   "nbconvert_exporter": "python",
   "pygments_lexer": "ipython3",
   "version": "3.6.8"
  }
 },
 "nbformat": 4,
 "nbformat_minor": 2
}

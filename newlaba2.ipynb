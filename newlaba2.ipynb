{
 "cells": [
  {
   "cell_type": "code",
   "execution_count": 10,
   "metadata": {},
   "outputs": [],
   "source": [
    "from scipy import stats\n",
    "from scipy.stats import norm\n",
    "import numpy as np"
   ]
  },
  {
   "cell_type": "code",
   "execution_count": 11,
   "metadata": {},
   "outputs": [],
   "source": [
    "vib1 = norm.rvs(5, 2, 100)"
   ]
  },
  {
   "cell_type": "code",
   "execution_count": 12,
   "metadata": {},
   "outputs": [
    {
     "name": "stdout",
     "output_type": "stream",
     "text": [
      "Выборка 1:  Среднее 5.383347619701745, Оценка дисперсии 4.140592762522651, Оценка с.к.о 2.034844653167079\n"
     ]
    }
   ],
   "source": [
    "print(\"Выборка 1:  Среднее {}, Оценка дисперсии {}, Оценка с.к.о {}\".format(np.mean(vib1),np.var(vib1),np.std(vib1)))"
   ]
  },
  {
   "cell_type": "code",
   "execution_count": 22,
   "metadata": {},
   "outputs": [],
   "source": [
    "%matplotlib inline\n",
    "import matplotlib.pyplot as plt"
   ]
  },
  {
   "cell_type": "code",
   "execution_count": 154,
   "metadata": {},
   "outputs": [
    {
     "data": {
      "image/png": "[encoded data removed]",
      "text/plain": [
       "<Figure size 432x288 with 1 Axes>"
      ]
     },
     "metadata": {
      "needs_background": "light"
     },
     "output_type": "display_data"
    }
   ],
   "source": [
    "fig, ax = plt.subplots()\n",
    "\n",
    "# гистограмма\n",
    "n5, bins5, patches5 = ax.hist(vib1, 5)\n",
    "\n",
    "\n",
    "#fig.tight_layout()\n",
    "plt.show()"
   ]
  },
  {
   "cell_type": "code",
   "execution_count": 155,
   "metadata": {},
   "outputs": [
    {
     "data": {
      "text/plain": [
       "array([ 4., 25., 38., 23., 10.])"
      ]
     },
     "execution_count": 155,
     "metadata": {},
     "output_type": "execute_result"
    }
   ],
   "source": [
    "n5"
   ]
  },
  {
   "cell_type": "code",
   "execution_count": 156,
   "metadata": {},
   "outputs": [
    {
     "data": {
      "text/plain": [
       "array([ 0.13778063,  2.16502352,  4.19226641,  6.2195093 ,  8.24675218,\n",
       "       10.27399507])"
      ]
     },
     "execution_count": 156,
     "metadata": {},
     "output_type": "execute_result"
    }
   ],
   "source": [
    "bins5"
   ]
  },
  {
   "cell_type": "code",
   "execution_count": 157,
   "metadata": {},
   "outputs": [
    {
     "data": {
      "text/plain": [
       "0.991879406853149"
      ]
     },
     "execution_count": 157,
     "metadata": {},
     "output_type": "execute_result"
    }
   ],
   "source": [
    "stats.norm.cdf(bins5[5], loc = np.mean(vib1), scale = np.std(vib1))"
   ]
  },
  {
   "cell_type": "code",
   "execution_count": 158,
   "metadata": {},
   "outputs": [
    {
     "data": {
      "image/png": "[encoded data removed]",
      "text/plain": [
       "<Figure size 432x288 with 1 Axes>"
      ]
     },
     "metadata": {
      "needs_background": "light"
     },
     "output_type": "display_data"
    }
   ],
   "source": [
    "fig, ax = plt.subplots()\n",
    "\n",
    "# гистограмма\n",
    "n10, bins10, patches10 = ax.hist(vib1, 10)\n",
    "\n",
    "\n",
    "#fig.tight_layout()\n",
    "plt.show()"
   ]
  },
  {
   "cell_type": "code",
   "execution_count": 159,
   "metadata": {},
   "outputs": [
    {
     "data": {
      "image/png": "[encoded data removed]",
      "text/plain": [
       "<Figure size 432x288 with 1 Axes>"
      ]
     },
     "metadata": {
      "needs_background": "light"
     },
     "output_type": "display_data"
    }
   ],
   "source": [
    "fig, ax = plt.subplots()\n",
    "\n",
    "# гистограмма\n",
    "n15, bins15, patches15 = ax.hist(vib1, 15)\n",
    "\n",
    "\n",
    "#fig.tight_layout()\n",
    "plt.show()"
   ]
  },
  {
   "cell_type": "code",
   "execution_count": 160,
   "metadata": {},
   "outputs": [
    {
     "data": {
      "image/png": "[encoded data removed]",
      "text/plain": [
       "<Figure size 432x288 with 1 Axes>"
      ]
     },
     "metadata": {
      "needs_background": "light"
     },
     "output_type": "display_data"
    }
   ],
   "source": [
    "fig, ax = plt.subplots()\n",
    "\n",
    "# гистограмма\n",
    "n20, bins20, patches20 = ax.hist(vib1, 20)\n",
    "\n",
    "\n",
    "#fig.tight_layout()\n",
    "plt.show()"
   ]
  },
  {
   "cell_type": "code",
   "execution_count": 161,
   "metadata": {},
   "outputs": [],
   "source": [
    "#3. Критерий хи-квадрат\n",
    "\n",
    "def chisquare_test_norm(vib, n, bins):\n",
    "    sum0 = 0\n",
    "    prob = []\n",
    "    i = 0\n",
    "    while i < len(bins)-1:\n",
    "        prob.append(stats.norm.cdf(bins[i+1], loc = np.mean(vib), scale = np.std(vib)) - stats.norm.cdf(bins[i], loc = np.mean(vib), scale = np.std(vib)))\n",
    "        i += 1\n",
    "    for i in range (len(n)):\n",
    "        sum0 += (np.power((n[i] - len(vib)*prob[i]),2))/(len(vib)*prob[i]) \n",
    "    return sum0\n",
    "        \n",
    "def chisquare_test_uniform(vib, n, bins):\n",
    "    sum0 = 0\n",
    "    prob = []\n",
    "    i = 0\n",
    "    while i < len(bins)-1:\n",
    "        # prob.append(stats.uniform.cdf(bins[i+1], loc = np.mean(vib) - np.power(3*np.std(vib),1/2), scale = np.mean(vib) + np.power(3*np.std(vib),1/2)) - stats.uniform.cdf(bins[i], loc = np.mean(vib) - np.power(3*np.std(vib),1/2), scale = np.mean(vib) + np.power(3*np.std(vib),1/2)))\n",
    "        prob.append(stats.uniform.cdf(bins[i+1], loc = np.mean(vib), scale = np.std(vib)) - stats.uniform.cdf(bins[i], loc = np.mean(vib), scale = np.std(vib)))\n",
    "        i += 1\n",
    "   # new_n = n\n",
    "    #new_bins = []\n",
    "    #for i in range(len(n)):\n",
    "     #   if (len(vib)*prob[i] < 5):\n",
    "      #      new_n[i] = n[i] + n[i+1]\n",
    "       #     del new_n[i+1]\n",
    "        #    new_bins.append()\n",
    "    for i in range (len(n)):\n",
    "        sum0 += (np.power((n[i] - len(vib)*prob[i]),2))/(len(vib)*(prob[i])) \n",
    "    return sum0  \n",
    "\n",
    "def chisquare_test_chi2(vib, n, bins):\n",
    "    sum0 = 0\n",
    "    prob = []\n",
    "    i = 0\n",
    "    while i < len(bins)-1:\n",
    "        prob.append(stats.chi2.cdf(bins[i+1], 5) - stats.chi2.cdf(bins[i], 5))\n",
    "        i += 1\n",
    "    for i in range (len(n)):\n",
    "        sum0 += (np.power((n[i] - len(vib)*prob[i]),2))/(len(vib)*prob[i]) \n",
    "    return sum0"
   ]
  },
  {
   "cell_type": "code",
   "execution_count": null,
   "metadata": {},
   "outputs": [],
   "source": []
  },
  {
   "cell_type": "code",
   "execution_count": 162,
   "metadata": {},
   "outputs": [
    {
     "name": "stdout",
     "output_type": "stream",
     "text": [
      "1. выбор-е зн-е: 2.113541969004764 \n",
      "2. выбор-е зн-е: 5.548750407233358 \n",
      "2. выбор-е зн-е: 11.895743292215727 \n",
      "2. выбор-е зн-е: 13.308588396943701 \n"
     ]
    }
   ],
   "source": [
    "#находим выборочное значение\n",
    "print(\"1. выбор-е зн-е: {} \".format(chisquare_test_norm(vib1, n5, bins5)))\n",
    "print(\"2. выбор-е зн-е: {} \".format(chisquare_test_norm(vib1, n10, bins10)))\n",
    "print(\"2. выбор-е зн-е: {} \".format(chisquare_test_norm(vib1, n15, bins15)))\n",
    "print(\"2. выбор-е зн-е: {} \".format(chisquare_test_norm(vib1, n20, bins20)))"
   ]
  },
  {
   "cell_type": "code",
   "execution_count": 163,
   "metadata": {},
   "outputs": [
    {
     "name": "stdout",
     "output_type": "stream",
     "text": [
      "1. p = 0.3475763296243414\n",
      "1. p = 0.5933103471316414\n",
      "1. p = 0.4540886071061251\n",
      "1. p = 0.71529536934301\n"
     ]
    }
   ],
   "source": [
    "print(\"1. p = {}\".format(1 - stats.chi2.cdf(chisquare_test_norm(vib1, n5, bins5), 2)))\n",
    "print(\"1. p = {}\".format(1 - stats.chi2.cdf(chisquare_test_norm(vib1, n10, bins10), 7)))\n",
    "print(\"1. p = {}\".format(1 - stats.chi2.cdf(chisquare_test_norm(vib1, n15, bins15), 12)))\n",
    "print(\"1. p = {}\".format(1 - stats.chi2.cdf(chisquare_test_norm(vib1, n20, bins20), 17)))"
   ]
  },
  {
   "cell_type": "code",
   "execution_count": 164,
   "metadata": {},
   "outputs": [
    {
     "name": "stdout",
     "output_type": "stream",
     "text": [
      "1. выбор-е зн-е: inf \n",
      "2. выбор-е зн-е: inf \n",
      "2. выбор-е зн-е: inf \n",
      "2. выбор-е зн-е: nan \n"
     ]
    },
    {
     "name": "stderr",
     "output_type": "stream",
     "text": [
      "C:\\Users\\happy\\Anaconda3\\lib\\site-packages\\ipykernel_launcher.py:30: RuntimeWarning: divide by zero encountered in double_scalars\n",
      "C:\\Users\\happy\\Anaconda3\\lib\\site-packages\\ipykernel_launcher.py:30: RuntimeWarning: invalid value encountered in double_scalars\n"
     ]
    }
   ],
   "source": [
    "#находим выборочное значение\n",
    "print(\"1. выбор-е зн-е: {} \".format(chisquare_test_uniform(vib1, n5, bins5)))\n",
    "print(\"2. выбор-е зн-е: {} \".format(chisquare_test_uniform(vib1, n10, bins10)))\n",
    "print(\"2. выбор-е зн-е: {} \".format(chisquare_test_uniform(vib1, n15, bins15)))\n",
    "print(\"2. выбор-е зн-е: {} \".format(chisquare_test_uniform(vib1, n20, bins20)))"
   ]
  },
  {
   "cell_type": "code",
   "execution_count": 165,
   "metadata": {},
   "outputs": [
    {
     "name": "stdout",
     "output_type": "stream",
     "text": [
      "1. выбор-е зн-е: 26.151032648717482 \n",
      "2. выбор-е зн-е: 38.37613600275025 \n",
      "2. выбор-е зн-е: 43.70867631805496 \n",
      "2. выбор-е зн-е: 47.07952831017843 \n"
     ]
    }
   ],
   "source": [
    "#находим выборочное значение\n",
    "print(\"1. выбор-е зн-е: {} \".format(chisquare_test_chi2(vib1, n5, bins5)))\n",
    "print(\"2. выбор-е зн-е: {} \".format(chisquare_test_chi2(vib1, n10, bins10)))\n",
    "print(\"2. выбор-е зн-е: {} \".format(chisquare_test_chi2(vib1, n15, bins15)))\n",
    "print(\"2. выбор-е зн-е: {} \".format(chisquare_test_chi2(vib1, n20, bins20)))"
   ]
  },
  {
   "cell_type": "code",
   "execution_count": 166,
   "metadata": {},
   "outputs": [
    {
     "name": "stdout",
     "output_type": "stream",
     "text": [
      "1. p = 2.9501204433013406e-05\n",
      "1. p = 1.4920629570536192e-05\n",
      "1. p = 6.594719938413096e-05\n",
      "1. p = 0.00034793310627234675\n"
     ]
    }
   ],
   "source": [
    "print(\"1. p = {}\".format(1 - stats.chi2.cdf(chisquare_test_chi2(vib1, n5, bins5), 4)))\n",
    "print(\"1. p = {}\".format(1 - stats.chi2.cdf(chisquare_test_chi2(vib1, n10, bins10), 9)))\n",
    "print(\"1. p = {}\".format(1 - stats.chi2.cdf(chisquare_test_chi2(vib1, n15, bins15), 14)))\n",
    "print(\"1. p = {}\".format(1 - stats.chi2.cdf(chisquare_test_chi2(vib1, n20, bins20), 19)))"
   ]
  },
  {
   "cell_type": "code",
   "execution_count": 167,
   "metadata": {},
   "outputs": [],
   "source": [
    "prob5 = []\n",
    "i = 0\n",
    "while i < len(bins5)-1:\n",
    "    # prob.append(stats.uniform.cdf(bins[i+1], loc = np.mean(vib) - np.power(3*np.std(vib),1/2), scale = np.mean(vib) + np.power(3*np.std(vib),1/2)) - stats.uniform.cdf(bins[i], loc = np.mean(vib) - np.power(3*np.std(vib),1/2), scale = np.mean(vib) + np.power(3*np.std(vib),1/2)))\n",
    "    prob5.append(stats.uniform.cdf(bins5[i+1], loc = np.mean(vib1), scale = np.std(vib1)) - stats.uniform.cdf(bins5[i], loc = np.mean(vib1), scale = np.std(vib1)))\n",
    "    i += 1"
   ]
  },
  {
   "cell_type": "code",
   "execution_count": 168,
   "metadata": {},
   "outputs": [
    {
     "data": {
      "text/plain": [
       "[0.0, 0.0, 0.41092162713561486, 0.5890783728643851, 0.0]"
      ]
     },
     "execution_count": 168,
     "metadata": {},
     "output_type": "execute_result"
    }
   ],
   "source": [
    "prob5"
   ]
  },
  {
   "cell_type": "code",
   "execution_count": 169,
   "metadata": {},
   "outputs": [
    {
     "name": "stdout",
     "output_type": "stream",
     "text": [
      "0\n",
      "1\n",
      "2\n",
      "3\n",
      "4\n"
     ]
    }
   ],
   "source": [
    "for i in range(len(n5)):\n",
    "    print(i)\n",
    "    "
   ]
  },
  {
   "cell_type": "code",
   "execution_count": 170,
   "metadata": {},
   "outputs": [],
   "source": [
    "def chisquare_test_uniform(vib, n, bins):\n",
    "    sum0 = 0\n",
    "    prob = []\n",
    "    i = 0\n",
    "    while i < len(bins)-1:\n",
    "        # prob.append(stats.uniform.cdf(bins[i+1], loc = np.mean(vib) - np.power(3*np.std(vib),1/2), scale = np.mean(vib) + np.power(3*np.std(vib),1/2)) - stats.uniform.cdf(bins[i], loc = np.mean(vib) - np.power(3*np.std(vib),1/2), scale = np.mean(vib) + np.power(3*np.std(vib),1/2)))\n",
    "        prob.append(stats.uniform.cdf(bins[i+1], loc = np.mean(vib), scale = np.std(vib)) - stats.uniform.cdf(bins[i], loc = np.mean(vib), scale = np.std(vib)))\n",
    "        i += 1\n",
    "    \n",
    "    for i in range (len(n)):\n",
    "        sum0 += (np.power((n[i] - len(vib)*prob[i]),2))/(len(vib)*(prob[i])) \n",
    "    return sum0 "
   ]
  },
  {
   "cell_type": "code",
   "execution_count": 171,
   "metadata": {},
   "outputs": [],
   "source": [
    "#4 Критерий Колмогорова\n"
   ]
  },
  {
   "cell_type": "code",
   "execution_count": 172,
   "metadata": {},
   "outputs": [
    {
     "data": {
      "text/plain": [
       "array([ 4., 25., 38., 23., 10.])"
      ]
     },
     "execution_count": 172,
     "metadata": {},
     "output_type": "execute_result"
    }
   ],
   "source": [
    "n5"
   ]
  },
  {
   "cell_type": "code",
   "execution_count": 173,
   "metadata": {},
   "outputs": [
    {
     "data": {
      "text/plain": [
       "array([ 0.13778063,  2.16502352,  4.19226641,  6.2195093 ,  8.24675218,\n",
       "       10.27399507])"
      ]
     },
     "execution_count": 173,
     "metadata": {},
     "output_type": "execute_result"
    }
   ],
   "source": [
    "bins5"
   ]
  },
  {
   "cell_type": "code",
   "execution_count": 177,
   "metadata": {},
   "outputs": [],
   "source": [
    "new_n = []\n",
    "new_n = list(n5)\n",
    "new_bins = []\n",
    "for i in range(len(n5)-1):\n",
    "    if (len(vib1)*prob5[i] < 5):\n",
    "        new_n[i] = n5[i] + n5[i+1]\n",
    "        del new_n[i+1]"
   ]
  },
  {
   "cell_type": "code",
   "execution_count": 178,
   "metadata": {},
   "outputs": [
    {
     "data": {
      "text/plain": [
       "[29.0, 63.0, 10.0]"
      ]
     },
     "execution_count": 178,
     "metadata": {},
     "output_type": "execute_result"
    }
   ],
   "source": [
    "new_n"
   ]
  },
  {
   "cell_type": "code",
   "execution_count": 179,
   "metadata": {},
   "outputs": [
    {
     "data": {
      "text/plain": [
       "array([ 4., 25., 38., 23., 10.])"
      ]
     },
     "execution_count": 179,
     "metadata": {},
     "output_type": "execute_result"
    }
   ],
   "source": [
    "n5"
   ]
  },
  {
   "cell_type": "code",
   "execution_count": null,
   "metadata": {},
   "outputs": [],
   "source": []
  }
 ],
 "metadata": {
  "kernelspec": {
   "display_name": "Python 3",
   "language": "python",
   "name": "python3"
  },
  "language_info": {
   "codemirror_mode": {
    "name": "ipython",
    "version": 3
   },
   "file_extension": ".py",
   "mimetype": "text/x-python",
   "name": "python",
   "nbconvert_exporter": "python",
   "pygments_lexer": "ipython3",
   "version": "3.6.8"
  }
 },
 "nbformat": 4,
 "nbformat_minor": 2
}

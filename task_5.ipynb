{
 "cells": [
  {
   "cell_type": "markdown",
   "metadata": {},
   "source": [
    "## 5. Проверка однородности выборок"
   ]
  },
  {
   "cell_type": "code",
   "execution_count": 6,
   "metadata": {},
   "outputs": [],
   "source": [
    "import helper as hp\n",
    "import pandas as pd\n",
    "import matplotlib.pyplot as plt\n",
    "import numpy as np\n",
    "from scipy import stats\n",
    "import math"
   ]
  },
  {
   "cell_type": "code",
   "execution_count": 7,
   "metadata": {},
   "outputs": [],
   "source": [
    "my_var = 13\n",
    "task_5 = '5'"
   ]
  },
  {
   "cell_type": "code",
   "execution_count": 8,
   "metadata": {},
   "outputs": [
    {
     "data": {
      "text/html": [
       "<div>\n",
       "<style scoped>\n",
       "    .dataframe tbody tr th:only-of-type {\n",
       "        vertical-align: middle;\n",
       "    }\n",
       "\n",
       "    .dataframe tbody tr th {\n",
       "        vertical-align: top;\n",
       "    }\n",
       "\n",
       "    .dataframe thead th {\n",
       "        text-align: right;\n",
       "    }\n",
       "</style>\n",
       "<table border=\"1\" class=\"dataframe\">\n",
       "  <thead>\n",
       "    <tr style=\"text-align: right;\">\n",
       "      <th></th>\n",
       "      <th>A5</th>\n",
       "      <th>A8</th>\n",
       "    </tr>\n",
       "  </thead>\n",
       "  <tbody>\n",
       "    <tr>\n",
       "      <th>0</th>\n",
       "      <td>454</td>\n",
       "      <td>382</td>\n",
       "    </tr>\n",
       "    <tr>\n",
       "      <th>1</th>\n",
       "      <td>686</td>\n",
       "      <td>508</td>\n",
       "    </tr>\n",
       "    <tr>\n",
       "      <th>2</th>\n",
       "      <td>533</td>\n",
       "      <td>415</td>\n",
       "    </tr>\n",
       "    <tr>\n",
       "      <th>3</th>\n",
       "      <td>612</td>\n",
       "      <td>498</td>\n",
       "    </tr>\n",
       "    <tr>\n",
       "      <th>4</th>\n",
       "      <td>442</td>\n",
       "      <td>350</td>\n",
       "    </tr>\n",
       "    <tr>\n",
       "      <th>...</th>\n",
       "      <td>...</td>\n",
       "      <td>...</td>\n",
       "    </tr>\n",
       "    <tr>\n",
       "      <th>1068</th>\n",
       "      <td>408</td>\n",
       "      <td>349</td>\n",
       "    </tr>\n",
       "    <tr>\n",
       "      <th>1069</th>\n",
       "      <td>535</td>\n",
       "      <td>439</td>\n",
       "    </tr>\n",
       "    <tr>\n",
       "      <th>1070</th>\n",
       "      <td>441</td>\n",
       "      <td>383</td>\n",
       "    </tr>\n",
       "    <tr>\n",
       "      <th>1071</th>\n",
       "      <td>403</td>\n",
       "      <td>315</td>\n",
       "    </tr>\n",
       "    <tr>\n",
       "      <th>1072</th>\n",
       "      <td>539</td>\n",
       "      <td>445</td>\n",
       "    </tr>\n",
       "  </tbody>\n",
       "</table>\n",
       "<p>1073 rows × 2 columns</p>\n",
       "</div>"
      ],
      "text/plain": [
       "       A5   A8\n",
       "0     454  382\n",
       "1     686  508\n",
       "2     533  415\n",
       "3     612  498\n",
       "4     442  350\n",
       "...   ...  ...\n",
       "1068  408  349\n",
       "1069  535  439\n",
       "1070  441  383\n",
       "1071  403  315\n",
       "1072  539  445\n",
       "\n",
       "[1073 rows x 2 columns]"
      ]
     },
     "execution_count": 8,
     "metadata": {},
     "output_type": "execute_result"
    }
   ],
   "source": [
    "df_1 = hp.get_data(task_5, hp.get_tasks_var(my_var))\n",
    "df_1"
   ]
  },
  {
   "cell_type": "code",
   "execution_count": 9,
   "metadata": {},
   "outputs": [],
   "source": [
    "data_5_1 = df_1['A5'].to_numpy()\n",
    "data_5_2 = df_1['A8'].to_numpy()"
   ]
  },
  {
   "cell_type": "markdown",
   "metadata": {},
   "source": [
    "### 5.1. Критерий знаков"
   ]
  },
  {
   "cell_type": "markdown",
   "metadata": {},
   "source": [
    "Статистическая гипотеза – H0: F1(x) = F2(x)"
   ]
  },
  {
   "cell_type": "code",
   "execution_count": 10,
   "metadata": {},
   "outputs": [
    {
     "data": {
      "text/plain": [
       "WilcoxonResult(statistic=0.0, pvalue=4.110515034106515e-177)"
      ]
     },
     "execution_count": 10,
     "metadata": {},
     "output_type": "execute_result"
    }
   ],
   "source": [
    "stats.wilcoxon(data_5_1, data_5_2)"
   ]
  },
  {
   "cell_type": "code",
   "execution_count": 11,
   "metadata": {},
   "outputs": [],
   "source": [
    "def sign_test(vib_X, vib_Y):\n",
    "    quantity_plus = 0\n",
    "    length_n = len(vib_X)\n",
    "    for i in range (len(vib_X)):\n",
    "        if ((vib_X[i] - vib_Y[i]) > 0):\n",
    "            quantity_plus += 1\n",
    "        if ((vib_X[i] - vib_Y[i]) == 0):\n",
    "            length_n -= 1\n",
    "    freq_plus = quantity_plus/length_n\n",
    "    z_value = 2 * np.sqrt(length_n) * (freq_plus - 0.5)\n",
    "    p_value = 2 * min(stats.norm.cdf(z_value, 0, 1), 1 - stats.norm.cdf(z_value, 0, 1))\n",
    "    return z_value, p_value"
   ]
  },
  {
   "cell_type": "code",
   "execution_count": 12,
   "metadata": {},
   "outputs": [
    {
     "data": {
      "text/plain": [
       "(32.7566787083184, 0.0)"
      ]
     },
     "execution_count": 12,
     "metadata": {},
     "output_type": "execute_result"
    }
   ],
   "source": [
    "sign_test(data_5_1, data_5_2)"
   ]
  },
  {
   "cell_type": "markdown",
   "metadata": {},
   "source": [
    "### 5.2. Критерий хи-квадрат"
   ]
  },
  {
   "cell_type": "markdown",
   "metadata": {},
   "source": [
    "Формула Стерджесса определения числа групп"
   ]
  },
  {
   "cell_type": "code",
   "execution_count": 13,
   "metadata": {},
   "outputs": [
    {
     "data": {
      "text/plain": [
       "11"
      ]
     },
     "execution_count": 13,
     "metadata": {},
     "output_type": "execute_result"
    }
   ],
   "source": [
    "k_bins=int(1 + math.log2(data_5_1.size))\n",
    "k_bins"
   ]
  },
  {
   "cell_type": "code",
   "execution_count": 49,
   "metadata": {},
   "outputs": [
    {
     "data": {
      "image/png": "[encoded data removed]",
      "text/plain": [
       "<Figure size 432x288 with 1 Axes>"
      ]
     },
     "metadata": {
      "needs_background": "light"
     },
     "output_type": "display_data"
    }
   ],
   "source": [
    "plt.hist(data_5_1, k_bins, density=False,  facecolor='blue', alpha=0.3)\n",
    "plt.hist(data_5_2, k_bins, density=False,  facecolor='red', alpha=0.3)\n",
    "plt.show()"
   ]
  },
  {
   "cell_type": "markdown",
   "metadata": {},
   "source": [
    "Ширина интервалов не равны, след-но, построим новую гистограмму с одинаковыми диапазонами интервалов"
   ]
  },
  {
   "cell_type": "code",
   "execution_count": 50,
   "metadata": {},
   "outputs": [
    {
     "name": "stdout",
     "output_type": "stream",
     "text": [
      "232 1009\n"
     ]
    }
   ],
   "source": [
    "left_bord = min(min(data_5_1), min(data_5_2))\n",
    "right_bord = max(max(data_5_1), max(data_5_2))\n",
    "print(left_bord, right_bord)"
   ]
  },
  {
   "cell_type": "code",
   "execution_count": 51,
   "metadata": {},
   "outputs": [],
   "source": [
    "span = (right_bord - left_bord)/k_bins #ширина интервала\n",
    "borders = [left_bord + span*i for i in range(k_bins+1)]"
   ]
  },
  {
   "cell_type": "code",
   "execution_count": 52,
   "metadata": {},
   "outputs": [
    {
     "data": {
      "image/png": "[encoded data removed]",
      "text/plain": [
       "<Figure size 432x288 with 1 Axes>"
      ]
     },
     "metadata": {
      "needs_background": "light"
     },
     "output_type": "display_data"
    }
   ],
   "source": [
    "n_1, bins_1, patches_1 = plt.hist(data_5_1, borders, density=False,  facecolor='blue', alpha=0.3)\n",
    "n_2, bins_2, patches_2 = plt.hist(data_5_2, borders, density=False,  facecolor='red', alpha=0.3)"
   ]
  },
  {
   "cell_type": "code",
   "execution_count": 54,
   "metadata": {},
   "outputs": [
    {
     "data": {
      "text/plain": [
       "70.63636363636363"
      ]
     },
     "execution_count": 54,
     "metadata": {},
     "output_type": "execute_result"
    }
   ],
   "source": [
    "np.diff(bins_1)[0] # Ширина интервала"
   ]
  },
  {
   "cell_type": "code",
   "execution_count": 56,
   "metadata": {},
   "outputs": [
    {
     "data": {
      "text/plain": [
       "70.63636363636363"
      ]
     },
     "execution_count": 56,
     "metadata": {},
     "output_type": "execute_result"
    }
   ],
   "source": [
    "np.diff(bins_2)[0]"
   ]
  },
  {
   "cell_type": "code",
   "execution_count": 57,
   "metadata": {},
   "outputs": [
    {
     "data": {
      "text/plain": [
       "array([0.0055918 , 0.07269338, 0.17334576, 0.26840634, 0.19291705,\n",
       "       0.1332712 , 0.09506058, 0.03821062, 0.01025163, 0.00652377,\n",
       "       0.00372787])"
      ]
     },
     "metadata": {},
     "output_type": "display_data"
    },
    {
     "data": {
      "text/plain": [
       "array([0.04939422, 0.25629077, 0.32152842, 0.19105312, 0.12861137,\n",
       "       0.03821062, 0.0083877 , 0.00465983, 0.00186393, 0.        ,\n",
       "       0.        ])"
      ]
     },
     "metadata": {},
     "output_type": "display_data"
    }
   ],
   "source": [
    "n_prob_1 = n_1 / data_5_1.size # отн частота\n",
    "n_prob_2 = n_2 / data_5_2.size # отн частота\n",
    "display(n_prob_1, n_prob_2)"
   ]
  },
  {
   "cell_type": "code",
   "execution_count": 65,
   "metadata": {},
   "outputs": [
    {
     "data": {
      "text/html": [
       "<div>\n",
       "<style scoped>\n",
       "    .dataframe tbody tr th:only-of-type {\n",
       "        vertical-align: middle;\n",
       "    }\n",
       "\n",
       "    .dataframe tbody tr th {\n",
       "        vertical-align: top;\n",
       "    }\n",
       "\n",
       "    .dataframe thead th {\n",
       "        text-align: right;\n",
       "    }\n",
       "</style>\n",
       "<table border=\"1\" class=\"dataframe\">\n",
       "  <thead>\n",
       "    <tr style=\"text-align: right;\">\n",
       "      <th></th>\n",
       "      <th>Нижняя граница</th>\n",
       "      <th>Верхняя граница</th>\n",
       "      <th>Частота признака 1</th>\n",
       "      <th>Частота признака 2</th>\n",
       "      <th>Относит. частота признака 1</th>\n",
       "      <th>Относит. частота признака 2</th>\n",
       "    </tr>\n",
       "  </thead>\n",
       "  <tbody>\n",
       "    <tr>\n",
       "      <th>0</th>\n",
       "      <td>232.000000</td>\n",
       "      <td>302.636364</td>\n",
       "      <td>6.0</td>\n",
       "      <td>53.0</td>\n",
       "      <td>0.005592</td>\n",
       "      <td>0.049394</td>\n",
       "    </tr>\n",
       "    <tr>\n",
       "      <th>1</th>\n",
       "      <td>302.636364</td>\n",
       "      <td>373.272727</td>\n",
       "      <td>78.0</td>\n",
       "      <td>275.0</td>\n",
       "      <td>0.072693</td>\n",
       "      <td>0.256291</td>\n",
       "    </tr>\n",
       "    <tr>\n",
       "      <th>2</th>\n",
       "      <td>373.272727</td>\n",
       "      <td>443.909091</td>\n",
       "      <td>186.0</td>\n",
       "      <td>345.0</td>\n",
       "      <td>0.173346</td>\n",
       "      <td>0.321528</td>\n",
       "    </tr>\n",
       "    <tr>\n",
       "      <th>3</th>\n",
       "      <td>443.909091</td>\n",
       "      <td>514.545455</td>\n",
       "      <td>288.0</td>\n",
       "      <td>205.0</td>\n",
       "      <td>0.268406</td>\n",
       "      <td>0.191053</td>\n",
       "    </tr>\n",
       "    <tr>\n",
       "      <th>4</th>\n",
       "      <td>514.545455</td>\n",
       "      <td>585.181818</td>\n",
       "      <td>207.0</td>\n",
       "      <td>138.0</td>\n",
       "      <td>0.192917</td>\n",
       "      <td>0.128611</td>\n",
       "    </tr>\n",
       "    <tr>\n",
       "      <th>5</th>\n",
       "      <td>585.181818</td>\n",
       "      <td>655.818182</td>\n",
       "      <td>143.0</td>\n",
       "      <td>41.0</td>\n",
       "      <td>0.133271</td>\n",
       "      <td>0.038211</td>\n",
       "    </tr>\n",
       "    <tr>\n",
       "      <th>6</th>\n",
       "      <td>655.818182</td>\n",
       "      <td>726.454545</td>\n",
       "      <td>102.0</td>\n",
       "      <td>9.0</td>\n",
       "      <td>0.095061</td>\n",
       "      <td>0.008388</td>\n",
       "    </tr>\n",
       "    <tr>\n",
       "      <th>7</th>\n",
       "      <td>726.454545</td>\n",
       "      <td>797.090909</td>\n",
       "      <td>41.0</td>\n",
       "      <td>5.0</td>\n",
       "      <td>0.038211</td>\n",
       "      <td>0.004660</td>\n",
       "    </tr>\n",
       "    <tr>\n",
       "      <th>8</th>\n",
       "      <td>797.090909</td>\n",
       "      <td>867.727273</td>\n",
       "      <td>11.0</td>\n",
       "      <td>2.0</td>\n",
       "      <td>0.010252</td>\n",
       "      <td>0.001864</td>\n",
       "    </tr>\n",
       "    <tr>\n",
       "      <th>9</th>\n",
       "      <td>867.727273</td>\n",
       "      <td>938.363636</td>\n",
       "      <td>7.0</td>\n",
       "      <td>0.0</td>\n",
       "      <td>0.006524</td>\n",
       "      <td>0.000000</td>\n",
       "    </tr>\n",
       "    <tr>\n",
       "      <th>10</th>\n",
       "      <td>938.363636</td>\n",
       "      <td>1009.000000</td>\n",
       "      <td>4.0</td>\n",
       "      <td>0.0</td>\n",
       "      <td>0.003728</td>\n",
       "      <td>0.000000</td>\n",
       "    </tr>\n",
       "  </tbody>\n",
       "</table>\n",
       "</div>"
      ],
      "text/plain": [
       "    Нижняя граница  Верхняя граница  Частота признака 1  Частота признака 2  \\\n",
       "0       232.000000       302.636364                 6.0                53.0   \n",
       "1       302.636364       373.272727                78.0               275.0   \n",
       "2       373.272727       443.909091               186.0               345.0   \n",
       "3       443.909091       514.545455               288.0               205.0   \n",
       "4       514.545455       585.181818               207.0               138.0   \n",
       "5       585.181818       655.818182               143.0                41.0   \n",
       "6       655.818182       726.454545               102.0                 9.0   \n",
       "7       726.454545       797.090909                41.0                 5.0   \n",
       "8       797.090909       867.727273                11.0                 2.0   \n",
       "9       867.727273       938.363636                 7.0                 0.0   \n",
       "10      938.363636      1009.000000                 4.0                 0.0   \n",
       "\n",
       "    Относит. частота признака 1  Относит. частота признака 2  \n",
       "0                      0.005592                     0.049394  \n",
       "1                      0.072693                     0.256291  \n",
       "2                      0.173346                     0.321528  \n",
       "3                      0.268406                     0.191053  \n",
       "4                      0.192917                     0.128611  \n",
       "5                      0.133271                     0.038211  \n",
       "6                      0.095061                     0.008388  \n",
       "7                      0.038211                     0.004660  \n",
       "8                      0.010252                     0.001864  \n",
       "9                      0.006524                     0.000000  \n",
       "10                     0.003728                     0.000000  "
      ]
     },
     "execution_count": 65,
     "metadata": {},
     "output_type": "execute_result"
    }
   ],
   "source": [
    "pd.DataFrame({\"Нижняя граница\" : bins_1[:-1], \n",
    "              \"Верхняя граница\" : bins_1[1:],\n",
    "              \"Частота признака 1\" : n_1,\n",
    "              \"Частота признака 2\" : n_2,\n",
    "              \"Относит. частота признака 1\" : n_prob_1,\n",
    "              \"Относит. частота признака 2\" : n_prob_2,\n",
    "             })"
   ]
  },
  {
   "cell_type": "code",
   "execution_count": 67,
   "metadata": {},
   "outputs": [
    {
     "data": {
      "text/plain": [
       "Text(0.5, 1.0, 'Гистограмма относительных частот')"
      ]
     },
     "execution_count": 67,
     "metadata": {},
     "output_type": "execute_result"
    },
    {
     "data": {
      "image/png": "[encoded data removed]",
      "text/plain": [
       "<Figure size 432x288 with 1 Axes>"
      ]
     },
     "metadata": {
      "needs_background": "light"
     },
     "output_type": "display_data"
    }
   ],
   "source": [
    "plt.hist(bins_1[1:], k_bins, weights = n_prob_1, density=False,  facecolor='blue', alpha=0.3)\n",
    "plt.hist(bins_2[1:], k_bins, weights = n_prob_2, density=False,  facecolor='red', alpha=0.3)\n",
    "plt.title(\"Гистограмма относительных частот\")"
   ]
  },
  {
   "cell_type": "code",
   "execution_count": 72,
   "metadata": {},
   "outputs": [],
   "source": [
    "def criterion_chi2_test_homogen():\n",
    "    sum_ = 0\n",
    "    for i in range(k_bins):\n",
    "        sum_ += (n_1[i]/n_1.sum() - n_2[i]/n_2.sum())**2 / (n_1[i] + n_2[i])\n",
    "    return n_1.sum() * n_2.sum() * sum_"
   ]
  },
  {
   "cell_type": "code",
   "execution_count": 86,
   "metadata": {},
   "outputs": [
    {
     "data": {
      "text/plain": [
       "'crit'"
      ]
     },
     "metadata": {},
     "output_type": "display_data"
    },
    {
     "data": {
      "text/plain": [
       "402.6320676583203"
      ]
     },
     "metadata": {},
     "output_type": "display_data"
    }
   ],
   "source": [
    "display('crit', criterion_chi2_test_homogen())"
   ]
  },
  {
   "cell_type": "code",
   "execution_count": 87,
   "metadata": {},
   "outputs": [
    {
     "data": {
      "text/plain": [
       "'p-value'"
      ]
     },
     "metadata": {},
     "output_type": "display_data"
    },
    {
     "data": {
      "text/plain": [
       "0.0"
      ]
     },
     "metadata": {},
     "output_type": "display_data"
    }
   ],
   "source": [
    "display('p-value', 1 - stats.chi2.cdf(criterion_chi2_test_homogen(), k_bins - 1))"
   ]
  }
 ],
 "metadata": {
  "kernelspec": {
   "display_name": "Python 3",
   "language": "python",
   "name": "python3"
  },
  "language_info": {
   "codemirror_mode": {
    "name": "ipython",
    "version": 3
   },
   "file_extension": ".py",
   "mimetype": "text/x-python",
   "name": "python",
   "nbconvert_exporter": "python",
   "pygments_lexer": "ipython3",
   "version": "3.6.8"
  }
 },
 "nbformat": 4,
 "nbformat_minor": 2
}

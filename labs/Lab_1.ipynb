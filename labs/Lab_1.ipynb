{
 "cells": [
  {
   "cell_type": "code",
   "execution_count": 2,
   "metadata": {},
   "outputs": [],
   "source": [
    "from scipy import stats\n",
    "from scipy.stats import uniform\n",
    "import numpy as np"
   ]
  },
  {
   "cell_type": "code",
   "execution_count": 2,
   "metadata": {},
   "outputs": [],
   "source": [
    "vib1 = uniform.rvs(-5,10,300)\n",
    "vib2 = uniform.rvs(-5,10,300)"
   ]
  },
  {
   "cell_type": "code",
   "execution_count": 282,
   "metadata": {},
   "outputs": [],
   "source": [
    "m_theor = 0\n",
    "sigma_theor = np.sqrt(25/3)"
   ]
  },
  {
   "cell_type": "code",
   "execution_count": 283,
   "metadata": {},
   "outputs": [
    {
     "data": {
      "text/plain": [
       "2.886751345948129"
      ]
     },
     "execution_count": 283,
     "metadata": {},
     "output_type": "execute_result"
    }
   ],
   "source": [
    "np.sqrt(25/3)"
   ]
  },
  {
   "cell_type": "code",
   "execution_count": 284,
   "metadata": {},
   "outputs": [
    {
     "name": "stdout",
     "output_type": "stream",
     "text": [
      "Выборка 1:  Среднее 0.05302585104427721, Оценка дисперсии 9.20888531486028, Оценка с.к.о 3.034614524920798\n",
      "Выборка 2:  Среднее -0.2845908208764707, Оценка дисперсии 7.961918569477399, Оценка с.к.о 2.8216871849085963\n",
      "Pooled:     Среднее -0.11578248491609677, Оценка дисперсии 8.613898196458551, Оценка с.к.о 2.9349443259555286\n"
     ]
    }
   ],
   "source": [
    "print(\"Выборка 1:  Среднее {}, Оценка дисперсии {}, Оценка с.к.о {}\".format(np.mean(vib1),np.var(vib1),np.std(vib1)))\n",
    "print(\"Выборка 2:  Среднее {}, Оценка дисперсии {}, Оценка с.к.о {}\".format(np.mean(vib2),np.var(vib2),np.std(vib2)))\n",
    "pooled = np.concatenate([vib1, vib2])\n",
    "print(\"Pooled:     Среднее {}, Оценка дисперсии {}, Оценка с.к.о {}\".format(np.mean(pooled),np.var(pooled),np.std(pooled)))"
   ]
  },
  {
   "cell_type": "code",
   "execution_count": 285,
   "metadata": {},
   "outputs": [],
   "source": [
    "# 2.Однопараметрические критерии\n",
    "# выборочное значение(статистика критерия)\n",
    "def z_test_Z(vib, m0):\n",
    "    return (np.mean(vib) - m0) * np.sqrt(len(vib)) / sigma_theor\n",
    "    \n",
    "def t_test_Z(vib, m0):\n",
    "    return (np.mean(vib) - m0) * np.sqrt(len(vib)) / np.std(vib)\n",
    "\n",
    "def chi2_test_m_Z(vib, sigma):\n",
    "    sum0 = 0\n",
    "    for i in vib:\n",
    "        sum0 += np.power((i-m_theor), 2)\n",
    "    s0 = sum0/len(vib)\n",
    "    return len(vib)*s0/np.power(sigma, 2)\n",
    "    \n",
    "def chi2_test_wo_m_Z(vib, sigma):\n",
    "    sum0 = 0\n",
    "    for i in vib:\n",
    "        sum0 += np.power((i-np.mean(vib)), 2)\n",
    "    s0 = sum0/(len(vib)-1)\n",
    "    return (len(vib)-1)*s0/np.power(sigma, 2)"
   ]
  },
  {
   "cell_type": "code",
   "execution_count": 299,
   "metadata": {},
   "outputs": [
    {
     "name": "stdout",
     "output_type": "stream",
     "text": [
      "1. выбор-е зн-е: -1.4818448937343367 \n",
      "2. выбор-е зн-е: 0.3026528324076496 \n",
      "3. выбор-е зн-е: 331.62109400661313 \n",
      "4. выбор-е зн-е: 252.157756360209 \n"
     ]
    }
   ],
   "source": [
    "#находим выборочное значение\n",
    "print(\"1. выбор-е зн-е: {} \".format(z_test_Z(vib1, m0=0.3)))\n",
    "print(\"2. выбор-е зн-е: {} \".format(t_test_Z(vib1, m0=0)))\n",
    "print(\"3. выбор-е зн-е: {} \".format(chi2_test_m_Z(vib1, sigma=np.sqrt(25/3))))\n",
    "print(\"4. выбор-е зн-е: {} \".format(chi2_test_wo_m_Z(vib1, sigma=3.31)))\n"
   ]
  },
  {
   "cell_type": "code",
   "execution_count": 300,
   "metadata": {},
   "outputs": [
    {
     "name": "stdout",
     "output_type": "stream",
     "text": [
      "1. p = 0.1383815705855274\n",
      "2. p = 0.7623648882119565\n",
      "3. p = 0.20225310102342764\n",
      "4. p = 0.045696680893733424\n"
     ]
    }
   ],
   "source": [
    "#находим p-value\n",
    "#\n",
    "print(\"1. p = {}\".format(2*min(stats.norm.cdf(z_test_Z(vib1, m0=0.3), 0, 1), 1-stats.norm.cdf(z_test_Z(vib1, m0=0.3), 0, 1))))\n",
    "#\n",
    "print(\"2. p = {}\".format(2*min(stats.t.cdf(t_test_Z(vib1, m0=0), 299), 1-stats.t.cdf(t_test_Z(vib1, m0=0), 299))))\n",
    "#\n",
    "print(\"3. p = {}\".format(2*min(stats.chi2.cdf(chi2_test_m_Z(vib1, sigma=np.sqrt(25/3)), 300), 1-stats.chi2.cdf(chi2_test_m_Z(vib1, sigma=np.sqrt(25/3)), 300))))\n",
    "#\n",
    "print(\"4. p = {}\".format(2*min(stats.chi2.cdf(chi2_test_wo_m_Z(vib1, sigma=3.31), 299), 1-stats.chi2.cdf(chi2_test_wo_m_Z(vib1, sigma=3.31), 299))))"
   ]
  },
  {
   "cell_type": "code",
   "execution_count": 288,
   "metadata": {},
   "outputs": [
    {
     "data": {
      "text/plain": [
       "Ttest_1sampResult(statistic=0.30214798996709913, pvalue=0.7627493137036137)"
      ]
     },
     "execution_count": 288,
     "metadata": {},
     "output_type": "execute_result"
    }
   ],
   "source": [
    "stats.ttest_1samp(vib1, 0)"
   ]
  },
  {
   "cell_type": "code",
   "execution_count": 289,
   "metadata": {},
   "outputs": [],
   "source": [
    "#3.Двухвыборочные критерии\n",
    "\n",
    "\n",
    "def two_smpl_f_test_Z(smpl1, smpl2):\n",
    "    sum01 = 0\n",
    "    sum02 = 0\n",
    "    for i in smpl1:\n",
    "        sum01 += np.power((i-m_theor), 2)\n",
    "    for i in smpl2:\n",
    "        sum02 += np.power((i-m_theor), 2)\n",
    "        \n",
    "    s01 = sum01/len(smpl1)\n",
    "    s02 = sum02/len(smpl2)\n",
    "    return s01/s02\n",
    "\n",
    "def two_smpl_f_test_wo_m_Z(smpl1, smpl2):\n",
    "    sum01 = 0\n",
    "    sum02 = 0\n",
    "    for i in smpl1:\n",
    "        sum01 += np.power((i-np.mean(smpl1)), 2)\n",
    "    for i in smpl2:\n",
    "        sum02 += np.power((i-np.mean(smpl2)), 2)   \n",
    "    s1 = sum01/len(smpl1)\n",
    "    s2 = sum02/len(smpl2)\n",
    "    return s1/s2\n"
   ]
  },
  {
   "cell_type": "code",
   "execution_count": 301,
   "metadata": {},
   "outputs": [
    {
     "name": "stdout",
     "output_type": "stream",
     "text": [
      "1. выбор-е зн-е: 1.4088480806275407 \n",
      "2. выбор-е зн-е: 1.1453188556849563 \n",
      "3. выбор-е зн-е: 1.1566163650760288 \n"
     ]
    }
   ],
   "source": [
    "print(\"1. выбор-е зн-е: {} \".format(stats.ttest_ind(vib1, vib2).statistic))\n",
    "print(\"2. выбор-е зн-е: {} \".format(two_smpl_f_test_Z(vib1, vib2)))\n",
    "print(\"3. выбор-е зн-е: {} \".format(two_smpl_f_test_wo_m_Z(vib1, vib2)))"
   ]
  },
  {
   "cell_type": "code",
   "execution_count": 3,
   "metadata": {},
   "outputs": [
    {
     "ename": "NameError",
     "evalue": "name 'vib1' is not defined",
     "output_type": "error",
     "traceback": [
      "\u001b[1;31m---------------------------------------------------------------------------\u001b[0m",
      "\u001b[1;31mNameError\u001b[0m                                 Traceback (most recent call last)",
      "\u001b[1;32m<ipython-input-3-6f17d43b6588>\u001b[0m in \u001b[0;36m<module>\u001b[1;34m\u001b[0m\n\u001b[0;32m      1\u001b[0m \u001b[1;31m# p-value\u001b[0m\u001b[1;33m\u001b[0m\u001b[1;33m\u001b[0m\u001b[1;33m\u001b[0m\u001b[0m\n\u001b[1;32m----> 2\u001b[1;33m \u001b[0mprint\u001b[0m\u001b[1;33m(\u001b[0m\u001b[1;34m\"1. p = {}\"\u001b[0m\u001b[1;33m.\u001b[0m\u001b[0mformat\u001b[0m\u001b[1;33m(\u001b[0m\u001b[0mstats\u001b[0m\u001b[1;33m.\u001b[0m\u001b[0mttest_ind\u001b[0m\u001b[1;33m(\u001b[0m\u001b[0mvib1\u001b[0m\u001b[1;33m,\u001b[0m \u001b[0mvib2\u001b[0m\u001b[1;33m)\u001b[0m\u001b[1;33m.\u001b[0m\u001b[0mpvalue\u001b[0m\u001b[1;33m)\u001b[0m\u001b[1;33m)\u001b[0m\u001b[1;33m\u001b[0m\u001b[1;33m\u001b[0m\u001b[0m\n\u001b[0m\u001b[0;32m      3\u001b[0m \u001b[0mprint\u001b[0m\u001b[1;33m(\u001b[0m\u001b[1;34m\"2. p = {}\"\u001b[0m\u001b[1;33m.\u001b[0m\u001b[0mformat\u001b[0m\u001b[1;33m(\u001b[0m\u001b[1;36m2\u001b[0m\u001b[1;33m*\u001b[0m\u001b[0mmin\u001b[0m\u001b[1;33m(\u001b[0m\u001b[0mstats\u001b[0m\u001b[1;33m.\u001b[0m\u001b[0mf\u001b[0m\u001b[1;33m.\u001b[0m\u001b[0mcdf\u001b[0m\u001b[1;33m(\u001b[0m\u001b[0mtwo_smpl_f_test_Z\u001b[0m\u001b[1;33m(\u001b[0m\u001b[0mvib1\u001b[0m\u001b[1;33m,\u001b[0m \u001b[0mvib2\u001b[0m\u001b[1;33m)\u001b[0m\u001b[1;33m,\u001b[0m \u001b[1;36m300\u001b[0m\u001b[1;33m,\u001b[0m \u001b[1;36m300\u001b[0m\u001b[1;33m)\u001b[0m\u001b[1;33m,\u001b[0m \u001b[1;36m1\u001b[0m\u001b[1;33m-\u001b[0m\u001b[0mstats\u001b[0m\u001b[1;33m.\u001b[0m\u001b[0mf\u001b[0m\u001b[1;33m.\u001b[0m\u001b[0mcdf\u001b[0m\u001b[1;33m(\u001b[0m\u001b[0mtwo_smpl_f_test_Z\u001b[0m\u001b[1;33m(\u001b[0m\u001b[0mvib1\u001b[0m\u001b[1;33m,\u001b[0m \u001b[0mvib2\u001b[0m\u001b[1;33m)\u001b[0m\u001b[1;33m,\u001b[0m \u001b[1;36m300\u001b[0m\u001b[1;33m,\u001b[0m \u001b[1;36m300\u001b[0m\u001b[1;33m)\u001b[0m\u001b[1;33m)\u001b[0m\u001b[1;33m)\u001b[0m\u001b[1;33m)\u001b[0m\u001b[1;33m\u001b[0m\u001b[1;33m\u001b[0m\u001b[0m\n\u001b[0;32m      4\u001b[0m \u001b[0mprint\u001b[0m\u001b[1;33m(\u001b[0m\u001b[1;34m\"3. p = {}\"\u001b[0m\u001b[1;33m.\u001b[0m\u001b[0mformat\u001b[0m\u001b[1;33m(\u001b[0m\u001b[1;36m2\u001b[0m\u001b[1;33m*\u001b[0m\u001b[0mmin\u001b[0m\u001b[1;33m(\u001b[0m\u001b[0mstats\u001b[0m\u001b[1;33m.\u001b[0m\u001b[0mf\u001b[0m\u001b[1;33m.\u001b[0m\u001b[0mcdf\u001b[0m\u001b[1;33m(\u001b[0m\u001b[0mtwo_smpl_f_test_wo_m_Z\u001b[0m\u001b[1;33m(\u001b[0m\u001b[0mvib1\u001b[0m\u001b[1;33m,\u001b[0m \u001b[0mvib2\u001b[0m\u001b[1;33m)\u001b[0m\u001b[1;33m,\u001b[0m \u001b[1;36m299\u001b[0m\u001b[1;33m,\u001b[0m \u001b[1;36m299\u001b[0m\u001b[1;33m)\u001b[0m\u001b[1;33m,\u001b[0m \u001b[1;36m1\u001b[0m\u001b[1;33m-\u001b[0m\u001b[0mstats\u001b[0m\u001b[1;33m.\u001b[0m\u001b[0mf\u001b[0m\u001b[1;33m.\u001b[0m\u001b[0mcdf\u001b[0m\u001b[1;33m(\u001b[0m\u001b[0mtwo_smpl_f_test_wo_m_Z\u001b[0m\u001b[1;33m(\u001b[0m\u001b[0mvib1\u001b[0m\u001b[1;33m,\u001b[0m \u001b[0mvib2\u001b[0m\u001b[1;33m)\u001b[0m\u001b[1;33m,\u001b[0m \u001b[1;36m299\u001b[0m\u001b[1;33m,\u001b[0m \u001b[1;36m299\u001b[0m\u001b[1;33m)\u001b[0m\u001b[1;33m)\u001b[0m\u001b[1;33m)\u001b[0m\u001b[1;33m)\u001b[0m\u001b[1;33m\u001b[0m\u001b[1;33m\u001b[0m\u001b[0m\n",
      "\u001b[1;31mNameError\u001b[0m: name 'vib1' is not defined"
     ]
    }
   ],
   "source": [
    "# p-value \n",
    "print(\"1. p = {}\".format(stats.ttest_ind(vib1, vib2).pvalue))\n",
    "print(\"2. p = {}\".format(2*min(stats.f.cdf(two_smpl_f_test_Z(vib1, vib2), 300, 300), 1-stats.f.cdf(two_smpl_f_test_Z(vib1, vib2), 300, 300))))\n",
    "print(\"3. p = {}\".format(2*min(stats.f.cdf(two_smpl_f_test_wo_m_Z(vib1, vib2), 299, 299), 1-stats.f.cdf(two_smpl_f_test_wo_m_Z(vib1, vib2), 299, 299))))"
   ]
  },
  {
   "cell_type": "code",
   "execution_count": 304,
   "metadata": {},
   "outputs": [
    {
     "name": "stdout",
     "output_type": "stream",
     "text": [
      "Выборка z-value:  Среднее 0.0038140011824351846, Оценка дисперсии 0.9636975380793796, Оценка с.к.о 0.9816809757142998\n",
      "Выборка p-value:  Среднее 0.5012666538603638, Оценка дисперсии 0.07937341434405326, Оценка с.к.о 0.28173287764130983\n"
     ]
    }
   ],
   "source": [
    "#4.Исследование распределений статистик критерия\n",
    "n=1000\n",
    "z_value = []\n",
    "p_value = []\n",
    "for i in range(n):\n",
    "    vib01 = uniform.rvs(-5,10,300)\n",
    "    vib02 = uniform.rvs(-5,10,300)\n",
    "    z_value.append(stats.ttest_ind(vib01, vib02).statistic)\n",
    "    p_value.append(stats.ttest_ind(vib01, vib02).pvalue)\n",
    "\n",
    "print(\"Выборка z-value:  Среднее {}, Оценка дисперсии {}, Оценка с.к.о {}\".format(np.mean(z_value),np.var(z_value),np.std(z_value)))\n",
    "print(\"Выборка p-value:  Среднее {}, Оценка дисперсии {}, Оценка с.к.о {}\".format(np.mean(p_value),np.var(p_value),np.std(p_value)))"
   ]
  },
  {
   "cell_type": "code",
   "execution_count": 305,
   "metadata": {},
   "outputs": [
    {
     "name": "stderr",
     "output_type": "stream",
     "text": [
      "c:\\users\\hom\\appdata\\local\\programs\\python\\python36\\lib\\site-packages\\ipykernel_launcher.py:7: MatplotlibDeprecationWarning: \n",
      "The 'normed' kwarg was deprecated in Matplotlib 2.1 and will be removed in 3.1. Use 'density' instead.\n",
      "  import sys\n"
     ]
    },
    {
     "data": {
      "image/png": "[encoded data removed]",
      "text/plain": [
       "<Figure size 432x288 with 1 Axes>"
      ]
     },
     "metadata": {
      "needs_background": "light"
     },
     "output_type": "display_data"
    }
   ],
   "source": [
    "%matplotlib inline\n",
    "import matplotlib.pyplot as plt\n",
    "\n",
    "fig, ax = plt.subplots()\n",
    "\n",
    "# гистограмма\n",
    "n, bins, patches = ax.hist(p_value, 20, normed=True)\n",
    "\n",
    "ax.set_title(\"p-value\")\n",
    "ax.set_ylabel(\"Плотность вероятности\")\n",
    "\n",
    "fig.tight_layout()\n",
    "plt.show()"
   ]
  },
  {
   "cell_type": "code",
   "execution_count": 306,
   "metadata": {},
   "outputs": [
    {
     "name": "stderr",
     "output_type": "stream",
     "text": [
      "c:\\users\\hom\\appdata\\local\\programs\\python\\python36\\lib\\site-packages\\ipykernel_launcher.py:5: MatplotlibDeprecationWarning: \n",
      "The 'normed' kwarg was deprecated in Matplotlib 2.1 and will be removed in 3.1. Use 'density' instead.\n",
      "  \"\"\"\n"
     ]
    },
    {
     "data": {
      "image/png": "[encoded data removed]",
      "text/plain": [
       "<Figure size 432x288 with 1 Axes>"
      ]
     },
     "metadata": {
      "needs_background": "light"
     },
     "output_type": "display_data"
    }
   ],
   "source": [
    "\n",
    "fig, ax = plt.subplots()\n",
    "\n",
    "# гистограмма\n",
    "n, bins, patches = ax.hist(z_value, 20, normed=True)\n",
    "\n",
    "# график\n",
    "x = np.linspace(stats.t.ppf(0.05, 300+300-2), stats.t.ppf(0.95, 300+300-2), 100)\n",
    "ax.plot(x, stats.t.pdf(x, 300+300-2), lw=3, alpha=1)\n",
    "\n",
    "ax.set_title(\"Статистика критерия\")\n",
    "ax.set_ylabel(\"Плотность вероятности\")\n",
    "\n",
    "fig.tight_layout()\n",
    "plt.show()"
   ]
  },
  {
   "cell_type": "code",
   "execution_count": 297,
   "metadata": {},
   "outputs": [
    {
     "name": "stderr",
     "output_type": "stream",
     "text": [
      "c:\\users\\hom\\appdata\\local\\programs\\python\\python36\\lib\\site-packages\\ipykernel_launcher.py:4: MatplotlibDeprecationWarning: \n",
      "The 'normed' kwarg was deprecated in Matplotlib 2.1 and will be removed in 3.1. Use 'density' instead.\n",
      "  after removing the cwd from sys.path.\n"
     ]
    },
    {
     "data": {
      "image/png": "[encoded data removed]",
      "text/plain": [
       "<Figure size 432x288 with 1 Axes>"
      ]
     },
     "metadata": {
      "needs_background": "light"
     },
     "output_type": "display_data"
    }
   ],
   "source": [
    "fig, ax = plt.subplots()\n",
    "\n",
    "# гистограмма\n",
    "n, bins, patches = ax.hist(p_value, 20, normed=True)\n",
    "\n",
    "x = np.linspace(stats.uniform.ppf(0.05), stats.uniform.ppf(0.95), 100)\n",
    "ax.plot(x, stats.uniform.pdf(x), lw=3, alpha=1)\n",
    "\n",
    "ax.set_title(\"p-value\")\n",
    "ax.set_ylabel(\"Плотность вероятности\")\n",
    "\n",
    "fig.tight_layout()\n",
    "plt.show()"
   ]
  },
  {
   "cell_type": "code",
   "execution_count": null,
   "metadata": {},
   "outputs": [],
   "source": []
  }
 ],
 "metadata": {
  "kernelspec": {
   "display_name": "Python 3",
   "language": "python",
   "name": "python3"
  },
  "language_info": {
   "codemirror_mode": {
    "name": "ipython",
    "version": 3
   },
   "file_extension": ".py",
   "mimetype": "text/x-python",
   "name": "python",
   "nbconvert_exporter": "python",
   "pygments_lexer": "ipython3",
   "version": "3.6.8"
  }
 },
 "nbformat": 4,
 "nbformat_minor": 2
}

{
 "cells": [
  {
   "cell_type": "markdown",
   "metadata": {},
   "source": [
    "## Лабораторная работа №2. «Критерии согласия и однородности выборок»"
   ]
  },
  {
   "cell_type": "code",
   "execution_count": 3,
   "metadata": {},
   "outputs": [],
   "source": [
    "import pandas as pd\n",
    "import matplotlib.pyplot as plt\n",
    "import numpy as np\n",
    "from scipy import stats\n",
    "import math"
   ]
  },
  {
   "cell_type": "markdown",
   "metadata": {},
   "source": [
    "Вариант №13\n",
    "\n",
    "X ~ R(-5, 5)\n",
    "\n",
    "Y ~ R(-5, 5)\n",
    "\n",
    "n1 = 300\n",
    "\n",
    "n2 = 300"
   ]
  },
  {
   "cell_type": "code",
   "execution_count": 4,
   "metadata": {},
   "outputs": [],
   "source": [
    "x = stats.uniform.rvs(-5,10,300)\n",
    "y = stats.uniform.rvs(-5,10,300)"
   ]
  },
  {
   "cell_type": "markdown",
   "metadata": {},
   "source": [
    "### 1. Исходные данные"
   ]
  },
  {
   "cell_type": "code",
   "execution_count": 5,
   "metadata": {},
   "outputs": [
    {
     "data": {
      "text/html": [
       "<div>\n",
       "<style scoped>\n",
       "    .dataframe tbody tr th:only-of-type {\n",
       "        vertical-align: middle;\n",
       "    }\n",
       "\n",
       "    .dataframe tbody tr th {\n",
       "        vertical-align: top;\n",
       "    }\n",
       "\n",
       "    .dataframe thead th {\n",
       "        text-align: right;\n",
       "    }\n",
       "</style>\n",
       "<table border=\"1\" class=\"dataframe\">\n",
       "  <thead>\n",
       "    <tr style=\"text-align: right;\">\n",
       "      <th></th>\n",
       "      <th>Среднее</th>\n",
       "      <th>Оценка дисперсии</th>\n",
       "      <th>Оценка с.к.о</th>\n",
       "    </tr>\n",
       "  </thead>\n",
       "  <tbody>\n",
       "    <tr>\n",
       "      <th>0</th>\n",
       "      <td>-0.028087</td>\n",
       "      <td>8.909533</td>\n",
       "      <td>2.984884</td>\n",
       "    </tr>\n",
       "  </tbody>\n",
       "</table>\n",
       "</div>"
      ],
      "text/plain": [
       "    Среднее  Оценка дисперсии  Оценка с.к.о\n",
       "0 -0.028087          8.909533      2.984884"
      ]
     },
     "execution_count": 5,
     "metadata": {},
     "output_type": "execute_result"
    }
   ],
   "source": [
    "pd.DataFrame({\"Среднее\" : [x.mean()],\n",
    "              \"Оценка дисперсии\" : [x.var()],\n",
    "              \"Оценка с.к.о\" : [x.std()],\n",
    "             })"
   ]
  },
  {
   "cell_type": "markdown",
   "metadata": {},
   "source": [
    "### 2. Визуальное представление выборки"
   ]
  },
  {
   "cell_type": "code",
   "execution_count": 6,
   "metadata": {},
   "outputs": [
    {
     "data": {
      "text/plain": [
       "Text(0.5, 1.0, 'NBins = 5')"
      ]
     },
     "execution_count": 6,
     "metadata": {},
     "output_type": "execute_result"
    },
    {
     "data": {
      "image/png": "[encoded data removed]",
      "text/plain": [
       "<Figure size 432x288 with 1 Axes>"
      ]
     },
     "metadata": {
      "needs_background": "light"
     },
     "output_type": "display_data"
    }
   ],
   "source": [
    "n_1, bins_1, patches_1 = plt.hist(x, 5, density=False,  facecolor='#008080', alpha=1)\n",
    "plt.title(\"NBins = 5\", pad=10, weight='bold')"
   ]
  },
  {
   "cell_type": "code",
   "execution_count": 7,
   "metadata": {},
   "outputs": [
    {
     "data": {
      "text/plain": [
       "Text(0.5, 1.0, 'NBins = 10')"
      ]
     },
     "execution_count": 7,
     "metadata": {},
     "output_type": "execute_result"
    },
    {
     "data": {
      "image/png": "[encoded data removed]",
      "text/plain": [
       "<Figure size 432x288 with 1 Axes>"
      ]
     },
     "metadata": {
      "needs_background": "light"
     },
     "output_type": "display_data"
    }
   ],
   "source": [
    "n_2, bins_2, patches_2 = plt.hist(x, 10, density=False,  facecolor='#008080', alpha=1)\n",
    "plt.title(\"NBins = 10\", pad=10, weight='bold')"
   ]
  },
  {
   "cell_type": "code",
   "execution_count": 8,
   "metadata": {},
   "outputs": [
    {
     "data": {
      "text/plain": [
       "Text(0.5, 1.0, 'NBins = 15')"
      ]
     },
     "execution_count": 8,
     "metadata": {},
     "output_type": "execute_result"
    },
    {
     "data": {
      "image/png": "[encoded data removed]",
      "text/plain": [
       "<Figure size 432x288 with 1 Axes>"
      ]
     },
     "metadata": {
      "needs_background": "light"
     },
     "output_type": "display_data"
    }
   ],
   "source": [
    "n_3, bins_3, patches_3 = plt.hist(x, 15, density=False,  facecolor='#008080', alpha=1)\n",
    "plt.title(\"NBins = 15\", pad=10, weight='bold')"
   ]
  },
  {
   "cell_type": "code",
   "execution_count": 9,
   "metadata": {},
   "outputs": [
    {
     "data": {
      "text/plain": [
       "Text(0.5, 1.0, 'NBins = 20')"
      ]
     },
     "execution_count": 9,
     "metadata": {},
     "output_type": "execute_result"
    },
    {
     "data": {
      "image/png": "[encoded data removed]",
      "text/plain": [
       "<Figure size 432x288 with 1 Axes>"
      ]
     },
     "metadata": {
      "needs_background": "light"
     },
     "output_type": "display_data"
    }
   ],
   "source": [
    "n_4, bins_4, patches_4 = plt.hist(x, 20, density=False,  facecolor='#008080', alpha=1)\n",
    "plt.title(\"NBins = 20\", pad=10, weight='bold')"
   ]
  },
  {
   "cell_type": "markdown",
   "metadata": {},
   "source": [
    "### 3. Критерий хи-квадрат"
   ]
  },
  {
   "cell_type": "code",
   "execution_count": 10,
   "metadata": {},
   "outputs": [],
   "source": [
    "def criterion_chi2_gof_test(n, p_theor):\n",
    "    sum = 0\n",
    "    for i in range(p_theor.size):\n",
    "        if p_theor[i] != 0:\n",
    "            sum += (p_theor[i] * n.sum() - n[i])**2 / (p_theor[i] * n.sum())\n",
    "        else:\n",
    "            sum += 0\n",
    "    return sum"
   ]
  },
  {
   "cell_type": "markdown",
   "metadata": {},
   "source": [
    "#### a) Статистическая гипотеза: H0: X ~ N"
   ]
  },
  {
   "cell_type": "code",
   "execution_count": 11,
   "metadata": {},
   "outputs": [],
   "source": [
    "def get_p_theor_a(data, n, bins):\n",
    "    n_prob = n / data.size\n",
    "    z = (bins - data.mean()) / data.std()\n",
    "    def lapl_func(arg):\n",
    "        F = stats.norm.cdf(arg) - 0.5\n",
    "        F[0] = -0.5\n",
    "        F[-1] = 0.5\n",
    "        return F\n",
    "    p_theor = np.diff(lapl_func(z))\n",
    "    return pd.DataFrame({\"Нижняя граница\" : bins[:-1], \n",
    "                       \"Верхняя граница\" : bins[1:],\n",
    "                       \"Частота\" : n,\n",
    "                       \"Относит. частота\" : n_prob,\n",
    "                       \"Вероятность попадания в интервал при условии истинности основной гипотезы\" : p_theor\n",
    "                      }), p_theor\n",
    "  "
   ]
  },
  {
   "cell_type": "code",
   "execution_count": 12,
   "metadata": {},
   "outputs": [
    {
     "data": {
      "text/plain": [
       "'NBins = 5'"
      ]
     },
     "metadata": {},
     "output_type": "display_data"
    },
    {
     "data": {
      "text/html": [
       "<div>\n",
       "<style scoped>\n",
       "    .dataframe tbody tr th:only-of-type {\n",
       "        vertical-align: middle;\n",
       "    }\n",
       "\n",
       "    .dataframe tbody tr th {\n",
       "        vertical-align: top;\n",
       "    }\n",
       "\n",
       "    .dataframe thead th {\n",
       "        text-align: right;\n",
       "    }\n",
       "</style>\n",
       "<table border=\"1\" class=\"dataframe\">\n",
       "  <thead>\n",
       "    <tr style=\"text-align: right;\">\n",
       "      <th></th>\n",
       "      <th>Нижняя граница</th>\n",
       "      <th>Верхняя граница</th>\n",
       "      <th>Частота</th>\n",
       "      <th>Относит. частота</th>\n",
       "      <th>Вероятность попадания в интервал при условии истинности основной гипотезы</th>\n",
       "    </tr>\n",
       "  </thead>\n",
       "  <tbody>\n",
       "    <tr>\n",
       "      <th>0</th>\n",
       "      <td>-4.965898</td>\n",
       "      <td>-2.975096</td>\n",
       "      <td>67.0</td>\n",
       "      <td>0.223333</td>\n",
       "      <td>0.161745</td>\n",
       "    </tr>\n",
       "    <tr>\n",
       "      <th>1</th>\n",
       "      <td>-2.975096</td>\n",
       "      <td>-0.984294</td>\n",
       "      <td>59.0</td>\n",
       "      <td>0.196667</td>\n",
       "      <td>0.212607</td>\n",
       "    </tr>\n",
       "    <tr>\n",
       "      <th>2</th>\n",
       "      <td>-0.984294</td>\n",
       "      <td>1.006508</td>\n",
       "      <td>51.0</td>\n",
       "      <td>0.170000</td>\n",
       "      <td>0.261207</td>\n",
       "    </tr>\n",
       "    <tr>\n",
       "      <th>3</th>\n",
       "      <td>1.006508</td>\n",
       "      <td>2.997310</td>\n",
       "      <td>57.0</td>\n",
       "      <td>0.190000</td>\n",
       "      <td>0.209048</td>\n",
       "    </tr>\n",
       "    <tr>\n",
       "      <th>4</th>\n",
       "      <td>2.997310</td>\n",
       "      <td>4.988113</td>\n",
       "      <td>66.0</td>\n",
       "      <td>0.220000</td>\n",
       "      <td>0.155393</td>\n",
       "    </tr>\n",
       "  </tbody>\n",
       "</table>\n",
       "</div>"
      ],
      "text/plain": [
       "   Нижняя граница  Верхняя граница  Частота  Относит. частота  \\\n",
       "0       -4.965898        -2.975096     67.0          0.223333   \n",
       "1       -2.975096        -0.984294     59.0          0.196667   \n",
       "2       -0.984294         1.006508     51.0          0.170000   \n",
       "3        1.006508         2.997310     57.0          0.190000   \n",
       "4        2.997310         4.988113     66.0          0.220000   \n",
       "\n",
       "   Вероятность попадания в интервал при условии истинности основной гипотезы  \n",
       "0                                           0.161745                          \n",
       "1                                           0.212607                          \n",
       "2                                           0.261207                          \n",
       "3                                           0.209048                          \n",
       "4                                           0.155393                          "
      ]
     },
     "metadata": {},
     "output_type": "display_data"
    },
    {
     "name": "stdout",
     "output_type": "stream",
     "text": [
      " crit =  25.52701135395106 \n",
      " p-value =  2.863386115548039e-06\n"
     ]
    }
   ],
   "source": [
    "display(\"NBins = 5\", get_p_theor_a(x, n_1, bins_1)[0])\n",
    "crit_a_1 = criterion_chi2_gof_test(n_1, get_p_theor_a(x, n_1, bins_1)[1])\n",
    "p_value_a_1 =  1 - stats.chi2.cdf(crit_a_1, n_1.size - 2 - 1)\n",
    "print(\" crit = \", crit_a_1, \"\\n\", \"p-value = \", p_value_a_1)"
   ]
  },
  {
   "cell_type": "code",
   "execution_count": 13,
   "metadata": {},
   "outputs": [
    {
     "data": {
      "text/plain": [
       "'NBins = 10'"
      ]
     },
     "metadata": {},
     "output_type": "display_data"
    },
    {
     "data": {
      "text/html": [
       "<div>\n",
       "<style scoped>\n",
       "    .dataframe tbody tr th:only-of-type {\n",
       "        vertical-align: middle;\n",
       "    }\n",
       "\n",
       "    .dataframe tbody tr th {\n",
       "        vertical-align: top;\n",
       "    }\n",
       "\n",
       "    .dataframe thead th {\n",
       "        text-align: right;\n",
       "    }\n",
       "</style>\n",
       "<table border=\"1\" class=\"dataframe\">\n",
       "  <thead>\n",
       "    <tr style=\"text-align: right;\">\n",
       "      <th></th>\n",
       "      <th>Нижняя граница</th>\n",
       "      <th>Верхняя граница</th>\n",
       "      <th>Частота</th>\n",
       "      <th>Относит. частота</th>\n",
       "      <th>Вероятность попадания в интервал при условии истинности основной гипотезы</th>\n",
       "    </tr>\n",
       "  </thead>\n",
       "  <tbody>\n",
       "    <tr>\n",
       "      <th>0</th>\n",
       "      <td>-4.965898</td>\n",
       "      <td>-3.970497</td>\n",
       "      <td>33.0</td>\n",
       "      <td>0.110000</td>\n",
       "      <td>0.093285</td>\n",
       "    </tr>\n",
       "    <tr>\n",
       "      <th>1</th>\n",
       "      <td>-3.970497</td>\n",
       "      <td>-2.975096</td>\n",
       "      <td>34.0</td>\n",
       "      <td>0.113333</td>\n",
       "      <td>0.068460</td>\n",
       "    </tr>\n",
       "    <tr>\n",
       "      <th>2</th>\n",
       "      <td>-2.975096</td>\n",
       "      <td>-1.979695</td>\n",
       "      <td>38.0</td>\n",
       "      <td>0.126667</td>\n",
       "      <td>0.094865</td>\n",
       "    </tr>\n",
       "    <tr>\n",
       "      <th>3</th>\n",
       "      <td>-1.979695</td>\n",
       "      <td>-0.984294</td>\n",
       "      <td>21.0</td>\n",
       "      <td>0.070000</td>\n",
       "      <td>0.117741</td>\n",
       "    </tr>\n",
       "    <tr>\n",
       "      <th>4</th>\n",
       "      <td>-0.984294</td>\n",
       "      <td>0.011107</td>\n",
       "      <td>23.0</td>\n",
       "      <td>0.076667</td>\n",
       "      <td>0.130887</td>\n",
       "    </tr>\n",
       "    <tr>\n",
       "      <th>5</th>\n",
       "      <td>0.011107</td>\n",
       "      <td>1.006508</td>\n",
       "      <td>28.0</td>\n",
       "      <td>0.093333</td>\n",
       "      <td>0.130320</td>\n",
       "    </tr>\n",
       "    <tr>\n",
       "      <th>6</th>\n",
       "      <td>1.006508</td>\n",
       "      <td>2.001909</td>\n",
       "      <td>28.0</td>\n",
       "      <td>0.093333</td>\n",
       "      <td>0.116219</td>\n",
       "    </tr>\n",
       "    <tr>\n",
       "      <th>7</th>\n",
       "      <td>2.001909</td>\n",
       "      <td>2.997310</td>\n",
       "      <td>29.0</td>\n",
       "      <td>0.096667</td>\n",
       "      <td>0.092830</td>\n",
       "    </tr>\n",
       "    <tr>\n",
       "      <th>8</th>\n",
       "      <td>2.997310</td>\n",
       "      <td>3.992712</td>\n",
       "      <td>31.0</td>\n",
       "      <td>0.103333</td>\n",
       "      <td>0.066412</td>\n",
       "    </tr>\n",
       "    <tr>\n",
       "      <th>9</th>\n",
       "      <td>3.992712</td>\n",
       "      <td>4.988113</td>\n",
       "      <td>35.0</td>\n",
       "      <td>0.116667</td>\n",
       "      <td>0.088982</td>\n",
       "    </tr>\n",
       "  </tbody>\n",
       "</table>\n",
       "</div>"
      ],
      "text/plain": [
       "   Нижняя граница  Верхняя граница  Частота  Относит. частота  \\\n",
       "0       -4.965898        -3.970497     33.0          0.110000   \n",
       "1       -3.970497        -2.975096     34.0          0.113333   \n",
       "2       -2.975096        -1.979695     38.0          0.126667   \n",
       "3       -1.979695        -0.984294     21.0          0.070000   \n",
       "4       -0.984294         0.011107     23.0          0.076667   \n",
       "5        0.011107         1.006508     28.0          0.093333   \n",
       "6        1.006508         2.001909     28.0          0.093333   \n",
       "7        2.001909         2.997310     29.0          0.096667   \n",
       "8        2.997310         3.992712     31.0          0.103333   \n",
       "9        3.992712         4.988113     35.0          0.116667   \n",
       "\n",
       "   Вероятность попадания в интервал при условии истинности основной гипотезы  \n",
       "0                                           0.093285                          \n",
       "1                                           0.068460                          \n",
       "2                                           0.094865                          \n",
       "3                                           0.117741                          \n",
       "4                                           0.130887                          \n",
       "5                                           0.130320                          \n",
       "6                                           0.116219                          \n",
       "7                                           0.092830                          \n",
       "8                                           0.066412                          \n",
       "9                                           0.088982                          "
      ]
     },
     "metadata": {},
     "output_type": "display_data"
    },
    {
     "name": "stdout",
     "output_type": "stream",
     "text": [
      " crit =  38.75707408186494 \n",
      " p-value =  2.174463458515241e-06\n"
     ]
    }
   ],
   "source": [
    "display(\"NBins = 10\", get_p_theor_a(x, n_2, bins_2)[0])\n",
    "crit_a_2 = criterion_chi2_gof_test(n_2, get_p_theor_a(x, n_2, bins_2)[1])\n",
    "p_value_a_2 =  1 - stats.chi2.cdf(crit_a_2, n_2.size - 2 - 1)\n",
    "print(\" crit = \", crit_a_2, \"\\n\", \"p-value = \", p_value_a_2)"
   ]
  },
  {
   "cell_type": "code",
   "execution_count": 14,
   "metadata": {},
   "outputs": [
    {
     "data": {
      "text/plain": [
       "'NBins = 15'"
      ]
     },
     "metadata": {},
     "output_type": "display_data"
    },
    {
     "data": {
      "text/html": [
       "<div>\n",
       "<style scoped>\n",
       "    .dataframe tbody tr th:only-of-type {\n",
       "        vertical-align: middle;\n",
       "    }\n",
       "\n",
       "    .dataframe tbody tr th {\n",
       "        vertical-align: top;\n",
       "    }\n",
       "\n",
       "    .dataframe thead th {\n",
       "        text-align: right;\n",
       "    }\n",
       "</style>\n",
       "<table border=\"1\" class=\"dataframe\">\n",
       "  <thead>\n",
       "    <tr style=\"text-align: right;\">\n",
       "      <th></th>\n",
       "      <th>Нижняя граница</th>\n",
       "      <th>Верхняя граница</th>\n",
       "      <th>Частота</th>\n",
       "      <th>Относит. частота</th>\n",
       "      <th>Вероятность попадания в интервал при условии истинности основной гипотезы</th>\n",
       "    </tr>\n",
       "  </thead>\n",
       "  <tbody>\n",
       "    <tr>\n",
       "      <th>0</th>\n",
       "      <td>-4.965898</td>\n",
       "      <td>-4.302298</td>\n",
       "      <td>21.0</td>\n",
       "      <td>0.070000</td>\n",
       "      <td>0.076079</td>\n",
       "    </tr>\n",
       "    <tr>\n",
       "      <th>1</th>\n",
       "      <td>-4.302298</td>\n",
       "      <td>-3.638697</td>\n",
       "      <td>23.0</td>\n",
       "      <td>0.076667</td>\n",
       "      <td>0.037131</td>\n",
       "    </tr>\n",
       "    <tr>\n",
       "      <th>2</th>\n",
       "      <td>-3.638697</td>\n",
       "      <td>-2.975096</td>\n",
       "      <td>23.0</td>\n",
       "      <td>0.076667</td>\n",
       "      <td>0.048535</td>\n",
       "    </tr>\n",
       "    <tr>\n",
       "      <th>3</th>\n",
       "      <td>-2.975096</td>\n",
       "      <td>-2.311495</td>\n",
       "      <td>24.0</td>\n",
       "      <td>0.080000</td>\n",
       "      <td>0.060393</td>\n",
       "    </tr>\n",
       "    <tr>\n",
       "      <th>4</th>\n",
       "      <td>-2.311495</td>\n",
       "      <td>-1.647895</td>\n",
       "      <td>24.0</td>\n",
       "      <td>0.080000</td>\n",
       "      <td>0.071540</td>\n",
       "    </tr>\n",
       "    <tr>\n",
       "      <th>5</th>\n",
       "      <td>-1.647895</td>\n",
       "      <td>-0.984294</td>\n",
       "      <td>11.0</td>\n",
       "      <td>0.036667</td>\n",
       "      <td>0.080673</td>\n",
       "    </tr>\n",
       "    <tr>\n",
       "      <th>6</th>\n",
       "      <td>-0.984294</td>\n",
       "      <td>-0.320693</td>\n",
       "      <td>17.0</td>\n",
       "      <td>0.056667</td>\n",
       "      <td>0.086603</td>\n",
       "    </tr>\n",
       "    <tr>\n",
       "      <th>7</th>\n",
       "      <td>-0.320693</td>\n",
       "      <td>0.342908</td>\n",
       "      <td>11.0</td>\n",
       "      <td>0.036667</td>\n",
       "      <td>0.088503</td>\n",
       "    </tr>\n",
       "    <tr>\n",
       "      <th>8</th>\n",
       "      <td>0.342908</td>\n",
       "      <td>1.006508</td>\n",
       "      <td>23.0</td>\n",
       "      <td>0.076667</td>\n",
       "      <td>0.086101</td>\n",
       "    </tr>\n",
       "    <tr>\n",
       "      <th>9</th>\n",
       "      <td>1.006508</td>\n",
       "      <td>1.670109</td>\n",
       "      <td>17.0</td>\n",
       "      <td>0.056667</td>\n",
       "      <td>0.079740</td>\n",
       "    </tr>\n",
       "    <tr>\n",
       "      <th>10</th>\n",
       "      <td>1.670109</td>\n",
       "      <td>2.333710</td>\n",
       "      <td>21.0</td>\n",
       "      <td>0.070000</td>\n",
       "      <td>0.070303</td>\n",
       "    </tr>\n",
       "    <tr>\n",
       "      <th>11</th>\n",
       "      <td>2.333710</td>\n",
       "      <td>2.997310</td>\n",
       "      <td>19.0</td>\n",
       "      <td>0.063333</td>\n",
       "      <td>0.059005</td>\n",
       "    </tr>\n",
       "    <tr>\n",
       "      <th>12</th>\n",
       "      <td>2.997310</td>\n",
       "      <td>3.660911</td>\n",
       "      <td>23.0</td>\n",
       "      <td>0.076667</td>\n",
       "      <td>0.047144</td>\n",
       "    </tr>\n",
       "    <tr>\n",
       "      <th>13</th>\n",
       "      <td>3.660911</td>\n",
       "      <td>4.324512</td>\n",
       "      <td>23.0</td>\n",
       "      <td>0.076667</td>\n",
       "      <td>0.035858</td>\n",
       "    </tr>\n",
       "    <tr>\n",
       "      <th>14</th>\n",
       "      <td>4.324512</td>\n",
       "      <td>4.988113</td>\n",
       "      <td>20.0</td>\n",
       "      <td>0.066667</td>\n",
       "      <td>0.072391</td>\n",
       "    </tr>\n",
       "  </tbody>\n",
       "</table>\n",
       "</div>"
      ],
      "text/plain": [
       "    Нижняя граница  Верхняя граница  Частота  Относит. частота  \\\n",
       "0        -4.965898        -4.302298     21.0          0.070000   \n",
       "1        -4.302298        -3.638697     23.0          0.076667   \n",
       "2        -3.638697        -2.975096     23.0          0.076667   \n",
       "3        -2.975096        -2.311495     24.0          0.080000   \n",
       "4        -2.311495        -1.647895     24.0          0.080000   \n",
       "5        -1.647895        -0.984294     11.0          0.036667   \n",
       "6        -0.984294        -0.320693     17.0          0.056667   \n",
       "7        -0.320693         0.342908     11.0          0.036667   \n",
       "8         0.342908         1.006508     23.0          0.076667   \n",
       "9         1.006508         1.670109     17.0          0.056667   \n",
       "10        1.670109         2.333710     21.0          0.070000   \n",
       "11        2.333710         2.997310     19.0          0.063333   \n",
       "12        2.997310         3.660911     23.0          0.076667   \n",
       "13        3.660911         4.324512     23.0          0.076667   \n",
       "14        4.324512         4.988113     20.0          0.066667   \n",
       "\n",
       "    Вероятность попадания в интервал при условии истинности основной гипотезы  \n",
       "0                                            0.076079                          \n",
       "1                                            0.037131                          \n",
       "2                                            0.048535                          \n",
       "3                                            0.060393                          \n",
       "4                                            0.071540                          \n",
       "5                                            0.080673                          \n",
       "6                                            0.086603                          \n",
       "7                                            0.088503                          \n",
       "8                                            0.086101                          \n",
       "9                                            0.079740                          \n",
       "10                                           0.070303                          \n",
       "11                                           0.059005                          \n",
       "12                                           0.047144                          \n",
       "13                                           0.035858                          \n",
       "14                                           0.072391                          "
      ]
     },
     "metadata": {},
     "output_type": "display_data"
    },
    {
     "name": "stdout",
     "output_type": "stream",
     "text": [
      " crit =  61.31306695756551 \n",
      " p-value =  1.2994969766921827e-08\n"
     ]
    }
   ],
   "source": [
    "display(\"NBins = 15\", get_p_theor_a(x, n_3, bins_3)[0])\n",
    "crit_a_3 = criterion_chi2_gof_test(n_3, get_p_theor_a(x, n_3, bins_3)[1])\n",
    "p_value_a_3 =  1 - stats.chi2.cdf(crit_a_3, n_3.size - 2 - 1)\n",
    "print(\" crit = \", crit_a_3, \"\\n\", \"p-value = \", p_value_a_3)"
   ]
  },
  {
   "cell_type": "code",
   "execution_count": 15,
   "metadata": {},
   "outputs": [
    {
     "data": {
      "text/plain": [
       "'NBins = 20'"
      ]
     },
     "metadata": {},
     "output_type": "display_data"
    },
    {
     "data": {
      "text/html": [
       "<div>\n",
       "<style scoped>\n",
       "    .dataframe tbody tr th:only-of-type {\n",
       "        vertical-align: middle;\n",
       "    }\n",
       "\n",
       "    .dataframe tbody tr th {\n",
       "        vertical-align: top;\n",
       "    }\n",
       "\n",
       "    .dataframe thead th {\n",
       "        text-align: right;\n",
       "    }\n",
       "</style>\n",
       "<table border=\"1\" class=\"dataframe\">\n",
       "  <thead>\n",
       "    <tr style=\"text-align: right;\">\n",
       "      <th></th>\n",
       "      <th>Нижняя граница</th>\n",
       "      <th>Верхняя граница</th>\n",
       "      <th>Частота</th>\n",
       "      <th>Относит. частота</th>\n",
       "      <th>Вероятность попадания в интервал при условии истинности основной гипотезы</th>\n",
       "    </tr>\n",
       "  </thead>\n",
       "  <tbody>\n",
       "    <tr>\n",
       "      <th>0</th>\n",
       "      <td>-4.965898</td>\n",
       "      <td>-4.468198</td>\n",
       "      <td>14.0</td>\n",
       "      <td>0.046667</td>\n",
       "      <td>0.068437</td>\n",
       "    </tr>\n",
       "    <tr>\n",
       "      <th>1</th>\n",
       "      <td>-4.468198</td>\n",
       "      <td>-3.970497</td>\n",
       "      <td>19.0</td>\n",
       "      <td>0.063333</td>\n",
       "      <td>0.024848</td>\n",
       "    </tr>\n",
       "    <tr>\n",
       "      <th>2</th>\n",
       "      <td>-3.970497</td>\n",
       "      <td>-3.472797</td>\n",
       "      <td>16.0</td>\n",
       "      <td>0.053333</td>\n",
       "      <td>0.030954</td>\n",
       "    </tr>\n",
       "    <tr>\n",
       "      <th>3</th>\n",
       "      <td>-3.472797</td>\n",
       "      <td>-2.975096</td>\n",
       "      <td>18.0</td>\n",
       "      <td>0.060000</td>\n",
       "      <td>0.037506</td>\n",
       "    </tr>\n",
       "    <tr>\n",
       "      <th>4</th>\n",
       "      <td>-2.975096</td>\n",
       "      <td>-2.477396</td>\n",
       "      <td>16.0</td>\n",
       "      <td>0.053333</td>\n",
       "      <td>0.044200</td>\n",
       "    </tr>\n",
       "    <tr>\n",
       "      <th>5</th>\n",
       "      <td>-2.477396</td>\n",
       "      <td>-1.979695</td>\n",
       "      <td>22.0</td>\n",
       "      <td>0.073333</td>\n",
       "      <td>0.050665</td>\n",
       "    </tr>\n",
       "    <tr>\n",
       "      <th>6</th>\n",
       "      <td>-1.979695</td>\n",
       "      <td>-1.481995</td>\n",
       "      <td>16.0</td>\n",
       "      <td>0.053333</td>\n",
       "      <td>0.056487</td>\n",
       "    </tr>\n",
       "    <tr>\n",
       "      <th>7</th>\n",
       "      <td>-1.481995</td>\n",
       "      <td>-0.984294</td>\n",
       "      <td>5.0</td>\n",
       "      <td>0.016667</td>\n",
       "      <td>0.061254</td>\n",
       "    </tr>\n",
       "    <tr>\n",
       "      <th>8</th>\n",
       "      <td>-0.984294</td>\n",
       "      <td>-0.486593</td>\n",
       "      <td>13.0</td>\n",
       "      <td>0.043333</td>\n",
       "      <td>0.064607</td>\n",
       "    </tr>\n",
       "    <tr>\n",
       "      <th>9</th>\n",
       "      <td>-0.486593</td>\n",
       "      <td>0.011107</td>\n",
       "      <td>10.0</td>\n",
       "      <td>0.033333</td>\n",
       "      <td>0.066279</td>\n",
       "    </tr>\n",
       "    <tr>\n",
       "      <th>10</th>\n",
       "      <td>0.011107</td>\n",
       "      <td>0.508808</td>\n",
       "      <td>8.0</td>\n",
       "      <td>0.026667</td>\n",
       "      <td>0.066135</td>\n",
       "    </tr>\n",
       "    <tr>\n",
       "      <th>11</th>\n",
       "      <td>0.508808</td>\n",
       "      <td>1.006508</td>\n",
       "      <td>20.0</td>\n",
       "      <td>0.066667</td>\n",
       "      <td>0.064185</td>\n",
       "    </tr>\n",
       "    <tr>\n",
       "      <th>12</th>\n",
       "      <td>1.006508</td>\n",
       "      <td>1.504209</td>\n",
       "      <td>13.0</td>\n",
       "      <td>0.043333</td>\n",
       "      <td>0.060589</td>\n",
       "    </tr>\n",
       "    <tr>\n",
       "      <th>13</th>\n",
       "      <td>1.504209</td>\n",
       "      <td>2.001909</td>\n",
       "      <td>15.0</td>\n",
       "      <td>0.050000</td>\n",
       "      <td>0.055630</td>\n",
       "    </tr>\n",
       "    <tr>\n",
       "      <th>14</th>\n",
       "      <td>2.001909</td>\n",
       "      <td>2.499610</td>\n",
       "      <td>17.0</td>\n",
       "      <td>0.056667</td>\n",
       "      <td>0.049679</td>\n",
       "    </tr>\n",
       "    <tr>\n",
       "      <th>15</th>\n",
       "      <td>2.499610</td>\n",
       "      <td>2.997310</td>\n",
       "      <td>12.0</td>\n",
       "      <td>0.040000</td>\n",
       "      <td>0.043151</td>\n",
       "    </tr>\n",
       "    <tr>\n",
       "      <th>16</th>\n",
       "      <td>2.997310</td>\n",
       "      <td>3.495011</td>\n",
       "      <td>18.0</td>\n",
       "      <td>0.060000</td>\n",
       "      <td>0.036455</td>\n",
       "    </tr>\n",
       "    <tr>\n",
       "      <th>17</th>\n",
       "      <td>3.495011</td>\n",
       "      <td>3.992712</td>\n",
       "      <td>13.0</td>\n",
       "      <td>0.043333</td>\n",
       "      <td>0.029956</td>\n",
       "    </tr>\n",
       "    <tr>\n",
       "      <th>18</th>\n",
       "      <td>3.992712</td>\n",
       "      <td>4.490412</td>\n",
       "      <td>20.0</td>\n",
       "      <td>0.066667</td>\n",
       "      <td>0.023942</td>\n",
       "    </tr>\n",
       "    <tr>\n",
       "      <th>19</th>\n",
       "      <td>4.490412</td>\n",
       "      <td>4.988113</td>\n",
       "      <td>15.0</td>\n",
       "      <td>0.050000</td>\n",
       "      <td>0.065039</td>\n",
       "    </tr>\n",
       "  </tbody>\n",
       "</table>\n",
       "</div>"
      ],
      "text/plain": [
       "    Нижняя граница  Верхняя граница  Частота  Относит. частота  \\\n",
       "0        -4.965898        -4.468198     14.0          0.046667   \n",
       "1        -4.468198        -3.970497     19.0          0.063333   \n",
       "2        -3.970497        -3.472797     16.0          0.053333   \n",
       "3        -3.472797        -2.975096     18.0          0.060000   \n",
       "4        -2.975096        -2.477396     16.0          0.053333   \n",
       "5        -2.477396        -1.979695     22.0          0.073333   \n",
       "6        -1.979695        -1.481995     16.0          0.053333   \n",
       "7        -1.481995        -0.984294      5.0          0.016667   \n",
       "8        -0.984294        -0.486593     13.0          0.043333   \n",
       "9        -0.486593         0.011107     10.0          0.033333   \n",
       "10        0.011107         0.508808      8.0          0.026667   \n",
       "11        0.508808         1.006508     20.0          0.066667   \n",
       "12        1.006508         1.504209     13.0          0.043333   \n",
       "13        1.504209         2.001909     15.0          0.050000   \n",
       "14        2.001909         2.499610     17.0          0.056667   \n",
       "15        2.499610         2.997310     12.0          0.040000   \n",
       "16        2.997310         3.495011     18.0          0.060000   \n",
       "17        3.495011         3.992712     13.0          0.043333   \n",
       "18        3.992712         4.490412     20.0          0.066667   \n",
       "19        4.490412         4.988113     15.0          0.050000   \n",
       "\n",
       "    Вероятность попадания в интервал при условии истинности основной гипотезы  \n",
       "0                                            0.068437                          \n",
       "1                                            0.024848                          \n",
       "2                                            0.030954                          \n",
       "3                                            0.037506                          \n",
       "4                                            0.044200                          \n",
       "5                                            0.050665                          \n",
       "6                                            0.056487                          \n",
       "7                                            0.061254                          \n",
       "8                                            0.064607                          \n",
       "9                                            0.066279                          \n",
       "10                                           0.066135                          \n",
       "11                                           0.064185                          \n",
       "12                                           0.060589                          \n",
       "13                                           0.055630                          \n",
       "14                                           0.049679                          \n",
       "15                                           0.043151                          \n",
       "16                                           0.036455                          \n",
       "17                                           0.029956                          \n",
       "18                                           0.023942                          \n",
       "19                                           0.065039                          "
      ]
     },
     "metadata": {},
     "output_type": "display_data"
    },
    {
     "name": "stdout",
     "output_type": "stream",
     "text": [
      " crit =  88.64669263003468 \n",
      " p-value =  1.075028954744539e-11\n"
     ]
    }
   ],
   "source": [
    "display(\"NBins = 20\", get_p_theor_a(x, n_4, bins_4)[0])\n",
    "crit_a_4 = criterion_chi2_gof_test(n_4, get_p_theor_a(x, n_4, bins_4)[1])\n",
    "p_value_a_4 =  1 - stats.chi2.cdf(crit_a_4, n_4.size - 2 - 1)\n",
    "print(\" crit = \", crit_a_4, \"\\n\", \"p-value = \", p_value_a_4)"
   ]
  },
  {
   "cell_type": "markdown",
   "metadata": {},
   "source": [
    "#### b) Статистическая гипотеза: H0: X ~ R"
   ]
  },
  {
   "cell_type": "code",
   "execution_count": 16,
   "metadata": {},
   "outputs": [],
   "source": [
    "def get_n_theor_b(data, n, bins):\n",
    "    a = data.mean() - np.sqrt(3)*data.std()\n",
    "    b = data.mean() + np.sqrt(3)*data.std()\n",
    "    fx = 1 / (b - a)\n",
    "    n_theor = n.sum() * np.diff(bins) * fx\n",
    "    return n_theor"
   ]
  },
  {
   "cell_type": "code",
   "execution_count": 17,
   "metadata": {},
   "outputs": [
    {
     "data": {
      "text/plain": [
       "array([57.76054273, 57.76054273, 57.76054273, 57.76054273, 57.76054273])"
      ]
     },
     "execution_count": 17,
     "metadata": {},
     "output_type": "execute_result"
    }
   ],
   "source": [
    "get_n_theor_b(x, n_1, bins_1)"
   ]
  },
  {
   "cell_type": "code",
   "execution_count": 18,
   "metadata": {},
   "outputs": [
    {
     "data": {
      "text/plain": [
       "'NBins = 5'"
      ]
     },
     "metadata": {},
     "output_type": "display_data"
    },
    {
     "data": {
      "text/plain": [
       "Power_divergenceResult(statistic=3.4811972828497604, pvalue=0.48074309258382963)"
      ]
     },
     "metadata": {},
     "output_type": "display_data"
    }
   ],
   "source": [
    "display(\"NBins = 5\", stats.chisquare(n_1, get_n_theor_b(x, n_1, bins_1)))"
   ]
  },
  {
   "cell_type": "code",
   "execution_count": 19,
   "metadata": {},
   "outputs": [
    {
     "data": {
      "text/plain": [
       "'NBins = 10'"
      ]
     },
     "metadata": {},
     "output_type": "display_data"
    },
    {
     "data": {
      "text/plain": [
       "Power_divergenceResult(statistic=9.229065712189348, pvalue=0.4164039023782007)"
      ]
     },
     "metadata": {},
     "output_type": "display_data"
    }
   ],
   "source": [
    "display(\"NBins = 10\", stats.chisquare(n_2, get_n_theor_b(x, n_2, bins_2)))"
   ]
  },
  {
   "cell_type": "code",
   "execution_count": 20,
   "metadata": {},
   "outputs": [
    {
     "data": {
      "text/plain": [
       "'NBins = 15'"
      ]
     },
     "metadata": {},
     "output_type": "display_data"
    },
    {
     "data": {
      "text/plain": [
       "Power_divergenceResult(statistic=13.93816273863621, pvalue=0.45432811673872686)"
      ]
     },
     "metadata": {},
     "output_type": "display_data"
    }
   ],
   "source": [
    "display(\"NBins = 15\", stats.chisquare(n_3, get_n_theor_b(x, n_3, bins_3)))"
   ]
  },
  {
   "cell_type": "code",
   "execution_count": 21,
   "metadata": {},
   "outputs": [
    {
     "data": {
      "text/plain": [
       "'NBins = 20'"
      ]
     },
     "metadata": {},
     "output_type": "display_data"
    },
    {
     "data": {
      "text/plain": [
       "Power_divergenceResult(statistic=23.702613925827514, pvalue=0.20780809609423706)"
      ]
     },
     "metadata": {},
     "output_type": "display_data"
    }
   ],
   "source": [
    "display(\"NBins = 20\", stats.chisquare(n_4, get_n_theor_b(x, n_4, bins_4)))"
   ]
  },
  {
   "cell_type": "markdown",
   "metadata": {},
   "source": [
    "#### c) Статистическая гипотеза: H0: X ~ chi^2 (5)"
   ]
  },
  {
   "cell_type": "code",
   "execution_count": 22,
   "metadata": {},
   "outputs": [],
   "source": [
    "def get_p_theor_c(bins):\n",
    "    p_theor = np.array([])\n",
    "    for i in range(bins.size-1):\n",
    "        p_theor = np.append(p_theor, stats.chi2.cdf(bins[i+1], 5) - stats.chi2.cdf(bins[i], 5))\n",
    "    return p_theor"
   ]
  },
  {
   "cell_type": "code",
   "execution_count": 23,
   "metadata": {},
   "outputs": [],
   "source": [
    "def get_crit_and_pval(n, bins):\n",
    "    crit_c = criterion_chi2_gof_test(n, get_p_theor_c(bins))\n",
    "    p_value_c = 1 - stats.chi2.cdf(crit_c, n.size - 2 - 1)\n",
    "    return crit_c, p_value_c"
   ]
  },
  {
   "cell_type": "code",
   "execution_count": 24,
   "metadata": {},
   "outputs": [
    {
     "data": {
      "text/plain": [
       "'NBins = 5'"
      ]
     },
     "metadata": {},
     "output_type": "display_data"
    },
    {
     "data": {
      "text/plain": [
       "'crit'"
      ]
     },
     "metadata": {},
     "output_type": "display_data"
    },
    {
     "data": {
      "text/plain": [
       "147.8813877217856"
      ]
     },
     "metadata": {},
     "output_type": "display_data"
    },
    {
     "data": {
      "text/plain": [
       "'p_value'"
      ]
     },
     "metadata": {},
     "output_type": "display_data"
    },
    {
     "data": {
      "text/plain": [
       "0.0"
      ]
     },
     "metadata": {},
     "output_type": "display_data"
    }
   ],
   "source": [
    "display(\"NBins = 5\",\n",
    "        \"crit\", get_crit_and_pval(n_1, bins_1)[0],\n",
    "        \"p_value\", get_crit_and_pval(n_1, bins_1)[1]\n",
    "       )"
   ]
  },
  {
   "cell_type": "code",
   "execution_count": 25,
   "metadata": {},
   "outputs": [
    {
     "data": {
      "text/plain": [
       "'NBins = 10'"
      ]
     },
     "metadata": {},
     "output_type": "display_data"
    },
    {
     "data": {
      "text/plain": [
       "'crit'"
      ]
     },
     "metadata": {},
     "output_type": "display_data"
    },
    {
     "data": {
      "text/plain": [
       "2559765.971374277"
      ]
     },
     "metadata": {},
     "output_type": "display_data"
    },
    {
     "data": {
      "text/plain": [
       "'p_value'"
      ]
     },
     "metadata": {},
     "output_type": "display_data"
    },
    {
     "data": {
      "text/plain": [
       "0.0"
      ]
     },
     "metadata": {},
     "output_type": "display_data"
    }
   ],
   "source": [
    "display(\"NBins = 10\",\n",
    "        \"crit\", get_crit_and_pval(n_2, bins_2)[0],\n",
    "        \"p_value\", get_crit_and_pval(n_2, bins_2)[1]\n",
    "       )"
   ]
  },
  {
   "cell_type": "code",
   "execution_count": 26,
   "metadata": {},
   "outputs": [
    {
     "data": {
      "text/plain": [
       "'NBins = 15'"
      ]
     },
     "metadata": {},
     "output_type": "display_data"
    },
    {
     "data": {
      "text/plain": [
       "'crit'"
      ]
     },
     "metadata": {},
     "output_type": "display_data"
    },
    {
     "data": {
      "text/plain": [
       "129.2024884927926"
      ]
     },
     "metadata": {},
     "output_type": "display_data"
    },
    {
     "data": {
      "text/plain": [
       "'p_value'"
      ]
     },
     "metadata": {},
     "output_type": "display_data"
    },
    {
     "data": {
      "text/plain": [
       "0.0"
      ]
     },
     "metadata": {},
     "output_type": "display_data"
    }
   ],
   "source": [
    "display(\"NBins = 15\",\n",
    "        \"crit\", get_crit_and_pval(n_3, bins_3)[0],\n",
    "        \"p_value\", get_crit_and_pval(n_3, bins_3)[1]\n",
    "       )"
   ]
  },
  {
   "cell_type": "code",
   "execution_count": 27,
   "metadata": {},
   "outputs": [
    {
     "data": {
      "text/plain": [
       "'NBins = 5'"
      ]
     },
     "metadata": {},
     "output_type": "display_data"
    },
    {
     "data": {
      "text/plain": [
       "'crit'"
      ]
     },
     "metadata": {},
     "output_type": "display_data"
    },
    {
     "data": {
      "text/plain": [
       "483908.862834359"
      ]
     },
     "metadata": {},
     "output_type": "display_data"
    },
    {
     "data": {
      "text/plain": [
       "'p_value'"
      ]
     },
     "metadata": {},
     "output_type": "display_data"
    },
    {
     "data": {
      "text/plain": [
       "0.0"
      ]
     },
     "metadata": {},
     "output_type": "display_data"
    }
   ],
   "source": [
    "display(\"NBins = 5\",\n",
    "        \"crit\", get_crit_and_pval(n_4, bins_4)[0],\n",
    "        \"p_value\", get_crit_and_pval(n_4, bins_4)[1]\n",
    "       )"
   ]
  },
  {
   "cell_type": "markdown",
   "metadata": {},
   "source": [
    "### 4. Критерий Колмогорова"
   ]
  },
  {
   "cell_type": "markdown",
   "metadata": {},
   "source": [
    "X ~ N(m, s)"
   ]
  },
  {
   "cell_type": "code",
   "execution_count": 28,
   "metadata": {},
   "outputs": [
    {
     "data": {
      "text/plain": [
       "KstestResult(statistic=0.16031120207669453, pvalue=3.34020715366501e-07)"
      ]
     },
     "execution_count": 28,
     "metadata": {},
     "output_type": "execute_result"
    }
   ],
   "source": [
    "stats.kstest(x, 'norm', args=(0, 5))"
   ]
  },
  {
   "cell_type": "markdown",
   "metadata": {},
   "source": [
    "X ~ R"
   ]
  },
  {
   "cell_type": "code",
   "execution_count": 29,
   "metadata": {},
   "outputs": [
    {
     "data": {
      "text/plain": [
       "KstestResult(statistic=0.05649195128162665, pvalue=0.283858178855548)"
      ]
     },
     "execution_count": 29,
     "metadata": {},
     "output_type": "execute_result"
    }
   ],
   "source": [
    "stats.kstest(x, 'uniform', args=(-5, 10))"
   ]
  },
  {
   "cell_type": "markdown",
   "metadata": {},
   "source": [
    "X ~ chi^2(5)\n"
   ]
  },
  {
   "cell_type": "code",
   "execution_count": 30,
   "metadata": {},
   "outputs": [
    {
     "data": {
      "text/plain": [
       "KstestResult(statistic=0.9627573048014106, pvalue=0.0)"
      ]
     },
     "execution_count": 30,
     "metadata": {},
     "output_type": "execute_result"
    }
   ],
   "source": [
    "stats.kstest(x, 'chi2', args=(5, 0, 5))"
   ]
  },
  {
   "cell_type": "code",
   "execution_count": 31,
   "metadata": {},
   "outputs": [],
   "source": [
    "from statsmodels.distributions.empirical_distribution import ECDF"
   ]
  },
  {
   "cell_type": "code",
   "execution_count": 32,
   "metadata": {},
   "outputs": [
    {
     "data": {
      "text/plain": [
       "<matplotlib.legend.Legend at 0x19071eec18>"
      ]
     },
     "execution_count": 32,
     "metadata": {},
     "output_type": "execute_result"
    },
    {
     "data": {
      "image/png": "[encoded data removed]",
      "text/plain": [
       "<Figure size 432x288 with 1 Axes>"
      ]
     },
     "metadata": {
      "needs_background": "light"
     },
     "output_type": "display_data"
    }
   ],
   "source": [
    "ecdf = ECDF(x)\n",
    "plt.plot(ecdf.x, ecdf.y, lw=2)\n",
    "nrm = np.linspace(stats.norm.ppf(0.1, 0, 5), stats.norm.ppf(0.90,  0, 5), 300)\n",
    "plt.plot(nrm, stats.norm.cdf(nrm, 0, 5), lw=2, alpha=1)\n",
    "unif = np.linspace(stats.uniform.ppf(0.05, -5, 10), stats.uniform.ppf(0.95,  -5, 10), 300)\n",
    "plt.plot(unif, stats.uniform.cdf(unif, -5, 10), lw=2, alpha=1)\n",
    "chi2_5 = np.linspace(stats.chi2.ppf(0.05, 5), stats.chi2.ppf(0.95, 5), 300)\n",
    "plt.plot(chi2_5, stats.chi2.cdf(chi2_5, 5), lw=2, alpha=1)\n",
    "plt.legend(('Empirical', 'Normal', 'Uniform', 'Chi2(5)'), loc='upper left')"
   ]
  },
  {
   "cell_type": "markdown",
   "metadata": {},
   "source": [
    "### 5. Двухвыборочные критерии"
   ]
  },
  {
   "cell_type": "markdown",
   "metadata": {},
   "source": [
    "Формула Стерджесса определения числа групп"
   ]
  },
  {
   "cell_type": "code",
   "execution_count": 33,
   "metadata": {},
   "outputs": [
    {
     "data": {
      "text/plain": [
       "9"
      ]
     },
     "execution_count": 33,
     "metadata": {},
     "output_type": "execute_result"
    }
   ],
   "source": [
    "k_bins=int(1 + math.log2(x.size))\n",
    "k_bins"
   ]
  },
  {
   "cell_type": "code",
   "execution_count": 34,
   "metadata": {},
   "outputs": [
    {
     "data": {
      "text/plain": [
       "<matplotlib.legend.Legend at 0x1907282358>"
      ]
     },
     "execution_count": 34,
     "metadata": {},
     "output_type": "execute_result"
    },
    {
     "data": {
      "image/png": "[encoded data removed]",
      "text/plain": [
       "<Figure size 432x288 with 1 Axes>"
      ]
     },
     "metadata": {
      "needs_background": "light"
     },
     "output_type": "display_data"
    }
   ],
   "source": [
    "plt.hist(x, k_bins, density=False,  facecolor='blue', alpha=0.4)\n",
    "plt.hist(y, k_bins, density=False,  facecolor='red', alpha=0.4)\n",
    "plt.legend(('X', 'Y'), loc='lower right')"
   ]
  },
  {
   "cell_type": "code",
   "execution_count": 35,
   "metadata": {},
   "outputs": [
    {
     "data": {
      "text/plain": [
       "<matplotlib.legend.Legend at 0x190730a0b8>"
      ]
     },
     "execution_count": 35,
     "metadata": {},
     "output_type": "execute_result"
    },
    {
     "data": {
      "image/png": "[encoded data removed]",
      "text/plain": [
       "<Figure size 432x288 with 1 Axes>"
      ]
     },
     "metadata": {
      "needs_background": "light"
     },
     "output_type": "display_data"
    }
   ],
   "source": [
    "ecdf_x = ECDF(x)\n",
    "ecdf_y = ECDF(y)\n",
    "plt.plot(ecdf_x.x, ecdf.y, lw=2)\n",
    "plt.plot(ecdf_y.x, ecdf.y, lw=2)\n",
    "plt.legend(('X', 'Y'), loc='lower right')"
   ]
  },
  {
   "cell_type": "code",
   "execution_count": 36,
   "metadata": {},
   "outputs": [
    {
     "data": {
      "text/plain": [
       "Power_divergenceResult(statistic=434.23778552833545, pvalue=5.012054122251598e-07)"
      ]
     },
     "execution_count": 36,
     "metadata": {},
     "output_type": "execute_result"
    }
   ],
   "source": [
    "stats.chisquare(x, y)"
   ]
  },
  {
   "cell_type": "code",
   "execution_count": 37,
   "metadata": {},
   "outputs": [
    {
     "data": {
      "text/plain": [
       "Ks_2sampResult(statistic=0.07666666666666672, pvalue=0.3288875984561403)"
      ]
     },
     "execution_count": 37,
     "metadata": {},
     "output_type": "execute_result"
    }
   ],
   "source": [
    "stats.ks_2samp(x, y)"
   ]
  },
  {
   "cell_type": "code",
   "execution_count": 38,
   "metadata": {},
   "outputs": [
    {
     "data": {
      "text/plain": [
       "WilcoxonResult(statistic=21490.0, pvalue=0.47058363806304593)"
      ]
     },
     "execution_count": 38,
     "metadata": {},
     "output_type": "execute_result"
    }
   ],
   "source": [
    "stats.wilcoxon(x, y)"
   ]
  },
  {
   "cell_type": "code",
   "execution_count": 39,
   "metadata": {},
   "outputs": [
    {
     "data": {
      "text/plain": [
       "MannwhitneyuResult(statistic=43334.0, pvalue=0.21638196164482282)"
      ]
     },
     "execution_count": 39,
     "metadata": {},
     "output_type": "execute_result"
    }
   ],
   "source": [
    "stats.mannwhitneyu(x, y)"
   ]
  }
 ],
 "metadata": {
  "kernelspec": {
   "display_name": "Python 3",
   "language": "python",
   "name": "python3"
  },
  "language_info": {
   "codemirror_mode": {
    "name": "ipython",
    "version": 3
   },
   "file_extension": ".py",
   "mimetype": "text/x-python",
   "name": "python",
   "nbconvert_exporter": "python",
   "pygments_lexer": "ipython3",
   "version": "3.6.8"
  }
 },
 "nbformat": 4,
 "nbformat_minor": 2
}

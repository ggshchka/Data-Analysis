{
 "cells": [
  {
   "cell_type": "markdown",
   "metadata": {},
   "source": [
    "## Лабораторная работа №3. «Однофакторный дисперсионный анализ»"
   ]
  },
  {
   "cell_type": "code",
   "execution_count": 2,
   "metadata": {},
   "outputs": [],
   "source": [
    "import pandas as pd\n",
    "import matplotlib.pyplot as plt\n",
    "import numpy as np\n",
    "from scipy import stats\n",
    "import math"
   ]
  },
  {
   "cell_type": "markdown",
   "metadata": {},
   "source": [
    "Вариант №13\n",
    "\n",
    "- X1 ~ R(-5, 5)\n",
    "- X2 ~ R(-5, 5)\n",
    "- X3 ~ N(-5, 3) \n",
    "- n1 = 200\n",
    "- n2 = 100\n",
    "- n3 = 200"
   ]
  },
  {
   "cell_type": "code",
   "execution_count": 3,
   "metadata": {},
   "outputs": [],
   "source": [
    "x1 = stats.uniform.rvs(-5,10,200)\n",
    "x2 = stats.uniform.rvs(-5,10,100)\n",
    "x3 = stats.norm.rvs(-5,3,200)"
   ]
  },
  {
   "cell_type": "markdown",
   "metadata": {},
   "source": [
    "### 1. Исходные данные"
   ]
  },
  {
   "cell_type": "code",
   "execution_count": 4,
   "metadata": {},
   "outputs": [
    {
     "data": {
      "text/html": [
       "<div>\n",
       "<style scoped>\n",
       "    .dataframe tbody tr th:only-of-type {\n",
       "        vertical-align: middle;\n",
       "    }\n",
       "\n",
       "    .dataframe tbody tr th {\n",
       "        vertical-align: top;\n",
       "    }\n",
       "\n",
       "    .dataframe thead th {\n",
       "        text-align: right;\n",
       "    }\n",
       "</style>\n",
       "<table border=\"1\" class=\"dataframe\">\n",
       "  <thead>\n",
       "    <tr style=\"text-align: right;\">\n",
       "      <th></th>\n",
       "      <th>СВ</th>\n",
       "      <th>Распределение</th>\n",
       "      <th>Мат. ожидание</th>\n",
       "      <th>Дисперсия</th>\n",
       "      <th>Объем выборки</th>\n",
       "    </tr>\n",
       "  </thead>\n",
       "  <tbody>\n",
       "    <tr>\n",
       "      <th>0</th>\n",
       "      <td>X1</td>\n",
       "      <td>R(-5, 5)</td>\n",
       "      <td>0</td>\n",
       "      <td>8.333333</td>\n",
       "      <td>200</td>\n",
       "    </tr>\n",
       "    <tr>\n",
       "      <th>1</th>\n",
       "      <td>X2</td>\n",
       "      <td>R(-5, 5)</td>\n",
       "      <td>0</td>\n",
       "      <td>8.333333</td>\n",
       "      <td>100</td>\n",
       "    </tr>\n",
       "    <tr>\n",
       "      <th>2</th>\n",
       "      <td>X3</td>\n",
       "      <td>N(-5, 3)</td>\n",
       "      <td>-5</td>\n",
       "      <td>3.000000</td>\n",
       "      <td>200</td>\n",
       "    </tr>\n",
       "  </tbody>\n",
       "</table>\n",
       "</div>"
      ],
      "text/plain": [
       "   СВ Распределение  Мат. ожидание  Дисперсия  Объем выборки\n",
       "0  X1      R(-5, 5)              0   8.333333            200\n",
       "1  X2      R(-5, 5)              0   8.333333            100\n",
       "2  X3      N(-5, 3)             -5   3.000000            200"
      ]
     },
     "execution_count": 4,
     "metadata": {},
     "output_type": "execute_result"
    }
   ],
   "source": [
    "pd.DataFrame({\"СВ\" : [\"X1\", \"X2\", \"X3\"],\n",
    "              \"Распределение\" : [\"R(-5, 5)\", \"R(-5, 5)\", \"N(-5, 3)\"],\n",
    "              \"Мат. ожидание\" : [0, 0, -5],\n",
    "              \"Дисперсия\" : [(5-(-5))**2/12, (5-(-5))**2/12, 3],\n",
    "              \"Объем выборки\" : [200, 100, 200],\n",
    "             })"
   ]
  },
  {
   "cell_type": "code",
   "execution_count": 5,
   "metadata": {},
   "outputs": [
    {
     "data": {
      "text/html": [
       "<div>\n",
       "<style scoped>\n",
       "    .dataframe tbody tr th:only-of-type {\n",
       "        vertical-align: middle;\n",
       "    }\n",
       "\n",
       "    .dataframe tbody tr th {\n",
       "        vertical-align: top;\n",
       "    }\n",
       "\n",
       "    .dataframe thead th {\n",
       "        text-align: right;\n",
       "    }\n",
       "</style>\n",
       "<table border=\"1\" class=\"dataframe\">\n",
       "  <thead>\n",
       "    <tr style=\"text-align: right;\">\n",
       "      <th></th>\n",
       "      <th>СВ</th>\n",
       "      <th>Среднее</th>\n",
       "      <th>Оценка дисперсии</th>\n",
       "      <th>Оценка с.к.о.</th>\n",
       "    </tr>\n",
       "  </thead>\n",
       "  <tbody>\n",
       "    <tr>\n",
       "      <th>0</th>\n",
       "      <td>X1</td>\n",
       "      <td>0.094635</td>\n",
       "      <td>8.421377</td>\n",
       "      <td>2.901961</td>\n",
       "    </tr>\n",
       "    <tr>\n",
       "      <th>1</th>\n",
       "      <td>X2</td>\n",
       "      <td>0.347257</td>\n",
       "      <td>7.680974</td>\n",
       "      <td>2.771457</td>\n",
       "    </tr>\n",
       "    <tr>\n",
       "      <th>2</th>\n",
       "      <td>X3</td>\n",
       "      <td>-4.785311</td>\n",
       "      <td>8.592796</td>\n",
       "      <td>2.931347</td>\n",
       "    </tr>\n",
       "    <tr>\n",
       "      <th>3</th>\n",
       "      <td>Pooled</td>\n",
       "      <td>-1.806819</td>\n",
       "      <td>14.264649</td>\n",
       "      <td>3.776857</td>\n",
       "    </tr>\n",
       "  </tbody>\n",
       "</table>\n",
       "</div>"
      ],
      "text/plain": [
       "       СВ   Среднее  Оценка дисперсии  Оценка с.к.о.\n",
       "0      X1  0.094635          8.421377       2.901961\n",
       "1      X2  0.347257          7.680974       2.771457\n",
       "2      X3 -4.785311          8.592796       2.931347\n",
       "3  Pooled -1.806819         14.264649       3.776857"
      ]
     },
     "execution_count": 5,
     "metadata": {},
     "output_type": "execute_result"
    }
   ],
   "source": [
    "k = 3\n",
    "pooled = np.concatenate([x1, x2, x3])\n",
    "pd.DataFrame({\"СВ\" : [\"X1\", \"X2\", \"X3\", \"Pooled\"],\n",
    "              \"Среднее\" : [x1.mean(), x2.mean(), x3.mean(), pooled.mean()],\n",
    "              \"Оценка дисперсии\" : [x1.var(), x2.var(), x3.var(), pooled.var()],\n",
    "              \"Оценка с.к.о.\" : [x1.std(), x2.std(), x3.std(), pooled.std()],\n",
    "             })"
   ]
  },
  {
   "cell_type": "markdown",
   "metadata": {},
   "source": [
    "### 2. Визуальное представление выборок"
   ]
  },
  {
   "cell_type": "markdown",
   "metadata": {},
   "source": [
    "#### Диаграммы Box-and-Whisker:"
   ]
  },
  {
   "cell_type": "code",
   "execution_count": 6,
   "metadata": {},
   "outputs": [
    {
     "data": {
      "image/png": "[encoded data removed]",
      "text/plain": [
       "<Figure size 648x432 with 1 Axes>"
      ]
     },
     "metadata": {
      "needs_background": "light"
     },
     "output_type": "display_data"
    }
   ],
   "source": [
    "fig = plt.figure(1, figsize=(9, 6))\n",
    "ax = fig.add_subplot(111)\n",
    "ax.set_xticklabels(['X1', 'X2', 'X3', 'Pooled'])\n",
    "bp = ax.boxplot([x1, x2, x3, pooled])"
   ]
  },
  {
   "cell_type": "markdown",
   "metadata": {},
   "source": [
    "### 3. Проверка условия применимости дисперсионного анализа"
   ]
  },
  {
   "cell_type": "markdown",
   "metadata": {},
   "source": [
    "Статистическая гипотеза:\n",
    "H0 : σ1^2 = σ2^2 = σ3^2\n",
    "\n",
    "Критерий Бартлетта:"
   ]
  },
  {
   "cell_type": "code",
   "execution_count": 7,
   "metadata": {},
   "outputs": [
    {
     "data": {
      "text/plain": [
       "BartlettResult(statistic=0.38562896544143965, pvalue=0.8246349439806018)"
      ]
     },
     "execution_count": 7,
     "metadata": {},
     "output_type": "execute_result"
    }
   ],
   "source": [
    "stats.bartlett(x1, x2, x3)"
   ]
  },
  {
   "cell_type": "markdown",
   "metadata": {},
   "source": [
    "### 4. Однофакторный дисперсионный анализ"
   ]
  },
  {
   "cell_type": "code",
   "execution_count": 9,
   "metadata": {},
   "outputs": [],
   "source": [
    "group_x = [x1, x2, x3]\n",
    "within_group_var = np.sum([x.size * x.var() for x in group_x]) / pooled.size\n",
    "between_group_var = np.sum([x.size * (x.mean() - pooled.mean())**2 for x in group_x]) / pooled.size\n",
    "pooled_var = pooled.var()"
   ]
  },
  {
   "cell_type": "code",
   "execution_count": 10,
   "metadata": {},
   "outputs": [
    {
     "data": {
      "text/html": [
       "<div>\n",
       "<style scoped>\n",
       "    .dataframe tbody tr th:only-of-type {\n",
       "        vertical-align: middle;\n",
       "    }\n",
       "\n",
       "    .dataframe tbody tr th {\n",
       "        vertical-align: top;\n",
       "    }\n",
       "\n",
       "    .dataframe thead th {\n",
       "        text-align: right;\n",
       "    }\n",
       "</style>\n",
       "<table border=\"1\" class=\"dataframe\">\n",
       "  <thead>\n",
       "    <tr style=\"text-align: right;\">\n",
       "      <th></th>\n",
       "      <th>Источник вариации</th>\n",
       "      <th>Мера вариации</th>\n",
       "      <th>Число степ. своб.</th>\n",
       "      <th>Несмещ. оценка</th>\n",
       "    </tr>\n",
       "  </thead>\n",
       "  <tbody>\n",
       "    <tr>\n",
       "      <th>0</th>\n",
       "      <td>Группиров. приз</td>\n",
       "      <td>5.922786</td>\n",
       "      <td>2</td>\n",
       "      <td>1480.696413</td>\n",
       "    </tr>\n",
       "    <tr>\n",
       "      <th>1</th>\n",
       "      <td>Остаточ. факторы</td>\n",
       "      <td>8.341864</td>\n",
       "      <td>497</td>\n",
       "      <td>8.392217</td>\n",
       "    </tr>\n",
       "    <tr>\n",
       "      <th>2</th>\n",
       "      <td>Все факторы</td>\n",
       "      <td>14.264649</td>\n",
       "      <td>499</td>\n",
       "      <td>14.293236</td>\n",
       "    </tr>\n",
       "  </tbody>\n",
       "</table>\n",
       "</div>"
      ],
      "text/plain": [
       "  Источник вариации  Мера вариации  Число степ. своб.  Несмещ. оценка\n",
       "0   Группиров. приз       5.922786                  2     1480.696413\n",
       "1  Остаточ. факторы       8.341864                497        8.392217\n",
       "2       Все факторы      14.264649                499       14.293236"
      ]
     },
     "execution_count": 10,
     "metadata": {},
     "output_type": "execute_result"
    }
   ],
   "source": [
    "pd.DataFrame({\n",
    "    \"Источник вариации\" : [\"Группиров. приз\", \"Остаточ. факторы\", \"Все факторы\"],\n",
    "    \"Мера вариации\" : [between_group_var, within_group_var, pooled_var],\n",
    "    \"Число степ. своб.\" : [k - 1, pooled.size - k, pooled.size - 1],\n",
    "    \"Несмещ. оценка\" : [pooled.size / (k - 1) * between_group_var, \n",
    "                        pooled.size / (pooled.size - k) * within_group_var,\n",
    "                        pooled.size / (pooled.size - 1) * pooled_var],\n",
    "})"
   ]
  },
  {
   "cell_type": "code",
   "execution_count": 11,
   "metadata": {},
   "outputs": [
    {
     "data": {
      "text/html": [
       "<div>\n",
       "<style scoped>\n",
       "    .dataframe tbody tr th:only-of-type {\n",
       "        vertical-align: middle;\n",
       "    }\n",
       "\n",
       "    .dataframe tbody tr th {\n",
       "        vertical-align: top;\n",
       "    }\n",
       "\n",
       "    .dataframe thead th {\n",
       "        text-align: right;\n",
       "    }\n",
       "</style>\n",
       "<table border=\"1\" class=\"dataframe\">\n",
       "  <thead>\n",
       "    <tr style=\"text-align: right;\">\n",
       "      <th></th>\n",
       "      <th>Эмпирический коэффициент детерминации</th>\n",
       "      <th>Эмпирическое корреляционное отношение</th>\n",
       "    </tr>\n",
       "  </thead>\n",
       "  <tbody>\n",
       "    <tr>\n",
       "      <th>0</th>\n",
       "      <td>0.415207</td>\n",
       "      <td>0.644366</td>\n",
       "    </tr>\n",
       "  </tbody>\n",
       "</table>\n",
       "</div>"
      ],
      "text/plain": [
       "   Эмпирический коэффициент детерминации  \\\n",
       "0                               0.415207   \n",
       "\n",
       "   Эмпирическое корреляционное отношение  \n",
       "0                               0.644366  "
      ]
     },
     "execution_count": 11,
     "metadata": {},
     "output_type": "execute_result"
    }
   ],
   "source": [
    "pd.DataFrame({\n",
    "    \"Эмпирический коэффициент детерминации\" : [between_group_var / pooled_var],\n",
    "    \"Эмпирическое корреляционное отношение\" : [np.sqrt(between_group_var / pooled_var)],\n",
    "})"
   ]
  },
  {
   "cell_type": "markdown",
   "metadata": {},
   "source": [
    "Статистическая гипотеза: H0 : m1 = m2 = m3"
   ]
  },
  {
   "cell_type": "code",
   "execution_count": 12,
   "metadata": {},
   "outputs": [
    {
     "data": {
      "text/plain": [
       "F_onewayResult(statistic=176.436859669493, pvalue=1.2589087787868044e-58)"
      ]
     },
     "execution_count": 12,
     "metadata": {},
     "output_type": "execute_result"
    }
   ],
   "source": [
    "anv = stats.f_oneway(x1, x2, x3)\n",
    "anv"
   ]
  },
  {
   "cell_type": "code",
   "execution_count": 13,
   "metadata": {},
   "outputs": [
    {
     "data": {
      "text/html": [
       "<div>\n",
       "<style scoped>\n",
       "    .dataframe tbody tr th:only-of-type {\n",
       "        vertical-align: middle;\n",
       "    }\n",
       "\n",
       "    .dataframe tbody tr th {\n",
       "        vertical-align: top;\n",
       "    }\n",
       "\n",
       "    .dataframe thead th {\n",
       "        text-align: right;\n",
       "    }\n",
       "</style>\n",
       "<table border=\"1\" class=\"dataframe\">\n",
       "  <thead>\n",
       "    <tr style=\"text-align: right;\">\n",
       "      <th></th>\n",
       "      <th>Cтат. крит.</th>\n",
       "      <th>p-value</th>\n",
       "      <th>Стат. реш. при alpha=0.1</th>\n",
       "      <th>Ошибка стат. решения</th>\n",
       "    </tr>\n",
       "  </thead>\n",
       "  <tbody>\n",
       "    <tr>\n",
       "      <th>0</th>\n",
       "      <td>176.43686</td>\n",
       "      <td>1.258909e-58</td>\n",
       "      <td>Отклоняется</td>\n",
       "      <td>-</td>\n",
       "    </tr>\n",
       "  </tbody>\n",
       "</table>\n",
       "</div>"
      ],
      "text/plain": [
       "   Cтат. крит.       p-value Стат. реш. при alpha=0.1 Ошибка стат. решения\n",
       "0    176.43686  1.258909e-58              Отклоняется                    -"
      ]
     },
     "execution_count": 13,
     "metadata": {},
     "output_type": "execute_result"
    }
   ],
   "source": [
    "pd.DataFrame({\n",
    "    \"Cтат. крит.\" : [anv.statistic], \n",
    "    \"p-value\" : [anv.pvalue],\n",
    "    \"Стат. реш. при alpha=0.1\" : [\"Отклоняется\" if anv.pvalue < 0.1 else \"Принимается\"],\n",
    "    \"Ошибка стат. решения\" : [\"-\"],\n",
    "})"
   ]
  },
  {
   "cell_type": "markdown",
   "metadata": {},
   "source": [
    "### 5. Метод линейных контрастов\n"
   ]
  },
  {
   "cell_type": "code",
   "execution_count": 14,
   "metadata": {},
   "outputs": [
    {
     "data": {
      "text/html": [
       "<table class=\"simpletable\">\n",
       "<caption>Multiple Comparison of Means - Tukey HSD, FWER=0.01</caption>\n",
       "<tr>\n",
       "  <th>group1</th> <th>group2</th> <th>meandiff</th>  <th>p-adj</th>  <th>lower</th>   <th>upper</th>  <th>reject</th>\n",
       "</tr>\n",
       "<tr>\n",
       "    <td>m1</td>     <td>m2</td>    <td>0.2526</td>  <td>0.7366</td> <td>-0.7859</td> <td>1.2911</td>   <td>False</td>\n",
       "</tr>\n",
       "<tr>\n",
       "    <td>m1</td>     <td>m3</td>    <td>-4.8799</td>  <td>0.001</td> <td>-5.7279</td> <td>-4.032</td>   <td>True</td> \n",
       "</tr>\n",
       "<tr>\n",
       "    <td>m2</td>     <td>m3</td>    <td>-5.1326</td>  <td>0.001</td> <td>-6.1711</td> <td>-4.0941</td>  <td>True</td> \n",
       "</tr>\n",
       "</table>"
      ],
      "text/plain": [
       "<class 'statsmodels.iolib.table.SimpleTable'>"
      ]
     },
     "execution_count": 14,
     "metadata": {},
     "output_type": "execute_result"
    },
    {
     "data": {
      "image/png": "[encoded data removed]",
      "text/plain": [
       "<Figure size 720x432 with 1 Axes>"
      ]
     },
     "metadata": {
      "needs_background": "light"
     },
     "output_type": "display_data"
    }
   ],
   "source": [
    "from statsmodels.stats.multicomp import pairwise_tukeyhsd\n",
    "\n",
    "labels = [\"m1\"] * len(x1) + [\"m2\"] * len(x2) + [\"m3\"] * len(x3)\n",
    "t = pairwise_tukeyhsd(pooled, labels, 0.01)\n",
    "t.plot_simultaneous() \n",
    "plt.vlines(x=50, ymin=-0.5, ymax=4.5, color=\"red\")\n",
    "t.summary() "
   ]
  },
  {
   "cell_type": "code",
   "execution_count": 15,
   "metadata": {},
   "outputs": [
    {
     "data": {
      "text/plain": [
       "array([0.7366323, 0.001    , 0.001    ])"
      ]
     },
     "execution_count": 15,
     "metadata": {},
     "output_type": "execute_result"
    }
   ],
   "source": [
    "t.pvalues"
   ]
  },
  {
   "cell_type": "code",
   "execution_count": 16,
   "metadata": {},
   "outputs": [
    {
     "data": {
      "text/plain": [
       "4.1393626512855635"
      ]
     },
     "execution_count": 16,
     "metadata": {},
     "output_type": "execute_result"
    }
   ],
   "source": [
    "t.q_crit"
   ]
  }
 ],
 "metadata": {
  "kernelspec": {
   "display_name": "Python 3",
   "language": "python",
   "name": "python3"
  },
  "language_info": {
   "codemirror_mode": {
    "name": "ipython",
    "version": 3
   },
   "file_extension": ".py",
   "mimetype": "text/x-python",
   "name": "python",
   "nbconvert_exporter": "python",
   "pygments_lexer": "ipython3",
   "version": "3.6.8"
  }
 },
 "nbformat": 4,
 "nbformat_minor": 2
}

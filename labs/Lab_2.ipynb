{
 "cells": [
  {
   "cell_type": "markdown",
   "metadata": {},
   "source": [
    "## Лабораторная работа №2. «Критерии согласия и однородности выборок»"
   ]
  },
  {
   "cell_type": "code",
   "execution_count": 370,
   "metadata": {},
   "outputs": [],
   "source": [
    "import helper as hp\n",
    "import pandas as pd\n",
    "import matplotlib.pyplot as plt\n",
    "import numpy as np\n",
    "from scipy import stats\n",
    "import math"
   ]
  },
  {
   "cell_type": "markdown",
   "metadata": {},
   "source": [
    "Вариант №13\n",
    "\n",
    "X ~ R(-5, 5)\n",
    "\n",
    "Y ~ R(-5, 5)\n",
    "\n",
    "n1 = 300\n",
    "\n",
    "n2 = 300"
   ]
  },
  {
   "cell_type": "code",
   "execution_count": 371,
   "metadata": {},
   "outputs": [],
   "source": [
    "x = stats.uniform.rvs(-5,10,300)\n",
    "y = stats.uniform.rvs(-5,10,300)"
   ]
  },
  {
   "cell_type": "markdown",
   "metadata": {},
   "source": [
    "### 1. Исходные данные"
   ]
  },
  {
   "cell_type": "code",
   "execution_count": 372,
   "metadata": {},
   "outputs": [
    {
     "data": {
      "text/html": [
       "<div>\n",
       "<style scoped>\n",
       "    .dataframe tbody tr th:only-of-type {\n",
       "        vertical-align: middle;\n",
       "    }\n",
       "\n",
       "    .dataframe tbody tr th {\n",
       "        vertical-align: top;\n",
       "    }\n",
       "\n",
       "    .dataframe thead th {\n",
       "        text-align: right;\n",
       "    }\n",
       "</style>\n",
       "<table border=\"1\" class=\"dataframe\">\n",
       "  <thead>\n",
       "    <tr style=\"text-align: right;\">\n",
       "      <th></th>\n",
       "      <th>Среднее</th>\n",
       "      <th>Оценка дисперсии</th>\n",
       "      <th>Оценка с.к.о</th>\n",
       "    </tr>\n",
       "  </thead>\n",
       "  <tbody>\n",
       "    <tr>\n",
       "      <th>0</th>\n",
       "      <td>-0.097701</td>\n",
       "      <td>8.841717</td>\n",
       "      <td>2.973502</td>\n",
       "    </tr>\n",
       "  </tbody>\n",
       "</table>\n",
       "</div>"
      ],
      "text/plain": [
       "    Среднее  Оценка дисперсии  Оценка с.к.о\n",
       "0 -0.097701          8.841717      2.973502"
      ]
     },
     "execution_count": 372,
     "metadata": {},
     "output_type": "execute_result"
    }
   ],
   "source": [
    "pd.DataFrame({\"Среднее\" : [x.mean()],\n",
    "              \"Оценка дисперсии\" : [x.var()],\n",
    "              \"Оценка с.к.о\" : [x.std()],\n",
    "             })"
   ]
  },
  {
   "cell_type": "markdown",
   "metadata": {},
   "source": [
    "### 2. Визуальное представление выборки"
   ]
  },
  {
   "cell_type": "code",
   "execution_count": 373,
   "metadata": {},
   "outputs": [
    {
     "data": {
      "text/plain": [
       "Text(0.5, 1.0, 'NBins = 5')"
      ]
     },
     "execution_count": 373,
     "metadata": {},
     "output_type": "execute_result"
    },
    {
     "data": {
      "image/png": "[encoded data removed]",
      "text/plain": [
       "<Figure size 432x288 with 1 Axes>"
      ]
     },
     "metadata": {
      "needs_background": "light"
     },
     "output_type": "display_data"
    }
   ],
   "source": [
    "n_1, bins_1, patches_1 = plt.hist(x, 5, density=False,  facecolor='#008080', alpha=1)\n",
    "plt.title(\"NBins = 5\", pad=10, weight='bold')"
   ]
  },
  {
   "cell_type": "code",
   "execution_count": 374,
   "metadata": {},
   "outputs": [
    {
     "data": {
      "text/plain": [
       "Text(0.5, 1.0, 'NBins = 10')"
      ]
     },
     "execution_count": 374,
     "metadata": {},
     "output_type": "execute_result"
    },
    {
     "data": {
      "image/png": "[encoded data removed]",
      "text/plain": [
       "<Figure size 432x288 with 1 Axes>"
      ]
     },
     "metadata": {
      "needs_background": "light"
     },
     "output_type": "display_data"
    }
   ],
   "source": [
    "n_2, bins_2, patches_2 = plt.hist(x, 10, density=False,  facecolor='#008080', alpha=1)\n",
    "plt.title(\"NBins = 10\", pad=10, weight='bold')"
   ]
  },
  {
   "cell_type": "code",
   "execution_count": 375,
   "metadata": {},
   "outputs": [
    {
     "data": {
      "text/plain": [
       "Text(0.5, 1.0, 'NBins = 15')"
      ]
     },
     "execution_count": 375,
     "metadata": {},
     "output_type": "execute_result"
    },
    {
     "data": {
      "image/png": "[encoded data removed]",
      "text/plain": [
       "<Figure size 432x288 with 1 Axes>"
      ]
     },
     "metadata": {
      "needs_background": "light"
     },
     "output_type": "display_data"
    }
   ],
   "source": [
    "n_3, bins_3, patches_3 = plt.hist(x, 15, density=False,  facecolor='#008080', alpha=1)\n",
    "plt.title(\"NBins = 15\", pad=10, weight='bold')"
   ]
  },
  {
   "cell_type": "code",
   "execution_count": 376,
   "metadata": {},
   "outputs": [
    {
     "data": {
      "text/plain": [
       "Text(0.5, 1.0, 'NBins = 20')"
      ]
     },
     "execution_count": 376,
     "metadata": {},
     "output_type": "execute_result"
    },
    {
     "data": {
      "image/png": "[encoded data removed]",
      "text/plain": [
       "<Figure size 432x288 with 1 Axes>"
      ]
     },
     "metadata": {
      "needs_background": "light"
     },
     "output_type": "display_data"
    }
   ],
   "source": [
    "n_4, bins_4, patches_4 = plt.hist(x, 20, density=False,  facecolor='#008080', alpha=1)\n",
    "plt.title(\"NBins = 20\", pad=10, weight='bold')"
   ]
  },
  {
   "cell_type": "markdown",
   "metadata": {},
   "source": [
    "### 3. Критерий хи-квадрат"
   ]
  },
  {
   "cell_type": "code",
   "execution_count": 377,
   "metadata": {},
   "outputs": [],
   "source": [
    "def criterion_chi2_gof_test(n, p_theor):\n",
    "    sum = 0\n",
    "    for i in range(p_theor.size):\n",
    "        if p_theor[i] != 0:\n",
    "            sum += (p_theor[i] * n.sum() - n[i])**2 / (p_theor[i] * n.sum())\n",
    "        else:\n",
    "            sum += 0\n",
    "    return sum"
   ]
  },
  {
   "cell_type": "markdown",
   "metadata": {},
   "source": [
    "#### a) Статистическая гипотеза: H0: X ~ N"
   ]
  },
  {
   "cell_type": "code",
   "execution_count": 378,
   "metadata": {},
   "outputs": [],
   "source": [
    "def get_p_theor_a(data, n, bins):\n",
    "    n_prob = n / data.size\n",
    "    z = (bins - data.mean()) / data.std()\n",
    "    def lapl_func(arg):\n",
    "        F = stats.norm.cdf(arg) - 0.5\n",
    "        F[0] = -0.5\n",
    "        F[-1] = 0.5\n",
    "        return F\n",
    "    p_theor = np.diff(lapl_func(z))\n",
    "    return pd.DataFrame({\"Нижняя граница\" : bins[:-1], \n",
    "                       \"Верхняя граница\" : bins[1:],\n",
    "                       \"Частота\" : n,\n",
    "                       \"Относит. частота\" : n_prob,\n",
    "                       \"Вероятность попадания в интервал при условии истинности основной гипотезы\" : p_theor\n",
    "                      }), p_theor\n",
    "  "
   ]
  },
  {
   "cell_type": "code",
   "execution_count": 379,
   "metadata": {},
   "outputs": [
    {
     "data": {
      "text/plain": [
       "'NBins = 5'"
      ]
     },
     "metadata": {},
     "output_type": "display_data"
    },
    {
     "data": {
      "text/html": [
       "<div>\n",
       "<style scoped>\n",
       "    .dataframe tbody tr th:only-of-type {\n",
       "        vertical-align: middle;\n",
       "    }\n",
       "\n",
       "    .dataframe tbody tr th {\n",
       "        vertical-align: top;\n",
       "    }\n",
       "\n",
       "    .dataframe thead th {\n",
       "        text-align: right;\n",
       "    }\n",
       "</style>\n",
       "<table border=\"1\" class=\"dataframe\">\n",
       "  <thead>\n",
       "    <tr style=\"text-align: right;\">\n",
       "      <th></th>\n",
       "      <th>Нижняя граница</th>\n",
       "      <th>Верхняя граница</th>\n",
       "      <th>Частота</th>\n",
       "      <th>Относит. частота</th>\n",
       "      <th>Вероятность попадания в интервал при условии истинности основной гипотезы</th>\n",
       "    </tr>\n",
       "  </thead>\n",
       "  <tbody>\n",
       "    <tr>\n",
       "      <th>0</th>\n",
       "      <td>-4.917674</td>\n",
       "      <td>-2.940505</td>\n",
       "      <td>71.0</td>\n",
       "      <td>0.236667</td>\n",
       "      <td>0.169525</td>\n",
       "    </tr>\n",
       "    <tr>\n",
       "      <th>1</th>\n",
       "      <td>-2.940505</td>\n",
       "      <td>-0.963335</td>\n",
       "      <td>53.0</td>\n",
       "      <td>0.176667</td>\n",
       "      <td>0.215957</td>\n",
       "    </tr>\n",
       "    <tr>\n",
       "      <th>2</th>\n",
       "      <td>-0.963335</td>\n",
       "      <td>1.013834</td>\n",
       "      <td>60.0</td>\n",
       "      <td>0.200000</td>\n",
       "      <td>0.260247</td>\n",
       "    </tr>\n",
       "    <tr>\n",
       "      <th>3</th>\n",
       "      <td>1.013834</td>\n",
       "      <td>2.991003</td>\n",
       "      <td>50.0</td>\n",
       "      <td>0.166667</td>\n",
       "      <td>0.204809</td>\n",
       "    </tr>\n",
       "    <tr>\n",
       "      <th>4</th>\n",
       "      <td>2.991003</td>\n",
       "      <td>4.968173</td>\n",
       "      <td>66.0</td>\n",
       "      <td>0.220000</td>\n",
       "      <td>0.149462</td>\n",
       "    </tr>\n",
       "  </tbody>\n",
       "</table>\n",
       "</div>"
      ],
      "text/plain": [
       "   Нижняя граница  Верхняя граница  Частота  Относит. частота  \\\n",
       "0       -4.917674        -2.940505     71.0          0.236667   \n",
       "1       -2.940505        -0.963335     53.0          0.176667   \n",
       "2       -0.963335         1.013834     60.0          0.200000   \n",
       "3        1.013834         2.991003     50.0          0.166667   \n",
       "4        2.991003         4.968173     66.0          0.220000   \n",
       "\n",
       "   Вероятность попадания в интервал при условии истинности основной гипотезы  \n",
       "0                                           0.169525                          \n",
       "1                                           0.215957                          \n",
       "2                                           0.260247                          \n",
       "3                                           0.204809                          \n",
       "4                                           0.149462                          "
      ]
     },
     "metadata": {},
     "output_type": "display_data"
    },
    {
     "name": "stdout",
     "output_type": "stream",
     "text": [
      " crit =  26.424358566569374 \n",
      " p-value =  1.8281989002666421e-06\n"
     ]
    }
   ],
   "source": [
    "display(\"NBins = 5\", get_p_theor_a(x, n_1, bins_1)[0])\n",
    "crit_a_1 = criterion_chi2_gof_test(n_1, get_p_theor_a(x, n_1, bins_1)[1])\n",
    "p_value_a_1 =  1 - stats.chi2.cdf(crit_a_1, n_1.size - 2 - 1)\n",
    "print(\" crit = \", crit_a_1, \"\\n\", \"p-value = \", p_value_a_1)"
   ]
  },
  {
   "cell_type": "code",
   "execution_count": 380,
   "metadata": {},
   "outputs": [
    {
     "data": {
      "text/plain": [
       "'NBins = 10'"
      ]
     },
     "metadata": {},
     "output_type": "display_data"
    },
    {
     "data": {
      "text/html": [
       "<div>\n",
       "<style scoped>\n",
       "    .dataframe tbody tr th:only-of-type {\n",
       "        vertical-align: middle;\n",
       "    }\n",
       "\n",
       "    .dataframe tbody tr th {\n",
       "        vertical-align: top;\n",
       "    }\n",
       "\n",
       "    .dataframe thead th {\n",
       "        text-align: right;\n",
       "    }\n",
       "</style>\n",
       "<table border=\"1\" class=\"dataframe\">\n",
       "  <thead>\n",
       "    <tr style=\"text-align: right;\">\n",
       "      <th></th>\n",
       "      <th>Нижняя граница</th>\n",
       "      <th>Верхняя граница</th>\n",
       "      <th>Частота</th>\n",
       "      <th>Относит. частота</th>\n",
       "      <th>Вероятность попадания в интервал при условии истинности основной гипотезы</th>\n",
       "    </tr>\n",
       "  </thead>\n",
       "  <tbody>\n",
       "    <tr>\n",
       "      <th>0</th>\n",
       "      <td>-4.917674</td>\n",
       "      <td>-3.929089</td>\n",
       "      <td>39.0</td>\n",
       "      <td>0.130000</td>\n",
       "      <td>0.098784</td>\n",
       "    </tr>\n",
       "    <tr>\n",
       "      <th>1</th>\n",
       "      <td>-3.929089</td>\n",
       "      <td>-2.940505</td>\n",
       "      <td>32.0</td>\n",
       "      <td>0.106667</td>\n",
       "      <td>0.070740</td>\n",
       "    </tr>\n",
       "    <tr>\n",
       "      <th>2</th>\n",
       "      <td>-2.940505</td>\n",
       "      <td>-1.951920</td>\n",
       "      <td>27.0</td>\n",
       "      <td>0.090000</td>\n",
       "      <td>0.096927</td>\n",
       "    </tr>\n",
       "    <tr>\n",
       "      <th>3</th>\n",
       "      <td>-1.951920</td>\n",
       "      <td>-0.963335</td>\n",
       "      <td>26.0</td>\n",
       "      <td>0.086667</td>\n",
       "      <td>0.119030</td>\n",
       "    </tr>\n",
       "    <tr>\n",
       "      <th>4</th>\n",
       "      <td>-0.963335</td>\n",
       "      <td>0.025249</td>\n",
       "      <td>30.0</td>\n",
       "      <td>0.100000</td>\n",
       "      <td>0.131010</td>\n",
       "    </tr>\n",
       "    <tr>\n",
       "      <th>5</th>\n",
       "      <td>0.025249</td>\n",
       "      <td>1.013834</td>\n",
       "      <td>30.0</td>\n",
       "      <td>0.100000</td>\n",
       "      <td>0.129237</td>\n",
       "    </tr>\n",
       "    <tr>\n",
       "      <th>6</th>\n",
       "      <td>1.013834</td>\n",
       "      <td>2.002419</td>\n",
       "      <td>30.0</td>\n",
       "      <td>0.100000</td>\n",
       "      <td>0.114264</td>\n",
       "    </tr>\n",
       "    <tr>\n",
       "      <th>7</th>\n",
       "      <td>2.002419</td>\n",
       "      <td>2.991003</td>\n",
       "      <td>20.0</td>\n",
       "      <td>0.066667</td>\n",
       "      <td>0.090545</td>\n",
       "    </tr>\n",
       "    <tr>\n",
       "      <th>8</th>\n",
       "      <td>2.991003</td>\n",
       "      <td>3.979588</td>\n",
       "      <td>32.0</td>\n",
       "      <td>0.106667</td>\n",
       "      <td>0.064307</td>\n",
       "    </tr>\n",
       "    <tr>\n",
       "      <th>9</th>\n",
       "      <td>3.979588</td>\n",
       "      <td>4.968173</td>\n",
       "      <td>34.0</td>\n",
       "      <td>0.113333</td>\n",
       "      <td>0.085155</td>\n",
       "    </tr>\n",
       "  </tbody>\n",
       "</table>\n",
       "</div>"
      ],
      "text/plain": [
       "   Нижняя граница  Верхняя граница  Частота  Относит. частота  \\\n",
       "0       -4.917674        -3.929089     39.0          0.130000   \n",
       "1       -3.929089        -2.940505     32.0          0.106667   \n",
       "2       -2.940505        -1.951920     27.0          0.090000   \n",
       "3       -1.951920        -0.963335     26.0          0.086667   \n",
       "4       -0.963335         0.025249     30.0          0.100000   \n",
       "5        0.025249         1.013834     30.0          0.100000   \n",
       "6        1.013834         2.002419     30.0          0.100000   \n",
       "7        2.002419         2.991003     20.0          0.066667   \n",
       "8        2.991003         3.979588     32.0          0.106667   \n",
       "9        3.979588         4.968173     34.0          0.113333   \n",
       "\n",
       "   Вероятность попадания в интервал при условии истинности основной гипотезы  \n",
       "0                                           0.098784                          \n",
       "1                                           0.070740                          \n",
       "2                                           0.096927                          \n",
       "3                                           0.119030                          \n",
       "4                                           0.131010                          \n",
       "5                                           0.129237                          \n",
       "6                                           0.114264                          \n",
       "7                                           0.090545                          \n",
       "8                                           0.064307                          \n",
       "9                                           0.085155                          "
      ]
     },
     "metadata": {},
     "output_type": "display_data"
    },
    {
     "name": "stdout",
     "output_type": "stream",
     "text": [
      " crit =  28.99896780711496 \n",
      " p-value =  0.00014474961400245956\n"
     ]
    }
   ],
   "source": [
    "display(\"NBins = 10\", get_p_theor_a(x, n_2, bins_2)[0])\n",
    "crit_a_2 = criterion_chi2_gof_test(n_2, get_p_theor_a(x, n_2, bins_2)[1])\n",
    "p_value_a_2 =  1 - stats.chi2.cdf(crit_a_2, n_2.size - 2 - 1)\n",
    "print(\" crit = \", crit_a_2, \"\\n\", \"p-value = \", p_value_a_2)"
   ]
  },
  {
   "cell_type": "code",
   "execution_count": 381,
   "metadata": {},
   "outputs": [
    {
     "data": {
      "text/plain": [
       "'NBins = 15'"
      ]
     },
     "metadata": {},
     "output_type": "display_data"
    },
    {
     "data": {
      "text/html": [
       "<div>\n",
       "<style scoped>\n",
       "    .dataframe tbody tr th:only-of-type {\n",
       "        vertical-align: middle;\n",
       "    }\n",
       "\n",
       "    .dataframe tbody tr th {\n",
       "        vertical-align: top;\n",
       "    }\n",
       "\n",
       "    .dataframe thead th {\n",
       "        text-align: right;\n",
       "    }\n",
       "</style>\n",
       "<table border=\"1\" class=\"dataframe\">\n",
       "  <thead>\n",
       "    <tr style=\"text-align: right;\">\n",
       "      <th></th>\n",
       "      <th>Нижняя граница</th>\n",
       "      <th>Верхняя граница</th>\n",
       "      <th>Частота</th>\n",
       "      <th>Относит. частота</th>\n",
       "      <th>Вероятность попадания в интервал при условии истинности основной гипотезы</th>\n",
       "    </tr>\n",
       "  </thead>\n",
       "  <tbody>\n",
       "    <tr>\n",
       "      <th>0</th>\n",
       "      <td>-4.917674</td>\n",
       "      <td>-4.258618</td>\n",
       "      <td>26.0</td>\n",
       "      <td>0.086667</td>\n",
       "      <td>0.080857</td>\n",
       "    </tr>\n",
       "    <tr>\n",
       "      <th>1</th>\n",
       "      <td>-4.258618</td>\n",
       "      <td>-3.599561</td>\n",
       "      <td>22.0</td>\n",
       "      <td>0.073333</td>\n",
       "      <td>0.038604</td>\n",
       "    </tr>\n",
       "    <tr>\n",
       "      <th>2</th>\n",
       "      <td>-3.599561</td>\n",
       "      <td>-2.940505</td>\n",
       "      <td>23.0</td>\n",
       "      <td>0.076667</td>\n",
       "      <td>0.050064</td>\n",
       "    </tr>\n",
       "    <tr>\n",
       "      <th>3</th>\n",
       "      <td>-2.940505</td>\n",
       "      <td>-2.281448</td>\n",
       "      <td>22.0</td>\n",
       "      <td>0.073333</td>\n",
       "      <td>0.061827</td>\n",
       "    </tr>\n",
       "    <tr>\n",
       "      <th>4</th>\n",
       "      <td>-2.281448</td>\n",
       "      <td>-1.622392</td>\n",
       "      <td>16.0</td>\n",
       "      <td>0.053333</td>\n",
       "      <td>0.072708</td>\n",
       "    </tr>\n",
       "    <tr>\n",
       "      <th>5</th>\n",
       "      <td>-1.622392</td>\n",
       "      <td>-0.963335</td>\n",
       "      <td>15.0</td>\n",
       "      <td>0.050000</td>\n",
       "      <td>0.081421</td>\n",
       "    </tr>\n",
       "    <tr>\n",
       "      <th>6</th>\n",
       "      <td>-0.963335</td>\n",
       "      <td>-0.304279</td>\n",
       "      <td>19.0</td>\n",
       "      <td>0.063333</td>\n",
       "      <td>0.086825</td>\n",
       "    </tr>\n",
       "    <tr>\n",
       "      <th>7</th>\n",
       "      <td>-0.304279</td>\n",
       "      <td>0.354778</td>\n",
       "      <td>26.0</td>\n",
       "      <td>0.086667</td>\n",
       "      <td>0.088167</td>\n",
       "    </tr>\n",
       "    <tr>\n",
       "      <th>8</th>\n",
       "      <td>0.354778</td>\n",
       "      <td>1.013834</td>\n",
       "      <td>15.0</td>\n",
       "      <td>0.050000</td>\n",
       "      <td>0.085255</td>\n",
       "    </tr>\n",
       "    <tr>\n",
       "      <th>9</th>\n",
       "      <td>1.013834</td>\n",
       "      <td>1.672891</td>\n",
       "      <td>19.0</td>\n",
       "      <td>0.063333</td>\n",
       "      <td>0.078502</td>\n",
       "    </tr>\n",
       "    <tr>\n",
       "      <th>10</th>\n",
       "      <td>1.672891</td>\n",
       "      <td>2.331947</td>\n",
       "      <td>20.0</td>\n",
       "      <td>0.066667</td>\n",
       "      <td>0.068833</td>\n",
       "    </tr>\n",
       "    <tr>\n",
       "      <th>11</th>\n",
       "      <td>2.331947</td>\n",
       "      <td>2.991003</td>\n",
       "      <td>11.0</td>\n",
       "      <td>0.036667</td>\n",
       "      <td>0.057474</td>\n",
       "    </tr>\n",
       "    <tr>\n",
       "      <th>12</th>\n",
       "      <td>2.991003</td>\n",
       "      <td>3.650060</td>\n",
       "      <td>25.0</td>\n",
       "      <td>0.083333</td>\n",
       "      <td>0.045697</td>\n",
       "    </tr>\n",
       "    <tr>\n",
       "      <th>13</th>\n",
       "      <td>3.650060</td>\n",
       "      <td>4.309116</td>\n",
       "      <td>16.0</td>\n",
       "      <td>0.053333</td>\n",
       "      <td>0.034599</td>\n",
       "    </tr>\n",
       "    <tr>\n",
       "      <th>14</th>\n",
       "      <td>4.309116</td>\n",
       "      <td>4.968173</td>\n",
       "      <td>25.0</td>\n",
       "      <td>0.083333</td>\n",
       "      <td>0.069166</td>\n",
       "    </tr>\n",
       "  </tbody>\n",
       "</table>\n",
       "</div>"
      ],
      "text/plain": [
       "    Нижняя граница  Верхняя граница  Частота  Относит. частота  \\\n",
       "0        -4.917674        -4.258618     26.0          0.086667   \n",
       "1        -4.258618        -3.599561     22.0          0.073333   \n",
       "2        -3.599561        -2.940505     23.0          0.076667   \n",
       "3        -2.940505        -2.281448     22.0          0.073333   \n",
       "4        -2.281448        -1.622392     16.0          0.053333   \n",
       "5        -1.622392        -0.963335     15.0          0.050000   \n",
       "6        -0.963335        -0.304279     19.0          0.063333   \n",
       "7        -0.304279         0.354778     26.0          0.086667   \n",
       "8         0.354778         1.013834     15.0          0.050000   \n",
       "9         1.013834         1.672891     19.0          0.063333   \n",
       "10        1.672891         2.331947     20.0          0.066667   \n",
       "11        2.331947         2.991003     11.0          0.036667   \n",
       "12        2.991003         3.650060     25.0          0.083333   \n",
       "13        3.650060         4.309116     16.0          0.053333   \n",
       "14        4.309116         4.968173     25.0          0.083333   \n",
       "\n",
       "    Вероятность попадания в интервал при условии истинности основной гипотезы  \n",
       "0                                            0.080857                          \n",
       "1                                            0.038604                          \n",
       "2                                            0.050064                          \n",
       "3                                            0.061827                          \n",
       "4                                            0.072708                          \n",
       "5                                            0.081421                          \n",
       "6                                            0.086825                          \n",
       "7                                            0.088167                          \n",
       "8                                            0.085255                          \n",
       "9                                            0.078502                          \n",
       "10                                           0.068833                          \n",
       "11                                           0.057474                          \n",
       "12                                           0.045697                          \n",
       "13                                           0.034599                          \n",
       "14                                           0.069166                          "
      ]
     },
     "metadata": {},
     "output_type": "display_data"
    },
    {
     "name": "stdout",
     "output_type": "stream",
     "text": [
      " crit =  42.229011981813045 \n",
      " p-value =  3.047558649837967e-05\n"
     ]
    }
   ],
   "source": [
    "display(\"NBins = 15\", get_p_theor_a(x, n_3, bins_3)[0])\n",
    "crit_a_3 = criterion_chi2_gof_test(n_3, get_p_theor_a(x, n_3, bins_3)[1])\n",
    "p_value_a_3 =  1 - stats.chi2.cdf(crit_a_3, n_3.size - 2 - 1)\n",
    "print(\" crit = \", crit_a_3, \"\\n\", \"p-value = \", p_value_a_3)"
   ]
  },
  {
   "cell_type": "code",
   "execution_count": 382,
   "metadata": {},
   "outputs": [
    {
     "data": {
      "text/plain": [
       "'NBins = 20'"
      ]
     },
     "metadata": {},
     "output_type": "display_data"
    },
    {
     "data": {
      "text/html": [
       "<div>\n",
       "<style scoped>\n",
       "    .dataframe tbody tr th:only-of-type {\n",
       "        vertical-align: middle;\n",
       "    }\n",
       "\n",
       "    .dataframe tbody tr th {\n",
       "        vertical-align: top;\n",
       "    }\n",
       "\n",
       "    .dataframe thead th {\n",
       "        text-align: right;\n",
       "    }\n",
       "</style>\n",
       "<table border=\"1\" class=\"dataframe\">\n",
       "  <thead>\n",
       "    <tr style=\"text-align: right;\">\n",
       "      <th></th>\n",
       "      <th>Нижняя граница</th>\n",
       "      <th>Верхняя граница</th>\n",
       "      <th>Частота</th>\n",
       "      <th>Относит. частота</th>\n",
       "      <th>Вероятность попадания в интервал при условии истинности основной гипотезы</th>\n",
       "    </tr>\n",
       "  </thead>\n",
       "  <tbody>\n",
       "    <tr>\n",
       "      <th>0</th>\n",
       "      <td>-4.917674</td>\n",
       "      <td>-4.423382</td>\n",
       "      <td>18.0</td>\n",
       "      <td>0.060000</td>\n",
       "      <td>0.072870</td>\n",
       "    </tr>\n",
       "    <tr>\n",
       "      <th>1</th>\n",
       "      <td>-4.423382</td>\n",
       "      <td>-3.929089</td>\n",
       "      <td>21.0</td>\n",
       "      <td>0.070000</td>\n",
       "      <td>0.025914</td>\n",
       "    </tr>\n",
       "    <tr>\n",
       "      <th>2</th>\n",
       "      <td>-3.929089</td>\n",
       "      <td>-3.434797</td>\n",
       "      <td>15.0</td>\n",
       "      <td>0.050000</td>\n",
       "      <td>0.032088</td>\n",
       "    </tr>\n",
       "    <tr>\n",
       "      <th>3</th>\n",
       "      <td>-3.434797</td>\n",
       "      <td>-2.940505</td>\n",
       "      <td>17.0</td>\n",
       "      <td>0.056667</td>\n",
       "      <td>0.038652</td>\n",
       "    </tr>\n",
       "    <tr>\n",
       "      <th>4</th>\n",
       "      <td>-2.940505</td>\n",
       "      <td>-2.446212</td>\n",
       "      <td>15.0</td>\n",
       "      <td>0.050000</td>\n",
       "      <td>0.045294</td>\n",
       "    </tr>\n",
       "    <tr>\n",
       "      <th>5</th>\n",
       "      <td>-2.446212</td>\n",
       "      <td>-1.951920</td>\n",
       "      <td>12.0</td>\n",
       "      <td>0.040000</td>\n",
       "      <td>0.051633</td>\n",
       "    </tr>\n",
       "    <tr>\n",
       "      <th>6</th>\n",
       "      <td>-1.951920</td>\n",
       "      <td>-1.457628</td>\n",
       "      <td>14.0</td>\n",
       "      <td>0.046667</td>\n",
       "      <td>0.057259</td>\n",
       "    </tr>\n",
       "    <tr>\n",
       "      <th>7</th>\n",
       "      <td>-1.457628</td>\n",
       "      <td>-0.963335</td>\n",
       "      <td>12.0</td>\n",
       "      <td>0.040000</td>\n",
       "      <td>0.061771</td>\n",
       "    </tr>\n",
       "    <tr>\n",
       "      <th>8</th>\n",
       "      <td>-0.963335</td>\n",
       "      <td>-0.469043</td>\n",
       "      <td>13.0</td>\n",
       "      <td>0.043333</td>\n",
       "      <td>0.064827</td>\n",
       "    </tr>\n",
       "    <tr>\n",
       "      <th>9</th>\n",
       "      <td>-0.469043</td>\n",
       "      <td>0.025249</td>\n",
       "      <td>17.0</td>\n",
       "      <td>0.056667</td>\n",
       "      <td>0.066183</td>\n",
       "    </tr>\n",
       "    <tr>\n",
       "      <th>10</th>\n",
       "      <td>0.025249</td>\n",
       "      <td>0.519542</td>\n",
       "      <td>16.0</td>\n",
       "      <td>0.053333</td>\n",
       "      <td>0.065731</td>\n",
       "    </tr>\n",
       "    <tr>\n",
       "      <th>11</th>\n",
       "      <td>0.519542</td>\n",
       "      <td>1.013834</td>\n",
       "      <td>14.0</td>\n",
       "      <td>0.046667</td>\n",
       "      <td>0.063506</td>\n",
       "    </tr>\n",
       "    <tr>\n",
       "      <th>12</th>\n",
       "      <td>1.013834</td>\n",
       "      <td>1.508126</td>\n",
       "      <td>16.0</td>\n",
       "      <td>0.053333</td>\n",
       "      <td>0.059689</td>\n",
       "    </tr>\n",
       "    <tr>\n",
       "      <th>13</th>\n",
       "      <td>1.508126</td>\n",
       "      <td>2.002419</td>\n",
       "      <td>14.0</td>\n",
       "      <td>0.046667</td>\n",
       "      <td>0.054575</td>\n",
       "    </tr>\n",
       "    <tr>\n",
       "      <th>14</th>\n",
       "      <td>2.002419</td>\n",
       "      <td>2.496711</td>\n",
       "      <td>11.0</td>\n",
       "      <td>0.036667</td>\n",
       "      <td>0.048543</td>\n",
       "    </tr>\n",
       "    <tr>\n",
       "      <th>15</th>\n",
       "      <td>2.496711</td>\n",
       "      <td>2.991003</td>\n",
       "      <td>9.0</td>\n",
       "      <td>0.030000</td>\n",
       "      <td>0.042003</td>\n",
       "    </tr>\n",
       "    <tr>\n",
       "      <th>16</th>\n",
       "      <td>2.991003</td>\n",
       "      <td>3.485296</td>\n",
       "      <td>15.0</td>\n",
       "      <td>0.050000</td>\n",
       "      <td>0.035356</td>\n",
       "    </tr>\n",
       "    <tr>\n",
       "      <th>17</th>\n",
       "      <td>3.485296</td>\n",
       "      <td>3.979588</td>\n",
       "      <td>17.0</td>\n",
       "      <td>0.056667</td>\n",
       "      <td>0.028951</td>\n",
       "    </tr>\n",
       "    <tr>\n",
       "      <th>18</th>\n",
       "      <td>3.979588</td>\n",
       "      <td>4.473881</td>\n",
       "      <td>16.0</td>\n",
       "      <td>0.053333</td>\n",
       "      <td>0.023062</td>\n",
       "    </tr>\n",
       "    <tr>\n",
       "      <th>19</th>\n",
       "      <td>4.473881</td>\n",
       "      <td>4.968173</td>\n",
       "      <td>18.0</td>\n",
       "      <td>0.060000</td>\n",
       "      <td>0.062093</td>\n",
       "    </tr>\n",
       "  </tbody>\n",
       "</table>\n",
       "</div>"
      ],
      "text/plain": [
       "    Нижняя граница  Верхняя граница  Частота  Относит. частота  \\\n",
       "0        -4.917674        -4.423382     18.0          0.060000   \n",
       "1        -4.423382        -3.929089     21.0          0.070000   \n",
       "2        -3.929089        -3.434797     15.0          0.050000   \n",
       "3        -3.434797        -2.940505     17.0          0.056667   \n",
       "4        -2.940505        -2.446212     15.0          0.050000   \n",
       "5        -2.446212        -1.951920     12.0          0.040000   \n",
       "6        -1.951920        -1.457628     14.0          0.046667   \n",
       "7        -1.457628        -0.963335     12.0          0.040000   \n",
       "8        -0.963335        -0.469043     13.0          0.043333   \n",
       "9        -0.469043         0.025249     17.0          0.056667   \n",
       "10        0.025249         0.519542     16.0          0.053333   \n",
       "11        0.519542         1.013834     14.0          0.046667   \n",
       "12        1.013834         1.508126     16.0          0.053333   \n",
       "13        1.508126         2.002419     14.0          0.046667   \n",
       "14        2.002419         2.496711     11.0          0.036667   \n",
       "15        2.496711         2.991003      9.0          0.030000   \n",
       "16        2.991003         3.485296     15.0          0.050000   \n",
       "17        3.485296         3.979588     17.0          0.056667   \n",
       "18        3.979588         4.473881     16.0          0.053333   \n",
       "19        4.473881         4.968173     18.0          0.060000   \n",
       "\n",
       "    Вероятность попадания в интервал при условии истинности основной гипотезы  \n",
       "0                                            0.072870                          \n",
       "1                                            0.025914                          \n",
       "2                                            0.032088                          \n",
       "3                                            0.038652                          \n",
       "4                                            0.045294                          \n",
       "5                                            0.051633                          \n",
       "6                                            0.057259                          \n",
       "7                                            0.061771                          \n",
       "8                                            0.064827                          \n",
       "9                                            0.066183                          \n",
       "10                                           0.065731                          \n",
       "11                                           0.063506                          \n",
       "12                                           0.059689                          \n",
       "13                                           0.054575                          \n",
       "14                                           0.048543                          \n",
       "15                                           0.042003                          \n",
       "16                                           0.035356                          \n",
       "17                                           0.028951                          \n",
       "18                                           0.023062                          \n",
       "19                                           0.062093                          "
      ]
     },
     "metadata": {},
     "output_type": "display_data"
    },
    {
     "name": "stdout",
     "output_type": "stream",
     "text": [
      " crit =  61.28068581990327 \n",
      " p-value =  6.449681226872173e-07\n"
     ]
    }
   ],
   "source": [
    "display(\"NBins = 20\", get_p_theor_a(x, n_4, bins_4)[0])\n",
    "crit_a_4 = criterion_chi2_gof_test(n_4, get_p_theor_a(x, n_4, bins_4)[1])\n",
    "p_value_a_4 =  1 - stats.chi2.cdf(crit_a_4, n_4.size - 2 - 1)\n",
    "print(\" crit = \", crit_a_4, \"\\n\", \"p-value = \", p_value_a_4)"
   ]
  },
  {
   "cell_type": "markdown",
   "metadata": {},
   "source": [
    "#### b) Статистическая гипотеза: H0: X ~ R"
   ]
  },
  {
   "cell_type": "code",
   "execution_count": 383,
   "metadata": {},
   "outputs": [],
   "source": [
    "def get_n_theor_b(data, n, bins):\n",
    "    a = data.mean() - np.sqrt(3)*data.std()\n",
    "    b = data.mean() + np.sqrt(3)*data.std()\n",
    "    fx = 1 / (b - a)\n",
    "    n_theor = n.sum() * np.diff(bins) * fx\n",
    "    return n_theor"
   ]
  },
  {
   "cell_type": "code",
   "execution_count": 384,
   "metadata": {},
   "outputs": [
    {
     "data": {
      "text/plain": [
       "array([57.58458085, 57.58458085, 57.58458085, 57.58458085, 57.58458085])"
      ]
     },
     "execution_count": 384,
     "metadata": {},
     "output_type": "execute_result"
    }
   ],
   "source": [
    "get_n_theor_b(x, n_1, bins_1)"
   ]
  },
  {
   "cell_type": "code",
   "execution_count": 385,
   "metadata": {},
   "outputs": [
    {
     "data": {
      "text/plain": [
       "'NBins = 5'"
      ]
     },
     "metadata": {},
     "output_type": "display_data"
    },
    {
     "data": {
      "text/plain": [
       "Power_divergenceResult(statistic=5.8205033929061285, pvalue=0.2129602070615592)"
      ]
     },
     "metadata": {},
     "output_type": "display_data"
    }
   ],
   "source": [
    "display(\"NBins = 5\", stats.chisquare(n_1, get_n_theor_b(x, n_1, bins_1)))"
   ]
  },
  {
   "cell_type": "code",
   "execution_count": 386,
   "metadata": {},
   "outputs": [
    {
     "data": {
      "text/plain": [
       "'NBins = 10'"
      ]
     },
     "metadata": {},
     "output_type": "display_data"
    },
    {
     "data": {
      "text/plain": [
       "Power_divergenceResult(statistic=8.494830403971031, pvalue=0.48514764003676536)"
      ]
     },
     "metadata": {},
     "output_type": "display_data"
    }
   ],
   "source": [
    "display(\"NBins = 10\", stats.chisquare(n_2, get_n_theor_b(x, n_2, bins_2)))"
   ]
  },
  {
   "cell_type": "code",
   "execution_count": 387,
   "metadata": {},
   "outputs": [
    {
     "data": {
      "text/plain": [
       "'NBins = 15'"
      ]
     },
     "metadata": {},
     "output_type": "display_data"
    },
    {
     "data": {
      "text/plain": [
       "Power_divergenceResult(statistic=16.344153839044637, pvalue=0.2928120792948648)"
      ]
     },
     "metadata": {},
     "output_type": "display_data"
    }
   ],
   "source": [
    "display(\"NBins = 15\", stats.chisquare(n_3, get_n_theor_b(x, n_3, bins_3)))"
   ]
  },
  {
   "cell_type": "code",
   "execution_count": 388,
   "metadata": {},
   "outputs": [
    {
     "data": {
      "text/plain": [
       "'NBins = 20'"
      ]
     },
     "metadata": {},
     "output_type": "display_data"
    },
    {
     "data": {
      "text/plain": [
       "Power_divergenceResult(statistic=10.648184620672646, pvalue=0.9351063337054036)"
      ]
     },
     "metadata": {},
     "output_type": "display_data"
    }
   ],
   "source": [
    "display(\"NBins = 20\", stats.chisquare(n_4, get_n_theor_b(x, n_4, bins_4)))"
   ]
  },
  {
   "cell_type": "markdown",
   "metadata": {},
   "source": [
    "#### c) Статистическая гипотеза: H0: X ~ chi^2 (5)"
   ]
  },
  {
   "cell_type": "code",
   "execution_count": 389,
   "metadata": {},
   "outputs": [],
   "source": [
    "def get_p_theor_c(bins):\n",
    "    p_theor = np.array([])\n",
    "    for i in range(bins.size-1):\n",
    "        p_theor = np.append(p_theor, stats.chi2.cdf(bins[i+1], 5) - stats.chi2.cdf(bins[i], 5))\n",
    "    return p_theor"
   ]
  },
  {
   "cell_type": "code",
   "execution_count": 390,
   "metadata": {},
   "outputs": [],
   "source": [
    "def get_crit_and_pval(n, bins):\n",
    "    crit_c = criterion_chi2_gof_test(n, get_p_theor_c(bins))\n",
    "    p_value_c = 1 - stats.chi2.cdf(crit_c, n.size - 2 - 1)\n",
    "    return crit_c, p_value_c"
   ]
  },
  {
   "cell_type": "code",
   "execution_count": 391,
   "metadata": {},
   "outputs": [
    {
     "data": {
      "text/plain": [
       "'NBins = 5'"
      ]
     },
     "metadata": {},
     "output_type": "display_data"
    },
    {
     "data": {
      "text/plain": [
       "'crit'"
      ]
     },
     "metadata": {},
     "output_type": "display_data"
    },
    {
     "data": {
      "text/plain": [
       "216.8944462460902"
      ]
     },
     "metadata": {},
     "output_type": "display_data"
    },
    {
     "data": {
      "text/plain": [
       "'p_value'"
      ]
     },
     "metadata": {},
     "output_type": "display_data"
    },
    {
     "data": {
      "text/plain": [
       "0.0"
      ]
     },
     "metadata": {},
     "output_type": "display_data"
    }
   ],
   "source": [
    "display(\"NBins = 5\",\n",
    "        \"crit\", get_crit_and_pval(n_1, bins_1)[0],\n",
    "        \"p_value\", get_crit_and_pval(n_1, bins_1)[1]\n",
    "       )"
   ]
  },
  {
   "cell_type": "code",
   "execution_count": 392,
   "metadata": {},
   "outputs": [
    {
     "data": {
      "text/plain": [
       "'NBins = 10'"
      ]
     },
     "metadata": {},
     "output_type": "display_data"
    },
    {
     "data": {
      "text/plain": [
       "'crit'"
      ]
     },
     "metadata": {},
     "output_type": "display_data"
    },
    {
     "data": {
      "text/plain": [
       "561757.9678320646"
      ]
     },
     "metadata": {},
     "output_type": "display_data"
    },
    {
     "data": {
      "text/plain": [
       "'p_value'"
      ]
     },
     "metadata": {},
     "output_type": "display_data"
    },
    {
     "data": {
      "text/plain": [
       "0.0"
      ]
     },
     "metadata": {},
     "output_type": "display_data"
    }
   ],
   "source": [
    "display(\"NBins = 10\",\n",
    "        \"crit\", get_crit_and_pval(n_2, bins_2)[0],\n",
    "        \"p_value\", get_crit_and_pval(n_2, bins_2)[1]\n",
    "       )"
   ]
  },
  {
   "cell_type": "code",
   "execution_count": 393,
   "metadata": {},
   "outputs": [
    {
     "data": {
      "text/plain": [
       "'NBins = 15'"
      ]
     },
     "metadata": {},
     "output_type": "display_data"
    },
    {
     "data": {
      "text/plain": [
       "'crit'"
      ]
     },
     "metadata": {},
     "output_type": "display_data"
    },
    {
     "data": {
      "text/plain": [
       "612.4224368315402"
      ]
     },
     "metadata": {},
     "output_type": "display_data"
    },
    {
     "data": {
      "text/plain": [
       "'p_value'"
      ]
     },
     "metadata": {},
     "output_type": "display_data"
    },
    {
     "data": {
      "text/plain": [
       "0.0"
      ]
     },
     "metadata": {},
     "output_type": "display_data"
    }
   ],
   "source": [
    "display(\"NBins = 15\",\n",
    "        \"crit\", get_crit_and_pval(n_3, bins_3)[0],\n",
    "        \"p_value\", get_crit_and_pval(n_3, bins_3)[1]\n",
    "       )"
   ]
  },
  {
   "cell_type": "code",
   "execution_count": 394,
   "metadata": {},
   "outputs": [
    {
     "data": {
      "text/plain": [
       "'NBins = 5'"
      ]
     },
     "metadata": {},
     "output_type": "display_data"
    },
    {
     "data": {
      "text/plain": [
       "'crit'"
      ]
     },
     "metadata": {},
     "output_type": "display_data"
    },
    {
     "data": {
      "text/plain": [
       "180448.9957213121"
      ]
     },
     "metadata": {},
     "output_type": "display_data"
    },
    {
     "data": {
      "text/plain": [
       "'p_value'"
      ]
     },
     "metadata": {},
     "output_type": "display_data"
    },
    {
     "data": {
      "text/plain": [
       "0.0"
      ]
     },
     "metadata": {},
     "output_type": "display_data"
    }
   ],
   "source": [
    "display(\"NBins = 5\",\n",
    "        \"crit\", get_crit_and_pval(n_4, bins_4)[0],\n",
    "        \"p_value\", get_crit_and_pval(n_4, bins_4)[1]\n",
    "       )"
   ]
  },
  {
   "cell_type": "markdown",
   "metadata": {},
   "source": [
    "### 4. Критерий Колмогорова"
   ]
  },
  {
   "cell_type": "markdown",
   "metadata": {},
   "source": [
    "X ~ N(m, s)"
   ]
  },
  {
   "cell_type": "code",
   "execution_count": 395,
   "metadata": {},
   "outputs": [
    {
     "data": {
      "text/plain": [
       "KstestResult(statistic=0.16267214696768506, pvalue=2.099765211899931e-07)"
      ]
     },
     "execution_count": 395,
     "metadata": {},
     "output_type": "execute_result"
    }
   ],
   "source": [
    "stats.kstest(x, 'norm', args=(0, 5))"
   ]
  },
  {
   "cell_type": "markdown",
   "metadata": {},
   "source": [
    "X ~ R"
   ]
  },
  {
   "cell_type": "code",
   "execution_count": 396,
   "metadata": {},
   "outputs": [
    {
     "data": {
      "text/plain": [
       "KstestResult(statistic=0.04765871734180993, pvalue=0.4960269795298436)"
      ]
     },
     "execution_count": 396,
     "metadata": {},
     "output_type": "execute_result"
    }
   ],
   "source": [
    "stats.kstest(x, 'uniform', args=(-5, 10))"
   ]
  },
  {
   "cell_type": "markdown",
   "metadata": {},
   "source": [
    "X ~ chi^2(5)\n"
   ]
  },
  {
   "cell_type": "code",
   "execution_count": 397,
   "metadata": {},
   "outputs": [
    {
     "data": {
      "text/plain": [
       "KstestResult(statistic=0.963077553241333, pvalue=0.0)"
      ]
     },
     "execution_count": 397,
     "metadata": {},
     "output_type": "execute_result"
    }
   ],
   "source": [
    "stats.kstest(x, 'chi2', args=(5, 0, 5))"
   ]
  },
  {
   "cell_type": "code",
   "execution_count": 398,
   "metadata": {},
   "outputs": [],
   "source": [
    "from statsmodels.distributions.empirical_distribution import ECDF"
   ]
  },
  {
   "cell_type": "code",
   "execution_count": 427,
   "metadata": {},
   "outputs": [
    {
     "data": {
      "text/plain": [
       "<matplotlib.legend.Legend at 0xed2487d588>"
      ]
     },
     "execution_count": 427,
     "metadata": {},
     "output_type": "execute_result"
    },
    {
     "data": {
      "image/png": "[encoded data removed]",
      "text/plain": [
       "<Figure size 432x288 with 1 Axes>"
      ]
     },
     "metadata": {
      "needs_background": "light"
     },
     "output_type": "display_data"
    }
   ],
   "source": [
    "ecdf = ECDF(x)\n",
    "plt.plot(ecdf.x, ecdf.y, lw=2)\n",
    "nrm = np.linspace(stats.norm.ppf(0.1, 0, 5), stats.norm.ppf(0.90,  0, 5), 300)\n",
    "plt.plot(nrm, stats.norm.cdf(nrm, 0, 5), lw=2, alpha=1)\n",
    "unif = np.linspace(stats.uniform.ppf(0.05, -5, 10), stats.uniform.ppf(0.95,  -5, 10), 300)\n",
    "plt.plot(unif, stats.uniform.cdf(unif, -5, 10), lw=2, alpha=1)\n",
    "chi2_5 = np.linspace(stats.chi2.ppf(0.05, 5), stats.chi2.ppf(0.95, 5), 300)\n",
    "plt.plot(chi2_5, stats.chi2.cdf(chi2_5, 5), lw=2, alpha=1)\n",
    "plt.legend(('Empirical', 'Normal', 'Uniform', 'Chi2(5)'), loc='upper left')"
   ]
  },
  {
   "cell_type": "markdown",
   "metadata": {},
   "source": [
    "### 5. Двухвыборочные критерии"
   ]
  },
  {
   "cell_type": "markdown",
   "metadata": {},
   "source": [
    "Формула Стерджесса определения числа групп"
   ]
  },
  {
   "cell_type": "code",
   "execution_count": 428,
   "metadata": {},
   "outputs": [
    {
     "data": {
      "text/plain": [
       "9"
      ]
     },
     "execution_count": 428,
     "metadata": {},
     "output_type": "execute_result"
    }
   ],
   "source": [
    "k_bins=int(1 + math.log2(x.size))\n",
    "k_bins"
   ]
  },
  {
   "cell_type": "code",
   "execution_count": 438,
   "metadata": {},
   "outputs": [
    {
     "data": {
      "text/plain": [
       "<matplotlib.legend.Legend at 0xed25d3c9b0>"
      ]
     },
     "execution_count": 438,
     "metadata": {},
     "output_type": "execute_result"
    },
    {
     "data": {
      "image/png": "[encoded data removed]",
      "text/plain": [
       "<Figure size 432x288 with 1 Axes>"
      ]
     },
     "metadata": {
      "needs_background": "light"
     },
     "output_type": "display_data"
    }
   ],
   "source": [
    "plt.hist(x, k_bins, density=False,  facecolor='blue', alpha=0.4)\n",
    "plt.hist(y, k_bins, density=False,  facecolor='red', alpha=0.4)\n",
    "plt.legend(('X', 'Y'), loc='lower right')"
   ]
  },
  {
   "cell_type": "code",
   "execution_count": 440,
   "metadata": {},
   "outputs": [
    {
     "data": {
      "text/plain": [
       "<matplotlib.legend.Legend at 0xed25e620f0>"
      ]
     },
     "execution_count": 440,
     "metadata": {},
     "output_type": "execute_result"
    },
    {
     "data": {
      "image/png": "[encoded data removed]",
      "text/plain": [
       "<Figure size 432x288 with 1 Axes>"
      ]
     },
     "metadata": {
      "needs_background": "light"
     },
     "output_type": "display_data"
    }
   ],
   "source": [
    "ecdf_x = ECDF(x)\n",
    "ecdf_y = ECDF(y)\n",
    "plt.plot(ecdf_x.x, ecdf.y, lw=2)\n",
    "plt.plot(ecdf_y.x, ecdf.y, lw=2)\n",
    "plt.legend(('X', 'Y'), loc='lower right')"
   ]
  },
  {
   "cell_type": "code",
   "execution_count": 447,
   "metadata": {},
   "outputs": [
    {
     "data": {
      "text/plain": [
       "Power_divergenceResult(statistic=-68.14932281709343, pvalue=1.0)"
      ]
     },
     "execution_count": 447,
     "metadata": {},
     "output_type": "execute_result"
    }
   ],
   "source": [
    "stats.chisquare(x, y)"
   ]
  },
  {
   "cell_type": "code",
   "execution_count": 448,
   "metadata": {},
   "outputs": [
    {
     "data": {
      "text/plain": [
       "Ks_2sampResult(statistic=0.07, pvalue=0.4408260136320139)"
      ]
     },
     "execution_count": 448,
     "metadata": {},
     "output_type": "execute_result"
    }
   ],
   "source": [
    "stats.ks_2samp(x, y)"
   ]
  },
  {
   "cell_type": "code",
   "execution_count": 449,
   "metadata": {},
   "outputs": [
    {
     "data": {
      "text/plain": [
       "WilcoxonResult(statistic=22385.0, pvalue=0.8994542194539916)"
      ]
     },
     "execution_count": 449,
     "metadata": {},
     "output_type": "execute_result"
    }
   ],
   "source": [
    "stats.wilcoxon(x, y)"
   ]
  },
  {
   "cell_type": "code",
   "execution_count": 452,
   "metadata": {},
   "outputs": [
    {
     "data": {
      "text/plain": [
       "MannwhitneyuResult(statistic=44622.0, pvalue=0.4294372372917248)"
      ]
     },
     "execution_count": 452,
     "metadata": {},
     "output_type": "execute_result"
    }
   ],
   "source": [
    "stats.mannwhitneyu(x, y)"
   ]
  }
 ],
 "metadata": {
  "kernelspec": {
   "display_name": "Python 3",
   "language": "python",
   "name": "python3"
  },
  "language_info": {
   "codemirror_mode": {
    "name": "ipython",
    "version": 3
   },
   "file_extension": ".py",
   "mimetype": "text/x-python",
   "name": "python",
   "nbconvert_exporter": "python",
   "pygments_lexer": "ipython3",
   "version": "3.6.8"
  }
 },
 "nbformat": 4,
 "nbformat_minor": 2
}
